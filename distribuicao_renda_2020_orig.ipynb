{
 "cells": [
  {
   "cell_type": "markdown",
   "metadata": {},
   "source": [
    "# Distribuição de Renda de 2020 no Brasil\n",
    "\n",
    "Este notebook analisa alguns aspectos da distribuição de renda no Brasil.\n",
    "\n",
    "Os dados da  Receita Federal estão disponíveis através do portal de [Dados Abertos do Governo Federal](https://dados.gov.br/dados/conjuntos-dados/distribuio-de-renda).\n",
    "\n",
    "### Perguntas respondidas\n",
    "\n",
    "### Perguntas em aberto\n",
    "\n",
    "- Qual a tributação que cada centil paga?\n",
    "- Como é a distribuição em outros países? É local ou sistemático essa diferença?"
   ]
  },
  {
   "cell_type": "markdown",
   "metadata": {},
   "source": []
  },
  {
   "cell_type": "markdown",
   "metadata": {},
   "source": [
    "## Código"
   ]
  },
  {
   "cell_type": "code",
   "execution_count": 1,
   "metadata": {},
   "outputs": [],
   "source": [
    "import numpy as np\n",
    "import pandas as pd\n",
    "import plotly.express as px\n",
    "import plotly.graph_objects as go"
   ]
  },
  {
   "cell_type": "code",
   "execution_count": 2,
   "metadata": {},
   "outputs": [
    {
     "data": {
      "text/html": [
       "<div>\n",
       "<style scoped>\n",
       "    .dataframe tbody tr th:only-of-type {\n",
       "        vertical-align: middle;\n",
       "    }\n",
       "\n",
       "    .dataframe tbody tr th {\n",
       "        vertical-align: top;\n",
       "    }\n",
       "\n",
       "    .dataframe thead th {\n",
       "        text-align: right;\n",
       "    }\n",
       "</style>\n",
       "<table border=\"1\" class=\"dataframe\">\n",
       "  <thead>\n",
       "    <tr style=\"text-align: right;\">\n",
       "      <th></th>\n",
       "      <th>Ano-calendário</th>\n",
       "      <th>Ente Federativo</th>\n",
       "      <th>Centil</th>\n",
       "      <th>Quantidade de Contribuintes</th>\n",
       "      <th>Rendimentos Tributaveis - Limite Superior da RTB do Centil [R$ milhões]</th>\n",
       "      <th>Rendimentos Tributaveis - Soma da RTB do Centil [R$ milhões]</th>\n",
       "      <th>Rendimentos Tributaveis - RTB Acumulada do Centil [R$ milhões]</th>\n",
       "      <th>Rendimentos Tributaveis - Média da RTB do Centil [R$]</th>\n",
       "      <th>Rendimentos Sujeitos à Tribut. Exclusiva [R$ milhões]</th>\n",
       "      <th>Rendimentos Isentos - Lucros e dividendos [R$ milhões]</th>\n",
       "      <th>...</th>\n",
       "      <th>Despesas Dedutíveis - Instrução [R$ milhões]</th>\n",
       "      <th>Despesas Dedutíveis - Médicas [R$ milhões]</th>\n",
       "      <th>Despesas Dedutíveis - Pensão Alimentícia [R$ milhões]</th>\n",
       "      <th>Despesas Dedutíveis - Livro-Caixa [R$ milhões]</th>\n",
       "      <th>Imposto Devido [R$ milhões]</th>\n",
       "      <th>Bens e Direitos - Imóveis [R$ milhões]</th>\n",
       "      <th>Bens e Direitos - Móveis [R$ milhões]</th>\n",
       "      <th>Bens e Direitos - Financeiros [R$ milhões]</th>\n",
       "      <th>Bens e Direitos - Outros Bens e Direitos [R$ milhões]</th>\n",
       "      <th>Dívidas e Ônus [R$ milhões]</th>\n",
       "    </tr>\n",
       "  </thead>\n",
       "  <tbody>\n",
       "    <tr>\n",
       "      <th>0</th>\n",
       "      <td>2006</td>\n",
       "      <td>BRASIL</td>\n",
       "      <td>1</td>\n",
       "      <td>241.563</td>\n",
       "      <td>NaN</td>\n",
       "      <td>NaN</td>\n",
       "      <td>NaN</td>\n",
       "      <td>NaN</td>\n",
       "      <td>235,61</td>\n",
       "      <td>481,27</td>\n",
       "      <td>...</td>\n",
       "      <td>NaN</td>\n",
       "      <td>NaN</td>\n",
       "      <td>NaN</td>\n",
       "      <td>NaN</td>\n",
       "      <td>0,16</td>\n",
       "      <td>5.281,59</td>\n",
       "      <td>686,21</td>\n",
       "      <td>6.549,15</td>\n",
       "      <td>1.006,40</td>\n",
       "      <td>1.610,39</td>\n",
       "    </tr>\n",
       "    <tr>\n",
       "      <th>1</th>\n",
       "      <td>2006</td>\n",
       "      <td>BRASIL</td>\n",
       "      <td>2</td>\n",
       "      <td>241.563</td>\n",
       "      <td>NaN</td>\n",
       "      <td>NaN</td>\n",
       "      <td>NaN</td>\n",
       "      <td>NaN</td>\n",
       "      <td>208,74</td>\n",
       "      <td>483,44</td>\n",
       "      <td>...</td>\n",
       "      <td>NaN</td>\n",
       "      <td>NaN</td>\n",
       "      <td>NaN</td>\n",
       "      <td>NaN</td>\n",
       "      <td>0,22</td>\n",
       "      <td>5.295,48</td>\n",
       "      <td>668,82</td>\n",
       "      <td>5.762,77</td>\n",
       "      <td>681,75</td>\n",
       "      <td>694,12</td>\n",
       "    </tr>\n",
       "    <tr>\n",
       "      <th>2</th>\n",
       "      <td>2006</td>\n",
       "      <td>BRASIL</td>\n",
       "      <td>3</td>\n",
       "      <td>241.562</td>\n",
       "      <td>NaN</td>\n",
       "      <td>NaN</td>\n",
       "      <td>NaN</td>\n",
       "      <td>NaN</td>\n",
       "      <td>219,96</td>\n",
       "      <td>459,87</td>\n",
       "      <td>...</td>\n",
       "      <td>NaN</td>\n",
       "      <td>NaN</td>\n",
       "      <td>NaN</td>\n",
       "      <td>NaN</td>\n",
       "      <td>0,31</td>\n",
       "      <td>5.566,27</td>\n",
       "      <td>670,64</td>\n",
       "      <td>5.451,95</td>\n",
       "      <td>377,17</td>\n",
       "      <td>650,98</td>\n",
       "    </tr>\n",
       "    <tr>\n",
       "      <th>3</th>\n",
       "      <td>2006</td>\n",
       "      <td>BRASIL</td>\n",
       "      <td>4</td>\n",
       "      <td>241.563</td>\n",
       "      <td>NaN</td>\n",
       "      <td>NaN</td>\n",
       "      <td>NaN</td>\n",
       "      <td>NaN</td>\n",
       "      <td>257,01</td>\n",
       "      <td>481,93</td>\n",
       "      <td>...</td>\n",
       "      <td>NaN</td>\n",
       "      <td>NaN</td>\n",
       "      <td>NaN</td>\n",
       "      <td>NaN</td>\n",
       "      <td>0,17</td>\n",
       "      <td>5.860,02</td>\n",
       "      <td>678,44</td>\n",
       "      <td>6.104,09</td>\n",
       "      <td>256,16</td>\n",
       "      <td>1.079,20</td>\n",
       "    </tr>\n",
       "    <tr>\n",
       "      <th>4</th>\n",
       "      <td>2006</td>\n",
       "      <td>BRASIL</td>\n",
       "      <td>5</td>\n",
       "      <td>241.562</td>\n",
       "      <td>NaN</td>\n",
       "      <td>NaN</td>\n",
       "      <td>NaN</td>\n",
       "      <td>NaN</td>\n",
       "      <td>249,88</td>\n",
       "      <td>464,23</td>\n",
       "      <td>...</td>\n",
       "      <td>NaN</td>\n",
       "      <td>NaN</td>\n",
       "      <td>NaN</td>\n",
       "      <td>NaN</td>\n",
       "      <td>0,17</td>\n",
       "      <td>5.193,31</td>\n",
       "      <td>682,38</td>\n",
       "      <td>5.592,52</td>\n",
       "      <td>269,28</td>\n",
       "      <td>671,97</td>\n",
       "    </tr>\n",
       "  </tbody>\n",
       "</table>\n",
       "<p>5 rows × 24 columns</p>\n",
       "</div>"
      ],
      "text/plain": [
       "   Ano-calendário Ente Federativo Centil  Quantidade de Contribuintes  \\\n",
       "0            2006          BRASIL      1                      241.563   \n",
       "1            2006          BRASIL      2                      241.563   \n",
       "2            2006          BRASIL      3                      241.562   \n",
       "3            2006          BRASIL      4                      241.563   \n",
       "4            2006          BRASIL      5                      241.562   \n",
       "\n",
       "  Rendimentos Tributaveis - Limite Superior da RTB do Centil [R$ milhões]  \\\n",
       "0                                                NaN                        \n",
       "1                                                NaN                        \n",
       "2                                                NaN                        \n",
       "3                                                NaN                        \n",
       "4                                                NaN                        \n",
       "\n",
       "  Rendimentos Tributaveis - Soma da RTB do Centil [R$ milhões]  \\\n",
       "0                                                NaN             \n",
       "1                                                NaN             \n",
       "2                                                NaN             \n",
       "3                                                NaN             \n",
       "4                                                NaN             \n",
       "\n",
       "  Rendimentos Tributaveis - RTB Acumulada do Centil [R$ milhões]  \\\n",
       "0                                                NaN               \n",
       "1                                                NaN               \n",
       "2                                                NaN               \n",
       "3                                                NaN               \n",
       "4                                                NaN               \n",
       "\n",
       "  Rendimentos Tributaveis - Média da RTB do Centil [R$]  \\\n",
       "0                                                NaN      \n",
       "1                                                NaN      \n",
       "2                                                NaN      \n",
       "3                                                NaN      \n",
       "4                                                NaN      \n",
       "\n",
       "  Rendimentos Sujeitos à Tribut. Exclusiva [R$ milhões]  \\\n",
       "0                                             235,61      \n",
       "1                                             208,74      \n",
       "2                                             219,96      \n",
       "3                                             257,01      \n",
       "4                                             249,88      \n",
       "\n",
       "  Rendimentos Isentos - Lucros e dividendos [R$ milhões]  ...  \\\n",
       "0                                             481,27      ...   \n",
       "1                                             483,44      ...   \n",
       "2                                             459,87      ...   \n",
       "3                                             481,93      ...   \n",
       "4                                             464,23      ...   \n",
       "\n",
       "  Despesas Dedutíveis - Instrução [R$ milhões]  \\\n",
       "0                                          NaN   \n",
       "1                                          NaN   \n",
       "2                                          NaN   \n",
       "3                                          NaN   \n",
       "4                                          NaN   \n",
       "\n",
       "  Despesas Dedutíveis - Médicas [R$ milhões]  \\\n",
       "0                                        NaN   \n",
       "1                                        NaN   \n",
       "2                                        NaN   \n",
       "3                                        NaN   \n",
       "4                                        NaN   \n",
       "\n",
       "  Despesas Dedutíveis - Pensão Alimentícia [R$ milhões]  \\\n",
       "0                                                NaN      \n",
       "1                                                NaN      \n",
       "2                                                NaN      \n",
       "3                                                NaN      \n",
       "4                                                NaN      \n",
       "\n",
       "  Despesas Dedutíveis - Livro-Caixa [R$ milhões] Imposto Devido [R$ milhões]  \\\n",
       "0                                            NaN                        0,16   \n",
       "1                                            NaN                        0,22   \n",
       "2                                            NaN                        0,31   \n",
       "3                                            NaN                        0,17   \n",
       "4                                            NaN                        0,17   \n",
       "\n",
       "  Bens e Direitos - Imóveis [R$ milhões]  \\\n",
       "0                               5.281,59   \n",
       "1                               5.295,48   \n",
       "2                               5.566,27   \n",
       "3                               5.860,02   \n",
       "4                               5.193,31   \n",
       "\n",
       "  Bens e Direitos - Móveis [R$ milhões]  \\\n",
       "0                                686,21   \n",
       "1                                668,82   \n",
       "2                                670,64   \n",
       "3                                678,44   \n",
       "4                                682,38   \n",
       "\n",
       "  Bens e Direitos - Financeiros [R$ milhões]  \\\n",
       "0                                   6.549,15   \n",
       "1                                   5.762,77   \n",
       "2                                   5.451,95   \n",
       "3                                   6.104,09   \n",
       "4                                   5.592,52   \n",
       "\n",
       "  Bens e Direitos - Outros Bens e Direitos [R$ milhões]  \\\n",
       "0                                           1.006,40      \n",
       "1                                             681,75      \n",
       "2                                             377,17      \n",
       "3                                             256,16      \n",
       "4                                             269,28      \n",
       "\n",
       "  Dívidas e Ônus [R$ milhões]  \n",
       "0                    1.610,39  \n",
       "1                      694,12  \n",
       "2                      650,98  \n",
       "3                    1.079,20  \n",
       "4                      671,97  \n",
       "\n",
       "[5 rows x 24 columns]"
      ]
     },
     "execution_count": 2,
     "metadata": {},
     "output_type": "execute_result"
    }
   ],
   "source": [
    "df = pd.read_csv(\"data/distribuicao-renda.csv\", sep=\";\")\n",
    "df.head()"
   ]
  },
  {
   "cell_type": "code",
   "execution_count": 3,
   "metadata": {},
   "outputs": [
    {
     "data": {
      "text/html": [
       "<div>\n",
       "<style scoped>\n",
       "    .dataframe tbody tr th:only-of-type {\n",
       "        vertical-align: middle;\n",
       "    }\n",
       "\n",
       "    .dataframe tbody tr th {\n",
       "        vertical-align: top;\n",
       "    }\n",
       "\n",
       "    .dataframe thead th {\n",
       "        text-align: right;\n",
       "    }\n",
       "</style>\n",
       "<table border=\"1\" class=\"dataframe\">\n",
       "  <thead>\n",
       "    <tr style=\"text-align: right;\">\n",
       "      <th></th>\n",
       "      <th>Ente Federativo</th>\n",
       "      <th>Centil</th>\n",
       "      <th>Quantidade de Contribuintes</th>\n",
       "      <th>Rendimentos Tributaveis - Limite Superior da RTB do Centil [R$ milhões]</th>\n",
       "      <th>Rendimentos Tributaveis - Soma da RTB do Centil [R$ milhões]</th>\n",
       "      <th>Rendimentos Tributaveis - RTB Acumulada do Centil [R$ milhões]</th>\n",
       "      <th>Rendimentos Tributaveis - Média da RTB do Centil [R$]</th>\n",
       "      <th>Rendimentos Sujeitos à Tribut. Exclusiva [R$ milhões]</th>\n",
       "      <th>Rendimentos Isentos - Lucros e dividendos [R$ milhões]</th>\n",
       "      <th>Rendimentos Isentos - Rendim. Sócio/Titular ME/EPP Opt SIMPLES [R$ milhões]</th>\n",
       "      <th>...</th>\n",
       "      <th>Despesas Dedutíveis - Instrução [R$ milhões]</th>\n",
       "      <th>Despesas Dedutíveis - Médicas [R$ milhões]</th>\n",
       "      <th>Despesas Dedutíveis - Pensão Alimentícia [R$ milhões]</th>\n",
       "      <th>Despesas Dedutíveis - Livro-Caixa [R$ milhões]</th>\n",
       "      <th>Imposto Devido [R$ milhões]</th>\n",
       "      <th>Bens e Direitos - Imóveis [R$ milhões]</th>\n",
       "      <th>Bens e Direitos - Móveis [R$ milhões]</th>\n",
       "      <th>Bens e Direitos - Financeiros [R$ milhões]</th>\n",
       "      <th>Bens e Direitos - Outros Bens e Direitos [R$ milhões]</th>\n",
       "      <th>Dívidas e Ônus [R$ milhões]</th>\n",
       "    </tr>\n",
       "  </thead>\n",
       "  <tbody>\n",
       "    <tr>\n",
       "      <th>43260</th>\n",
       "      <td>BRASIL</td>\n",
       "      <td>1</td>\n",
       "      <td>316.349</td>\n",
       "      <td>NaN</td>\n",
       "      <td>NaN</td>\n",
       "      <td>NaN</td>\n",
       "      <td>NaN</td>\n",
       "      <td>2.292,22</td>\n",
       "      <td>4.971,46</td>\n",
       "      <td>2.199,82</td>\n",
       "      <td>...</td>\n",
       "      <td>NaN</td>\n",
       "      <td>NaN</td>\n",
       "      <td>NaN</td>\n",
       "      <td>NaN</td>\n",
       "      <td>0,09</td>\n",
       "      <td>38.909,27</td>\n",
       "      <td>5.588,86</td>\n",
       "      <td>75.762,99</td>\n",
       "      <td>6.586,13</td>\n",
       "      <td>11.817,63</td>\n",
       "    </tr>\n",
       "    <tr>\n",
       "      <th>43261</th>\n",
       "      <td>BRASIL</td>\n",
       "      <td>2</td>\n",
       "      <td>316.348</td>\n",
       "      <td>NaN</td>\n",
       "      <td>NaN</td>\n",
       "      <td>NaN</td>\n",
       "      <td>NaN</td>\n",
       "      <td>2.774,79</td>\n",
       "      <td>5.276,95</td>\n",
       "      <td>2.128,81</td>\n",
       "      <td>...</td>\n",
       "      <td>NaN</td>\n",
       "      <td>NaN</td>\n",
       "      <td>NaN</td>\n",
       "      <td>NaN</td>\n",
       "      <td>0,07</td>\n",
       "      <td>37.867,76</td>\n",
       "      <td>5.119,81</td>\n",
       "      <td>76.337,18</td>\n",
       "      <td>10.293,73</td>\n",
       "      <td>13.299,04</td>\n",
       "    </tr>\n",
       "    <tr>\n",
       "      <th>43262</th>\n",
       "      <td>BRASIL</td>\n",
       "      <td>3</td>\n",
       "      <td>316.349</td>\n",
       "      <td>NaN</td>\n",
       "      <td>NaN</td>\n",
       "      <td>NaN</td>\n",
       "      <td>NaN</td>\n",
       "      <td>2.735,77</td>\n",
       "      <td>4.733,55</td>\n",
       "      <td>2.193,95</td>\n",
       "      <td>...</td>\n",
       "      <td>NaN</td>\n",
       "      <td>NaN</td>\n",
       "      <td>NaN</td>\n",
       "      <td>NaN</td>\n",
       "      <td>0,01</td>\n",
       "      <td>36.898,91</td>\n",
       "      <td>5.173,59</td>\n",
       "      <td>85.520,32</td>\n",
       "      <td>8.806,86</td>\n",
       "      <td>9.576,16</td>\n",
       "    </tr>\n",
       "    <tr>\n",
       "      <th>43263</th>\n",
       "      <td>BRASIL</td>\n",
       "      <td>4</td>\n",
       "      <td>316.348</td>\n",
       "      <td>NaN</td>\n",
       "      <td>NaN</td>\n",
       "      <td>NaN</td>\n",
       "      <td>NaN</td>\n",
       "      <td>2.314,48</td>\n",
       "      <td>4.838,44</td>\n",
       "      <td>2.197,71</td>\n",
       "      <td>...</td>\n",
       "      <td>NaN</td>\n",
       "      <td>NaN</td>\n",
       "      <td>NaN</td>\n",
       "      <td>NaN</td>\n",
       "      <td>0,04</td>\n",
       "      <td>37.209,91</td>\n",
       "      <td>5.032,53</td>\n",
       "      <td>87.919,86</td>\n",
       "      <td>8.374,94</td>\n",
       "      <td>10.025,25</td>\n",
       "    </tr>\n",
       "    <tr>\n",
       "      <th>43264</th>\n",
       "      <td>BRASIL</td>\n",
       "      <td>5</td>\n",
       "      <td>316.349</td>\n",
       "      <td>NaN</td>\n",
       "      <td>NaN</td>\n",
       "      <td>NaN</td>\n",
       "      <td>NaN</td>\n",
       "      <td>2.378,27</td>\n",
       "      <td>5.007,19</td>\n",
       "      <td>2.228,80</td>\n",
       "      <td>...</td>\n",
       "      <td>NaN</td>\n",
       "      <td>NaN</td>\n",
       "      <td>NaN</td>\n",
       "      <td>NaN</td>\n",
       "      <td>0,07</td>\n",
       "      <td>37.977,60</td>\n",
       "      <td>5.154,58</td>\n",
       "      <td>73.996,53</td>\n",
       "      <td>4.116,93</td>\n",
       "      <td>11.099,73</td>\n",
       "    </tr>\n",
       "  </tbody>\n",
       "</table>\n",
       "<p>5 rows × 23 columns</p>\n",
       "</div>"
      ],
      "text/plain": [
       "      Ente Federativo Centil  Quantidade de Contribuintes  \\\n",
       "43260          BRASIL      1                      316.349   \n",
       "43261          BRASIL      2                      316.348   \n",
       "43262          BRASIL      3                      316.349   \n",
       "43263          BRASIL      4                      316.348   \n",
       "43264          BRASIL      5                      316.349   \n",
       "\n",
       "      Rendimentos Tributaveis - Limite Superior da RTB do Centil [R$ milhões]  \\\n",
       "43260                                                NaN                        \n",
       "43261                                                NaN                        \n",
       "43262                                                NaN                        \n",
       "43263                                                NaN                        \n",
       "43264                                                NaN                        \n",
       "\n",
       "      Rendimentos Tributaveis - Soma da RTB do Centil [R$ milhões]  \\\n",
       "43260                                                NaN             \n",
       "43261                                                NaN             \n",
       "43262                                                NaN             \n",
       "43263                                                NaN             \n",
       "43264                                                NaN             \n",
       "\n",
       "      Rendimentos Tributaveis - RTB Acumulada do Centil [R$ milhões]  \\\n",
       "43260                                                NaN               \n",
       "43261                                                NaN               \n",
       "43262                                                NaN               \n",
       "43263                                                NaN               \n",
       "43264                                                NaN               \n",
       "\n",
       "      Rendimentos Tributaveis - Média da RTB do Centil [R$]  \\\n",
       "43260                                                NaN      \n",
       "43261                                                NaN      \n",
       "43262                                                NaN      \n",
       "43263                                                NaN      \n",
       "43264                                                NaN      \n",
       "\n",
       "      Rendimentos Sujeitos à Tribut. Exclusiva [R$ milhões]  \\\n",
       "43260                                           2.292,22      \n",
       "43261                                           2.774,79      \n",
       "43262                                           2.735,77      \n",
       "43263                                           2.314,48      \n",
       "43264                                           2.378,27      \n",
       "\n",
       "      Rendimentos Isentos - Lucros e dividendos [R$ milhões]  \\\n",
       "43260                                           4.971,46       \n",
       "43261                                           5.276,95       \n",
       "43262                                           4.733,55       \n",
       "43263                                           4.838,44       \n",
       "43264                                           5.007,19       \n",
       "\n",
       "      Rendimentos Isentos - Rendim. Sócio/Titular ME/EPP Opt SIMPLES [R$ milhões]  \\\n",
       "43260                                           2.199,82                            \n",
       "43261                                           2.128,81                            \n",
       "43262                                           2.193,95                            \n",
       "43263                                           2.197,71                            \n",
       "43264                                           2.228,80                            \n",
       "\n",
       "       ... Despesas Dedutíveis - Instrução [R$ milhões]  \\\n",
       "43260  ...                                          NaN   \n",
       "43261  ...                                          NaN   \n",
       "43262  ...                                          NaN   \n",
       "43263  ...                                          NaN   \n",
       "43264  ...                                          NaN   \n",
       "\n",
       "      Despesas Dedutíveis - Médicas [R$ milhões]  \\\n",
       "43260                                        NaN   \n",
       "43261                                        NaN   \n",
       "43262                                        NaN   \n",
       "43263                                        NaN   \n",
       "43264                                        NaN   \n",
       "\n",
       "      Despesas Dedutíveis - Pensão Alimentícia [R$ milhões]  \\\n",
       "43260                                                NaN      \n",
       "43261                                                NaN      \n",
       "43262                                                NaN      \n",
       "43263                                                NaN      \n",
       "43264                                                NaN      \n",
       "\n",
       "      Despesas Dedutíveis - Livro-Caixa [R$ milhões]  \\\n",
       "43260                                            NaN   \n",
       "43261                                            NaN   \n",
       "43262                                            NaN   \n",
       "43263                                            NaN   \n",
       "43264                                            NaN   \n",
       "\n",
       "      Imposto Devido [R$ milhões] Bens e Direitos - Imóveis [R$ milhões]  \\\n",
       "43260                        0,09                              38.909,27   \n",
       "43261                        0,07                              37.867,76   \n",
       "43262                        0,01                              36.898,91   \n",
       "43263                        0,04                              37.209,91   \n",
       "43264                        0,07                              37.977,60   \n",
       "\n",
       "      Bens e Direitos - Móveis [R$ milhões]  \\\n",
       "43260                              5.588,86   \n",
       "43261                              5.119,81   \n",
       "43262                              5.173,59   \n",
       "43263                              5.032,53   \n",
       "43264                              5.154,58   \n",
       "\n",
       "      Bens e Direitos - Financeiros [R$ milhões]  \\\n",
       "43260                                  75.762,99   \n",
       "43261                                  76.337,18   \n",
       "43262                                  85.520,32   \n",
       "43263                                  87.919,86   \n",
       "43264                                  73.996,53   \n",
       "\n",
       "      Bens e Direitos - Outros Bens e Direitos [R$ milhões]  \\\n",
       "43260                                           6.586,13      \n",
       "43261                                          10.293,73      \n",
       "43262                                           8.806,86      \n",
       "43263                                           8.374,94      \n",
       "43264                                           4.116,93      \n",
       "\n",
       "      Dívidas e Ônus [R$ milhões]  \n",
       "43260                   11.817,63  \n",
       "43261                   13.299,04  \n",
       "43262                    9.576,16  \n",
       "43263                   10.025,25  \n",
       "43264                   11.099,73  \n",
       "\n",
       "[5 rows x 23 columns]"
      ]
     },
     "execution_count": 3,
     "metadata": {},
     "output_type": "execute_result"
    }
   ],
   "source": [
    "df20 = df[df[\"Ano-calendário\"] == 2020]\n",
    "df20 = df20.drop([\"Ano-calendário\"], axis=1)\n",
    "df20.head()"
   ]
  },
  {
   "cell_type": "code",
   "execution_count": 4,
   "metadata": {},
   "outputs": [
    {
     "data": {
      "text/html": [
       "<div>\n",
       "<style scoped>\n",
       "    .dataframe tbody tr th:only-of-type {\n",
       "        vertical-align: middle;\n",
       "    }\n",
       "\n",
       "    .dataframe tbody tr th {\n",
       "        vertical-align: top;\n",
       "    }\n",
       "\n",
       "    .dataframe thead th {\n",
       "        text-align: right;\n",
       "    }\n",
       "</style>\n",
       "<table border=\"1\" class=\"dataframe\">\n",
       "  <thead>\n",
       "    <tr style=\"text-align: right;\">\n",
       "      <th></th>\n",
       "      <th>Centil</th>\n",
       "      <th>Quantidade de Contribuintes</th>\n",
       "      <th>Rendimentos Tributaveis - Limite Superior da RTB do Centil [R$ milhões]</th>\n",
       "      <th>Rendimentos Tributaveis - Soma da RTB do Centil [R$ milhões]</th>\n",
       "      <th>Rendimentos Tributaveis - RTB Acumulada do Centil [R$ milhões]</th>\n",
       "      <th>Rendimentos Tributaveis - Média da RTB do Centil [R$]</th>\n",
       "      <th>Rendimentos Sujeitos à Tribut. Exclusiva [R$ milhões]</th>\n",
       "      <th>Rendimentos Isentos - Lucros e dividendos [R$ milhões]</th>\n",
       "      <th>Rendimentos Isentos - Rendim. Sócio/Titular ME/EPP Opt SIMPLES [R$ milhões]</th>\n",
       "      <th>Rendimentos Isentos - Outros Rendimentos Isentos [R$ milhões]</th>\n",
       "      <th>...</th>\n",
       "      <th>Despesas Dedutíveis - Instrução [R$ milhões]</th>\n",
       "      <th>Despesas Dedutíveis - Médicas [R$ milhões]</th>\n",
       "      <th>Despesas Dedutíveis - Pensão Alimentícia [R$ milhões]</th>\n",
       "      <th>Despesas Dedutíveis - Livro-Caixa [R$ milhões]</th>\n",
       "      <th>Imposto Devido [R$ milhões]</th>\n",
       "      <th>Bens e Direitos - Imóveis [R$ milhões]</th>\n",
       "      <th>Bens e Direitos - Móveis [R$ milhões]</th>\n",
       "      <th>Bens e Direitos - Financeiros [R$ milhões]</th>\n",
       "      <th>Bens e Direitos - Outros Bens e Direitos [R$ milhões]</th>\n",
       "      <th>Dívidas e Ônus [R$ milhões]</th>\n",
       "    </tr>\n",
       "  </thead>\n",
       "  <tbody>\n",
       "    <tr>\n",
       "      <th>1</th>\n",
       "      <td>1</td>\n",
       "      <td>316.349</td>\n",
       "      <td>NaN</td>\n",
       "      <td>NaN</td>\n",
       "      <td>NaN</td>\n",
       "      <td>NaN</td>\n",
       "      <td>2.292,22</td>\n",
       "      <td>4.971,46</td>\n",
       "      <td>2.199,82</td>\n",
       "      <td>10.656,53</td>\n",
       "      <td>...</td>\n",
       "      <td>NaN</td>\n",
       "      <td>NaN</td>\n",
       "      <td>NaN</td>\n",
       "      <td>NaN</td>\n",
       "      <td>0,09</td>\n",
       "      <td>38.909,27</td>\n",
       "      <td>5.588,86</td>\n",
       "      <td>75.762,99</td>\n",
       "      <td>6.586,13</td>\n",
       "      <td>11.817,63</td>\n",
       "    </tr>\n",
       "    <tr>\n",
       "      <th>2</th>\n",
       "      <td>2</td>\n",
       "      <td>316.348</td>\n",
       "      <td>NaN</td>\n",
       "      <td>NaN</td>\n",
       "      <td>NaN</td>\n",
       "      <td>NaN</td>\n",
       "      <td>2.774,79</td>\n",
       "      <td>5.276,95</td>\n",
       "      <td>2.128,81</td>\n",
       "      <td>10.672,99</td>\n",
       "      <td>...</td>\n",
       "      <td>NaN</td>\n",
       "      <td>NaN</td>\n",
       "      <td>NaN</td>\n",
       "      <td>NaN</td>\n",
       "      <td>0,07</td>\n",
       "      <td>37.867,76</td>\n",
       "      <td>5.119,81</td>\n",
       "      <td>76.337,18</td>\n",
       "      <td>10.293,73</td>\n",
       "      <td>13.299,04</td>\n",
       "    </tr>\n",
       "    <tr>\n",
       "      <th>3</th>\n",
       "      <td>3</td>\n",
       "      <td>316.349</td>\n",
       "      <td>NaN</td>\n",
       "      <td>NaN</td>\n",
       "      <td>NaN</td>\n",
       "      <td>NaN</td>\n",
       "      <td>2.735,77</td>\n",
       "      <td>4.733,55</td>\n",
       "      <td>2.193,95</td>\n",
       "      <td>10.207,91</td>\n",
       "      <td>...</td>\n",
       "      <td>NaN</td>\n",
       "      <td>NaN</td>\n",
       "      <td>NaN</td>\n",
       "      <td>NaN</td>\n",
       "      <td>0,01</td>\n",
       "      <td>36.898,91</td>\n",
       "      <td>5.173,59</td>\n",
       "      <td>85.520,32</td>\n",
       "      <td>8.806,86</td>\n",
       "      <td>9.576,16</td>\n",
       "    </tr>\n",
       "    <tr>\n",
       "      <th>4</th>\n",
       "      <td>4</td>\n",
       "      <td>316.348</td>\n",
       "      <td>NaN</td>\n",
       "      <td>NaN</td>\n",
       "      <td>NaN</td>\n",
       "      <td>NaN</td>\n",
       "      <td>2.314,48</td>\n",
       "      <td>4.838,44</td>\n",
       "      <td>2.197,71</td>\n",
       "      <td>10.789,54</td>\n",
       "      <td>...</td>\n",
       "      <td>NaN</td>\n",
       "      <td>NaN</td>\n",
       "      <td>NaN</td>\n",
       "      <td>NaN</td>\n",
       "      <td>0,04</td>\n",
       "      <td>37.209,91</td>\n",
       "      <td>5.032,53</td>\n",
       "      <td>87.919,86</td>\n",
       "      <td>8.374,94</td>\n",
       "      <td>10.025,25</td>\n",
       "    </tr>\n",
       "    <tr>\n",
       "      <th>5</th>\n",
       "      <td>5</td>\n",
       "      <td>316.349</td>\n",
       "      <td>NaN</td>\n",
       "      <td>NaN</td>\n",
       "      <td>NaN</td>\n",
       "      <td>NaN</td>\n",
       "      <td>2.378,27</td>\n",
       "      <td>5.007,19</td>\n",
       "      <td>2.228,80</td>\n",
       "      <td>10.527,97</td>\n",
       "      <td>...</td>\n",
       "      <td>NaN</td>\n",
       "      <td>NaN</td>\n",
       "      <td>NaN</td>\n",
       "      <td>NaN</td>\n",
       "      <td>0,07</td>\n",
       "      <td>37.977,60</td>\n",
       "      <td>5.154,58</td>\n",
       "      <td>73.996,53</td>\n",
       "      <td>4.116,93</td>\n",
       "      <td>11.099,73</td>\n",
       "    </tr>\n",
       "  </tbody>\n",
       "</table>\n",
       "<p>5 rows × 22 columns</p>\n",
       "</div>"
      ],
      "text/plain": [
       "  Centil  Quantidade de Contribuintes  \\\n",
       "1      1                      316.349   \n",
       "2      2                      316.348   \n",
       "3      3                      316.349   \n",
       "4      4                      316.348   \n",
       "5      5                      316.349   \n",
       "\n",
       "  Rendimentos Tributaveis - Limite Superior da RTB do Centil [R$ milhões]  \\\n",
       "1                                                NaN                        \n",
       "2                                                NaN                        \n",
       "3                                                NaN                        \n",
       "4                                                NaN                        \n",
       "5                                                NaN                        \n",
       "\n",
       "  Rendimentos Tributaveis - Soma da RTB do Centil [R$ milhões]  \\\n",
       "1                                                NaN             \n",
       "2                                                NaN             \n",
       "3                                                NaN             \n",
       "4                                                NaN             \n",
       "5                                                NaN             \n",
       "\n",
       "  Rendimentos Tributaveis - RTB Acumulada do Centil [R$ milhões]  \\\n",
       "1                                                NaN               \n",
       "2                                                NaN               \n",
       "3                                                NaN               \n",
       "4                                                NaN               \n",
       "5                                                NaN               \n",
       "\n",
       "  Rendimentos Tributaveis - Média da RTB do Centil [R$]  \\\n",
       "1                                                NaN      \n",
       "2                                                NaN      \n",
       "3                                                NaN      \n",
       "4                                                NaN      \n",
       "5                                                NaN      \n",
       "\n",
       "  Rendimentos Sujeitos à Tribut. Exclusiva [R$ milhões]  \\\n",
       "1                                           2.292,22      \n",
       "2                                           2.774,79      \n",
       "3                                           2.735,77      \n",
       "4                                           2.314,48      \n",
       "5                                           2.378,27      \n",
       "\n",
       "  Rendimentos Isentos - Lucros e dividendos [R$ milhões]  \\\n",
       "1                                           4.971,46       \n",
       "2                                           5.276,95       \n",
       "3                                           4.733,55       \n",
       "4                                           4.838,44       \n",
       "5                                           5.007,19       \n",
       "\n",
       "  Rendimentos Isentos - Rendim. Sócio/Titular ME/EPP Opt SIMPLES [R$ milhões]  \\\n",
       "1                                           2.199,82                            \n",
       "2                                           2.128,81                            \n",
       "3                                           2.193,95                            \n",
       "4                                           2.197,71                            \n",
       "5                                           2.228,80                            \n",
       "\n",
       "  Rendimentos Isentos - Outros Rendimentos Isentos [R$ milhões]  ...  \\\n",
       "1                                          10.656,53             ...   \n",
       "2                                          10.672,99             ...   \n",
       "3                                          10.207,91             ...   \n",
       "4                                          10.789,54             ...   \n",
       "5                                          10.527,97             ...   \n",
       "\n",
       "  Despesas Dedutíveis - Instrução [R$ milhões]  \\\n",
       "1                                          NaN   \n",
       "2                                          NaN   \n",
       "3                                          NaN   \n",
       "4                                          NaN   \n",
       "5                                          NaN   \n",
       "\n",
       "  Despesas Dedutíveis - Médicas [R$ milhões]  \\\n",
       "1                                        NaN   \n",
       "2                                        NaN   \n",
       "3                                        NaN   \n",
       "4                                        NaN   \n",
       "5                                        NaN   \n",
       "\n",
       "  Despesas Dedutíveis - Pensão Alimentícia [R$ milhões]  \\\n",
       "1                                                NaN      \n",
       "2                                                NaN      \n",
       "3                                                NaN      \n",
       "4                                                NaN      \n",
       "5                                                NaN      \n",
       "\n",
       "  Despesas Dedutíveis - Livro-Caixa [R$ milhões] Imposto Devido [R$ milhões]  \\\n",
       "1                                            NaN                        0,09   \n",
       "2                                            NaN                        0,07   \n",
       "3                                            NaN                        0,01   \n",
       "4                                            NaN                        0,04   \n",
       "5                                            NaN                        0,07   \n",
       "\n",
       "  Bens e Direitos - Imóveis [R$ milhões]  \\\n",
       "1                              38.909,27   \n",
       "2                              37.867,76   \n",
       "3                              36.898,91   \n",
       "4                              37.209,91   \n",
       "5                              37.977,60   \n",
       "\n",
       "  Bens e Direitos - Móveis [R$ milhões]  \\\n",
       "1                              5.588,86   \n",
       "2                              5.119,81   \n",
       "3                              5.173,59   \n",
       "4                              5.032,53   \n",
       "5                              5.154,58   \n",
       "\n",
       "  Bens e Direitos - Financeiros [R$ milhões]  \\\n",
       "1                                  75.762,99   \n",
       "2                                  76.337,18   \n",
       "3                                  85.520,32   \n",
       "4                                  87.919,86   \n",
       "5                                  73.996,53   \n",
       "\n",
       "  Bens e Direitos - Outros Bens e Direitos [R$ milhões]  \\\n",
       "1                                           6.586,13      \n",
       "2                                          10.293,73      \n",
       "3                                           8.806,86      \n",
       "4                                           8.374,94      \n",
       "5                                           4.116,93      \n",
       "\n",
       "  Dívidas e Ônus [R$ milhões]  \n",
       "1                   11.817,63  \n",
       "2                   13.299,04  \n",
       "3                    9.576,16  \n",
       "4                   10.025,25  \n",
       "5                   11.099,73  \n",
       "\n",
       "[5 rows x 22 columns]"
      ]
     },
     "execution_count": 4,
     "metadata": {},
     "output_type": "execute_result"
    }
   ],
   "source": [
    "df20br = df20[df20[\"Ente Federativo\"] == \"BRASIL\"]\n",
    "df20br = df20br.reset_index()\n",
    "df20br = df20br.drop([\"Ente Federativo\" , \"index\"], axis=1)\n",
    "df20br.index = df20br.index + 1\n",
    "df20br.head()"
   ]
  },
  {
   "cell_type": "code",
   "execution_count": 5,
   "metadata": {},
   "outputs": [
    {
     "data": {
      "text/plain": [
       "Centil                                                                         float64\n",
       "Quantidade de Contribuintes                                                    float64\n",
       "Rendimentos Tributaveis - Limite Superior da RTB do Centil [R$ milhões]        float64\n",
       "Rendimentos Tributaveis - Soma da RTB do Centil [R$ milhões]                   float64\n",
       "Rendimentos Tributaveis - RTB Acumulada do Centil [R$ milhões]                 float64\n",
       "Rendimentos Tributaveis - Média da RTB do Centil [R$]                          float64\n",
       "Rendimentos Sujeitos à Tribut. Exclusiva [R$ milhões]                          float64\n",
       "Rendimentos Isentos - Lucros e dividendos [R$ milhões]                         float64\n",
       "Rendimentos Isentos - Rendim. Sócio/Titular ME/EPP Opt SIMPLES [R$ milhões]    float64\n",
       "Rendimentos Isentos - Outros Rendimentos Isentos [R$ milhões]                  float64\n",
       "Despesas Dedutíveis - Previdência [R$ milhões]                                 float64\n",
       "Despesas Dedutíveis - Dependentes [R$ milhões]                                 float64\n",
       "Despesas Dedutíveis - Instrução [R$ milhões]                                   float64\n",
       "Despesas Dedutíveis - Médicas [R$ milhões]                                     float64\n",
       "Despesas Dedutíveis - Pensão Alimentícia [R$ milhões]                          float64\n",
       "Despesas Dedutíveis - Livro-Caixa [R$ milhões]                                 float64\n",
       "Imposto Devido [R$ milhões]                                                    float64\n",
       "Bens e Direitos - Imóveis [R$ milhões]                                         float64\n",
       "Bens e Direitos - Móveis [R$ milhões]                                          float64\n",
       "Bens e Direitos - Financeiros [R$ milhões]                                     float64\n",
       "Bens e Direitos - Outros Bens e Direitos [R$ milhões]                          float64\n",
       "Dívidas e Ônus [R$ milhões]                                                    float64\n",
       "dtype: object"
      ]
     },
     "execution_count": 5,
     "metadata": {},
     "output_type": "execute_result"
    }
   ],
   "source": [
    "import numpy as np\n",
    "\n",
    "def convert_brazilian_number(value):\n",
    "    \"\"\"\n",
    "    Convert Brazilian-formatted number string to float\n",
    "    - Removes dots used as thousand separators\n",
    "    - Replaces comma with dot for decimal separation\n",
    "    \"\"\"\n",
    "    if pd.isna(value):\n",
    "        return np.nan\n",
    "    \n",
    "    value = value.replace('.', '')\n",
    "    value = value.replace(',', '.')\n",
    "    return float(value)\n",
    "\n",
    "# Convert all columns in df20br\n",
    "for column in df20br.columns:\n",
    "    if df20br[column].dtype == \"object\":\n",
    "        try:\n",
    "            df20br[column] = df20br[column].apply(convert_brazilian_number)\n",
    "        except Exception as e:\n",
    "            print(f\"Error converting column {column}: {e}\")\n",
    "\n",
    "# Verify the data types\n",
    "df20br.dtypes"
   ]
  },
  {
   "cell_type": "code",
   "execution_count": 30,
   "metadata": {},
   "outputs": [],
   "source": [
    "df_99centil = df20br[df20br['Centil'] < 100]\n",
    "\n",
    "import matplotlib.pyplot as plt\n",
    "import seaborn as sns\n",
    "\n",
    "def plot_limite_superior_rendimentos_matplotlib(df):\n",
    "    plt.figure(figsize=(12, 6))\n",
    "    plt.bar(df.index, df['Rendimentos Tributaveis - Soma da RTB do Centil [R$ milhões]'])\n",
    "    plt.title('Rendimentos Tributaveis por Centil', fontsize=15)\n",
    "    plt.xlabel('Centil', fontsize=12)\n",
    "    plt.ylabel('Rendimentos Tributaveis [R$ milhões]', fontsize=12)\n",
    "    plt.tight_layout()\n",
    "    plt.show()\n",
    "\n",
    "def plot_limite_superior_rendimentos_seaborn(df):\n",
    "    plt.figure(figsize=(12, 6))\n",
    "    sns.barplot(x=df.index, y=df['Rendimentos Tributaveis - Soma da RTB do Centil [R$ milhões]'])\n",
    "    plt.title('Rendimentos Tributaveis por Centil', fontsize=15)\n",
    "    plt.xlabel('Centil', fontsize=12)\n",
    "    plt.ylabel('Rendimentos Tributaveis [R$ milhões]', fontsize=12)\n",
    "    plt.tight_layout()\n",
    "    plt.show()\n",
    "\n",
    "def plot_limite_superior_rendimentos_line_matplotlib(df):\n",
    "    plt.figure(figsize=(12, 6))\n",
    "    plt.plot(df.index, df['Rendimentos Tributaveis - Soma da RTB do Centil [R$ milhões]'], \n",
    "             marker='o', linestyle='-', linewidth=2, markersize=8)\n",
    "    plt.title('Rendimentos Tributaveis por Centil', fontsize=15)\n",
    "    plt.xlabel('Centil', fontsize=12)\n",
    "    plt.ylabel('Rendimentos Tributaveis [R$ milhões]', fontsize=12)\n",
    "    plt.grid(True, linestyle='--', alpha=0.7)\n",
    "    plt.tight_layout()\n",
    "    plt.show()\n",
    "\n",
    "def plot_limite_superior_rendimentos(df):\n",
    "    fig = px.bar(df, \n",
    "        x=df.index, \n",
    "        y='Rendimentos Tributaveis - Soma da RTB do Centil [R$ milhões]',\n",
    "        title='Rendimentos Tributaveis por Centil',\n",
    "        labels={\n",
    "            'index': 'Centil',\n",
    "            'Rendimentos Tributaveis - Soma da RTB do Centil': 'Rendimentos Tributaveis'\n",
    "    })\n",
    "\n",
    "    fig.update_layout(\n",
    "        xaxis_title='Centil',\n",
    "        yaxis_title='Rendimentos Tributaveis',\n",
    "        template='plotly_white'\n",
    "    )\n",
    "\n",
    "    fig.show()\n",
    "\n",
    "def plot_bar_limite_superior_rendimentos(_df):\n",
    "    # Create a figure with bar and line traces\n",
    "    fig = go.Figure()\n",
    "\n",
    "    # Add bar graph for rendimentos tributaveis\n",
    "    fig.add_trace(go.Bar(\n",
    "        x=_df.index, \n",
    "        y=_df['Rendimentos Tributaveis - Soma da RTB do Centil [R$ milhões]'],\n",
    "        name='Rendimentos Tributaveis',\n",
    "        opacity=1\n",
    "    ))\n",
    "\n",
    "    fig.update_layout(\n",
    "        title='Rendimentos Tributaveis por Centil',\n",
    "        xaxis_title='Centil',\n",
    "        yaxis_title='Rendimentos Tributaveis',\n",
    "        template='plotly_white',\n",
    "        barmode='overlay',\n",
    "        showlegend=False\n",
    "    )\n",
    "\n",
    "    fig.show()"
   ]
  },
  {
   "cell_type": "code",
   "execution_count": 9,
   "metadata": {},
   "outputs": [],
   "source": [
    "def create_one_indexed_df(_df):\n",
    "    _df = _df.reset_index()\n",
    "    _df = _df.drop([\"index\"], axis=1)\n",
    "    _df.index = _df.index + 1\n",
    "    return _df"
   ]
  },
  {
   "cell_type": "code",
   "execution_count": 35,
   "metadata": {},
   "outputs": [
    {
     "data": {
      "text/html": [
       "<div>\n",
       "<style scoped>\n",
       "    .dataframe tbody tr th:only-of-type {\n",
       "        vertical-align: middle;\n",
       "    }\n",
       "\n",
       "    .dataframe tbody tr th {\n",
       "        vertical-align: top;\n",
       "    }\n",
       "\n",
       "    .dataframe thead th {\n",
       "        text-align: right;\n",
       "    }\n",
       "</style>\n",
       "<table border=\"1\" class=\"dataframe\">\n",
       "  <thead>\n",
       "    <tr style=\"text-align: right;\">\n",
       "      <th></th>\n",
       "      <th>Centil</th>\n",
       "      <th>Quantidade de Contribuintes</th>\n",
       "      <th>Rendimentos Tributaveis - Limite Superior da RTB do Centil [R$ milhões]</th>\n",
       "      <th>Rendimentos Tributaveis - Soma da RTB do Centil [R$ milhões]</th>\n",
       "      <th>Rendimentos Tributaveis - RTB Acumulada do Centil [R$ milhões]</th>\n",
       "      <th>Rendimentos Tributaveis - Média da RTB do Centil [R$]</th>\n",
       "      <th>Rendimentos Sujeitos à Tribut. Exclusiva [R$ milhões]</th>\n",
       "      <th>Rendimentos Isentos - Lucros e dividendos [R$ milhões]</th>\n",
       "      <th>Rendimentos Isentos - Rendim. Sócio/Titular ME/EPP Opt SIMPLES [R$ milhões]</th>\n",
       "      <th>Rendimentos Isentos - Outros Rendimentos Isentos [R$ milhões]</th>\n",
       "      <th>...</th>\n",
       "      <th>Despesas Dedutíveis - Instrução [R$ milhões]</th>\n",
       "      <th>Despesas Dedutíveis - Médicas [R$ milhões]</th>\n",
       "      <th>Despesas Dedutíveis - Pensão Alimentícia [R$ milhões]</th>\n",
       "      <th>Despesas Dedutíveis - Livro-Caixa [R$ milhões]</th>\n",
       "      <th>Imposto Devido [R$ milhões]</th>\n",
       "      <th>Bens e Direitos - Imóveis [R$ milhões]</th>\n",
       "      <th>Bens e Direitos - Móveis [R$ milhões]</th>\n",
       "      <th>Bens e Direitos - Financeiros [R$ milhões]</th>\n",
       "      <th>Bens e Direitos - Outros Bens e Direitos [R$ milhões]</th>\n",
       "      <th>Dívidas e Ônus [R$ milhões]</th>\n",
       "    </tr>\n",
       "  </thead>\n",
       "  <tbody>\n",
       "    <tr>\n",
       "      <th>1</th>\n",
       "      <td>1.0</td>\n",
       "      <td>316.349</td>\n",
       "      <td>NaN</td>\n",
       "      <td>NaN</td>\n",
       "      <td>NaN</td>\n",
       "      <td>NaN</td>\n",
       "      <td>2292.22</td>\n",
       "      <td>4971.46</td>\n",
       "      <td>2199.82</td>\n",
       "      <td>10656.53</td>\n",
       "      <td>...</td>\n",
       "      <td>NaN</td>\n",
       "      <td>NaN</td>\n",
       "      <td>NaN</td>\n",
       "      <td>NaN</td>\n",
       "      <td>0.09</td>\n",
       "      <td>38909.27</td>\n",
       "      <td>5588.86</td>\n",
       "      <td>75762.99</td>\n",
       "      <td>6586.13</td>\n",
       "      <td>11817.63</td>\n",
       "    </tr>\n",
       "    <tr>\n",
       "      <th>2</th>\n",
       "      <td>2.0</td>\n",
       "      <td>316.348</td>\n",
       "      <td>NaN</td>\n",
       "      <td>NaN</td>\n",
       "      <td>NaN</td>\n",
       "      <td>NaN</td>\n",
       "      <td>2774.79</td>\n",
       "      <td>5276.95</td>\n",
       "      <td>2128.81</td>\n",
       "      <td>10672.99</td>\n",
       "      <td>...</td>\n",
       "      <td>NaN</td>\n",
       "      <td>NaN</td>\n",
       "      <td>NaN</td>\n",
       "      <td>NaN</td>\n",
       "      <td>0.07</td>\n",
       "      <td>37867.76</td>\n",
       "      <td>5119.81</td>\n",
       "      <td>76337.18</td>\n",
       "      <td>10293.73</td>\n",
       "      <td>13299.04</td>\n",
       "    </tr>\n",
       "    <tr>\n",
       "      <th>3</th>\n",
       "      <td>3.0</td>\n",
       "      <td>316.349</td>\n",
       "      <td>NaN</td>\n",
       "      <td>NaN</td>\n",
       "      <td>NaN</td>\n",
       "      <td>NaN</td>\n",
       "      <td>2735.77</td>\n",
       "      <td>4733.55</td>\n",
       "      <td>2193.95</td>\n",
       "      <td>10207.91</td>\n",
       "      <td>...</td>\n",
       "      <td>NaN</td>\n",
       "      <td>NaN</td>\n",
       "      <td>NaN</td>\n",
       "      <td>NaN</td>\n",
       "      <td>0.01</td>\n",
       "      <td>36898.91</td>\n",
       "      <td>5173.59</td>\n",
       "      <td>85520.32</td>\n",
       "      <td>8806.86</td>\n",
       "      <td>9576.16</td>\n",
       "    </tr>\n",
       "    <tr>\n",
       "      <th>4</th>\n",
       "      <td>4.0</td>\n",
       "      <td>316.348</td>\n",
       "      <td>NaN</td>\n",
       "      <td>NaN</td>\n",
       "      <td>NaN</td>\n",
       "      <td>NaN</td>\n",
       "      <td>2314.48</td>\n",
       "      <td>4838.44</td>\n",
       "      <td>2197.71</td>\n",
       "      <td>10789.54</td>\n",
       "      <td>...</td>\n",
       "      <td>NaN</td>\n",
       "      <td>NaN</td>\n",
       "      <td>NaN</td>\n",
       "      <td>NaN</td>\n",
       "      <td>0.04</td>\n",
       "      <td>37209.91</td>\n",
       "      <td>5032.53</td>\n",
       "      <td>87919.86</td>\n",
       "      <td>8374.94</td>\n",
       "      <td>10025.25</td>\n",
       "    </tr>\n",
       "    <tr>\n",
       "      <th>5</th>\n",
       "      <td>5.0</td>\n",
       "      <td>316.349</td>\n",
       "      <td>NaN</td>\n",
       "      <td>NaN</td>\n",
       "      <td>NaN</td>\n",
       "      <td>NaN</td>\n",
       "      <td>2378.27</td>\n",
       "      <td>5007.19</td>\n",
       "      <td>2228.80</td>\n",
       "      <td>10527.97</td>\n",
       "      <td>...</td>\n",
       "      <td>NaN</td>\n",
       "      <td>NaN</td>\n",
       "      <td>NaN</td>\n",
       "      <td>NaN</td>\n",
       "      <td>0.07</td>\n",
       "      <td>37977.60</td>\n",
       "      <td>5154.58</td>\n",
       "      <td>73996.53</td>\n",
       "      <td>4116.93</td>\n",
       "      <td>11099.73</td>\n",
       "    </tr>\n",
       "    <tr>\n",
       "      <th>...</th>\n",
       "      <td>...</td>\n",
       "      <td>...</td>\n",
       "      <td>...</td>\n",
       "      <td>...</td>\n",
       "      <td>...</td>\n",
       "      <td>...</td>\n",
       "      <td>...</td>\n",
       "      <td>...</td>\n",
       "      <td>...</td>\n",
       "      <td>...</td>\n",
       "      <td>...</td>\n",
       "      <td>...</td>\n",
       "      <td>...</td>\n",
       "      <td>...</td>\n",
       "      <td>...</td>\n",
       "      <td>...</td>\n",
       "      <td>...</td>\n",
       "      <td>...</td>\n",
       "      <td>...</td>\n",
       "      <td>...</td>\n",
       "      <td>...</td>\n",
       "    </tr>\n",
       "    <tr>\n",
       "      <th>114</th>\n",
       "      <td>100106.0</td>\n",
       "      <td>3.164</td>\n",
       "      <td>1.475119e+06</td>\n",
       "      <td>4371.27</td>\n",
       "      <td>21172.52</td>\n",
       "      <td>1381564.53</td>\n",
       "      <td>1318.42</td>\n",
       "      <td>988.39</td>\n",
       "      <td>22.97</td>\n",
       "      <td>2079.69</td>\n",
       "      <td>...</td>\n",
       "      <td>6.48</td>\n",
       "      <td>56.64</td>\n",
       "      <td>17.89</td>\n",
       "      <td>244.23</td>\n",
       "      <td>1041.91</td>\n",
       "      <td>9053.59</td>\n",
       "      <td>847.59</td>\n",
       "      <td>32483.19</td>\n",
       "      <td>1496.76</td>\n",
       "      <td>3406.31</td>\n",
       "    </tr>\n",
       "    <tr>\n",
       "      <th>115</th>\n",
       "      <td>100107.0</td>\n",
       "      <td>3.163</td>\n",
       "      <td>1.754642e+06</td>\n",
       "      <td>5075.86</td>\n",
       "      <td>26248.38</td>\n",
       "      <td>1604759.97</td>\n",
       "      <td>1525.39</td>\n",
       "      <td>1467.36</td>\n",
       "      <td>28.21</td>\n",
       "      <td>2441.64</td>\n",
       "      <td>...</td>\n",
       "      <td>6.68</td>\n",
       "      <td>60.18</td>\n",
       "      <td>21.97</td>\n",
       "      <td>304.81</td>\n",
       "      <td>1216.05</td>\n",
       "      <td>10083.19</td>\n",
       "      <td>799.82</td>\n",
       "      <td>36030.85</td>\n",
       "      <td>2023.68</td>\n",
       "      <td>4840.62</td>\n",
       "    </tr>\n",
       "    <tr>\n",
       "      <th>116</th>\n",
       "      <td>100108.0</td>\n",
       "      <td>3.164</td>\n",
       "      <td>2.264549e+06</td>\n",
       "      <td>6267.54</td>\n",
       "      <td>32515.92</td>\n",
       "      <td>1980892.39</td>\n",
       "      <td>2993.20</td>\n",
       "      <td>3781.31</td>\n",
       "      <td>35.67</td>\n",
       "      <td>3961.33</td>\n",
       "      <td>...</td>\n",
       "      <td>6.71</td>\n",
       "      <td>67.68</td>\n",
       "      <td>25.08</td>\n",
       "      <td>492.61</td>\n",
       "      <td>1483.90</td>\n",
       "      <td>12523.03</td>\n",
       "      <td>1255.11</td>\n",
       "      <td>66587.48</td>\n",
       "      <td>2380.89</td>\n",
       "      <td>3600.41</td>\n",
       "    </tr>\n",
       "    <tr>\n",
       "      <th>117</th>\n",
       "      <td>100109.0</td>\n",
       "      <td>3.163</td>\n",
       "      <td>3.520592e+06</td>\n",
       "      <td>8755.18</td>\n",
       "      <td>41271.10</td>\n",
       "      <td>2767997.25</td>\n",
       "      <td>3068.40</td>\n",
       "      <td>2172.04</td>\n",
       "      <td>30.56</td>\n",
       "      <td>3978.80</td>\n",
       "      <td>...</td>\n",
       "      <td>6.69</td>\n",
       "      <td>69.60</td>\n",
       "      <td>29.74</td>\n",
       "      <td>968.15</td>\n",
       "      <td>2024.95</td>\n",
       "      <td>14776.01</td>\n",
       "      <td>1661.08</td>\n",
       "      <td>80481.55</td>\n",
       "      <td>2807.22</td>\n",
       "      <td>7689.81</td>\n",
       "    </tr>\n",
       "    <tr>\n",
       "      <th>118</th>\n",
       "      <td>1001010.0</td>\n",
       "      <td>3.163</td>\n",
       "      <td>3.307760e+08</td>\n",
       "      <td>26439.14</td>\n",
       "      <td>67710.24</td>\n",
       "      <td>8358880.64</td>\n",
       "      <td>9109.06</td>\n",
       "      <td>6270.51</td>\n",
       "      <td>35.43</td>\n",
       "      <td>18565.69</td>\n",
       "      <td>...</td>\n",
       "      <td>7.13</td>\n",
       "      <td>101.80</td>\n",
       "      <td>64.36</td>\n",
       "      <td>5020.95</td>\n",
       "      <td>5649.46</td>\n",
       "      <td>25404.35</td>\n",
       "      <td>3294.62</td>\n",
       "      <td>178405.43</td>\n",
       "      <td>5493.73</td>\n",
       "      <td>11626.14</td>\n",
       "    </tr>\n",
       "  </tbody>\n",
       "</table>\n",
       "<p>118 rows × 22 columns</p>\n",
       "</div>"
      ],
      "text/plain": [
       "        Centil  Quantidade de Contribuintes  \\\n",
       "1          1.0                      316.349   \n",
       "2          2.0                      316.348   \n",
       "3          3.0                      316.349   \n",
       "4          4.0                      316.348   \n",
       "5          5.0                      316.349   \n",
       "..         ...                          ...   \n",
       "114   100106.0                        3.164   \n",
       "115   100107.0                        3.163   \n",
       "116   100108.0                        3.164   \n",
       "117   100109.0                        3.163   \n",
       "118  1001010.0                        3.163   \n",
       "\n",
       "     Rendimentos Tributaveis - Limite Superior da RTB do Centil [R$ milhões]  \\\n",
       "1                                                  NaN                         \n",
       "2                                                  NaN                         \n",
       "3                                                  NaN                         \n",
       "4                                                  NaN                         \n",
       "5                                                  NaN                         \n",
       "..                                                 ...                         \n",
       "114                                       1.475119e+06                         \n",
       "115                                       1.754642e+06                         \n",
       "116                                       2.264549e+06                         \n",
       "117                                       3.520592e+06                         \n",
       "118                                       3.307760e+08                         \n",
       "\n",
       "     Rendimentos Tributaveis - Soma da RTB do Centil [R$ milhões]  \\\n",
       "1                                                  NaN              \n",
       "2                                                  NaN              \n",
       "3                                                  NaN              \n",
       "4                                                  NaN              \n",
       "5                                                  NaN              \n",
       "..                                                 ...              \n",
       "114                                            4371.27              \n",
       "115                                            5075.86              \n",
       "116                                            6267.54              \n",
       "117                                            8755.18              \n",
       "118                                           26439.14              \n",
       "\n",
       "     Rendimentos Tributaveis - RTB Acumulada do Centil [R$ milhões]  \\\n",
       "1                                                  NaN                \n",
       "2                                                  NaN                \n",
       "3                                                  NaN                \n",
       "4                                                  NaN                \n",
       "5                                                  NaN                \n",
       "..                                                 ...                \n",
       "114                                           21172.52                \n",
       "115                                           26248.38                \n",
       "116                                           32515.92                \n",
       "117                                           41271.10                \n",
       "118                                           67710.24                \n",
       "\n",
       "     Rendimentos Tributaveis - Média da RTB do Centil [R$]  \\\n",
       "1                                                  NaN       \n",
       "2                                                  NaN       \n",
       "3                                                  NaN       \n",
       "4                                                  NaN       \n",
       "5                                                  NaN       \n",
       "..                                                 ...       \n",
       "114                                         1381564.53       \n",
       "115                                         1604759.97       \n",
       "116                                         1980892.39       \n",
       "117                                         2767997.25       \n",
       "118                                         8358880.64       \n",
       "\n",
       "     Rendimentos Sujeitos à Tribut. Exclusiva [R$ milhões]  \\\n",
       "1                                              2292.22       \n",
       "2                                              2774.79       \n",
       "3                                              2735.77       \n",
       "4                                              2314.48       \n",
       "5                                              2378.27       \n",
       "..                                                 ...       \n",
       "114                                            1318.42       \n",
       "115                                            1525.39       \n",
       "116                                            2993.20       \n",
       "117                                            3068.40       \n",
       "118                                            9109.06       \n",
       "\n",
       "     Rendimentos Isentos - Lucros e dividendos [R$ milhões]  \\\n",
       "1                                              4971.46        \n",
       "2                                              5276.95        \n",
       "3                                              4733.55        \n",
       "4                                              4838.44        \n",
       "5                                              5007.19        \n",
       "..                                                 ...        \n",
       "114                                             988.39        \n",
       "115                                            1467.36        \n",
       "116                                            3781.31        \n",
       "117                                            2172.04        \n",
       "118                                            6270.51        \n",
       "\n",
       "     Rendimentos Isentos - Rendim. Sócio/Titular ME/EPP Opt SIMPLES [R$ milhões]  \\\n",
       "1                                              2199.82                             \n",
       "2                                              2128.81                             \n",
       "3                                              2193.95                             \n",
       "4                                              2197.71                             \n",
       "5                                              2228.80                             \n",
       "..                                                 ...                             \n",
       "114                                              22.97                             \n",
       "115                                              28.21                             \n",
       "116                                              35.67                             \n",
       "117                                              30.56                             \n",
       "118                                              35.43                             \n",
       "\n",
       "     Rendimentos Isentos - Outros Rendimentos Isentos [R$ milhões]  ...  \\\n",
       "1                                             10656.53              ...   \n",
       "2                                             10672.99              ...   \n",
       "3                                             10207.91              ...   \n",
       "4                                             10789.54              ...   \n",
       "5                                             10527.97              ...   \n",
       "..                                                 ...              ...   \n",
       "114                                            2079.69              ...   \n",
       "115                                            2441.64              ...   \n",
       "116                                            3961.33              ...   \n",
       "117                                            3978.80              ...   \n",
       "118                                           18565.69              ...   \n",
       "\n",
       "     Despesas Dedutíveis - Instrução [R$ milhões]  \\\n",
       "1                                             NaN   \n",
       "2                                             NaN   \n",
       "3                                             NaN   \n",
       "4                                             NaN   \n",
       "5                                             NaN   \n",
       "..                                            ...   \n",
       "114                                          6.48   \n",
       "115                                          6.68   \n",
       "116                                          6.71   \n",
       "117                                          6.69   \n",
       "118                                          7.13   \n",
       "\n",
       "     Despesas Dedutíveis - Médicas [R$ milhões]  \\\n",
       "1                                           NaN   \n",
       "2                                           NaN   \n",
       "3                                           NaN   \n",
       "4                                           NaN   \n",
       "5                                           NaN   \n",
       "..                                          ...   \n",
       "114                                       56.64   \n",
       "115                                       60.18   \n",
       "116                                       67.68   \n",
       "117                                       69.60   \n",
       "118                                      101.80   \n",
       "\n",
       "     Despesas Dedutíveis - Pensão Alimentícia [R$ milhões]  \\\n",
       "1                                                  NaN       \n",
       "2                                                  NaN       \n",
       "3                                                  NaN       \n",
       "4                                                  NaN       \n",
       "5                                                  NaN       \n",
       "..                                                 ...       \n",
       "114                                              17.89       \n",
       "115                                              21.97       \n",
       "116                                              25.08       \n",
       "117                                              29.74       \n",
       "118                                              64.36       \n",
       "\n",
       "     Despesas Dedutíveis - Livro-Caixa [R$ milhões]  \\\n",
       "1                                               NaN   \n",
       "2                                               NaN   \n",
       "3                                               NaN   \n",
       "4                                               NaN   \n",
       "5                                               NaN   \n",
       "..                                              ...   \n",
       "114                                          244.23   \n",
       "115                                          304.81   \n",
       "116                                          492.61   \n",
       "117                                          968.15   \n",
       "118                                         5020.95   \n",
       "\n",
       "     Imposto Devido [R$ milhões]  Bens e Direitos - Imóveis [R$ milhões]  \\\n",
       "1                           0.09                                38909.27   \n",
       "2                           0.07                                37867.76   \n",
       "3                           0.01                                36898.91   \n",
       "4                           0.04                                37209.91   \n",
       "5                           0.07                                37977.60   \n",
       "..                           ...                                     ...   \n",
       "114                      1041.91                                 9053.59   \n",
       "115                      1216.05                                10083.19   \n",
       "116                      1483.90                                12523.03   \n",
       "117                      2024.95                                14776.01   \n",
       "118                      5649.46                                25404.35   \n",
       "\n",
       "     Bens e Direitos - Móveis [R$ milhões]  \\\n",
       "1                                  5588.86   \n",
       "2                                  5119.81   \n",
       "3                                  5173.59   \n",
       "4                                  5032.53   \n",
       "5                                  5154.58   \n",
       "..                                     ...   \n",
       "114                                 847.59   \n",
       "115                                 799.82   \n",
       "116                                1255.11   \n",
       "117                                1661.08   \n",
       "118                                3294.62   \n",
       "\n",
       "     Bens e Direitos - Financeiros [R$ milhões]  \\\n",
       "1                                      75762.99   \n",
       "2                                      76337.18   \n",
       "3                                      85520.32   \n",
       "4                                      87919.86   \n",
       "5                                      73996.53   \n",
       "..                                          ...   \n",
       "114                                    32483.19   \n",
       "115                                    36030.85   \n",
       "116                                    66587.48   \n",
       "117                                    80481.55   \n",
       "118                                   178405.43   \n",
       "\n",
       "     Bens e Direitos - Outros Bens e Direitos [R$ milhões]  \\\n",
       "1                                              6586.13       \n",
       "2                                             10293.73       \n",
       "3                                              8806.86       \n",
       "4                                              8374.94       \n",
       "5                                              4116.93       \n",
       "..                                                 ...       \n",
       "114                                            1496.76       \n",
       "115                                            2023.68       \n",
       "116                                            2380.89       \n",
       "117                                            2807.22       \n",
       "118                                            5493.73       \n",
       "\n",
       "     Dívidas e Ônus [R$ milhões]  \n",
       "1                       11817.63  \n",
       "2                       13299.04  \n",
       "3                        9576.16  \n",
       "4                       10025.25  \n",
       "5                       11099.73  \n",
       "..                           ...  \n",
       "114                      3406.31  \n",
       "115                      4840.62  \n",
       "116                      3600.41  \n",
       "117                      7689.81  \n",
       "118                     11626.14  \n",
       "\n",
       "[118 rows x 22 columns]"
      ]
     },
     "execution_count": 35,
     "metadata": {},
     "output_type": "execute_result"
    }
   ],
   "source": [
    "# Filter the DataFrame to remove rows with centil values 100 and 1001 to 10010\n",
    "df_all_info = df20br[(df20br['Centil'] != 100) & (df20br['Centil'] != 10010)]\n",
    "df_all_info = create_one_indexed_df(df_all_info)\n",
    "df_all_info"
   ]
  },
  {
   "cell_type": "code",
   "execution_count": null,
   "metadata": {},
   "outputs": [],
   "source": []
  },
  {
   "cell_type": "code",
   "execution_count": 71,
   "metadata": {},
   "outputs": [
    {
     "name": "stdout",
     "output_type": "stream",
     "text": [
      "Min value: 100.0\n",
      "Max value: 330776031.92\n"
     ]
    },
    {
     "data": {
      "application/vnd.plotly.v1+json": {
       "config": {
        "plotlyServerURL": "https://plot.ly"
       },
       "data": [
        {
         "hovertemplate": "Centil: %{x}<br>Rendimentos: %{y:.2f} R$ milhões<extra></extra>",
         "marker": {
          "color": [
           "rgba(33, 102, 172, 0.8)",
           "rgba(33, 102, 172, 0.8)",
           "rgba(33, 102, 172, 0.8)",
           "rgba(33, 102, 172, 0.8)",
           "rgba(33, 102, 172, 0.8)",
           "rgba(33, 102, 172, 0.8)",
           "rgba(33, 102, 172, 0.8)",
           "rgba(33, 102, 172, 0.8)",
           "rgba(33, 102, 172, 0.8)",
           "rgba(33, 102, 172, 0.8)",
           "rgba(33, 102, 172, 0.8)",
           "rgba(33, 102, 172, 0.8)",
           "rgba(33, 102, 172, 0.8)",
           "rgba(33, 102, 172, 0.8)",
           "rgba(33, 102, 172, 0.8)",
           "rgba(33, 102, 172, 0.8)",
           "rgba(33, 102, 172, 0.8)",
           "rgba(33, 102, 172, 0.8)",
           "rgba(33, 102, 172, 0.8)",
           "rgba(33, 102, 172, 0.8)",
           "rgba(33, 102, 172, 0.8)",
           "rgba(33, 102, 172, 0.8)",
           "rgba(33, 102, 172, 0.8)",
           "rgba(33, 102, 172, 0.8)",
           "rgba(33, 102, 172, 0.8)",
           "rgba(33, 102, 172, 0.8)",
           "rgba(33, 102, 172, 0.8)",
           "rgba(33, 102, 172, 0.8)",
           "rgba(33, 102, 172, 0.8)",
           "rgba(33, 102, 172, 0.8)",
           "rgba(33, 102, 172, 0.8)",
           "rgba(33, 102, 172, 0.8)",
           "rgba(33, 102, 172, 0.8)",
           "rgba(33, 102, 172, 0.8)",
           "rgba(33, 102, 172, 0.8)",
           "rgba(33, 102, 172, 0.8)",
           "rgba(33, 102, 172, 0.8)",
           "rgba(33, 102, 172, 0.8)",
           "rgba(33, 102, 172, 0.8)",
           "rgba(33, 102, 172, 0.8)",
           "rgba(33, 102, 172, 0.8)",
           "rgba(33, 102, 172, 0.8)",
           "rgba(33, 102, 172, 0.8)",
           "rgba(33, 102, 172, 0.8)",
           "rgba(33, 102, 172, 0.8)",
           "rgba(33, 102, 172, 0.8)",
           "rgba(33, 102, 172, 0.8)",
           "rgba(33, 102, 172, 0.8)",
           "rgba(33, 102, 172, 0.8)",
           "rgba(33, 102, 172, 0.8)",
           "rgba(33, 102, 172, 0.8)",
           "rgba(33, 102, 172, 0.8)",
           "rgba(33, 102, 172, 0.8)",
           "rgba(33, 102, 172, 0.8)",
           "rgba(33, 102, 172, 0.8)",
           "rgba(33, 102, 172, 0.8)",
           "rgba(33, 102, 172, 0.8)",
           "rgba(33, 102, 172, 0.8)",
           "rgba(33, 102, 172, 0.8)",
           "rgba(33, 102, 172, 0.8)",
           "rgba(33, 102, 172, 0.8)",
           "rgba(33, 102, 172, 0.8)",
           "rgba(33, 102, 172, 0.8)",
           "rgba(33, 102, 172, 0.8)",
           "rgba(33, 102, 172, 0.8)",
           "rgba(33, 102, 172, 0.8)",
           "rgba(33, 102, 172, 0.8)",
           "rgba(33, 102, 172, 0.8)",
           "rgba(33, 102, 172, 0.8)",
           "rgba(33, 102, 172, 0.8)",
           "rgba(33, 102, 172, 0.8)",
           "rgba(33, 102, 172, 0.8)",
           "rgba(33, 102, 172, 0.8)",
           "rgba(33, 102, 172, 0.8)",
           "rgba(33, 102, 172, 0.8)",
           "rgba(33, 102, 172, 0.8)",
           "rgba(33, 102, 172, 0.8)",
           "rgba(33, 102, 172, 0.8)",
           "rgba(33, 102, 172, 0.8)",
           "rgba(33, 102, 172, 0.8)",
           "rgba(33, 102, 172, 0.8)",
           "rgba(33, 102, 172, 0.8)",
           "rgba(33, 102, 172, 0.8)",
           "rgba(33, 102, 172, 0.8)",
           "rgba(33, 102, 172, 0.8)",
           "rgba(33, 102, 172, 0.8)",
           "rgba(33, 102, 172, 0.8)",
           "rgba(33, 102, 172, 0.8)",
           "rgba(33, 102, 172, 0.8)",
           "rgba(33, 102, 172, 0.8)",
           "rgba(33, 102, 172, 0.8)",
           "rgba(33, 102, 172, 0.8)",
           "rgba(33, 102, 172, 0.8)",
           "rgba(33, 102, 172, 0.8)",
           "rgba(33, 102, 172, 0.8)",
           "rgba(33, 102, 172, 0.8)",
           "rgba(33, 102, 172, 0.8)",
           "rgba(33, 102, 172, 0.8)",
           "rgba(33, 102, 172, 0.8)",
           "rgba(33, 102, 172, 0.8)",
           "rgba(33, 102, 172, 0.8)",
           "rgba(33, 102, 172, 0.8)",
           "rgba(33, 102, 172, 0.8)",
           "rgba(33, 102, 172, 0.8)",
           "rgba(33, 102, 172, 0.8)",
           "rgba(33, 102, 172, 0.8)",
           "rgba(33, 102, 172, 0.8)",
           "rgba(33, 102, 172, 0.8)",
           "rgba(33, 102, 172, 0.8)",
           "rgba(33, 102, 172, 0.8)",
           "rgba(33, 102, 172, 0.8)",
           "rgba(33, 102, 172, 0.8)",
           "rgba(33, 102, 172, 0.8)",
           "rgba(33, 102, 172, 0.8)",
           "rgba(33, 102, 172, 0.8)",
           "rgba(33, 102, 172, 0.8)",
           "rgba(33, 102, 172, 0.8)",
           "rgba(255, 0, 0, 0.8)"
          ],
          "line": {
           "color": [
            "rgb(33, 102, 172)",
            "rgb(33, 102, 172)",
            "rgb(33, 102, 172)",
            "rgb(33, 102, 172)",
            "rgb(33, 102, 172)",
            "rgb(33, 102, 172)",
            "rgb(33, 102, 172)",
            "rgb(33, 102, 172)",
            "rgb(33, 102, 172)",
            "rgb(33, 102, 172)",
            "rgb(33, 102, 172)",
            "rgb(33, 102, 172)",
            "rgb(33, 102, 172)",
            "rgb(33, 102, 172)",
            "rgb(33, 102, 172)",
            "rgb(33, 102, 172)",
            "rgb(33, 102, 172)",
            "rgb(33, 102, 172)",
            "rgb(33, 102, 172)",
            "rgb(33, 102, 172)",
            "rgb(33, 102, 172)",
            "rgb(33, 102, 172)",
            "rgb(33, 102, 172)",
            "rgb(33, 102, 172)",
            "rgb(33, 102, 172)",
            "rgb(33, 102, 172)",
            "rgb(33, 102, 172)",
            "rgb(33, 102, 172)",
            "rgb(33, 102, 172)",
            "rgb(33, 102, 172)",
            "rgb(33, 102, 172)",
            "rgb(33, 102, 172)",
            "rgb(33, 102, 172)",
            "rgb(33, 102, 172)",
            "rgb(33, 102, 172)",
            "rgb(33, 102, 172)",
            "rgb(33, 102, 172)",
            "rgb(33, 102, 172)",
            "rgb(33, 102, 172)",
            "rgb(33, 102, 172)",
            "rgb(33, 102, 172)",
            "rgb(33, 102, 172)",
            "rgb(33, 102, 172)",
            "rgb(33, 102, 172)",
            "rgb(33, 102, 172)",
            "rgb(33, 102, 172)",
            "rgb(33, 102, 172)",
            "rgb(33, 102, 172)",
            "rgb(33, 102, 172)",
            "rgb(33, 102, 172)",
            "rgb(33, 102, 172)",
            "rgb(33, 102, 172)",
            "rgb(33, 102, 172)",
            "rgb(33, 102, 172)",
            "rgb(33, 102, 172)",
            "rgb(33, 102, 172)",
            "rgb(33, 102, 172)",
            "rgb(33, 102, 172)",
            "rgb(33, 102, 172)",
            "rgb(33, 102, 172)",
            "rgb(33, 102, 172)",
            "rgb(33, 102, 172)",
            "rgb(33, 102, 172)",
            "rgb(33, 102, 172)",
            "rgb(33, 102, 172)",
            "rgb(33, 102, 172)",
            "rgb(33, 102, 172)",
            "rgb(33, 102, 172)",
            "rgb(33, 102, 172)",
            "rgb(33, 102, 172)",
            "rgb(33, 102, 172)",
            "rgb(33, 102, 172)",
            "rgb(33, 102, 172)",
            "rgb(33, 102, 172)",
            "rgb(33, 102, 172)",
            "rgb(33, 102, 172)",
            "rgb(33, 102, 172)",
            "rgb(33, 102, 172)",
            "rgb(33, 102, 172)",
            "rgb(33, 102, 172)",
            "rgb(33, 102, 172)",
            "rgb(33, 102, 172)",
            "rgb(33, 102, 172)",
            "rgb(33, 102, 172)",
            "rgb(33, 102, 172)",
            "rgb(33, 102, 172)",
            "rgb(33, 102, 172)",
            "rgb(33, 102, 172)",
            "rgb(33, 102, 172)",
            "rgb(33, 102, 172)",
            "rgb(33, 102, 172)",
            "rgb(33, 102, 172)",
            "rgb(33, 102, 172)",
            "rgb(33, 102, 172)",
            "rgb(33, 102, 172)",
            "rgb(33, 102, 172)",
            "rgb(33, 102, 172)",
            "rgb(33, 102, 172)",
            "rgb(33, 102, 172)",
            "rgb(33, 102, 172)",
            "rgb(33, 102, 172)",
            "rgb(33, 102, 172)",
            "rgb(33, 102, 172)",
            "rgb(33, 102, 172)",
            "rgb(33, 102, 172)",
            "rgb(33, 102, 172)",
            "rgb(33, 102, 172)",
            "rgb(33, 102, 172)",
            "rgb(33, 102, 172)",
            "rgb(33, 102, 172)",
            "rgb(33, 102, 172)",
            "rgb(33, 102, 172)",
            "rgb(33, 102, 172)",
            "rgb(33, 102, 172)",
            "rgb(33, 102, 172)",
            "rgb(33, 102, 172)",
            "rgb(33, 102, 172)",
            "rgb(200, 0, 0)"
           ],
           "width": 1.5
          }
         },
         "type": "bar",
         "width": [
          0.8,
          0.8,
          0.8,
          0.8,
          0.8,
          0.8,
          0.8,
          0.8,
          0.8,
          0.8,
          0.8,
          0.8,
          0.8,
          0.8,
          0.8,
          0.8,
          0.8,
          0.8,
          0.8,
          0.8,
          0.8,
          0.8,
          0.8,
          0.8,
          0.8,
          0.8,
          0.8,
          0.8,
          0.8,
          0.8,
          0.8,
          0.8,
          0.8,
          0.8,
          0.8,
          0.8,
          0.8,
          0.8,
          0.8,
          0.8,
          0.8,
          0.8,
          0.8,
          0.8,
          0.8,
          0.8,
          0.8,
          0.8,
          0.8,
          0.8,
          0.8,
          0.8,
          0.8,
          0.8,
          0.8,
          0.8,
          0.8,
          0.8,
          0.8,
          0.8,
          0.8,
          0.8,
          0.8,
          0.8,
          0.8,
          0.8,
          0.8,
          0.8,
          0.8,
          0.8,
          0.8,
          0.8,
          0.8,
          0.8,
          0.8,
          0.8,
          0.8,
          0.8,
          0.8,
          0.8,
          0.8,
          0.8,
          0.8,
          0.8,
          0.8,
          0.8,
          0.8,
          0.8,
          0.8,
          0.8,
          0.8,
          0.8,
          0.8,
          0.8,
          0.8,
          0.8,
          0.8,
          0.8,
          0.8,
          0.3,
          0.3,
          0.3,
          0.3,
          0.3,
          0.3,
          0.3,
          0.3,
          0.3,
          0.1,
          0.1,
          0.1,
          0.1,
          0.1,
          0.1,
          0.1,
          0.1,
          0.1,
          0.8
         ],
         "x": {
          "bdata": "AAAAAAAA8D8AAAAAAAAAQAAAAAAAAAhAAAAAAAAAEEAAAAAAAAAUQAAAAAAAABhAAAAAAAAAHEAAAAAAAAAgQAAAAAAAACJAAAAAAAAAJEAAAAAAAAAmQAAAAAAAAChAAAAAAAAAKkAAAAAAAAAsQAAAAAAAAC5AAAAAAAAAMEAAAAAAAAAxQAAAAAAAADJAAAAAAAAAM0AAAAAAAAA0QAAAAAAAADVAAAAAAAAANkAAAAAAAAA3QAAAAAAAADhAAAAAAAAAOUAAAAAAAAA6QAAAAAAAADtAAAAAAAAAPEAAAAAAAAA9QAAAAAAAAD5AAAAAAAAAP0AAAAAAAABAQAAAAAAAgEBAAAAAAAAAQUAAAAAAAIBBQAAAAAAAAEJAAAAAAACAQkAAAAAAAABDQAAAAAAAgENAAAAAAAAAREAAAAAAAIBEQAAAAAAAAEVAAAAAAACARUAAAAAAAABGQAAAAAAAgEZAAAAAAAAAR0AAAAAAAIBHQAAAAAAAAEhAAAAAAACASEAAAAAAAABJQAAAAAAAgElAAAAAAAAASkAAAAAAAIBKQAAAAAAAAEtAAAAAAACAS0AAAAAAAABMQAAAAAAAgExAAAAAAAAATUAAAAAAAIBNQAAAAAAAAE5AAAAAAACATkAAAAAAAABPQAAAAAAAgE9AAAAAAAAAUEAAAAAAAEBQQAAAAAAAgFBAAAAAAADAUEAAAAAAAABRQAAAAAAAQFFAAAAAAACAUUAAAAAAAMBRQAAAAAAAAFJAAAAAAABAUkAAAAAAAIBSQAAAAAAAwFJAAAAAAAAAU0AAAAAAAEBTQAAAAAAAgFNAAAAAAADAU0AAAAAAAABUQAAAAAAAQFRAAAAAAACAVEAAAAAAAMBUQAAAAAAAAFVAAAAAAABAVUAAAAAAAIBVQAAAAAAAwFVAAAAAAAAAVkAAAAAAAEBWQAAAAAAAgFZAAAAAAADAVkAAAAAAAABXQAAAAAAAQFdAAAAAAACAV0AAAAAAAMBXQAAAAAAAAFhAAAAAAABAWEAAAAAAAIBYQAAAAAAAwFhAZmZmZmYGWUDNzMzMzAxZQDMzMzMzE1lAmpmZmZkZWUAAAAAAACBZQGZmZmZmJllAzczMzMwsWUAzMzMzMzNZQJqZmZmZOVlAcT0K16NAWUDhehSuR0FZQFK4HoXrQVlAw/UoXI9CWUAzMzMzM0NZQKRwPQrXQ1lAFK5H4XpEWUCF61G4HkVZQPYoXI/CRVlAAAAAAAAA+H8=",
          "dtype": "f8"
         },
         "y": {
          "bdata": "AAAAAAAA+H8AAAAAAAD4fwAAAAAAAPh/AAAAAAAA+H8AAAAAAAD4fwAAAAAAAPh/AAAAAAAAWUAAAAAAACCsQAAAAAAAcLdAuB6F6zHSwEDsUbge5XrFQAAAAACAY8hAAAAAAAB7yEAAAAAAAH7IQArXo3D9acpAAAAAAABMzUBmZmZmlgTQQArXo3A9WNFAKVyPwmVO0kAK16NwfYLTQAAAAAAAgtRA9ihcjxJQ1UC4HoXrMQnWQAAAAAAA2tZAzczMzJye10AAAAAAQG/YQAAAAAAAHtlAAAAAAADm2UAAAAAAAKnaQB+F61GYS9tAKVyPwmW420C4HoXrIenbQFK4HoWbdNxAZmZmZjYG3UB7FK5HgX7dQIXrUbguCd5AexSuR7GU3kC4HoXrgSXfQIXrUbjOtd9AmpmZmaEl4ECkcD0K93DgQMP1KFzHvuBAw/UoXC8N4UApXI/C1VzhQAAAAAAAoeFAZmZmZh704UCamZmZkUjiQFyPwvUQmeJAH4XrUejx4kCamZmZUU7jQHE9CtdbrONA16NwPaIM5EAAAAAAIHTkQKRwPQpX1ORASOF6FK4/5UBmZmZm/qvlQHE9CtdDHuZAPQrXo+iU5kDXo3A9ShLnQClcj8JliOdA16NwPVoM6EAfhetRwJLoQIXrUbgmI+lAFK5H4eK56UBSuB6Fy1jqQIXrUbjO9epAhetRuKaf60AAAAAAAFLsQClcj8IVDO1AuB6F6wnA7UC4HoXrqYvuQArXo3B1Xu9AAAAAAAAd8ECamZmZAY/wQHE9Ctf/DPFA7FG4HkmO8UCamZmZlfzxQKRwPQr/jvJAexSuR6kz80BI4XoU7ujzQIXrUbhypvRAw/UoXJty9UBmZmZmrkr2QOxRuB6NRPdAPQrXo/RO+EDhehSue3r5QNejcD0GvvpA9ihcjyIs/EDsUbgeGbj9QK5H4Xq0dP9AFK5H4YC9AEGkcD0KtfcBQbgeheshXANBH4XrUaQWBUHD9ShcmVwHQVyPwvV2VApBAAAAADgfDkEpXI/Cfx0SQXsUrkfv7BdBpHA9CkG+GEFcj8L1NsYZQSlcj8LYsRpBZmZmZiXiG0GF61G4v14dQTMzMzM5Vh9BZmZmZilLIUGuR+H6L0QkQT0K16O3mCtB7FG4nvAVLUHhehQurssuQRSuR6GafjBBPQrXo47rMUGF61H4xskzQXE9ChcvgjZBCtejcBLGOkGamZm58kZBQSlcj+In3EpBH4Xr3z23s0E=",
          "dtype": "f8"
         }
        }
       ],
       "layout": {
        "annotations": [
         {
          "arrowhead": 1,
          "ax": 0,
          "ay": -40,
          "showarrow": true,
          "text": "Top 0.01%: 330776031.92",
          "x": null,
          "y": 330776031.92
         }
        ],
        "height": 600,
        "template": {
         "data": {
          "bar": [
           {
            "error_x": {
             "color": "#2a3f5f"
            },
            "error_y": {
             "color": "#2a3f5f"
            },
            "marker": {
             "line": {
              "color": "white",
              "width": 0.5
             },
             "pattern": {
              "fillmode": "overlay",
              "size": 10,
              "solidity": 0.2
             }
            },
            "type": "bar"
           }
          ],
          "barpolar": [
           {
            "marker": {
             "line": {
              "color": "white",
              "width": 0.5
             },
             "pattern": {
              "fillmode": "overlay",
              "size": 10,
              "solidity": 0.2
             }
            },
            "type": "barpolar"
           }
          ],
          "carpet": [
           {
            "aaxis": {
             "endlinecolor": "#2a3f5f",
             "gridcolor": "#C8D4E3",
             "linecolor": "#C8D4E3",
             "minorgridcolor": "#C8D4E3",
             "startlinecolor": "#2a3f5f"
            },
            "baxis": {
             "endlinecolor": "#2a3f5f",
             "gridcolor": "#C8D4E3",
             "linecolor": "#C8D4E3",
             "minorgridcolor": "#C8D4E3",
             "startlinecolor": "#2a3f5f"
            },
            "type": "carpet"
           }
          ],
          "choropleth": [
           {
            "colorbar": {
             "outlinewidth": 0,
             "ticks": ""
            },
            "type": "choropleth"
           }
          ],
          "contour": [
           {
            "colorbar": {
             "outlinewidth": 0,
             "ticks": ""
            },
            "colorscale": [
             [
              0,
              "#0d0887"
             ],
             [
              0.1111111111111111,
              "#46039f"
             ],
             [
              0.2222222222222222,
              "#7201a8"
             ],
             [
              0.3333333333333333,
              "#9c179e"
             ],
             [
              0.4444444444444444,
              "#bd3786"
             ],
             [
              0.5555555555555556,
              "#d8576b"
             ],
             [
              0.6666666666666666,
              "#ed7953"
             ],
             [
              0.7777777777777778,
              "#fb9f3a"
             ],
             [
              0.8888888888888888,
              "#fdca26"
             ],
             [
              1,
              "#f0f921"
             ]
            ],
            "type": "contour"
           }
          ],
          "contourcarpet": [
           {
            "colorbar": {
             "outlinewidth": 0,
             "ticks": ""
            },
            "type": "contourcarpet"
           }
          ],
          "heatmap": [
           {
            "colorbar": {
             "outlinewidth": 0,
             "ticks": ""
            },
            "colorscale": [
             [
              0,
              "#0d0887"
             ],
             [
              0.1111111111111111,
              "#46039f"
             ],
             [
              0.2222222222222222,
              "#7201a8"
             ],
             [
              0.3333333333333333,
              "#9c179e"
             ],
             [
              0.4444444444444444,
              "#bd3786"
             ],
             [
              0.5555555555555556,
              "#d8576b"
             ],
             [
              0.6666666666666666,
              "#ed7953"
             ],
             [
              0.7777777777777778,
              "#fb9f3a"
             ],
             [
              0.8888888888888888,
              "#fdca26"
             ],
             [
              1,
              "#f0f921"
             ]
            ],
            "type": "heatmap"
           }
          ],
          "histogram": [
           {
            "marker": {
             "pattern": {
              "fillmode": "overlay",
              "size": 10,
              "solidity": 0.2
             }
            },
            "type": "histogram"
           }
          ],
          "histogram2d": [
           {
            "colorbar": {
             "outlinewidth": 0,
             "ticks": ""
            },
            "colorscale": [
             [
              0,
              "#0d0887"
             ],
             [
              0.1111111111111111,
              "#46039f"
             ],
             [
              0.2222222222222222,
              "#7201a8"
             ],
             [
              0.3333333333333333,
              "#9c179e"
             ],
             [
              0.4444444444444444,
              "#bd3786"
             ],
             [
              0.5555555555555556,
              "#d8576b"
             ],
             [
              0.6666666666666666,
              "#ed7953"
             ],
             [
              0.7777777777777778,
              "#fb9f3a"
             ],
             [
              0.8888888888888888,
              "#fdca26"
             ],
             [
              1,
              "#f0f921"
             ]
            ],
            "type": "histogram2d"
           }
          ],
          "histogram2dcontour": [
           {
            "colorbar": {
             "outlinewidth": 0,
             "ticks": ""
            },
            "colorscale": [
             [
              0,
              "#0d0887"
             ],
             [
              0.1111111111111111,
              "#46039f"
             ],
             [
              0.2222222222222222,
              "#7201a8"
             ],
             [
              0.3333333333333333,
              "#9c179e"
             ],
             [
              0.4444444444444444,
              "#bd3786"
             ],
             [
              0.5555555555555556,
              "#d8576b"
             ],
             [
              0.6666666666666666,
              "#ed7953"
             ],
             [
              0.7777777777777778,
              "#fb9f3a"
             ],
             [
              0.8888888888888888,
              "#fdca26"
             ],
             [
              1,
              "#f0f921"
             ]
            ],
            "type": "histogram2dcontour"
           }
          ],
          "mesh3d": [
           {
            "colorbar": {
             "outlinewidth": 0,
             "ticks": ""
            },
            "type": "mesh3d"
           }
          ],
          "parcoords": [
           {
            "line": {
             "colorbar": {
              "outlinewidth": 0,
              "ticks": ""
             }
            },
            "type": "parcoords"
           }
          ],
          "pie": [
           {
            "automargin": true,
            "type": "pie"
           }
          ],
          "scatter": [
           {
            "fillpattern": {
             "fillmode": "overlay",
             "size": 10,
             "solidity": 0.2
            },
            "type": "scatter"
           }
          ],
          "scatter3d": [
           {
            "line": {
             "colorbar": {
              "outlinewidth": 0,
              "ticks": ""
             }
            },
            "marker": {
             "colorbar": {
              "outlinewidth": 0,
              "ticks": ""
             }
            },
            "type": "scatter3d"
           }
          ],
          "scattercarpet": [
           {
            "marker": {
             "colorbar": {
              "outlinewidth": 0,
              "ticks": ""
             }
            },
            "type": "scattercarpet"
           }
          ],
          "scattergeo": [
           {
            "marker": {
             "colorbar": {
              "outlinewidth": 0,
              "ticks": ""
             }
            },
            "type": "scattergeo"
           }
          ],
          "scattergl": [
           {
            "marker": {
             "colorbar": {
              "outlinewidth": 0,
              "ticks": ""
             }
            },
            "type": "scattergl"
           }
          ],
          "scattermap": [
           {
            "marker": {
             "colorbar": {
              "outlinewidth": 0,
              "ticks": ""
             }
            },
            "type": "scattermap"
           }
          ],
          "scattermapbox": [
           {
            "marker": {
             "colorbar": {
              "outlinewidth": 0,
              "ticks": ""
             }
            },
            "type": "scattermapbox"
           }
          ],
          "scatterpolar": [
           {
            "marker": {
             "colorbar": {
              "outlinewidth": 0,
              "ticks": ""
             }
            },
            "type": "scatterpolar"
           }
          ],
          "scatterpolargl": [
           {
            "marker": {
             "colorbar": {
              "outlinewidth": 0,
              "ticks": ""
             }
            },
            "type": "scatterpolargl"
           }
          ],
          "scatterternary": [
           {
            "marker": {
             "colorbar": {
              "outlinewidth": 0,
              "ticks": ""
             }
            },
            "type": "scatterternary"
           }
          ],
          "surface": [
           {
            "colorbar": {
             "outlinewidth": 0,
             "ticks": ""
            },
            "colorscale": [
             [
              0,
              "#0d0887"
             ],
             [
              0.1111111111111111,
              "#46039f"
             ],
             [
              0.2222222222222222,
              "#7201a8"
             ],
             [
              0.3333333333333333,
              "#9c179e"
             ],
             [
              0.4444444444444444,
              "#bd3786"
             ],
             [
              0.5555555555555556,
              "#d8576b"
             ],
             [
              0.6666666666666666,
              "#ed7953"
             ],
             [
              0.7777777777777778,
              "#fb9f3a"
             ],
             [
              0.8888888888888888,
              "#fdca26"
             ],
             [
              1,
              "#f0f921"
             ]
            ],
            "type": "surface"
           }
          ],
          "table": [
           {
            "cells": {
             "fill": {
              "color": "#EBF0F8"
             },
             "line": {
              "color": "white"
             }
            },
            "header": {
             "fill": {
              "color": "#C8D4E3"
             },
             "line": {
              "color": "white"
             }
            },
            "type": "table"
           }
          ]
         },
         "layout": {
          "annotationdefaults": {
           "arrowcolor": "#2a3f5f",
           "arrowhead": 0,
           "arrowwidth": 1
          },
          "autotypenumbers": "strict",
          "coloraxis": {
           "colorbar": {
            "outlinewidth": 0,
            "ticks": ""
           }
          },
          "colorscale": {
           "diverging": [
            [
             0,
             "#8e0152"
            ],
            [
             0.1,
             "#c51b7d"
            ],
            [
             0.2,
             "#de77ae"
            ],
            [
             0.3,
             "#f1b6da"
            ],
            [
             0.4,
             "#fde0ef"
            ],
            [
             0.5,
             "#f7f7f7"
            ],
            [
             0.6,
             "#e6f5d0"
            ],
            [
             0.7,
             "#b8e186"
            ],
            [
             0.8,
             "#7fbc41"
            ],
            [
             0.9,
             "#4d9221"
            ],
            [
             1,
             "#276419"
            ]
           ],
           "sequential": [
            [
             0,
             "#0d0887"
            ],
            [
             0.1111111111111111,
             "#46039f"
            ],
            [
             0.2222222222222222,
             "#7201a8"
            ],
            [
             0.3333333333333333,
             "#9c179e"
            ],
            [
             0.4444444444444444,
             "#bd3786"
            ],
            [
             0.5555555555555556,
             "#d8576b"
            ],
            [
             0.6666666666666666,
             "#ed7953"
            ],
            [
             0.7777777777777778,
             "#fb9f3a"
            ],
            [
             0.8888888888888888,
             "#fdca26"
            ],
            [
             1,
             "#f0f921"
            ]
           ],
           "sequentialminus": [
            [
             0,
             "#0d0887"
            ],
            [
             0.1111111111111111,
             "#46039f"
            ],
            [
             0.2222222222222222,
             "#7201a8"
            ],
            [
             0.3333333333333333,
             "#9c179e"
            ],
            [
             0.4444444444444444,
             "#bd3786"
            ],
            [
             0.5555555555555556,
             "#d8576b"
            ],
            [
             0.6666666666666666,
             "#ed7953"
            ],
            [
             0.7777777777777778,
             "#fb9f3a"
            ],
            [
             0.8888888888888888,
             "#fdca26"
            ],
            [
             1,
             "#f0f921"
            ]
           ]
          },
          "colorway": [
           "#636efa",
           "#EF553B",
           "#00cc96",
           "#ab63fa",
           "#FFA15A",
           "#19d3f3",
           "#FF6692",
           "#B6E880",
           "#FF97FF",
           "#FECB52"
          ],
          "font": {
           "color": "#2a3f5f"
          },
          "geo": {
           "bgcolor": "white",
           "lakecolor": "white",
           "landcolor": "white",
           "showlakes": true,
           "showland": true,
           "subunitcolor": "#C8D4E3"
          },
          "hoverlabel": {
           "align": "left"
          },
          "hovermode": "closest",
          "mapbox": {
           "style": "light"
          },
          "paper_bgcolor": "white",
          "plot_bgcolor": "white",
          "polar": {
           "angularaxis": {
            "gridcolor": "#EBF0F8",
            "linecolor": "#EBF0F8",
            "ticks": ""
           },
           "bgcolor": "white",
           "radialaxis": {
            "gridcolor": "#EBF0F8",
            "linecolor": "#EBF0F8",
            "ticks": ""
           }
          },
          "scene": {
           "xaxis": {
            "backgroundcolor": "white",
            "gridcolor": "#DFE8F3",
            "gridwidth": 2,
            "linecolor": "#EBF0F8",
            "showbackground": true,
            "ticks": "",
            "zerolinecolor": "#EBF0F8"
           },
           "yaxis": {
            "backgroundcolor": "white",
            "gridcolor": "#DFE8F3",
            "gridwidth": 2,
            "linecolor": "#EBF0F8",
            "showbackground": true,
            "ticks": "",
            "zerolinecolor": "#EBF0F8"
           },
           "zaxis": {
            "backgroundcolor": "white",
            "gridcolor": "#DFE8F3",
            "gridwidth": 2,
            "linecolor": "#EBF0F8",
            "showbackground": true,
            "ticks": "",
            "zerolinecolor": "#EBF0F8"
           }
          },
          "shapedefaults": {
           "line": {
            "color": "#2a3f5f"
           }
          },
          "ternary": {
           "aaxis": {
            "gridcolor": "#DFE8F3",
            "linecolor": "#A2B1C6",
            "ticks": ""
           },
           "baxis": {
            "gridcolor": "#DFE8F3",
            "linecolor": "#A2B1C6",
            "ticks": ""
           },
           "bgcolor": "white",
           "caxis": {
            "gridcolor": "#DFE8F3",
            "linecolor": "#A2B1C6",
            "ticks": ""
           }
          },
          "title": {
           "x": 0.05
          },
          "xaxis": {
           "automargin": true,
           "gridcolor": "#EBF0F8",
           "linecolor": "#EBF0F8",
           "ticks": "",
           "title": {
            "standoff": 15
           },
           "zerolinecolor": "#EBF0F8",
           "zerolinewidth": 2
          },
          "yaxis": {
           "automargin": true,
           "gridcolor": "#EBF0F8",
           "linecolor": "#EBF0F8",
           "ticks": "",
           "title": {
            "standoff": 15
           },
           "zerolinecolor": "#EBF0F8",
           "zerolinewidth": 2
          }
         }
        },
        "title": {
         "font": {
          "size": 20
         },
         "text": "Rendimentos Tributaveis por Centil (Expanded)",
         "x": 0.5,
         "xanchor": "center",
         "y": 0.95,
         "yanchor": "top"
        },
        "updatemenus": [
         {
          "buttons": [
           {
            "args": [
             {
              "yaxis.autorange": true,
              "yaxis.type": "linear"
             }
            ],
            "label": "Linear Scale (Auto)",
            "method": "relayout"
           },
           {
            "args": [
             {
              "yaxis.autorange": true,
              "yaxis.type": "log"
             }
            ],
            "label": "Log Scale",
            "method": "relayout"
           },
           {
            "args": [
             {
              "yaxis.range": [
               0,
               181926817.55600002
              ],
              "yaxis.type": "linear"
             }
            ],
            "label": "Focus on Lower 99.99%",
            "method": "relayout"
           },
           {
            "args": [
             {
              "yaxis.range": [
               148849214.36400002,
               363853635.11200005
              ],
              "yaxis.type": "linear"
             }
            ],
            "label": "Focus on Top 0.01%",
            "method": "relayout"
           }
          ],
          "direction": "right",
          "pad": {
           "r": 10,
           "t": 10
          },
          "showactive": true,
          "type": "buttons",
          "x": 0.1,
          "xanchor": "left",
          "y": 1.1,
          "yanchor": "top"
         }
        ],
        "width": 1200,
        "xaxis": {
         "tickangle": -45,
         "tickmode": "array",
         "ticktext": [
          "0",
          "10",
          "20",
          "30",
          "40",
          "50",
          "60",
          "70",
          "80",
          "90",
          "100",
          "100.0",
          "100.2",
          "100.2",
          "100.4",
          "100.5",
          "100.5",
          "100.7",
          "100.7",
          "100.9",
          "100.10"
         ],
         "tickvals": [
          0,
          10,
          20,
          30,
          40,
          50,
          60,
          70,
          80,
          90,
          100,
          100.1,
          100.2,
          100.3,
          100.4,
          100.5,
          100.6,
          100.7,
          100.8,
          100.9,
          101
         ],
         "title": {
          "text": "Centil"
         }
        },
        "yaxis": {
         "autorange": true,
         "tickformat": ".2f",
         "title": {
          "text": "Rendimentos Tributaveis [R$ milhões]"
         }
        }
       }
      }
     },
     "metadata": {},
     "output_type": "display_data"
    }
   ],
   "source": [
    "import plotly.graph_objects as go\n",
    "import numpy as np\n",
    "\n",
    "def plot_limite_superior_rendimentos_custom(df):\n",
    "    # Create a custom x-axis mapping\n",
    "    def map_centil_x(centil):\n",
    "        if centil <= 99:\n",
    "            return centil\n",
    "        elif 1001 <= centil <= 1009:\n",
    "            return 100 + (centil - 1000) / 10\n",
    "        elif 100101 <= centil <= 100110:\n",
    "            return 100 + 1 + (centil - 100100) / 100\n",
    "    \n",
    "    # Create a custom width mapping\n",
    "    def map_bar_width(centil):\n",
    "        if centil <= 99:\n",
    "            return 0.8  # Full width for main centils\n",
    "        elif 1001 <= centil <= 1009:\n",
    "            return 0.3  # Narrower for first decil of top centil\n",
    "        elif 100101 <= centil <= 100110:\n",
    "            return 0.1  # Very narrow for second decil of top centil\n",
    "        else:\n",
    "            return 0.8  # Default width\n",
    "    \n",
    "    # Create a copy of the dataframe with mapped x-axis and width\n",
    "    df_mapped = df.copy()\n",
    "    df_mapped['x_axis'] = df_mapped['Centil'].apply(map_centil_x)\n",
    "    df_mapped['bar_width'] = df_mapped['Centil'].apply(map_bar_width)\n",
    "    \n",
    "    # Sort by the new x-axis to ensure correct order\n",
    "    df_mapped = df_mapped.sort_values('x_axis')\n",
    "    \n",
    "    # Get the y-column\n",
    "    y_column = 'Rendimentos Tributaveis - Limite Superior da RTB do Centil [R$ milhões]'\n",
    "    \n",
    "    # Print min/max values for debugging\n",
    "    print(f\"Min value: {df_mapped[y_column].min()}\")\n",
    "    print(f\"Max value: {df_mapped[y_column].max()}\")\n",
    "    \n",
    "    # Create two separate dataframes - one for regular values and one for the extreme value\n",
    "    # Find the highest value (likely the top 0.01%)\n",
    "    max_value = df_mapped[y_column].max()\n",
    "    threshold = max_value * 0.5  # Adjust this threshold as needed\n",
    "    \n",
    "    df_regular = df_mapped[df_mapped[y_column] < threshold]\n",
    "    df_extreme = df_mapped[df_mapped[y_column] >= threshold]\n",
    "    \n",
    "    # Create the Plotly figure\n",
    "    fig = go.Figure()\n",
    "    \n",
    "    # Add bars for regular values\n",
    "    fig.add_trace(go.Bar(\n",
    "        x=df_regular['x_axis'], \n",
    "        y=df_regular[y_column],\n",
    "        width=[width if not np.isnan(width) else 0.8 for width in df_regular['bar_width']],\n",
    "        marker_color='rgba(33, 102, 172, 0.8)',  # Blue color\n",
    "        marker_line_color='rgb(33, 102, 172)',\n",
    "        marker_line_width=1.5,\n",
    "        name='Regular Values',\n",
    "        hovertemplate='Centil: %{x}<br>Rendimentos: %{y:.2f} R$ milhões<extra></extra>'\n",
    "    ))\n",
    "    \n",
    "    # Add bars for extreme values with a different color\n",
    "    if not df_extreme.empty:\n",
    "        fig.add_trace(go.Bar(\n",
    "            x=df_extreme['x_axis'], \n",
    "            y=df_extreme[y_column],\n",
    "            width=[width if not np.isnan(width) else 0.8 for width in df_extreme['bar_width']],\n",
    "            marker_color='rgba(255, 0, 0, 0.8)',  # Red color for emphasis\n",
    "            marker_line_color='rgb(200, 0, 0)',\n",
    "            marker_line_width=1.5,\n",
    "            name='Top 0.01%',\n",
    "            hovertemplate='Centil: %{x}<br>Rendimentos: %{y:.2f} R$ milhões<extra></extra>'\n",
    "        ))\n",
    "    \n",
    "    # Create a broken axis effect with two subplots\n",
    "    fig = go.Figure()\n",
    "    \n",
    "    # First subplot for regular values\n",
    "    fig.add_trace(go.Bar(\n",
    "        x=df_mapped['x_axis'], \n",
    "        y=df_mapped[y_column],\n",
    "        width=[width if not np.isnan(width) else 0.8 for width in df_mapped['bar_width']],\n",
    "        marker_color=['rgba(255, 0, 0, 0.8)' if y >= threshold else 'rgba(33, 102, 172, 0.8)' for y in df_mapped[y_column]],\n",
    "        marker_line_color=['rgb(200, 0, 0)' if y >= threshold else 'rgb(33, 102, 172)' for y in df_mapped[y_column]],\n",
    "        marker_line_width=1.5,\n",
    "        hovertemplate='Centil: %{x}<br>Rendimentos: %{y:.2f} R$ milhões<extra></extra>'\n",
    "    ))\n",
    "\n",
    "    # Customize layout with explicit y-axis range\n",
    "    fig.update_layout(\n",
    "        title={\n",
    "            'text': 'Rendimentos Tributaveis por Centil (Expanded)',\n",
    "            'y':0.95,\n",
    "            'x':0.5,\n",
    "            'xanchor': 'center', \n",
    "            'yanchor': 'top',\n",
    "            'font': dict(size=20)\n",
    "        },\n",
    "        xaxis_title='Centil',\n",
    "        yaxis_title='Rendimentos Tributaveis [R$ milhões]',\n",
    "        template='plotly_white',\n",
    "        width=1200,  # Wider figure\n",
    "        height=600,\n",
    "        xaxis=dict(\n",
    "            tickmode='array',\n",
    "            tickvals=list(range(0, 101, 10)) + [100.1, 100.2, 100.3, 100.4, 100.5, 100.6, 100.7, 100.8, 100.9, 101],\n",
    "            ticktext=[str(x) if x <= 100 else f'100.{int((x-100)*10)}' for x in list(range(0, 101, 10)) + [100.1, 100.2, 100.3, 100.4, 100.5, 100.6, 100.7, 100.8, 100.9, 101]],\n",
    "            tickangle=-45\n",
    "        ),\n",
    "        # Set y-axis to auto-range by default\n",
    "        yaxis=dict(\n",
    "            tickformat='.2f',  # Two decimal places\n",
    "            autorange=True\n",
    "        )\n",
    "    )\n",
    "\n",
    "    # Add hover effects\n",
    "    fig.update_traces(\n",
    "        marker_line_width=1.5\n",
    "    )\n",
    "\n",
    "    # Add buttons for different scale options\n",
    "    fig.update_layout(\n",
    "        updatemenus=[\n",
    "            dict(\n",
    "                type=\"buttons\",\n",
    "                direction=\"right\",\n",
    "                buttons=list([\n",
    "                    dict(\n",
    "                        args=[{\"yaxis.type\": \"linear\", \"yaxis.autorange\": True}],\n",
    "                        label=\"Linear Scale (Auto)\",\n",
    "                        method=\"relayout\"\n",
    "                    ),\n",
    "                    dict(\n",
    "                        args=[{\"yaxis.type\": \"log\", \"yaxis.autorange\": True}],\n",
    "                        label=\"Log Scale\",\n",
    "                        method=\"relayout\"\n",
    "                    ),\n",
    "                    dict(\n",
    "                        args=[{\"yaxis.type\": \"linear\", \"yaxis.range\": [0, threshold * 1.1]}],\n",
    "                        label=\"Focus on Lower 99.99%\",\n",
    "                        method=\"relayout\"\n",
    "                    ),\n",
    "                    dict(\n",
    "                        args=[{\"yaxis.type\": \"linear\", \"yaxis.range\": [threshold * 0.9, max_value * 1.1]}],\n",
    "                        label=\"Focus on Top 0.01%\",\n",
    "                        method=\"relayout\"\n",
    "                    )\n",
    "                ]),\n",
    "                pad={\"r\": 10, \"t\": 10},\n",
    "                showactive=True,\n",
    "                x=0.1,\n",
    "                xanchor=\"left\",\n",
    "                y=1.1,\n",
    "                yanchor=\"top\"\n",
    "            ),\n",
    "        ]\n",
    "    )\n",
    "\n",
    "    # Add annotations to highlight the extreme value\n",
    "    if not df_extreme.empty:\n",
    "        for idx, row in df_extreme.iterrows():\n",
    "            fig.add_annotation(\n",
    "                x=row['x_axis'],\n",
    "                y=row[y_column],\n",
    "                text=f\"Top 0.01%: {row[y_column]:.2f}\",\n",
    "                showarrow=True,\n",
    "                arrowhead=1,\n",
    "                ax=0,\n",
    "                ay=-40\n",
    "            )\n",
    "\n",
    "    fig.show()\n",
    "\n",
    "# Usage\n",
    "plot_limite_superior_rendimentos_custom(df_all_info)"
   ]
  },
  {
   "cell_type": "code",
   "execution_count": 67,
   "metadata": {},
   "outputs": [
    {
     "name": "stdout",
     "output_type": "stream",
     "text": [
      "Min value: 100.0\n",
      "Max value: 3520591.77\n"
     ]
    },
    {
     "data": {
      "application/vnd.plotly.v1+json": {
       "config": {
        "plotlyServerURL": "https://plot.ly"
       },
       "data": [
        {
         "hovertemplate": "Centil: %{x}<br>Rendimentos: %{y:.2f} R$ milhões<extra></extra>",
         "marker": {
          "color": "rgba(33, 102, 172, 0.8)",
          "line": {
           "color": "rgb(8, 48, 107)",
           "width": 1.5
          }
         },
         "type": "bar",
         "width": [
          0.8,
          0.8,
          0.8,
          0.8,
          0.8,
          0.8,
          0.8,
          0.8,
          0.8,
          0.8,
          0.8,
          0.8,
          0.8,
          0.8,
          0.8,
          0.8,
          0.8,
          0.8,
          0.8,
          0.8,
          0.8,
          0.8,
          0.8,
          0.8,
          0.8,
          0.8,
          0.8,
          0.8,
          0.8,
          0.8,
          0.8,
          0.8,
          0.8,
          0.8,
          0.8,
          0.8,
          0.8,
          0.8,
          0.8,
          0.8,
          0.8,
          0.8,
          0.8,
          0.8,
          0.8,
          0.8,
          0.8,
          0.8,
          0.8,
          0.8,
          0.8,
          0.8,
          0.8,
          0.8,
          0.8,
          0.8,
          0.8,
          0.8,
          0.8,
          0.8,
          0.8,
          0.8,
          0.8,
          0.8,
          0.8,
          0.8,
          0.8,
          0.8,
          0.8,
          0.8,
          0.8,
          0.8,
          0.8,
          0.8,
          0.8,
          0.8,
          0.8,
          0.8,
          0.8,
          0.8,
          0.8,
          0.8,
          0.8,
          0.8,
          0.8,
          0.8,
          0.8,
          0.8,
          0.8,
          0.8,
          0.8,
          0.8,
          0.8,
          0.8,
          0.8,
          0.8,
          0.8,
          0.8,
          0.8,
          0.3,
          0.3,
          0.3,
          0.3,
          0.3,
          0.3,
          0.3,
          0.3,
          0.3,
          0.1,
          0.1,
          0.1,
          0.1,
          0.1,
          0.1,
          0.1,
          0.1,
          0.1
         ],
         "x": {
          "bdata": "AAAAAAAA8D8AAAAAAAAAQAAAAAAAAAhAAAAAAAAAEEAAAAAAAAAUQAAAAAAAABhAAAAAAAAAHEAAAAAAAAAgQAAAAAAAACJAAAAAAAAAJEAAAAAAAAAmQAAAAAAAAChAAAAAAAAAKkAAAAAAAAAsQAAAAAAAAC5AAAAAAAAAMEAAAAAAAAAxQAAAAAAAADJAAAAAAAAAM0AAAAAAAAA0QAAAAAAAADVAAAAAAAAANkAAAAAAAAA3QAAAAAAAADhAAAAAAAAAOUAAAAAAAAA6QAAAAAAAADtAAAAAAAAAPEAAAAAAAAA9QAAAAAAAAD5AAAAAAAAAP0AAAAAAAABAQAAAAAAAgEBAAAAAAAAAQUAAAAAAAIBBQAAAAAAAAEJAAAAAAACAQkAAAAAAAABDQAAAAAAAgENAAAAAAAAAREAAAAAAAIBEQAAAAAAAAEVAAAAAAACARUAAAAAAAABGQAAAAAAAgEZAAAAAAAAAR0AAAAAAAIBHQAAAAAAAAEhAAAAAAACASEAAAAAAAABJQAAAAAAAgElAAAAAAAAASkAAAAAAAIBKQAAAAAAAAEtAAAAAAACAS0AAAAAAAABMQAAAAAAAgExAAAAAAAAATUAAAAAAAIBNQAAAAAAAAE5AAAAAAACATkAAAAAAAABPQAAAAAAAgE9AAAAAAAAAUEAAAAAAAEBQQAAAAAAAgFBAAAAAAADAUEAAAAAAAABRQAAAAAAAQFFAAAAAAACAUUAAAAAAAMBRQAAAAAAAAFJAAAAAAABAUkAAAAAAAIBSQAAAAAAAwFJAAAAAAAAAU0AAAAAAAEBTQAAAAAAAgFNAAAAAAADAU0AAAAAAAABUQAAAAAAAQFRAAAAAAACAVEAAAAAAAMBUQAAAAAAAAFVAAAAAAABAVUAAAAAAAIBVQAAAAAAAwFVAAAAAAAAAVkAAAAAAAEBWQAAAAAAAgFZAAAAAAADAVkAAAAAAAABXQAAAAAAAQFdAAAAAAACAV0AAAAAAAMBXQAAAAAAAAFhAAAAAAABAWEAAAAAAAIBYQAAAAAAAwFhAZmZmZmYGWUDNzMzMzAxZQDMzMzMzE1lAmpmZmZkZWUAAAAAAACBZQGZmZmZmJllAzczMzMwsWUAzMzMzMzNZQJqZmZmZOVlAcT0K16NAWUDhehSuR0FZQFK4HoXrQVlAw/UoXI9CWUAzMzMzM0NZQKRwPQrXQ1lAFK5H4XpEWUCF61G4HkVZQPYoXI/CRVlA",
          "dtype": "f8"
         },
         "y": {
          "bdata": "AAAAAAAA+H8AAAAAAAD4fwAAAAAAAPh/AAAAAAAA+H8AAAAAAAD4fwAAAAAAAPh/AAAAAAAAWUAAAAAAACCsQAAAAAAAcLdAuB6F6zHSwEDsUbge5XrFQAAAAACAY8hAAAAAAAB7yEAAAAAAAH7IQArXo3D9acpAAAAAAABMzUBmZmZmlgTQQArXo3A9WNFAKVyPwmVO0kAK16NwfYLTQAAAAAAAgtRA9ihcjxJQ1UC4HoXrMQnWQAAAAAAA2tZAzczMzJye10AAAAAAQG/YQAAAAAAAHtlAAAAAAADm2UAAAAAAAKnaQB+F61GYS9tAKVyPwmW420C4HoXrIenbQFK4HoWbdNxAZmZmZjYG3UB7FK5HgX7dQIXrUbguCd5AexSuR7GU3kC4HoXrgSXfQIXrUbjOtd9AmpmZmaEl4ECkcD0K93DgQMP1KFzHvuBAw/UoXC8N4UApXI/C1VzhQAAAAAAAoeFAZmZmZh704UCamZmZkUjiQFyPwvUQmeJAH4XrUejx4kCamZmZUU7jQHE9CtdbrONA16NwPaIM5EAAAAAAIHTkQKRwPQpX1ORASOF6FK4/5UBmZmZm/qvlQHE9CtdDHuZAPQrXo+iU5kDXo3A9ShLnQClcj8JliOdA16NwPVoM6EAfhetRwJLoQIXrUbgmI+lAFK5H4eK56UBSuB6Fy1jqQIXrUbjO9epAhetRuKaf60AAAAAAAFLsQClcj8IVDO1AuB6F6wnA7UC4HoXrqYvuQArXo3B1Xu9AAAAAAAAd8ECamZmZAY/wQHE9Ctf/DPFA7FG4HkmO8UCamZmZlfzxQKRwPQr/jvJAexSuR6kz80BI4XoU7ujzQIXrUbhypvRAw/UoXJty9UBmZmZmrkr2QOxRuB6NRPdAPQrXo/RO+EDhehSue3r5QNejcD0GvvpA9ihcjyIs/EDsUbgeGbj9QK5H4Xq0dP9AFK5H4YC9AEGkcD0KtfcBQbgeheshXANBH4XrUaQWBUHD9ShcmVwHQVyPwvV2VApBAAAAADgfDkEpXI/Cfx0SQXsUrkfv7BdBpHA9CkG+GEFcj8L1NsYZQSlcj8LYsRpBZmZmZiXiG0GF61G4v14dQTMzMzM5Vh9BZmZmZilLIUGuR+H6L0QkQT0K16O3mCtB7FG4nvAVLUHhehQurssuQRSuR6GafjBBPQrXo47rMUGF61H4xskzQXE9ChcvgjZBCtejcBLGOkGamZm58kZBQSlcj+In3EpB",
          "dtype": "f8"
         }
        }
       ],
       "layout": {
        "height": 600,
        "template": {
         "data": {
          "bar": [
           {
            "error_x": {
             "color": "#2a3f5f"
            },
            "error_y": {
             "color": "#2a3f5f"
            },
            "marker": {
             "line": {
              "color": "white",
              "width": 0.5
             },
             "pattern": {
              "fillmode": "overlay",
              "size": 10,
              "solidity": 0.2
             }
            },
            "type": "bar"
           }
          ],
          "barpolar": [
           {
            "marker": {
             "line": {
              "color": "white",
              "width": 0.5
             },
             "pattern": {
              "fillmode": "overlay",
              "size": 10,
              "solidity": 0.2
             }
            },
            "type": "barpolar"
           }
          ],
          "carpet": [
           {
            "aaxis": {
             "endlinecolor": "#2a3f5f",
             "gridcolor": "#C8D4E3",
             "linecolor": "#C8D4E3",
             "minorgridcolor": "#C8D4E3",
             "startlinecolor": "#2a3f5f"
            },
            "baxis": {
             "endlinecolor": "#2a3f5f",
             "gridcolor": "#C8D4E3",
             "linecolor": "#C8D4E3",
             "minorgridcolor": "#C8D4E3",
             "startlinecolor": "#2a3f5f"
            },
            "type": "carpet"
           }
          ],
          "choropleth": [
           {
            "colorbar": {
             "outlinewidth": 0,
             "ticks": ""
            },
            "type": "choropleth"
           }
          ],
          "contour": [
           {
            "colorbar": {
             "outlinewidth": 0,
             "ticks": ""
            },
            "colorscale": [
             [
              0,
              "#0d0887"
             ],
             [
              0.1111111111111111,
              "#46039f"
             ],
             [
              0.2222222222222222,
              "#7201a8"
             ],
             [
              0.3333333333333333,
              "#9c179e"
             ],
             [
              0.4444444444444444,
              "#bd3786"
             ],
             [
              0.5555555555555556,
              "#d8576b"
             ],
             [
              0.6666666666666666,
              "#ed7953"
             ],
             [
              0.7777777777777778,
              "#fb9f3a"
             ],
             [
              0.8888888888888888,
              "#fdca26"
             ],
             [
              1,
              "#f0f921"
             ]
            ],
            "type": "contour"
           }
          ],
          "contourcarpet": [
           {
            "colorbar": {
             "outlinewidth": 0,
             "ticks": ""
            },
            "type": "contourcarpet"
           }
          ],
          "heatmap": [
           {
            "colorbar": {
             "outlinewidth": 0,
             "ticks": ""
            },
            "colorscale": [
             [
              0,
              "#0d0887"
             ],
             [
              0.1111111111111111,
              "#46039f"
             ],
             [
              0.2222222222222222,
              "#7201a8"
             ],
             [
              0.3333333333333333,
              "#9c179e"
             ],
             [
              0.4444444444444444,
              "#bd3786"
             ],
             [
              0.5555555555555556,
              "#d8576b"
             ],
             [
              0.6666666666666666,
              "#ed7953"
             ],
             [
              0.7777777777777778,
              "#fb9f3a"
             ],
             [
              0.8888888888888888,
              "#fdca26"
             ],
             [
              1,
              "#f0f921"
             ]
            ],
            "type": "heatmap"
           }
          ],
          "histogram": [
           {
            "marker": {
             "pattern": {
              "fillmode": "overlay",
              "size": 10,
              "solidity": 0.2
             }
            },
            "type": "histogram"
           }
          ],
          "histogram2d": [
           {
            "colorbar": {
             "outlinewidth": 0,
             "ticks": ""
            },
            "colorscale": [
             [
              0,
              "#0d0887"
             ],
             [
              0.1111111111111111,
              "#46039f"
             ],
             [
              0.2222222222222222,
              "#7201a8"
             ],
             [
              0.3333333333333333,
              "#9c179e"
             ],
             [
              0.4444444444444444,
              "#bd3786"
             ],
             [
              0.5555555555555556,
              "#d8576b"
             ],
             [
              0.6666666666666666,
              "#ed7953"
             ],
             [
              0.7777777777777778,
              "#fb9f3a"
             ],
             [
              0.8888888888888888,
              "#fdca26"
             ],
             [
              1,
              "#f0f921"
             ]
            ],
            "type": "histogram2d"
           }
          ],
          "histogram2dcontour": [
           {
            "colorbar": {
             "outlinewidth": 0,
             "ticks": ""
            },
            "colorscale": [
             [
              0,
              "#0d0887"
             ],
             [
              0.1111111111111111,
              "#46039f"
             ],
             [
              0.2222222222222222,
              "#7201a8"
             ],
             [
              0.3333333333333333,
              "#9c179e"
             ],
             [
              0.4444444444444444,
              "#bd3786"
             ],
             [
              0.5555555555555556,
              "#d8576b"
             ],
             [
              0.6666666666666666,
              "#ed7953"
             ],
             [
              0.7777777777777778,
              "#fb9f3a"
             ],
             [
              0.8888888888888888,
              "#fdca26"
             ],
             [
              1,
              "#f0f921"
             ]
            ],
            "type": "histogram2dcontour"
           }
          ],
          "mesh3d": [
           {
            "colorbar": {
             "outlinewidth": 0,
             "ticks": ""
            },
            "type": "mesh3d"
           }
          ],
          "parcoords": [
           {
            "line": {
             "colorbar": {
              "outlinewidth": 0,
              "ticks": ""
             }
            },
            "type": "parcoords"
           }
          ],
          "pie": [
           {
            "automargin": true,
            "type": "pie"
           }
          ],
          "scatter": [
           {
            "fillpattern": {
             "fillmode": "overlay",
             "size": 10,
             "solidity": 0.2
            },
            "type": "scatter"
           }
          ],
          "scatter3d": [
           {
            "line": {
             "colorbar": {
              "outlinewidth": 0,
              "ticks": ""
             }
            },
            "marker": {
             "colorbar": {
              "outlinewidth": 0,
              "ticks": ""
             }
            },
            "type": "scatter3d"
           }
          ],
          "scattercarpet": [
           {
            "marker": {
             "colorbar": {
              "outlinewidth": 0,
              "ticks": ""
             }
            },
            "type": "scattercarpet"
           }
          ],
          "scattergeo": [
           {
            "marker": {
             "colorbar": {
              "outlinewidth": 0,
              "ticks": ""
             }
            },
            "type": "scattergeo"
           }
          ],
          "scattergl": [
           {
            "marker": {
             "colorbar": {
              "outlinewidth": 0,
              "ticks": ""
             }
            },
            "type": "scattergl"
           }
          ],
          "scattermap": [
           {
            "marker": {
             "colorbar": {
              "outlinewidth": 0,
              "ticks": ""
             }
            },
            "type": "scattermap"
           }
          ],
          "scattermapbox": [
           {
            "marker": {
             "colorbar": {
              "outlinewidth": 0,
              "ticks": ""
             }
            },
            "type": "scattermapbox"
           }
          ],
          "scatterpolar": [
           {
            "marker": {
             "colorbar": {
              "outlinewidth": 0,
              "ticks": ""
             }
            },
            "type": "scatterpolar"
           }
          ],
          "scatterpolargl": [
           {
            "marker": {
             "colorbar": {
              "outlinewidth": 0,
              "ticks": ""
             }
            },
            "type": "scatterpolargl"
           }
          ],
          "scatterternary": [
           {
            "marker": {
             "colorbar": {
              "outlinewidth": 0,
              "ticks": ""
             }
            },
            "type": "scatterternary"
           }
          ],
          "surface": [
           {
            "colorbar": {
             "outlinewidth": 0,
             "ticks": ""
            },
            "colorscale": [
             [
              0,
              "#0d0887"
             ],
             [
              0.1111111111111111,
              "#46039f"
             ],
             [
              0.2222222222222222,
              "#7201a8"
             ],
             [
              0.3333333333333333,
              "#9c179e"
             ],
             [
              0.4444444444444444,
              "#bd3786"
             ],
             [
              0.5555555555555556,
              "#d8576b"
             ],
             [
              0.6666666666666666,
              "#ed7953"
             ],
             [
              0.7777777777777778,
              "#fb9f3a"
             ],
             [
              0.8888888888888888,
              "#fdca26"
             ],
             [
              1,
              "#f0f921"
             ]
            ],
            "type": "surface"
           }
          ],
          "table": [
           {
            "cells": {
             "fill": {
              "color": "#EBF0F8"
             },
             "line": {
              "color": "white"
             }
            },
            "header": {
             "fill": {
              "color": "#C8D4E3"
             },
             "line": {
              "color": "white"
             }
            },
            "type": "table"
           }
          ]
         },
         "layout": {
          "annotationdefaults": {
           "arrowcolor": "#2a3f5f",
           "arrowhead": 0,
           "arrowwidth": 1
          },
          "autotypenumbers": "strict",
          "coloraxis": {
           "colorbar": {
            "outlinewidth": 0,
            "ticks": ""
           }
          },
          "colorscale": {
           "diverging": [
            [
             0,
             "#8e0152"
            ],
            [
             0.1,
             "#c51b7d"
            ],
            [
             0.2,
             "#de77ae"
            ],
            [
             0.3,
             "#f1b6da"
            ],
            [
             0.4,
             "#fde0ef"
            ],
            [
             0.5,
             "#f7f7f7"
            ],
            [
             0.6,
             "#e6f5d0"
            ],
            [
             0.7,
             "#b8e186"
            ],
            [
             0.8,
             "#7fbc41"
            ],
            [
             0.9,
             "#4d9221"
            ],
            [
             1,
             "#276419"
            ]
           ],
           "sequential": [
            [
             0,
             "#0d0887"
            ],
            [
             0.1111111111111111,
             "#46039f"
            ],
            [
             0.2222222222222222,
             "#7201a8"
            ],
            [
             0.3333333333333333,
             "#9c179e"
            ],
            [
             0.4444444444444444,
             "#bd3786"
            ],
            [
             0.5555555555555556,
             "#d8576b"
            ],
            [
             0.6666666666666666,
             "#ed7953"
            ],
            [
             0.7777777777777778,
             "#fb9f3a"
            ],
            [
             0.8888888888888888,
             "#fdca26"
            ],
            [
             1,
             "#f0f921"
            ]
           ],
           "sequentialminus": [
            [
             0,
             "#0d0887"
            ],
            [
             0.1111111111111111,
             "#46039f"
            ],
            [
             0.2222222222222222,
             "#7201a8"
            ],
            [
             0.3333333333333333,
             "#9c179e"
            ],
            [
             0.4444444444444444,
             "#bd3786"
            ],
            [
             0.5555555555555556,
             "#d8576b"
            ],
            [
             0.6666666666666666,
             "#ed7953"
            ],
            [
             0.7777777777777778,
             "#fb9f3a"
            ],
            [
             0.8888888888888888,
             "#fdca26"
            ],
            [
             1,
             "#f0f921"
            ]
           ]
          },
          "colorway": [
           "#636efa",
           "#EF553B",
           "#00cc96",
           "#ab63fa",
           "#FFA15A",
           "#19d3f3",
           "#FF6692",
           "#B6E880",
           "#FF97FF",
           "#FECB52"
          ],
          "font": {
           "color": "#2a3f5f"
          },
          "geo": {
           "bgcolor": "white",
           "lakecolor": "white",
           "landcolor": "white",
           "showlakes": true,
           "showland": true,
           "subunitcolor": "#C8D4E3"
          },
          "hoverlabel": {
           "align": "left"
          },
          "hovermode": "closest",
          "mapbox": {
           "style": "light"
          },
          "paper_bgcolor": "white",
          "plot_bgcolor": "white",
          "polar": {
           "angularaxis": {
            "gridcolor": "#EBF0F8",
            "linecolor": "#EBF0F8",
            "ticks": ""
           },
           "bgcolor": "white",
           "radialaxis": {
            "gridcolor": "#EBF0F8",
            "linecolor": "#EBF0F8",
            "ticks": ""
           }
          },
          "scene": {
           "xaxis": {
            "backgroundcolor": "white",
            "gridcolor": "#DFE8F3",
            "gridwidth": 2,
            "linecolor": "#EBF0F8",
            "showbackground": true,
            "ticks": "",
            "zerolinecolor": "#EBF0F8"
           },
           "yaxis": {
            "backgroundcolor": "white",
            "gridcolor": "#DFE8F3",
            "gridwidth": 2,
            "linecolor": "#EBF0F8",
            "showbackground": true,
            "ticks": "",
            "zerolinecolor": "#EBF0F8"
           },
           "zaxis": {
            "backgroundcolor": "white",
            "gridcolor": "#DFE8F3",
            "gridwidth": 2,
            "linecolor": "#EBF0F8",
            "showbackground": true,
            "ticks": "",
            "zerolinecolor": "#EBF0F8"
           }
          },
          "shapedefaults": {
           "line": {
            "color": "#2a3f5f"
           }
          },
          "ternary": {
           "aaxis": {
            "gridcolor": "#DFE8F3",
            "linecolor": "#A2B1C6",
            "ticks": ""
           },
           "baxis": {
            "gridcolor": "#DFE8F3",
            "linecolor": "#A2B1C6",
            "ticks": ""
           },
           "bgcolor": "white",
           "caxis": {
            "gridcolor": "#DFE8F3",
            "linecolor": "#A2B1C6",
            "ticks": ""
           }
          },
          "title": {
           "x": 0.05
          },
          "xaxis": {
           "automargin": true,
           "gridcolor": "#EBF0F8",
           "linecolor": "#EBF0F8",
           "ticks": "",
           "title": {
            "standoff": 15
           },
           "zerolinecolor": "#EBF0F8",
           "zerolinewidth": 2
          },
          "yaxis": {
           "automargin": true,
           "gridcolor": "#EBF0F8",
           "linecolor": "#EBF0F8",
           "ticks": "",
           "title": {
            "standoff": 15
           },
           "zerolinecolor": "#EBF0F8",
           "zerolinewidth": 2
          }
         }
        },
        "title": {
         "font": {
          "size": 20
         },
         "text": "Rendimentos Tributaveis por Centil (Expanded)",
         "x": 0.5,
         "xanchor": "center",
         "y": 0.95,
         "yanchor": "top"
        },
        "updatemenus": [
         {
          "buttons": [
           {
            "args": [
             {
              "yaxis.range": [
               0,
               3872650.947
              ],
              "yaxis.type": "linear"
             }
            ],
            "label": "Linear Scale",
            "method": "relayout"
           },
           {
            "args": [
             {
              "yaxis.autorange": true,
              "yaxis.type": "log"
             }
            ],
            "label": "Log Scale",
            "method": "relayout"
           }
          ],
          "direction": "right",
          "pad": {
           "r": 10,
           "t": 10
          },
          "showactive": true,
          "type": "buttons",
          "x": 0.1,
          "xanchor": "left",
          "y": 1.1,
          "yanchor": "top"
         }
        ],
        "width": 1200,
        "xaxis": {
         "tickangle": -45,
         "tickmode": "array",
         "ticktext": [
          "0",
          "10",
          "20",
          "30",
          "40",
          "50",
          "60",
          "70",
          "80",
          "90",
          "100",
          "100.0",
          "100.2",
          "100.2",
          "100.4",
          "100.5",
          "100.5",
          "100.7",
          "100.7",
          "100.9",
          "100.10"
         ],
         "tickvals": [
          0,
          10,
          20,
          30,
          40,
          50,
          60,
          70,
          80,
          90,
          100,
          100.1,
          100.2,
          100.3,
          100.4,
          100.5,
          100.6,
          100.7,
          100.8,
          100.9,
          101
         ],
         "title": {
          "text": "Centil"
         }
        },
        "yaxis": {
         "autorange": false,
         "range": [
          0,
          3696621.3585
         ],
         "tickformat": ".2f",
         "title": {
          "text": "Rendimentos Tributaveis [R$ milhões]"
         }
        }
       }
      }
     },
     "metadata": {},
     "output_type": "display_data"
    }
   ],
   "source": [
    "plot_limite_superior_rendimentos_custom(df_filtered)"
   ]
  },
  {
   "cell_type": "code",
   "execution_count": 43,
   "metadata": {},
   "outputs": [],
   "source": [
    "df_last_centil = df20br[(df20br['Centil'] > 100) & (df20br['Centil'] < 10010)]\n",
    "df_last_centil = create_one_indexed_df(df_last_centil)"
   ]
  },
  {
   "cell_type": "code",
   "execution_count": 12,
   "metadata": {},
   "outputs": [],
   "source": [
    "df_last_milezil_without_last = df20br[(df20br['Centil'] > 100000) & (df20br['Centil'] < 100110)]\n",
    "df_last_milezil_without_last = create_one_indexed_df(df_last_milezil_without_last)"
   ]
  },
  {
   "cell_type": "code",
   "execution_count": 13,
   "metadata": {},
   "outputs": [],
   "source": [
    "df_last_milezil = df20br[(df20br['Centil'] > 100000)]\n",
    "df_last_milezil = create_one_indexed_df(df_last_milezil)"
   ]
  },
  {
   "cell_type": "code",
   "execution_count": 14,
   "metadata": {},
   "outputs": [],
   "source": [
    "df_100centil = df20br[df20br['Centil'] < 101]\n",
    "df_100centil = create_one_indexed_df(df_100centil)"
   ]
  },
  {
   "cell_type": "code",
   "execution_count": 15,
   "metadata": {},
   "outputs": [
    {
     "data": {
      "application/vnd.plotly.v1+json": {
       "config": {
        "plotlyServerURL": "https://plot.ly"
       },
       "data": [
        {
         "hovertemplate": "Centil=%{x}<br>Renda Igualitária=%{y}<extra></extra>",
         "legendgroup": "",
         "line": {
          "color": "#636efa",
          "dash": "solid"
         },
         "marker": {
          "symbol": "circle"
         },
         "mode": "lines",
         "name": "",
         "orientation": "v",
         "showlegend": false,
         "type": "scatter",
         "x": {
          "bdata": "AQIDBAUGBwgJCgsMDQ4PEBESExQVFhcYGRobHB0eHyAhIiMkJSYnKCkqKywtLi8wMTIzNDU2Nzg5Ojs8PT4/QEFCQ0RFRkdISUpLTE1OT1BRUlNUVVZXWFlaW1xdXl9gYWJjZA==",
          "dtype": "i1"
         },
         "xaxis": "x",
         "y": {
          "bdata": "AAAAAAAAWUAAAAAAAABZQAAAAAAAAFlAAAAAAAAAWUAAAAAAAABZQAAAAAAAAFlAAAAAAAAAWUAAAAAAAABZQAAAAAAAAFlAAAAAAAAAWUAAAAAAAABZQAAAAAAAAFlAAAAAAAAAWUAAAAAAAABZQAAAAAAAAFlAAAAAAAAAWUAAAAAAAABZQAAAAAAAAFlAAAAAAAAAWUAAAAAAAABZQAAAAAAAAFlAAAAAAAAAWUAAAAAAAABZQAAAAAAAAFlAAAAAAAAAWUAAAAAAAABZQAAAAAAAAFlAAAAAAAAAWUAAAAAAAABZQAAAAAAAAFlAAAAAAAAAWUAAAAAAAABZQAAAAAAAAFlAAAAAAAAAWUAAAAAAAABZQAAAAAAAAFlAAAAAAAAAWUAAAAAAAABZQAAAAAAAAFlAAAAAAAAAWUAAAAAAAABZQAAAAAAAAFlAAAAAAAAAWUAAAAAAAABZQAAAAAAAAFlAAAAAAAAAWUAAAAAAAABZQAAAAAAAAFlAAAAAAAAAWUAAAAAAAABZQAAAAAAAAFlAAAAAAAAAWUAAAAAAAABZQAAAAAAAAFlAAAAAAAAAWUAAAAAAAABZQAAAAAAAAFlAAAAAAAAAWUAAAAAAAABZQAAAAAAAAFlAAAAAAAAAWUAAAAAAAABZQAAAAAAAAFlAAAAAAAAAWUAAAAAAAABZQAAAAAAAAFlAAAAAAAAAWUAAAAAAAABZQAAAAAAAAFlAAAAAAAAAWUAAAAAAAABZQAAAAAAAAFlAAAAAAAAAWUAAAAAAAABZQAAAAAAAAFlAAAAAAAAAWUAAAAAAAABZQAAAAAAAAFlAAAAAAAAAWUAAAAAAAABZQAAAAAAAAFlAAAAAAAAAWUAAAAAAAABZQAAAAAAAAFlAAAAAAAAAWUAAAAAAAABZQAAAAAAAAFlAAAAAAAAAWUAAAAAAAABZQAAAAAAAAFlAAAAAAAAAWUAAAAAAAABZQAAAAAAAAFlAAAAAAAAAWUAAAAAAAABZQAAAAAAAAFlAAAAAAAAAWUAAAAAAAABZQAAAAAAAAFlAAAAAAAAAWUA=",
          "dtype": "f8"
         },
         "yaxis": "y"
        }
       ],
       "layout": {
        "legend": {
         "tracegroupgap": 0
        },
        "template": {
         "data": {
          "bar": [
           {
            "error_x": {
             "color": "#2a3f5f"
            },
            "error_y": {
             "color": "#2a3f5f"
            },
            "marker": {
             "line": {
              "color": "white",
              "width": 0.5
             },
             "pattern": {
              "fillmode": "overlay",
              "size": 10,
              "solidity": 0.2
             }
            },
            "type": "bar"
           }
          ],
          "barpolar": [
           {
            "marker": {
             "line": {
              "color": "white",
              "width": 0.5
             },
             "pattern": {
              "fillmode": "overlay",
              "size": 10,
              "solidity": 0.2
             }
            },
            "type": "barpolar"
           }
          ],
          "carpet": [
           {
            "aaxis": {
             "endlinecolor": "#2a3f5f",
             "gridcolor": "#C8D4E3",
             "linecolor": "#C8D4E3",
             "minorgridcolor": "#C8D4E3",
             "startlinecolor": "#2a3f5f"
            },
            "baxis": {
             "endlinecolor": "#2a3f5f",
             "gridcolor": "#C8D4E3",
             "linecolor": "#C8D4E3",
             "minorgridcolor": "#C8D4E3",
             "startlinecolor": "#2a3f5f"
            },
            "type": "carpet"
           }
          ],
          "choropleth": [
           {
            "colorbar": {
             "outlinewidth": 0,
             "ticks": ""
            },
            "type": "choropleth"
           }
          ],
          "contour": [
           {
            "colorbar": {
             "outlinewidth": 0,
             "ticks": ""
            },
            "colorscale": [
             [
              0,
              "#0d0887"
             ],
             [
              0.1111111111111111,
              "#46039f"
             ],
             [
              0.2222222222222222,
              "#7201a8"
             ],
             [
              0.3333333333333333,
              "#9c179e"
             ],
             [
              0.4444444444444444,
              "#bd3786"
             ],
             [
              0.5555555555555556,
              "#d8576b"
             ],
             [
              0.6666666666666666,
              "#ed7953"
             ],
             [
              0.7777777777777778,
              "#fb9f3a"
             ],
             [
              0.8888888888888888,
              "#fdca26"
             ],
             [
              1,
              "#f0f921"
             ]
            ],
            "type": "contour"
           }
          ],
          "contourcarpet": [
           {
            "colorbar": {
             "outlinewidth": 0,
             "ticks": ""
            },
            "type": "contourcarpet"
           }
          ],
          "heatmap": [
           {
            "colorbar": {
             "outlinewidth": 0,
             "ticks": ""
            },
            "colorscale": [
             [
              0,
              "#0d0887"
             ],
             [
              0.1111111111111111,
              "#46039f"
             ],
             [
              0.2222222222222222,
              "#7201a8"
             ],
             [
              0.3333333333333333,
              "#9c179e"
             ],
             [
              0.4444444444444444,
              "#bd3786"
             ],
             [
              0.5555555555555556,
              "#d8576b"
             ],
             [
              0.6666666666666666,
              "#ed7953"
             ],
             [
              0.7777777777777778,
              "#fb9f3a"
             ],
             [
              0.8888888888888888,
              "#fdca26"
             ],
             [
              1,
              "#f0f921"
             ]
            ],
            "type": "heatmap"
           }
          ],
          "histogram": [
           {
            "marker": {
             "pattern": {
              "fillmode": "overlay",
              "size": 10,
              "solidity": 0.2
             }
            },
            "type": "histogram"
           }
          ],
          "histogram2d": [
           {
            "colorbar": {
             "outlinewidth": 0,
             "ticks": ""
            },
            "colorscale": [
             [
              0,
              "#0d0887"
             ],
             [
              0.1111111111111111,
              "#46039f"
             ],
             [
              0.2222222222222222,
              "#7201a8"
             ],
             [
              0.3333333333333333,
              "#9c179e"
             ],
             [
              0.4444444444444444,
              "#bd3786"
             ],
             [
              0.5555555555555556,
              "#d8576b"
             ],
             [
              0.6666666666666666,
              "#ed7953"
             ],
             [
              0.7777777777777778,
              "#fb9f3a"
             ],
             [
              0.8888888888888888,
              "#fdca26"
             ],
             [
              1,
              "#f0f921"
             ]
            ],
            "type": "histogram2d"
           }
          ],
          "histogram2dcontour": [
           {
            "colorbar": {
             "outlinewidth": 0,
             "ticks": ""
            },
            "colorscale": [
             [
              0,
              "#0d0887"
             ],
             [
              0.1111111111111111,
              "#46039f"
             ],
             [
              0.2222222222222222,
              "#7201a8"
             ],
             [
              0.3333333333333333,
              "#9c179e"
             ],
             [
              0.4444444444444444,
              "#bd3786"
             ],
             [
              0.5555555555555556,
              "#d8576b"
             ],
             [
              0.6666666666666666,
              "#ed7953"
             ],
             [
              0.7777777777777778,
              "#fb9f3a"
             ],
             [
              0.8888888888888888,
              "#fdca26"
             ],
             [
              1,
              "#f0f921"
             ]
            ],
            "type": "histogram2dcontour"
           }
          ],
          "mesh3d": [
           {
            "colorbar": {
             "outlinewidth": 0,
             "ticks": ""
            },
            "type": "mesh3d"
           }
          ],
          "parcoords": [
           {
            "line": {
             "colorbar": {
              "outlinewidth": 0,
              "ticks": ""
             }
            },
            "type": "parcoords"
           }
          ],
          "pie": [
           {
            "automargin": true,
            "type": "pie"
           }
          ],
          "scatter": [
           {
            "fillpattern": {
             "fillmode": "overlay",
             "size": 10,
             "solidity": 0.2
            },
            "type": "scatter"
           }
          ],
          "scatter3d": [
           {
            "line": {
             "colorbar": {
              "outlinewidth": 0,
              "ticks": ""
             }
            },
            "marker": {
             "colorbar": {
              "outlinewidth": 0,
              "ticks": ""
             }
            },
            "type": "scatter3d"
           }
          ],
          "scattercarpet": [
           {
            "marker": {
             "colorbar": {
              "outlinewidth": 0,
              "ticks": ""
             }
            },
            "type": "scattercarpet"
           }
          ],
          "scattergeo": [
           {
            "marker": {
             "colorbar": {
              "outlinewidth": 0,
              "ticks": ""
             }
            },
            "type": "scattergeo"
           }
          ],
          "scattergl": [
           {
            "marker": {
             "colorbar": {
              "outlinewidth": 0,
              "ticks": ""
             }
            },
            "type": "scattergl"
           }
          ],
          "scattermap": [
           {
            "marker": {
             "colorbar": {
              "outlinewidth": 0,
              "ticks": ""
             }
            },
            "type": "scattermap"
           }
          ],
          "scattermapbox": [
           {
            "marker": {
             "colorbar": {
              "outlinewidth": 0,
              "ticks": ""
             }
            },
            "type": "scattermapbox"
           }
          ],
          "scatterpolar": [
           {
            "marker": {
             "colorbar": {
              "outlinewidth": 0,
              "ticks": ""
             }
            },
            "type": "scatterpolar"
           }
          ],
          "scatterpolargl": [
           {
            "marker": {
             "colorbar": {
              "outlinewidth": 0,
              "ticks": ""
             }
            },
            "type": "scatterpolargl"
           }
          ],
          "scatterternary": [
           {
            "marker": {
             "colorbar": {
              "outlinewidth": 0,
              "ticks": ""
             }
            },
            "type": "scatterternary"
           }
          ],
          "surface": [
           {
            "colorbar": {
             "outlinewidth": 0,
             "ticks": ""
            },
            "colorscale": [
             [
              0,
              "#0d0887"
             ],
             [
              0.1111111111111111,
              "#46039f"
             ],
             [
              0.2222222222222222,
              "#7201a8"
             ],
             [
              0.3333333333333333,
              "#9c179e"
             ],
             [
              0.4444444444444444,
              "#bd3786"
             ],
             [
              0.5555555555555556,
              "#d8576b"
             ],
             [
              0.6666666666666666,
              "#ed7953"
             ],
             [
              0.7777777777777778,
              "#fb9f3a"
             ],
             [
              0.8888888888888888,
              "#fdca26"
             ],
             [
              1,
              "#f0f921"
             ]
            ],
            "type": "surface"
           }
          ],
          "table": [
           {
            "cells": {
             "fill": {
              "color": "#EBF0F8"
             },
             "line": {
              "color": "white"
             }
            },
            "header": {
             "fill": {
              "color": "#C8D4E3"
             },
             "line": {
              "color": "white"
             }
            },
            "type": "table"
           }
          ]
         },
         "layout": {
          "annotationdefaults": {
           "arrowcolor": "#2a3f5f",
           "arrowhead": 0,
           "arrowwidth": 1
          },
          "autotypenumbers": "strict",
          "coloraxis": {
           "colorbar": {
            "outlinewidth": 0,
            "ticks": ""
           }
          },
          "colorscale": {
           "diverging": [
            [
             0,
             "#8e0152"
            ],
            [
             0.1,
             "#c51b7d"
            ],
            [
             0.2,
             "#de77ae"
            ],
            [
             0.3,
             "#f1b6da"
            ],
            [
             0.4,
             "#fde0ef"
            ],
            [
             0.5,
             "#f7f7f7"
            ],
            [
             0.6,
             "#e6f5d0"
            ],
            [
             0.7,
             "#b8e186"
            ],
            [
             0.8,
             "#7fbc41"
            ],
            [
             0.9,
             "#4d9221"
            ],
            [
             1,
             "#276419"
            ]
           ],
           "sequential": [
            [
             0,
             "#0d0887"
            ],
            [
             0.1111111111111111,
             "#46039f"
            ],
            [
             0.2222222222222222,
             "#7201a8"
            ],
            [
             0.3333333333333333,
             "#9c179e"
            ],
            [
             0.4444444444444444,
             "#bd3786"
            ],
            [
             0.5555555555555556,
             "#d8576b"
            ],
            [
             0.6666666666666666,
             "#ed7953"
            ],
            [
             0.7777777777777778,
             "#fb9f3a"
            ],
            [
             0.8888888888888888,
             "#fdca26"
            ],
            [
             1,
             "#f0f921"
            ]
           ],
           "sequentialminus": [
            [
             0,
             "#0d0887"
            ],
            [
             0.1111111111111111,
             "#46039f"
            ],
            [
             0.2222222222222222,
             "#7201a8"
            ],
            [
             0.3333333333333333,
             "#9c179e"
            ],
            [
             0.4444444444444444,
             "#bd3786"
            ],
            [
             0.5555555555555556,
             "#d8576b"
            ],
            [
             0.6666666666666666,
             "#ed7953"
            ],
            [
             0.7777777777777778,
             "#fb9f3a"
            ],
            [
             0.8888888888888888,
             "#fdca26"
            ],
            [
             1,
             "#f0f921"
            ]
           ]
          },
          "colorway": [
           "#636efa",
           "#EF553B",
           "#00cc96",
           "#ab63fa",
           "#FFA15A",
           "#19d3f3",
           "#FF6692",
           "#B6E880",
           "#FF97FF",
           "#FECB52"
          ],
          "font": {
           "color": "#2a3f5f"
          },
          "geo": {
           "bgcolor": "white",
           "lakecolor": "white",
           "landcolor": "white",
           "showlakes": true,
           "showland": true,
           "subunitcolor": "#C8D4E3"
          },
          "hoverlabel": {
           "align": "left"
          },
          "hovermode": "closest",
          "mapbox": {
           "style": "light"
          },
          "paper_bgcolor": "white",
          "plot_bgcolor": "white",
          "polar": {
           "angularaxis": {
            "gridcolor": "#EBF0F8",
            "linecolor": "#EBF0F8",
            "ticks": ""
           },
           "bgcolor": "white",
           "radialaxis": {
            "gridcolor": "#EBF0F8",
            "linecolor": "#EBF0F8",
            "ticks": ""
           }
          },
          "scene": {
           "xaxis": {
            "backgroundcolor": "white",
            "gridcolor": "#DFE8F3",
            "gridwidth": 2,
            "linecolor": "#EBF0F8",
            "showbackground": true,
            "ticks": "",
            "zerolinecolor": "#EBF0F8"
           },
           "yaxis": {
            "backgroundcolor": "white",
            "gridcolor": "#DFE8F3",
            "gridwidth": 2,
            "linecolor": "#EBF0F8",
            "showbackground": true,
            "ticks": "",
            "zerolinecolor": "#EBF0F8"
           },
           "zaxis": {
            "backgroundcolor": "white",
            "gridcolor": "#DFE8F3",
            "gridwidth": 2,
            "linecolor": "#EBF0F8",
            "showbackground": true,
            "ticks": "",
            "zerolinecolor": "#EBF0F8"
           }
          },
          "shapedefaults": {
           "line": {
            "color": "#2a3f5f"
           }
          },
          "ternary": {
           "aaxis": {
            "gridcolor": "#DFE8F3",
            "linecolor": "#A2B1C6",
            "ticks": ""
           },
           "baxis": {
            "gridcolor": "#DFE8F3",
            "linecolor": "#A2B1C6",
            "ticks": ""
           },
           "bgcolor": "white",
           "caxis": {
            "gridcolor": "#DFE8F3",
            "linecolor": "#A2B1C6",
            "ticks": ""
           }
          },
          "title": {
           "x": 0.05
          },
          "xaxis": {
           "automargin": true,
           "gridcolor": "#EBF0F8",
           "linecolor": "#EBF0F8",
           "ticks": "",
           "title": {
            "standoff": 15
           },
           "zerolinecolor": "#EBF0F8",
           "zerolinewidth": 2
          },
          "yaxis": {
           "automargin": true,
           "gridcolor": "#EBF0F8",
           "linecolor": "#EBF0F8",
           "ticks": "",
           "title": {
            "standoff": 15
           },
           "zerolinecolor": "#EBF0F8",
           "zerolinewidth": 2
          }
         }
        },
        "title": {
         "text": "Rendimentos Tributaveis Igualitários"
        },
        "xaxis": {
         "anchor": "y",
         "domain": [
          0,
          1
         ],
         "title": {
          "text": "Index"
         }
        },
        "yaxis": {
         "anchor": "x",
         "domain": [
          0,
          1
         ],
         "title": {
          "text": "Renda Igualitária"
         }
        }
       }
      }
     },
     "metadata": {},
     "output_type": "display_data"
    }
   ],
   "source": [
    "indexes = np.arange(1, 101)\n",
    "\n",
    "# Create an array of Y values with the same value repeated\n",
    "y_values = np.ones(100)*100\n",
    "\n",
    "fig_renda_igualitaria = px.line(x=indexes, y=y_values,\n",
    "              title='Rendimentos Tributaveis Igualitários',\n",
    "              labels={\n",
    "                  'x': 'Centil',\n",
    "                  'y': 'Renda Igualitária'\n",
    "              })\n",
    "\n",
    "# Customize the layout\n",
    "fig_renda_igualitaria.update_layout(\n",
    "    xaxis_title='Index',\n",
    "    yaxis_title='Renda Igualitária',\n",
    "    template='plotly_white'\n",
    ")"
   ]
  },
  {
   "cell_type": "markdown",
   "metadata": {},
   "source": [
    "## Análises"
   ]
  },
  {
   "cell_type": "markdown",
   "metadata": {},
   "source": [
    "### Qual a parcela da população presente nos dados da Receita?"
   ]
  },
  {
   "cell_type": "markdown",
   "metadata": {},
   "source": []
  },
  {
   "cell_type": "markdown",
   "metadata": {},
   "source": [
    "Estes são os dados da distribuição de renda do Brasil em 2020, do 1º ao 99º centil.\n",
    "\n",
    "Pegue a população brasileira que pagou imposto de renda e divida em 100 partes iguais.\n",
    "\n",
    "Isto é um centil.\n",
    "\n",
    "O primeiro centil são as 316.349 pessoas de menor renda.\n",
    "\n",
    "O último centil são as 316.349 pessoas de maior renda.\n",
    "\n",
    "A Renda Tributável Bruta começa a aparecer no 7º centil - abaixo disso as pessoas estão isentas da tributação.\n",
    "\n",
    "A pessoa com maior renda do 7º centil possui uma renda tributável bruta de 100 reais - ou seja, pagam imposto em cima de 100 reais.\n",
    "\n",
    "Uma distribuição totalmente igualitária de renda seria uma linha reta, algo como isso:"
   ]
  },
  {
   "cell_type": "code",
   "execution_count": 16,
   "metadata": {},
   "outputs": [
    {
     "data": {
      "application/vnd.plotly.v1+json": {
       "config": {
        "plotlyServerURL": "https://plot.ly"
       },
       "data": [
        {
         "hovertemplate": "Centil=%{x}<br>Renda Igualitária=%{y}<extra></extra>",
         "legendgroup": "",
         "line": {
          "color": "#636efa",
          "dash": "solid"
         },
         "marker": {
          "symbol": "circle"
         },
         "mode": "lines",
         "name": "",
         "orientation": "v",
         "showlegend": false,
         "type": "scatter",
         "x": {
          "bdata": "AQIDBAUGBwgJCgsMDQ4PEBESExQVFhcYGRobHB0eHyAhIiMkJSYnKCkqKywtLi8wMTIzNDU2Nzg5Ojs8PT4/QEFCQ0RFRkdISUpLTE1OT1BRUlNUVVZXWFlaW1xdXl9gYWJjZA==",
          "dtype": "i1"
         },
         "xaxis": "x",
         "y": {
          "bdata": "AAAAAAAAWUAAAAAAAABZQAAAAAAAAFlAAAAAAAAAWUAAAAAAAABZQAAAAAAAAFlAAAAAAAAAWUAAAAAAAABZQAAAAAAAAFlAAAAAAAAAWUAAAAAAAABZQAAAAAAAAFlAAAAAAAAAWUAAAAAAAABZQAAAAAAAAFlAAAAAAAAAWUAAAAAAAABZQAAAAAAAAFlAAAAAAAAAWUAAAAAAAABZQAAAAAAAAFlAAAAAAAAAWUAAAAAAAABZQAAAAAAAAFlAAAAAAAAAWUAAAAAAAABZQAAAAAAAAFlAAAAAAAAAWUAAAAAAAABZQAAAAAAAAFlAAAAAAAAAWUAAAAAAAABZQAAAAAAAAFlAAAAAAAAAWUAAAAAAAABZQAAAAAAAAFlAAAAAAAAAWUAAAAAAAABZQAAAAAAAAFlAAAAAAAAAWUAAAAAAAABZQAAAAAAAAFlAAAAAAAAAWUAAAAAAAABZQAAAAAAAAFlAAAAAAAAAWUAAAAAAAABZQAAAAAAAAFlAAAAAAAAAWUAAAAAAAABZQAAAAAAAAFlAAAAAAAAAWUAAAAAAAABZQAAAAAAAAFlAAAAAAAAAWUAAAAAAAABZQAAAAAAAAFlAAAAAAAAAWUAAAAAAAABZQAAAAAAAAFlAAAAAAAAAWUAAAAAAAABZQAAAAAAAAFlAAAAAAAAAWUAAAAAAAABZQAAAAAAAAFlAAAAAAAAAWUAAAAAAAABZQAAAAAAAAFlAAAAAAAAAWUAAAAAAAABZQAAAAAAAAFlAAAAAAAAAWUAAAAAAAABZQAAAAAAAAFlAAAAAAAAAWUAAAAAAAABZQAAAAAAAAFlAAAAAAAAAWUAAAAAAAABZQAAAAAAAAFlAAAAAAAAAWUAAAAAAAABZQAAAAAAAAFlAAAAAAAAAWUAAAAAAAABZQAAAAAAAAFlAAAAAAAAAWUAAAAAAAABZQAAAAAAAAFlAAAAAAAAAWUAAAAAAAABZQAAAAAAAAFlAAAAAAAAAWUAAAAAAAABZQAAAAAAAAFlAAAAAAAAAWUAAAAAAAABZQAAAAAAAAFlAAAAAAAAAWUA=",
          "dtype": "f8"
         },
         "yaxis": "y"
        }
       ],
       "layout": {
        "legend": {
         "tracegroupgap": 0
        },
        "template": {
         "data": {
          "bar": [
           {
            "error_x": {
             "color": "#2a3f5f"
            },
            "error_y": {
             "color": "#2a3f5f"
            },
            "marker": {
             "line": {
              "color": "white",
              "width": 0.5
             },
             "pattern": {
              "fillmode": "overlay",
              "size": 10,
              "solidity": 0.2
             }
            },
            "type": "bar"
           }
          ],
          "barpolar": [
           {
            "marker": {
             "line": {
              "color": "white",
              "width": 0.5
             },
             "pattern": {
              "fillmode": "overlay",
              "size": 10,
              "solidity": 0.2
             }
            },
            "type": "barpolar"
           }
          ],
          "carpet": [
           {
            "aaxis": {
             "endlinecolor": "#2a3f5f",
             "gridcolor": "#C8D4E3",
             "linecolor": "#C8D4E3",
             "minorgridcolor": "#C8D4E3",
             "startlinecolor": "#2a3f5f"
            },
            "baxis": {
             "endlinecolor": "#2a3f5f",
             "gridcolor": "#C8D4E3",
             "linecolor": "#C8D4E3",
             "minorgridcolor": "#C8D4E3",
             "startlinecolor": "#2a3f5f"
            },
            "type": "carpet"
           }
          ],
          "choropleth": [
           {
            "colorbar": {
             "outlinewidth": 0,
             "ticks": ""
            },
            "type": "choropleth"
           }
          ],
          "contour": [
           {
            "colorbar": {
             "outlinewidth": 0,
             "ticks": ""
            },
            "colorscale": [
             [
              0,
              "#0d0887"
             ],
             [
              0.1111111111111111,
              "#46039f"
             ],
             [
              0.2222222222222222,
              "#7201a8"
             ],
             [
              0.3333333333333333,
              "#9c179e"
             ],
             [
              0.4444444444444444,
              "#bd3786"
             ],
             [
              0.5555555555555556,
              "#d8576b"
             ],
             [
              0.6666666666666666,
              "#ed7953"
             ],
             [
              0.7777777777777778,
              "#fb9f3a"
             ],
             [
              0.8888888888888888,
              "#fdca26"
             ],
             [
              1,
              "#f0f921"
             ]
            ],
            "type": "contour"
           }
          ],
          "contourcarpet": [
           {
            "colorbar": {
             "outlinewidth": 0,
             "ticks": ""
            },
            "type": "contourcarpet"
           }
          ],
          "heatmap": [
           {
            "colorbar": {
             "outlinewidth": 0,
             "ticks": ""
            },
            "colorscale": [
             [
              0,
              "#0d0887"
             ],
             [
              0.1111111111111111,
              "#46039f"
             ],
             [
              0.2222222222222222,
              "#7201a8"
             ],
             [
              0.3333333333333333,
              "#9c179e"
             ],
             [
              0.4444444444444444,
              "#bd3786"
             ],
             [
              0.5555555555555556,
              "#d8576b"
             ],
             [
              0.6666666666666666,
              "#ed7953"
             ],
             [
              0.7777777777777778,
              "#fb9f3a"
             ],
             [
              0.8888888888888888,
              "#fdca26"
             ],
             [
              1,
              "#f0f921"
             ]
            ],
            "type": "heatmap"
           }
          ],
          "histogram": [
           {
            "marker": {
             "pattern": {
              "fillmode": "overlay",
              "size": 10,
              "solidity": 0.2
             }
            },
            "type": "histogram"
           }
          ],
          "histogram2d": [
           {
            "colorbar": {
             "outlinewidth": 0,
             "ticks": ""
            },
            "colorscale": [
             [
              0,
              "#0d0887"
             ],
             [
              0.1111111111111111,
              "#46039f"
             ],
             [
              0.2222222222222222,
              "#7201a8"
             ],
             [
              0.3333333333333333,
              "#9c179e"
             ],
             [
              0.4444444444444444,
              "#bd3786"
             ],
             [
              0.5555555555555556,
              "#d8576b"
             ],
             [
              0.6666666666666666,
              "#ed7953"
             ],
             [
              0.7777777777777778,
              "#fb9f3a"
             ],
             [
              0.8888888888888888,
              "#fdca26"
             ],
             [
              1,
              "#f0f921"
             ]
            ],
            "type": "histogram2d"
           }
          ],
          "histogram2dcontour": [
           {
            "colorbar": {
             "outlinewidth": 0,
             "ticks": ""
            },
            "colorscale": [
             [
              0,
              "#0d0887"
             ],
             [
              0.1111111111111111,
              "#46039f"
             ],
             [
              0.2222222222222222,
              "#7201a8"
             ],
             [
              0.3333333333333333,
              "#9c179e"
             ],
             [
              0.4444444444444444,
              "#bd3786"
             ],
             [
              0.5555555555555556,
              "#d8576b"
             ],
             [
              0.6666666666666666,
              "#ed7953"
             ],
             [
              0.7777777777777778,
              "#fb9f3a"
             ],
             [
              0.8888888888888888,
              "#fdca26"
             ],
             [
              1,
              "#f0f921"
             ]
            ],
            "type": "histogram2dcontour"
           }
          ],
          "mesh3d": [
           {
            "colorbar": {
             "outlinewidth": 0,
             "ticks": ""
            },
            "type": "mesh3d"
           }
          ],
          "parcoords": [
           {
            "line": {
             "colorbar": {
              "outlinewidth": 0,
              "ticks": ""
             }
            },
            "type": "parcoords"
           }
          ],
          "pie": [
           {
            "automargin": true,
            "type": "pie"
           }
          ],
          "scatter": [
           {
            "fillpattern": {
             "fillmode": "overlay",
             "size": 10,
             "solidity": 0.2
            },
            "type": "scatter"
           }
          ],
          "scatter3d": [
           {
            "line": {
             "colorbar": {
              "outlinewidth": 0,
              "ticks": ""
             }
            },
            "marker": {
             "colorbar": {
              "outlinewidth": 0,
              "ticks": ""
             }
            },
            "type": "scatter3d"
           }
          ],
          "scattercarpet": [
           {
            "marker": {
             "colorbar": {
              "outlinewidth": 0,
              "ticks": ""
             }
            },
            "type": "scattercarpet"
           }
          ],
          "scattergeo": [
           {
            "marker": {
             "colorbar": {
              "outlinewidth": 0,
              "ticks": ""
             }
            },
            "type": "scattergeo"
           }
          ],
          "scattergl": [
           {
            "marker": {
             "colorbar": {
              "outlinewidth": 0,
              "ticks": ""
             }
            },
            "type": "scattergl"
           }
          ],
          "scattermap": [
           {
            "marker": {
             "colorbar": {
              "outlinewidth": 0,
              "ticks": ""
             }
            },
            "type": "scattermap"
           }
          ],
          "scattermapbox": [
           {
            "marker": {
             "colorbar": {
              "outlinewidth": 0,
              "ticks": ""
             }
            },
            "type": "scattermapbox"
           }
          ],
          "scatterpolar": [
           {
            "marker": {
             "colorbar": {
              "outlinewidth": 0,
              "ticks": ""
             }
            },
            "type": "scatterpolar"
           }
          ],
          "scatterpolargl": [
           {
            "marker": {
             "colorbar": {
              "outlinewidth": 0,
              "ticks": ""
             }
            },
            "type": "scatterpolargl"
           }
          ],
          "scatterternary": [
           {
            "marker": {
             "colorbar": {
              "outlinewidth": 0,
              "ticks": ""
             }
            },
            "type": "scatterternary"
           }
          ],
          "surface": [
           {
            "colorbar": {
             "outlinewidth": 0,
             "ticks": ""
            },
            "colorscale": [
             [
              0,
              "#0d0887"
             ],
             [
              0.1111111111111111,
              "#46039f"
             ],
             [
              0.2222222222222222,
              "#7201a8"
             ],
             [
              0.3333333333333333,
              "#9c179e"
             ],
             [
              0.4444444444444444,
              "#bd3786"
             ],
             [
              0.5555555555555556,
              "#d8576b"
             ],
             [
              0.6666666666666666,
              "#ed7953"
             ],
             [
              0.7777777777777778,
              "#fb9f3a"
             ],
             [
              0.8888888888888888,
              "#fdca26"
             ],
             [
              1,
              "#f0f921"
             ]
            ],
            "type": "surface"
           }
          ],
          "table": [
           {
            "cells": {
             "fill": {
              "color": "#EBF0F8"
             },
             "line": {
              "color": "white"
             }
            },
            "header": {
             "fill": {
              "color": "#C8D4E3"
             },
             "line": {
              "color": "white"
             }
            },
            "type": "table"
           }
          ]
         },
         "layout": {
          "annotationdefaults": {
           "arrowcolor": "#2a3f5f",
           "arrowhead": 0,
           "arrowwidth": 1
          },
          "autotypenumbers": "strict",
          "coloraxis": {
           "colorbar": {
            "outlinewidth": 0,
            "ticks": ""
           }
          },
          "colorscale": {
           "diverging": [
            [
             0,
             "#8e0152"
            ],
            [
             0.1,
             "#c51b7d"
            ],
            [
             0.2,
             "#de77ae"
            ],
            [
             0.3,
             "#f1b6da"
            ],
            [
             0.4,
             "#fde0ef"
            ],
            [
             0.5,
             "#f7f7f7"
            ],
            [
             0.6,
             "#e6f5d0"
            ],
            [
             0.7,
             "#b8e186"
            ],
            [
             0.8,
             "#7fbc41"
            ],
            [
             0.9,
             "#4d9221"
            ],
            [
             1,
             "#276419"
            ]
           ],
           "sequential": [
            [
             0,
             "#0d0887"
            ],
            [
             0.1111111111111111,
             "#46039f"
            ],
            [
             0.2222222222222222,
             "#7201a8"
            ],
            [
             0.3333333333333333,
             "#9c179e"
            ],
            [
             0.4444444444444444,
             "#bd3786"
            ],
            [
             0.5555555555555556,
             "#d8576b"
            ],
            [
             0.6666666666666666,
             "#ed7953"
            ],
            [
             0.7777777777777778,
             "#fb9f3a"
            ],
            [
             0.8888888888888888,
             "#fdca26"
            ],
            [
             1,
             "#f0f921"
            ]
           ],
           "sequentialminus": [
            [
             0,
             "#0d0887"
            ],
            [
             0.1111111111111111,
             "#46039f"
            ],
            [
             0.2222222222222222,
             "#7201a8"
            ],
            [
             0.3333333333333333,
             "#9c179e"
            ],
            [
             0.4444444444444444,
             "#bd3786"
            ],
            [
             0.5555555555555556,
             "#d8576b"
            ],
            [
             0.6666666666666666,
             "#ed7953"
            ],
            [
             0.7777777777777778,
             "#fb9f3a"
            ],
            [
             0.8888888888888888,
             "#fdca26"
            ],
            [
             1,
             "#f0f921"
            ]
           ]
          },
          "colorway": [
           "#636efa",
           "#EF553B",
           "#00cc96",
           "#ab63fa",
           "#FFA15A",
           "#19d3f3",
           "#FF6692",
           "#B6E880",
           "#FF97FF",
           "#FECB52"
          ],
          "font": {
           "color": "#2a3f5f"
          },
          "geo": {
           "bgcolor": "white",
           "lakecolor": "white",
           "landcolor": "white",
           "showlakes": true,
           "showland": true,
           "subunitcolor": "#C8D4E3"
          },
          "hoverlabel": {
           "align": "left"
          },
          "hovermode": "closest",
          "mapbox": {
           "style": "light"
          },
          "paper_bgcolor": "white",
          "plot_bgcolor": "white",
          "polar": {
           "angularaxis": {
            "gridcolor": "#EBF0F8",
            "linecolor": "#EBF0F8",
            "ticks": ""
           },
           "bgcolor": "white",
           "radialaxis": {
            "gridcolor": "#EBF0F8",
            "linecolor": "#EBF0F8",
            "ticks": ""
           }
          },
          "scene": {
           "xaxis": {
            "backgroundcolor": "white",
            "gridcolor": "#DFE8F3",
            "gridwidth": 2,
            "linecolor": "#EBF0F8",
            "showbackground": true,
            "ticks": "",
            "zerolinecolor": "#EBF0F8"
           },
           "yaxis": {
            "backgroundcolor": "white",
            "gridcolor": "#DFE8F3",
            "gridwidth": 2,
            "linecolor": "#EBF0F8",
            "showbackground": true,
            "ticks": "",
            "zerolinecolor": "#EBF0F8"
           },
           "zaxis": {
            "backgroundcolor": "white",
            "gridcolor": "#DFE8F3",
            "gridwidth": 2,
            "linecolor": "#EBF0F8",
            "showbackground": true,
            "ticks": "",
            "zerolinecolor": "#EBF0F8"
           }
          },
          "shapedefaults": {
           "line": {
            "color": "#2a3f5f"
           }
          },
          "ternary": {
           "aaxis": {
            "gridcolor": "#DFE8F3",
            "linecolor": "#A2B1C6",
            "ticks": ""
           },
           "baxis": {
            "gridcolor": "#DFE8F3",
            "linecolor": "#A2B1C6",
            "ticks": ""
           },
           "bgcolor": "white",
           "caxis": {
            "gridcolor": "#DFE8F3",
            "linecolor": "#A2B1C6",
            "ticks": ""
           }
          },
          "title": {
           "x": 0.05
          },
          "xaxis": {
           "automargin": true,
           "gridcolor": "#EBF0F8",
           "linecolor": "#EBF0F8",
           "ticks": "",
           "title": {
            "standoff": 15
           },
           "zerolinecolor": "#EBF0F8",
           "zerolinewidth": 2
          },
          "yaxis": {
           "automargin": true,
           "gridcolor": "#EBF0F8",
           "linecolor": "#EBF0F8",
           "ticks": "",
           "title": {
            "standoff": 15
           },
           "zerolinecolor": "#EBF0F8",
           "zerolinewidth": 2
          }
         }
        },
        "title": {
         "text": "Rendimentos Tributaveis Igualitários"
        },
        "xaxis": {
         "anchor": "y",
         "domain": [
          0,
          1
         ],
         "title": {
          "text": "Index"
         }
        },
        "yaxis": {
         "anchor": "x",
         "domain": [
          0,
          1
         ],
         "title": {
          "text": "Renda Igualitária"
         }
        }
       }
      }
     },
     "metadata": {},
     "output_type": "display_data"
    }
   ],
   "source": [
    "fig_renda_igualitaria.show()"
   ]
  },
  {
   "cell_type": "markdown",
   "metadata": {},
   "source": [
    "Removi o último centil (100) para melhorar a visualização.\n",
    "\n",
    "A distribuição de renda em 2020 no Brasil se parece com isso:"
   ]
  },
  {
   "cell_type": "code",
   "execution_count": 17,
   "metadata": {},
   "outputs": [
    {
     "data": {
      "application/vnd.plotly.v1+json": {
       "config": {
        "plotlyServerURL": "https://plot.ly"
       },
       "data": [
        {
         "hovertemplate": "Centil=%{x}<br>Rendimentos Tributaveis - Limite Superior da RTB do Centil [R$ milhões]=%{y}<extra></extra>",
         "legendgroup": "",
         "marker": {
          "color": "#636efa",
          "pattern": {
           "shape": ""
          }
         },
         "name": "",
         "orientation": "v",
         "showlegend": false,
         "textposition": "auto",
         "type": "bar",
         "x": {
          "bdata": "AQIDBAUGBwgJCgsMDQ4PEBESExQVFhcYGRobHB0eHyAhIiMkJSYnKCkqKywtLi8wMTIzNDU2Nzg5Ojs8PT4/QEFCQ0RFRkdISUpLTE1OT1BRUlNUVVZXWFlaW1xdXl9gYWJj",
          "dtype": "i1"
         },
         "xaxis": "x",
         "y": {
          "bdata": "AAAAAAAA+H8AAAAAAAD4fwAAAAAAAPh/AAAAAAAA+H8AAAAAAAD4fwAAAAAAAPh/AAAAAAAAWUAAAAAAACCsQAAAAAAAcLdAuB6F6zHSwEDsUbge5XrFQAAAAACAY8hAAAAAAAB7yEAAAAAAAH7IQArXo3D9acpAAAAAAABMzUBmZmZmlgTQQArXo3A9WNFAKVyPwmVO0kAK16NwfYLTQAAAAAAAgtRA9ihcjxJQ1UC4HoXrMQnWQAAAAAAA2tZAzczMzJye10AAAAAAQG/YQAAAAAAAHtlAAAAAAADm2UAAAAAAAKnaQB+F61GYS9tAKVyPwmW420C4HoXrIenbQFK4HoWbdNxAZmZmZjYG3UB7FK5HgX7dQIXrUbguCd5AexSuR7GU3kC4HoXrgSXfQIXrUbjOtd9AmpmZmaEl4ECkcD0K93DgQMP1KFzHvuBAw/UoXC8N4UApXI/C1VzhQAAAAAAAoeFAZmZmZh704UCamZmZkUjiQFyPwvUQmeJAH4XrUejx4kCamZmZUU7jQHE9CtdbrONA16NwPaIM5EAAAAAAIHTkQKRwPQpX1ORASOF6FK4/5UBmZmZm/qvlQHE9CtdDHuZAPQrXo+iU5kDXo3A9ShLnQClcj8JliOdA16NwPVoM6EAfhetRwJLoQIXrUbgmI+lAFK5H4eK56UBSuB6Fy1jqQIXrUbjO9epAhetRuKaf60AAAAAAAFLsQClcj8IVDO1AuB6F6wnA7UC4HoXrqYvuQArXo3B1Xu9AAAAAAAAd8ECamZmZAY/wQHE9Ctf/DPFA7FG4HkmO8UCamZmZlfzxQKRwPQr/jvJAexSuR6kz80BI4XoU7ujzQIXrUbhypvRAw/UoXJty9UBmZmZmrkr2QOxRuB6NRPdAPQrXo/RO+EDhehSue3r5QNejcD0GvvpA9ihcjyIs/EDsUbgeGbj9QK5H4Xq0dP9AFK5H4YC9AEGkcD0KtfcBQbgeheshXANBH4XrUaQWBUHD9ShcmVwHQVyPwvV2VApBAAAAADgfDkEpXI/Cfx0SQXsUrkfv7BdB",
          "dtype": "f8"
         },
         "yaxis": "y"
        }
       ],
       "layout": {
        "barmode": "relative",
        "legend": {
         "tracegroupgap": 0
        },
        "template": {
         "data": {
          "bar": [
           {
            "error_x": {
             "color": "#2a3f5f"
            },
            "error_y": {
             "color": "#2a3f5f"
            },
            "marker": {
             "line": {
              "color": "white",
              "width": 0.5
             },
             "pattern": {
              "fillmode": "overlay",
              "size": 10,
              "solidity": 0.2
             }
            },
            "type": "bar"
           }
          ],
          "barpolar": [
           {
            "marker": {
             "line": {
              "color": "white",
              "width": 0.5
             },
             "pattern": {
              "fillmode": "overlay",
              "size": 10,
              "solidity": 0.2
             }
            },
            "type": "barpolar"
           }
          ],
          "carpet": [
           {
            "aaxis": {
             "endlinecolor": "#2a3f5f",
             "gridcolor": "#C8D4E3",
             "linecolor": "#C8D4E3",
             "minorgridcolor": "#C8D4E3",
             "startlinecolor": "#2a3f5f"
            },
            "baxis": {
             "endlinecolor": "#2a3f5f",
             "gridcolor": "#C8D4E3",
             "linecolor": "#C8D4E3",
             "minorgridcolor": "#C8D4E3",
             "startlinecolor": "#2a3f5f"
            },
            "type": "carpet"
           }
          ],
          "choropleth": [
           {
            "colorbar": {
             "outlinewidth": 0,
             "ticks": ""
            },
            "type": "choropleth"
           }
          ],
          "contour": [
           {
            "colorbar": {
             "outlinewidth": 0,
             "ticks": ""
            },
            "colorscale": [
             [
              0,
              "#0d0887"
             ],
             [
              0.1111111111111111,
              "#46039f"
             ],
             [
              0.2222222222222222,
              "#7201a8"
             ],
             [
              0.3333333333333333,
              "#9c179e"
             ],
             [
              0.4444444444444444,
              "#bd3786"
             ],
             [
              0.5555555555555556,
              "#d8576b"
             ],
             [
              0.6666666666666666,
              "#ed7953"
             ],
             [
              0.7777777777777778,
              "#fb9f3a"
             ],
             [
              0.8888888888888888,
              "#fdca26"
             ],
             [
              1,
              "#f0f921"
             ]
            ],
            "type": "contour"
           }
          ],
          "contourcarpet": [
           {
            "colorbar": {
             "outlinewidth": 0,
             "ticks": ""
            },
            "type": "contourcarpet"
           }
          ],
          "heatmap": [
           {
            "colorbar": {
             "outlinewidth": 0,
             "ticks": ""
            },
            "colorscale": [
             [
              0,
              "#0d0887"
             ],
             [
              0.1111111111111111,
              "#46039f"
             ],
             [
              0.2222222222222222,
              "#7201a8"
             ],
             [
              0.3333333333333333,
              "#9c179e"
             ],
             [
              0.4444444444444444,
              "#bd3786"
             ],
             [
              0.5555555555555556,
              "#d8576b"
             ],
             [
              0.6666666666666666,
              "#ed7953"
             ],
             [
              0.7777777777777778,
              "#fb9f3a"
             ],
             [
              0.8888888888888888,
              "#fdca26"
             ],
             [
              1,
              "#f0f921"
             ]
            ],
            "type": "heatmap"
           }
          ],
          "histogram": [
           {
            "marker": {
             "pattern": {
              "fillmode": "overlay",
              "size": 10,
              "solidity": 0.2
             }
            },
            "type": "histogram"
           }
          ],
          "histogram2d": [
           {
            "colorbar": {
             "outlinewidth": 0,
             "ticks": ""
            },
            "colorscale": [
             [
              0,
              "#0d0887"
             ],
             [
              0.1111111111111111,
              "#46039f"
             ],
             [
              0.2222222222222222,
              "#7201a8"
             ],
             [
              0.3333333333333333,
              "#9c179e"
             ],
             [
              0.4444444444444444,
              "#bd3786"
             ],
             [
              0.5555555555555556,
              "#d8576b"
             ],
             [
              0.6666666666666666,
              "#ed7953"
             ],
             [
              0.7777777777777778,
              "#fb9f3a"
             ],
             [
              0.8888888888888888,
              "#fdca26"
             ],
             [
              1,
              "#f0f921"
             ]
            ],
            "type": "histogram2d"
           }
          ],
          "histogram2dcontour": [
           {
            "colorbar": {
             "outlinewidth": 0,
             "ticks": ""
            },
            "colorscale": [
             [
              0,
              "#0d0887"
             ],
             [
              0.1111111111111111,
              "#46039f"
             ],
             [
              0.2222222222222222,
              "#7201a8"
             ],
             [
              0.3333333333333333,
              "#9c179e"
             ],
             [
              0.4444444444444444,
              "#bd3786"
             ],
             [
              0.5555555555555556,
              "#d8576b"
             ],
             [
              0.6666666666666666,
              "#ed7953"
             ],
             [
              0.7777777777777778,
              "#fb9f3a"
             ],
             [
              0.8888888888888888,
              "#fdca26"
             ],
             [
              1,
              "#f0f921"
             ]
            ],
            "type": "histogram2dcontour"
           }
          ],
          "mesh3d": [
           {
            "colorbar": {
             "outlinewidth": 0,
             "ticks": ""
            },
            "type": "mesh3d"
           }
          ],
          "parcoords": [
           {
            "line": {
             "colorbar": {
              "outlinewidth": 0,
              "ticks": ""
             }
            },
            "type": "parcoords"
           }
          ],
          "pie": [
           {
            "automargin": true,
            "type": "pie"
           }
          ],
          "scatter": [
           {
            "fillpattern": {
             "fillmode": "overlay",
             "size": 10,
             "solidity": 0.2
            },
            "type": "scatter"
           }
          ],
          "scatter3d": [
           {
            "line": {
             "colorbar": {
              "outlinewidth": 0,
              "ticks": ""
             }
            },
            "marker": {
             "colorbar": {
              "outlinewidth": 0,
              "ticks": ""
             }
            },
            "type": "scatter3d"
           }
          ],
          "scattercarpet": [
           {
            "marker": {
             "colorbar": {
              "outlinewidth": 0,
              "ticks": ""
             }
            },
            "type": "scattercarpet"
           }
          ],
          "scattergeo": [
           {
            "marker": {
             "colorbar": {
              "outlinewidth": 0,
              "ticks": ""
             }
            },
            "type": "scattergeo"
           }
          ],
          "scattergl": [
           {
            "marker": {
             "colorbar": {
              "outlinewidth": 0,
              "ticks": ""
             }
            },
            "type": "scattergl"
           }
          ],
          "scattermap": [
           {
            "marker": {
             "colorbar": {
              "outlinewidth": 0,
              "ticks": ""
             }
            },
            "type": "scattermap"
           }
          ],
          "scattermapbox": [
           {
            "marker": {
             "colorbar": {
              "outlinewidth": 0,
              "ticks": ""
             }
            },
            "type": "scattermapbox"
           }
          ],
          "scatterpolar": [
           {
            "marker": {
             "colorbar": {
              "outlinewidth": 0,
              "ticks": ""
             }
            },
            "type": "scatterpolar"
           }
          ],
          "scatterpolargl": [
           {
            "marker": {
             "colorbar": {
              "outlinewidth": 0,
              "ticks": ""
             }
            },
            "type": "scatterpolargl"
           }
          ],
          "scatterternary": [
           {
            "marker": {
             "colorbar": {
              "outlinewidth": 0,
              "ticks": ""
             }
            },
            "type": "scatterternary"
           }
          ],
          "surface": [
           {
            "colorbar": {
             "outlinewidth": 0,
             "ticks": ""
            },
            "colorscale": [
             [
              0,
              "#0d0887"
             ],
             [
              0.1111111111111111,
              "#46039f"
             ],
             [
              0.2222222222222222,
              "#7201a8"
             ],
             [
              0.3333333333333333,
              "#9c179e"
             ],
             [
              0.4444444444444444,
              "#bd3786"
             ],
             [
              0.5555555555555556,
              "#d8576b"
             ],
             [
              0.6666666666666666,
              "#ed7953"
             ],
             [
              0.7777777777777778,
              "#fb9f3a"
             ],
             [
              0.8888888888888888,
              "#fdca26"
             ],
             [
              1,
              "#f0f921"
             ]
            ],
            "type": "surface"
           }
          ],
          "table": [
           {
            "cells": {
             "fill": {
              "color": "#EBF0F8"
             },
             "line": {
              "color": "white"
             }
            },
            "header": {
             "fill": {
              "color": "#C8D4E3"
             },
             "line": {
              "color": "white"
             }
            },
            "type": "table"
           }
          ]
         },
         "layout": {
          "annotationdefaults": {
           "arrowcolor": "#2a3f5f",
           "arrowhead": 0,
           "arrowwidth": 1
          },
          "autotypenumbers": "strict",
          "coloraxis": {
           "colorbar": {
            "outlinewidth": 0,
            "ticks": ""
           }
          },
          "colorscale": {
           "diverging": [
            [
             0,
             "#8e0152"
            ],
            [
             0.1,
             "#c51b7d"
            ],
            [
             0.2,
             "#de77ae"
            ],
            [
             0.3,
             "#f1b6da"
            ],
            [
             0.4,
             "#fde0ef"
            ],
            [
             0.5,
             "#f7f7f7"
            ],
            [
             0.6,
             "#e6f5d0"
            ],
            [
             0.7,
             "#b8e186"
            ],
            [
             0.8,
             "#7fbc41"
            ],
            [
             0.9,
             "#4d9221"
            ],
            [
             1,
             "#276419"
            ]
           ],
           "sequential": [
            [
             0,
             "#0d0887"
            ],
            [
             0.1111111111111111,
             "#46039f"
            ],
            [
             0.2222222222222222,
             "#7201a8"
            ],
            [
             0.3333333333333333,
             "#9c179e"
            ],
            [
             0.4444444444444444,
             "#bd3786"
            ],
            [
             0.5555555555555556,
             "#d8576b"
            ],
            [
             0.6666666666666666,
             "#ed7953"
            ],
            [
             0.7777777777777778,
             "#fb9f3a"
            ],
            [
             0.8888888888888888,
             "#fdca26"
            ],
            [
             1,
             "#f0f921"
            ]
           ],
           "sequentialminus": [
            [
             0,
             "#0d0887"
            ],
            [
             0.1111111111111111,
             "#46039f"
            ],
            [
             0.2222222222222222,
             "#7201a8"
            ],
            [
             0.3333333333333333,
             "#9c179e"
            ],
            [
             0.4444444444444444,
             "#bd3786"
            ],
            [
             0.5555555555555556,
             "#d8576b"
            ],
            [
             0.6666666666666666,
             "#ed7953"
            ],
            [
             0.7777777777777778,
             "#fb9f3a"
            ],
            [
             0.8888888888888888,
             "#fdca26"
            ],
            [
             1,
             "#f0f921"
            ]
           ]
          },
          "colorway": [
           "#636efa",
           "#EF553B",
           "#00cc96",
           "#ab63fa",
           "#FFA15A",
           "#19d3f3",
           "#FF6692",
           "#B6E880",
           "#FF97FF",
           "#FECB52"
          ],
          "font": {
           "color": "#2a3f5f"
          },
          "geo": {
           "bgcolor": "white",
           "lakecolor": "white",
           "landcolor": "white",
           "showlakes": true,
           "showland": true,
           "subunitcolor": "#C8D4E3"
          },
          "hoverlabel": {
           "align": "left"
          },
          "hovermode": "closest",
          "mapbox": {
           "style": "light"
          },
          "paper_bgcolor": "white",
          "plot_bgcolor": "white",
          "polar": {
           "angularaxis": {
            "gridcolor": "#EBF0F8",
            "linecolor": "#EBF0F8",
            "ticks": ""
           },
           "bgcolor": "white",
           "radialaxis": {
            "gridcolor": "#EBF0F8",
            "linecolor": "#EBF0F8",
            "ticks": ""
           }
          },
          "scene": {
           "xaxis": {
            "backgroundcolor": "white",
            "gridcolor": "#DFE8F3",
            "gridwidth": 2,
            "linecolor": "#EBF0F8",
            "showbackground": true,
            "ticks": "",
            "zerolinecolor": "#EBF0F8"
           },
           "yaxis": {
            "backgroundcolor": "white",
            "gridcolor": "#DFE8F3",
            "gridwidth": 2,
            "linecolor": "#EBF0F8",
            "showbackground": true,
            "ticks": "",
            "zerolinecolor": "#EBF0F8"
           },
           "zaxis": {
            "backgroundcolor": "white",
            "gridcolor": "#DFE8F3",
            "gridwidth": 2,
            "linecolor": "#EBF0F8",
            "showbackground": true,
            "ticks": "",
            "zerolinecolor": "#EBF0F8"
           }
          },
          "shapedefaults": {
           "line": {
            "color": "#2a3f5f"
           }
          },
          "ternary": {
           "aaxis": {
            "gridcolor": "#DFE8F3",
            "linecolor": "#A2B1C6",
            "ticks": ""
           },
           "baxis": {
            "gridcolor": "#DFE8F3",
            "linecolor": "#A2B1C6",
            "ticks": ""
           },
           "bgcolor": "white",
           "caxis": {
            "gridcolor": "#DFE8F3",
            "linecolor": "#A2B1C6",
            "ticks": ""
           }
          },
          "title": {
           "x": 0.05
          },
          "xaxis": {
           "automargin": true,
           "gridcolor": "#EBF0F8",
           "linecolor": "#EBF0F8",
           "ticks": "",
           "title": {
            "standoff": 15
           },
           "zerolinecolor": "#EBF0F8",
           "zerolinewidth": 2
          },
          "yaxis": {
           "automargin": true,
           "gridcolor": "#EBF0F8",
           "linecolor": "#EBF0F8",
           "ticks": "",
           "title": {
            "standoff": 15
           },
           "zerolinecolor": "#EBF0F8",
           "zerolinewidth": 2
          }
         }
        },
        "title": {
         "text": "Rendimentos Tributaveis por Centil"
        },
        "xaxis": {
         "anchor": "y",
         "domain": [
          0,
          1
         ],
         "title": {
          "text": "Centil"
         }
        },
        "yaxis": {
         "anchor": "x",
         "domain": [
          0,
          1
         ],
         "title": {
          "text": "Rendimentos Tributaveis"
         }
        }
       }
      }
     },
     "metadata": {},
     "output_type": "display_data"
    }
   ],
   "source": [
    "plot_limite_superior_rendimentos(df_99centil)"
   ]
  },
  {
   "cell_type": "code",
   "execution_count": 18,
   "metadata": {},
   "outputs": [
    {
     "data": {
      "application/vnd.plotly.v1+json": {
       "config": {
        "plotlyServerURL": "https://plot.ly"
       },
       "data": [
        {
         "hovertemplate": "Centil=%{x}<br>Rendimentos Tributaveis - Limite Superior da RTB do Centil [R$ milhões]=%{y}<extra></extra>",
         "legendgroup": "",
         "marker": {
          "color": "#636efa",
          "pattern": {
           "shape": ""
          }
         },
         "name": "",
         "orientation": "v",
         "showlegend": false,
         "textposition": "auto",
         "type": "bar",
         "x": {
          "bdata": "AQIDBAUGBwgJCgsMDQ4PEBESExQVFhcYGRobHB0eHyAhIiMkJSYnKCkqKywtLi8wMTIzNDU2Nzg5Ojs8PT4/QEFCQ0RFRkdISUpLTE1OT1BRUlNUVVZXWFlaW1xdXl9gYWJj",
          "dtype": "i1"
         },
         "xaxis": "x",
         "y": {
          "bdata": "AAAAAAAA+H8AAAAAAAD4fwAAAAAAAPh/AAAAAAAA+H8AAAAAAAD4fwAAAAAAAPh/AAAAAAAAWUAAAAAAACCsQAAAAAAAcLdAuB6F6zHSwEDsUbge5XrFQAAAAACAY8hAAAAAAAB7yEAAAAAAAH7IQArXo3D9acpAAAAAAABMzUBmZmZmlgTQQArXo3A9WNFAKVyPwmVO0kAK16NwfYLTQAAAAAAAgtRA9ihcjxJQ1UC4HoXrMQnWQAAAAAAA2tZAzczMzJye10AAAAAAQG/YQAAAAAAAHtlAAAAAAADm2UAAAAAAAKnaQB+F61GYS9tAKVyPwmW420C4HoXrIenbQFK4HoWbdNxAZmZmZjYG3UB7FK5HgX7dQIXrUbguCd5AexSuR7GU3kC4HoXrgSXfQIXrUbjOtd9AmpmZmaEl4ECkcD0K93DgQMP1KFzHvuBAw/UoXC8N4UApXI/C1VzhQAAAAAAAoeFAZmZmZh704UCamZmZkUjiQFyPwvUQmeJAH4XrUejx4kCamZmZUU7jQHE9CtdbrONA16NwPaIM5EAAAAAAIHTkQKRwPQpX1ORASOF6FK4/5UBmZmZm/qvlQHE9CtdDHuZAPQrXo+iU5kDXo3A9ShLnQClcj8JliOdA16NwPVoM6EAfhetRwJLoQIXrUbgmI+lAFK5H4eK56UBSuB6Fy1jqQIXrUbjO9epAhetRuKaf60AAAAAAAFLsQClcj8IVDO1AuB6F6wnA7UC4HoXrqYvuQArXo3B1Xu9AAAAAAAAd8ECamZmZAY/wQHE9Ctf/DPFA7FG4HkmO8UCamZmZlfzxQKRwPQr/jvJAexSuR6kz80BI4XoU7ujzQIXrUbhypvRAw/UoXJty9UBmZmZmrkr2QOxRuB6NRPdAPQrXo/RO+EDhehSue3r5QNejcD0GvvpA9ihcjyIs/EDsUbgeGbj9QK5H4Xq0dP9AFK5H4YC9AEGkcD0KtfcBQbgeheshXANBH4XrUaQWBUHD9ShcmVwHQVyPwvV2VApBAAAAADgfDkEpXI/Cfx0SQXsUrkfv7BdB",
          "dtype": "f8"
         },
         "yaxis": "y"
        }
       ],
       "layout": {
        "barmode": "relative",
        "legend": {
         "tracegroupgap": 0
        },
        "template": {
         "data": {
          "bar": [
           {
            "error_x": {
             "color": "#2a3f5f"
            },
            "error_y": {
             "color": "#2a3f5f"
            },
            "marker": {
             "line": {
              "color": "white",
              "width": 0.5
             },
             "pattern": {
              "fillmode": "overlay",
              "size": 10,
              "solidity": 0.2
             }
            },
            "type": "bar"
           }
          ],
          "barpolar": [
           {
            "marker": {
             "line": {
              "color": "white",
              "width": 0.5
             },
             "pattern": {
              "fillmode": "overlay",
              "size": 10,
              "solidity": 0.2
             }
            },
            "type": "barpolar"
           }
          ],
          "carpet": [
           {
            "aaxis": {
             "endlinecolor": "#2a3f5f",
             "gridcolor": "#C8D4E3",
             "linecolor": "#C8D4E3",
             "minorgridcolor": "#C8D4E3",
             "startlinecolor": "#2a3f5f"
            },
            "baxis": {
             "endlinecolor": "#2a3f5f",
             "gridcolor": "#C8D4E3",
             "linecolor": "#C8D4E3",
             "minorgridcolor": "#C8D4E3",
             "startlinecolor": "#2a3f5f"
            },
            "type": "carpet"
           }
          ],
          "choropleth": [
           {
            "colorbar": {
             "outlinewidth": 0,
             "ticks": ""
            },
            "type": "choropleth"
           }
          ],
          "contour": [
           {
            "colorbar": {
             "outlinewidth": 0,
             "ticks": ""
            },
            "colorscale": [
             [
              0,
              "#0d0887"
             ],
             [
              0.1111111111111111,
              "#46039f"
             ],
             [
              0.2222222222222222,
              "#7201a8"
             ],
             [
              0.3333333333333333,
              "#9c179e"
             ],
             [
              0.4444444444444444,
              "#bd3786"
             ],
             [
              0.5555555555555556,
              "#d8576b"
             ],
             [
              0.6666666666666666,
              "#ed7953"
             ],
             [
              0.7777777777777778,
              "#fb9f3a"
             ],
             [
              0.8888888888888888,
              "#fdca26"
             ],
             [
              1,
              "#f0f921"
             ]
            ],
            "type": "contour"
           }
          ],
          "contourcarpet": [
           {
            "colorbar": {
             "outlinewidth": 0,
             "ticks": ""
            },
            "type": "contourcarpet"
           }
          ],
          "heatmap": [
           {
            "colorbar": {
             "outlinewidth": 0,
             "ticks": ""
            },
            "colorscale": [
             [
              0,
              "#0d0887"
             ],
             [
              0.1111111111111111,
              "#46039f"
             ],
             [
              0.2222222222222222,
              "#7201a8"
             ],
             [
              0.3333333333333333,
              "#9c179e"
             ],
             [
              0.4444444444444444,
              "#bd3786"
             ],
             [
              0.5555555555555556,
              "#d8576b"
             ],
             [
              0.6666666666666666,
              "#ed7953"
             ],
             [
              0.7777777777777778,
              "#fb9f3a"
             ],
             [
              0.8888888888888888,
              "#fdca26"
             ],
             [
              1,
              "#f0f921"
             ]
            ],
            "type": "heatmap"
           }
          ],
          "histogram": [
           {
            "marker": {
             "pattern": {
              "fillmode": "overlay",
              "size": 10,
              "solidity": 0.2
             }
            },
            "type": "histogram"
           }
          ],
          "histogram2d": [
           {
            "colorbar": {
             "outlinewidth": 0,
             "ticks": ""
            },
            "colorscale": [
             [
              0,
              "#0d0887"
             ],
             [
              0.1111111111111111,
              "#46039f"
             ],
             [
              0.2222222222222222,
              "#7201a8"
             ],
             [
              0.3333333333333333,
              "#9c179e"
             ],
             [
              0.4444444444444444,
              "#bd3786"
             ],
             [
              0.5555555555555556,
              "#d8576b"
             ],
             [
              0.6666666666666666,
              "#ed7953"
             ],
             [
              0.7777777777777778,
              "#fb9f3a"
             ],
             [
              0.8888888888888888,
              "#fdca26"
             ],
             [
              1,
              "#f0f921"
             ]
            ],
            "type": "histogram2d"
           }
          ],
          "histogram2dcontour": [
           {
            "colorbar": {
             "outlinewidth": 0,
             "ticks": ""
            },
            "colorscale": [
             [
              0,
              "#0d0887"
             ],
             [
              0.1111111111111111,
              "#46039f"
             ],
             [
              0.2222222222222222,
              "#7201a8"
             ],
             [
              0.3333333333333333,
              "#9c179e"
             ],
             [
              0.4444444444444444,
              "#bd3786"
             ],
             [
              0.5555555555555556,
              "#d8576b"
             ],
             [
              0.6666666666666666,
              "#ed7953"
             ],
             [
              0.7777777777777778,
              "#fb9f3a"
             ],
             [
              0.8888888888888888,
              "#fdca26"
             ],
             [
              1,
              "#f0f921"
             ]
            ],
            "type": "histogram2dcontour"
           }
          ],
          "mesh3d": [
           {
            "colorbar": {
             "outlinewidth": 0,
             "ticks": ""
            },
            "type": "mesh3d"
           }
          ],
          "parcoords": [
           {
            "line": {
             "colorbar": {
              "outlinewidth": 0,
              "ticks": ""
             }
            },
            "type": "parcoords"
           }
          ],
          "pie": [
           {
            "automargin": true,
            "type": "pie"
           }
          ],
          "scatter": [
           {
            "fillpattern": {
             "fillmode": "overlay",
             "size": 10,
             "solidity": 0.2
            },
            "type": "scatter"
           }
          ],
          "scatter3d": [
           {
            "line": {
             "colorbar": {
              "outlinewidth": 0,
              "ticks": ""
             }
            },
            "marker": {
             "colorbar": {
              "outlinewidth": 0,
              "ticks": ""
             }
            },
            "type": "scatter3d"
           }
          ],
          "scattercarpet": [
           {
            "marker": {
             "colorbar": {
              "outlinewidth": 0,
              "ticks": ""
             }
            },
            "type": "scattercarpet"
           }
          ],
          "scattergeo": [
           {
            "marker": {
             "colorbar": {
              "outlinewidth": 0,
              "ticks": ""
             }
            },
            "type": "scattergeo"
           }
          ],
          "scattergl": [
           {
            "marker": {
             "colorbar": {
              "outlinewidth": 0,
              "ticks": ""
             }
            },
            "type": "scattergl"
           }
          ],
          "scattermap": [
           {
            "marker": {
             "colorbar": {
              "outlinewidth": 0,
              "ticks": ""
             }
            },
            "type": "scattermap"
           }
          ],
          "scattermapbox": [
           {
            "marker": {
             "colorbar": {
              "outlinewidth": 0,
              "ticks": ""
             }
            },
            "type": "scattermapbox"
           }
          ],
          "scatterpolar": [
           {
            "marker": {
             "colorbar": {
              "outlinewidth": 0,
              "ticks": ""
             }
            },
            "type": "scatterpolar"
           }
          ],
          "scatterpolargl": [
           {
            "marker": {
             "colorbar": {
              "outlinewidth": 0,
              "ticks": ""
             }
            },
            "type": "scatterpolargl"
           }
          ],
          "scatterternary": [
           {
            "marker": {
             "colorbar": {
              "outlinewidth": 0,
              "ticks": ""
             }
            },
            "type": "scatterternary"
           }
          ],
          "surface": [
           {
            "colorbar": {
             "outlinewidth": 0,
             "ticks": ""
            },
            "colorscale": [
             [
              0,
              "#0d0887"
             ],
             [
              0.1111111111111111,
              "#46039f"
             ],
             [
              0.2222222222222222,
              "#7201a8"
             ],
             [
              0.3333333333333333,
              "#9c179e"
             ],
             [
              0.4444444444444444,
              "#bd3786"
             ],
             [
              0.5555555555555556,
              "#d8576b"
             ],
             [
              0.6666666666666666,
              "#ed7953"
             ],
             [
              0.7777777777777778,
              "#fb9f3a"
             ],
             [
              0.8888888888888888,
              "#fdca26"
             ],
             [
              1,
              "#f0f921"
             ]
            ],
            "type": "surface"
           }
          ],
          "table": [
           {
            "cells": {
             "fill": {
              "color": "#EBF0F8"
             },
             "line": {
              "color": "white"
             }
            },
            "header": {
             "fill": {
              "color": "#C8D4E3"
             },
             "line": {
              "color": "white"
             }
            },
            "type": "table"
           }
          ]
         },
         "layout": {
          "annotationdefaults": {
           "arrowcolor": "#2a3f5f",
           "arrowhead": 0,
           "arrowwidth": 1
          },
          "autotypenumbers": "strict",
          "coloraxis": {
           "colorbar": {
            "outlinewidth": 0,
            "ticks": ""
           }
          },
          "colorscale": {
           "diverging": [
            [
             0,
             "#8e0152"
            ],
            [
             0.1,
             "#c51b7d"
            ],
            [
             0.2,
             "#de77ae"
            ],
            [
             0.3,
             "#f1b6da"
            ],
            [
             0.4,
             "#fde0ef"
            ],
            [
             0.5,
             "#f7f7f7"
            ],
            [
             0.6,
             "#e6f5d0"
            ],
            [
             0.7,
             "#b8e186"
            ],
            [
             0.8,
             "#7fbc41"
            ],
            [
             0.9,
             "#4d9221"
            ],
            [
             1,
             "#276419"
            ]
           ],
           "sequential": [
            [
             0,
             "#0d0887"
            ],
            [
             0.1111111111111111,
             "#46039f"
            ],
            [
             0.2222222222222222,
             "#7201a8"
            ],
            [
             0.3333333333333333,
             "#9c179e"
            ],
            [
             0.4444444444444444,
             "#bd3786"
            ],
            [
             0.5555555555555556,
             "#d8576b"
            ],
            [
             0.6666666666666666,
             "#ed7953"
            ],
            [
             0.7777777777777778,
             "#fb9f3a"
            ],
            [
             0.8888888888888888,
             "#fdca26"
            ],
            [
             1,
             "#f0f921"
            ]
           ],
           "sequentialminus": [
            [
             0,
             "#0d0887"
            ],
            [
             0.1111111111111111,
             "#46039f"
            ],
            [
             0.2222222222222222,
             "#7201a8"
            ],
            [
             0.3333333333333333,
             "#9c179e"
            ],
            [
             0.4444444444444444,
             "#bd3786"
            ],
            [
             0.5555555555555556,
             "#d8576b"
            ],
            [
             0.6666666666666666,
             "#ed7953"
            ],
            [
             0.7777777777777778,
             "#fb9f3a"
            ],
            [
             0.8888888888888888,
             "#fdca26"
            ],
            [
             1,
             "#f0f921"
            ]
           ]
          },
          "colorway": [
           "#636efa",
           "#EF553B",
           "#00cc96",
           "#ab63fa",
           "#FFA15A",
           "#19d3f3",
           "#FF6692",
           "#B6E880",
           "#FF97FF",
           "#FECB52"
          ],
          "font": {
           "color": "#2a3f5f"
          },
          "geo": {
           "bgcolor": "white",
           "lakecolor": "white",
           "landcolor": "white",
           "showlakes": true,
           "showland": true,
           "subunitcolor": "#C8D4E3"
          },
          "hoverlabel": {
           "align": "left"
          },
          "hovermode": "closest",
          "mapbox": {
           "style": "light"
          },
          "paper_bgcolor": "white",
          "plot_bgcolor": "white",
          "polar": {
           "angularaxis": {
            "gridcolor": "#EBF0F8",
            "linecolor": "#EBF0F8",
            "ticks": ""
           },
           "bgcolor": "white",
           "radialaxis": {
            "gridcolor": "#EBF0F8",
            "linecolor": "#EBF0F8",
            "ticks": ""
           }
          },
          "scene": {
           "xaxis": {
            "backgroundcolor": "white",
            "gridcolor": "#DFE8F3",
            "gridwidth": 2,
            "linecolor": "#EBF0F8",
            "showbackground": true,
            "ticks": "",
            "zerolinecolor": "#EBF0F8"
           },
           "yaxis": {
            "backgroundcolor": "white",
            "gridcolor": "#DFE8F3",
            "gridwidth": 2,
            "linecolor": "#EBF0F8",
            "showbackground": true,
            "ticks": "",
            "zerolinecolor": "#EBF0F8"
           },
           "zaxis": {
            "backgroundcolor": "white",
            "gridcolor": "#DFE8F3",
            "gridwidth": 2,
            "linecolor": "#EBF0F8",
            "showbackground": true,
            "ticks": "",
            "zerolinecolor": "#EBF0F8"
           }
          },
          "shapedefaults": {
           "line": {
            "color": "#2a3f5f"
           }
          },
          "ternary": {
           "aaxis": {
            "gridcolor": "#DFE8F3",
            "linecolor": "#A2B1C6",
            "ticks": ""
           },
           "baxis": {
            "gridcolor": "#DFE8F3",
            "linecolor": "#A2B1C6",
            "ticks": ""
           },
           "bgcolor": "white",
           "caxis": {
            "gridcolor": "#DFE8F3",
            "linecolor": "#A2B1C6",
            "ticks": ""
           }
          },
          "title": {
           "x": 0.05
          },
          "xaxis": {
           "automargin": true,
           "gridcolor": "#EBF0F8",
           "linecolor": "#EBF0F8",
           "ticks": "",
           "title": {
            "standoff": 15
           },
           "zerolinecolor": "#EBF0F8",
           "zerolinewidth": 2
          },
          "yaxis": {
           "automargin": true,
           "gridcolor": "#EBF0F8",
           "linecolor": "#EBF0F8",
           "ticks": "",
           "title": {
            "standoff": 15
           },
           "zerolinecolor": "#EBF0F8",
           "zerolinewidth": 2
          }
         }
        },
        "title": {
         "text": "Rendimentos Tributaveis por Centil"
        },
        "xaxis": {
         "anchor": "y",
         "domain": [
          0,
          1
         ],
         "title": {
          "text": "Centil"
         }
        },
        "yaxis": {
         "anchor": "x",
         "domain": [
          0,
          1
         ],
         "title": {
          "text": "Rendimentos Tributaveis"
         }
        }
       }
      }
     },
     "metadata": {},
     "output_type": "display_data"
    }
   ],
   "source": [
    "plot_limite_superior_rendimentos(df_99centil)"
   ]
  },
  {
   "cell_type": "markdown",
   "metadata": {},
   "source": [
    "Até o 80º centil, o limite superior cresce de forma quase linear.\n",
    "\n",
    "No 80º centil, a renda superior é de 82 mil.\n",
    "\n",
    "Do 80 ao 90 esse crescimento se acelera, ou seja, mais concentração de renda.\n",
    "\n",
    "O limite superior do 90º centil é de 129 mil.\n",
    "\n",
    "Mas do 90 em diante, ou seja, os 10% contribuintes mais ricos, o crescimento vira exponencial.\n",
    "\n",
    "A concentração de renda se acentua.\n",
    "\n",
    "O limite superior do 99º centil é de 392 mil de renda tributável bruta por ano.\n",
    "\n",
    "Mas a Receita divide o último centil, os 1% mais ricos, em 10 parcelas - 10 decis.\n",
    "\n",
    "Ou seja o 1% mais rico é dividido, do 0,99% mais rico ao 0,1% mais rico.\n",
    "\n",
    "A distribuição é a seguinte:"
   ]
  },
  {
   "cell_type": "code",
   "execution_count": 19,
   "metadata": {},
   "outputs": [
    {
     "data": {
      "application/vnd.plotly.v1+json": {
       "config": {
        "plotlyServerURL": "https://plot.ly"
       },
       "data": [
        {
         "hovertemplate": "Centil=%{x}<br>Rendimentos Tributaveis - Limite Superior da RTB do Centil [R$ milhões]=%{y}<extra></extra>",
         "legendgroup": "",
         "marker": {
          "color": "#636efa",
          "pattern": {
           "shape": ""
          }
         },
         "name": "",
         "orientation": "v",
         "showlegend": false,
         "textposition": "auto",
         "type": "bar",
         "x": {
          "bdata": "AQIDBAUGBwgJ",
          "dtype": "i1"
         },
         "xaxis": "x",
         "y": {
          "bdata": "pHA9CkG+GEFcj8L1NsYZQSlcj8LYsRpBZmZmZiXiG0GF61G4v14dQTMzMzM5Vh9BZmZmZilLIUGuR+H6L0QkQT0K16O3mCtB",
          "dtype": "f8"
         },
         "yaxis": "y"
        }
       ],
       "layout": {
        "barmode": "relative",
        "legend": {
         "tracegroupgap": 0
        },
        "template": {
         "data": {
          "bar": [
           {
            "error_x": {
             "color": "#2a3f5f"
            },
            "error_y": {
             "color": "#2a3f5f"
            },
            "marker": {
             "line": {
              "color": "white",
              "width": 0.5
             },
             "pattern": {
              "fillmode": "overlay",
              "size": 10,
              "solidity": 0.2
             }
            },
            "type": "bar"
           }
          ],
          "barpolar": [
           {
            "marker": {
             "line": {
              "color": "white",
              "width": 0.5
             },
             "pattern": {
              "fillmode": "overlay",
              "size": 10,
              "solidity": 0.2
             }
            },
            "type": "barpolar"
           }
          ],
          "carpet": [
           {
            "aaxis": {
             "endlinecolor": "#2a3f5f",
             "gridcolor": "#C8D4E3",
             "linecolor": "#C8D4E3",
             "minorgridcolor": "#C8D4E3",
             "startlinecolor": "#2a3f5f"
            },
            "baxis": {
             "endlinecolor": "#2a3f5f",
             "gridcolor": "#C8D4E3",
             "linecolor": "#C8D4E3",
             "minorgridcolor": "#C8D4E3",
             "startlinecolor": "#2a3f5f"
            },
            "type": "carpet"
           }
          ],
          "choropleth": [
           {
            "colorbar": {
             "outlinewidth": 0,
             "ticks": ""
            },
            "type": "choropleth"
           }
          ],
          "contour": [
           {
            "colorbar": {
             "outlinewidth": 0,
             "ticks": ""
            },
            "colorscale": [
             [
              0,
              "#0d0887"
             ],
             [
              0.1111111111111111,
              "#46039f"
             ],
             [
              0.2222222222222222,
              "#7201a8"
             ],
             [
              0.3333333333333333,
              "#9c179e"
             ],
             [
              0.4444444444444444,
              "#bd3786"
             ],
             [
              0.5555555555555556,
              "#d8576b"
             ],
             [
              0.6666666666666666,
              "#ed7953"
             ],
             [
              0.7777777777777778,
              "#fb9f3a"
             ],
             [
              0.8888888888888888,
              "#fdca26"
             ],
             [
              1,
              "#f0f921"
             ]
            ],
            "type": "contour"
           }
          ],
          "contourcarpet": [
           {
            "colorbar": {
             "outlinewidth": 0,
             "ticks": ""
            },
            "type": "contourcarpet"
           }
          ],
          "heatmap": [
           {
            "colorbar": {
             "outlinewidth": 0,
             "ticks": ""
            },
            "colorscale": [
             [
              0,
              "#0d0887"
             ],
             [
              0.1111111111111111,
              "#46039f"
             ],
             [
              0.2222222222222222,
              "#7201a8"
             ],
             [
              0.3333333333333333,
              "#9c179e"
             ],
             [
              0.4444444444444444,
              "#bd3786"
             ],
             [
              0.5555555555555556,
              "#d8576b"
             ],
             [
              0.6666666666666666,
              "#ed7953"
             ],
             [
              0.7777777777777778,
              "#fb9f3a"
             ],
             [
              0.8888888888888888,
              "#fdca26"
             ],
             [
              1,
              "#f0f921"
             ]
            ],
            "type": "heatmap"
           }
          ],
          "histogram": [
           {
            "marker": {
             "pattern": {
              "fillmode": "overlay",
              "size": 10,
              "solidity": 0.2
             }
            },
            "type": "histogram"
           }
          ],
          "histogram2d": [
           {
            "colorbar": {
             "outlinewidth": 0,
             "ticks": ""
            },
            "colorscale": [
             [
              0,
              "#0d0887"
             ],
             [
              0.1111111111111111,
              "#46039f"
             ],
             [
              0.2222222222222222,
              "#7201a8"
             ],
             [
              0.3333333333333333,
              "#9c179e"
             ],
             [
              0.4444444444444444,
              "#bd3786"
             ],
             [
              0.5555555555555556,
              "#d8576b"
             ],
             [
              0.6666666666666666,
              "#ed7953"
             ],
             [
              0.7777777777777778,
              "#fb9f3a"
             ],
             [
              0.8888888888888888,
              "#fdca26"
             ],
             [
              1,
              "#f0f921"
             ]
            ],
            "type": "histogram2d"
           }
          ],
          "histogram2dcontour": [
           {
            "colorbar": {
             "outlinewidth": 0,
             "ticks": ""
            },
            "colorscale": [
             [
              0,
              "#0d0887"
             ],
             [
              0.1111111111111111,
              "#46039f"
             ],
             [
              0.2222222222222222,
              "#7201a8"
             ],
             [
              0.3333333333333333,
              "#9c179e"
             ],
             [
              0.4444444444444444,
              "#bd3786"
             ],
             [
              0.5555555555555556,
              "#d8576b"
             ],
             [
              0.6666666666666666,
              "#ed7953"
             ],
             [
              0.7777777777777778,
              "#fb9f3a"
             ],
             [
              0.8888888888888888,
              "#fdca26"
             ],
             [
              1,
              "#f0f921"
             ]
            ],
            "type": "histogram2dcontour"
           }
          ],
          "mesh3d": [
           {
            "colorbar": {
             "outlinewidth": 0,
             "ticks": ""
            },
            "type": "mesh3d"
           }
          ],
          "parcoords": [
           {
            "line": {
             "colorbar": {
              "outlinewidth": 0,
              "ticks": ""
             }
            },
            "type": "parcoords"
           }
          ],
          "pie": [
           {
            "automargin": true,
            "type": "pie"
           }
          ],
          "scatter": [
           {
            "fillpattern": {
             "fillmode": "overlay",
             "size": 10,
             "solidity": 0.2
            },
            "type": "scatter"
           }
          ],
          "scatter3d": [
           {
            "line": {
             "colorbar": {
              "outlinewidth": 0,
              "ticks": ""
             }
            },
            "marker": {
             "colorbar": {
              "outlinewidth": 0,
              "ticks": ""
             }
            },
            "type": "scatter3d"
           }
          ],
          "scattercarpet": [
           {
            "marker": {
             "colorbar": {
              "outlinewidth": 0,
              "ticks": ""
             }
            },
            "type": "scattercarpet"
           }
          ],
          "scattergeo": [
           {
            "marker": {
             "colorbar": {
              "outlinewidth": 0,
              "ticks": ""
             }
            },
            "type": "scattergeo"
           }
          ],
          "scattergl": [
           {
            "marker": {
             "colorbar": {
              "outlinewidth": 0,
              "ticks": ""
             }
            },
            "type": "scattergl"
           }
          ],
          "scattermap": [
           {
            "marker": {
             "colorbar": {
              "outlinewidth": 0,
              "ticks": ""
             }
            },
            "type": "scattermap"
           }
          ],
          "scattermapbox": [
           {
            "marker": {
             "colorbar": {
              "outlinewidth": 0,
              "ticks": ""
             }
            },
            "type": "scattermapbox"
           }
          ],
          "scatterpolar": [
           {
            "marker": {
             "colorbar": {
              "outlinewidth": 0,
              "ticks": ""
             }
            },
            "type": "scatterpolar"
           }
          ],
          "scatterpolargl": [
           {
            "marker": {
             "colorbar": {
              "outlinewidth": 0,
              "ticks": ""
             }
            },
            "type": "scatterpolargl"
           }
          ],
          "scatterternary": [
           {
            "marker": {
             "colorbar": {
              "outlinewidth": 0,
              "ticks": ""
             }
            },
            "type": "scatterternary"
           }
          ],
          "surface": [
           {
            "colorbar": {
             "outlinewidth": 0,
             "ticks": ""
            },
            "colorscale": [
             [
              0,
              "#0d0887"
             ],
             [
              0.1111111111111111,
              "#46039f"
             ],
             [
              0.2222222222222222,
              "#7201a8"
             ],
             [
              0.3333333333333333,
              "#9c179e"
             ],
             [
              0.4444444444444444,
              "#bd3786"
             ],
             [
              0.5555555555555556,
              "#d8576b"
             ],
             [
              0.6666666666666666,
              "#ed7953"
             ],
             [
              0.7777777777777778,
              "#fb9f3a"
             ],
             [
              0.8888888888888888,
              "#fdca26"
             ],
             [
              1,
              "#f0f921"
             ]
            ],
            "type": "surface"
           }
          ],
          "table": [
           {
            "cells": {
             "fill": {
              "color": "#EBF0F8"
             },
             "line": {
              "color": "white"
             }
            },
            "header": {
             "fill": {
              "color": "#C8D4E3"
             },
             "line": {
              "color": "white"
             }
            },
            "type": "table"
           }
          ]
         },
         "layout": {
          "annotationdefaults": {
           "arrowcolor": "#2a3f5f",
           "arrowhead": 0,
           "arrowwidth": 1
          },
          "autotypenumbers": "strict",
          "coloraxis": {
           "colorbar": {
            "outlinewidth": 0,
            "ticks": ""
           }
          },
          "colorscale": {
           "diverging": [
            [
             0,
             "#8e0152"
            ],
            [
             0.1,
             "#c51b7d"
            ],
            [
             0.2,
             "#de77ae"
            ],
            [
             0.3,
             "#f1b6da"
            ],
            [
             0.4,
             "#fde0ef"
            ],
            [
             0.5,
             "#f7f7f7"
            ],
            [
             0.6,
             "#e6f5d0"
            ],
            [
             0.7,
             "#b8e186"
            ],
            [
             0.8,
             "#7fbc41"
            ],
            [
             0.9,
             "#4d9221"
            ],
            [
             1,
             "#276419"
            ]
           ],
           "sequential": [
            [
             0,
             "#0d0887"
            ],
            [
             0.1111111111111111,
             "#46039f"
            ],
            [
             0.2222222222222222,
             "#7201a8"
            ],
            [
             0.3333333333333333,
             "#9c179e"
            ],
            [
             0.4444444444444444,
             "#bd3786"
            ],
            [
             0.5555555555555556,
             "#d8576b"
            ],
            [
             0.6666666666666666,
             "#ed7953"
            ],
            [
             0.7777777777777778,
             "#fb9f3a"
            ],
            [
             0.8888888888888888,
             "#fdca26"
            ],
            [
             1,
             "#f0f921"
            ]
           ],
           "sequentialminus": [
            [
             0,
             "#0d0887"
            ],
            [
             0.1111111111111111,
             "#46039f"
            ],
            [
             0.2222222222222222,
             "#7201a8"
            ],
            [
             0.3333333333333333,
             "#9c179e"
            ],
            [
             0.4444444444444444,
             "#bd3786"
            ],
            [
             0.5555555555555556,
             "#d8576b"
            ],
            [
             0.6666666666666666,
             "#ed7953"
            ],
            [
             0.7777777777777778,
             "#fb9f3a"
            ],
            [
             0.8888888888888888,
             "#fdca26"
            ],
            [
             1,
             "#f0f921"
            ]
           ]
          },
          "colorway": [
           "#636efa",
           "#EF553B",
           "#00cc96",
           "#ab63fa",
           "#FFA15A",
           "#19d3f3",
           "#FF6692",
           "#B6E880",
           "#FF97FF",
           "#FECB52"
          ],
          "font": {
           "color": "#2a3f5f"
          },
          "geo": {
           "bgcolor": "white",
           "lakecolor": "white",
           "landcolor": "white",
           "showlakes": true,
           "showland": true,
           "subunitcolor": "#C8D4E3"
          },
          "hoverlabel": {
           "align": "left"
          },
          "hovermode": "closest",
          "mapbox": {
           "style": "light"
          },
          "paper_bgcolor": "white",
          "plot_bgcolor": "white",
          "polar": {
           "angularaxis": {
            "gridcolor": "#EBF0F8",
            "linecolor": "#EBF0F8",
            "ticks": ""
           },
           "bgcolor": "white",
           "radialaxis": {
            "gridcolor": "#EBF0F8",
            "linecolor": "#EBF0F8",
            "ticks": ""
           }
          },
          "scene": {
           "xaxis": {
            "backgroundcolor": "white",
            "gridcolor": "#DFE8F3",
            "gridwidth": 2,
            "linecolor": "#EBF0F8",
            "showbackground": true,
            "ticks": "",
            "zerolinecolor": "#EBF0F8"
           },
           "yaxis": {
            "backgroundcolor": "white",
            "gridcolor": "#DFE8F3",
            "gridwidth": 2,
            "linecolor": "#EBF0F8",
            "showbackground": true,
            "ticks": "",
            "zerolinecolor": "#EBF0F8"
           },
           "zaxis": {
            "backgroundcolor": "white",
            "gridcolor": "#DFE8F3",
            "gridwidth": 2,
            "linecolor": "#EBF0F8",
            "showbackground": true,
            "ticks": "",
            "zerolinecolor": "#EBF0F8"
           }
          },
          "shapedefaults": {
           "line": {
            "color": "#2a3f5f"
           }
          },
          "ternary": {
           "aaxis": {
            "gridcolor": "#DFE8F3",
            "linecolor": "#A2B1C6",
            "ticks": ""
           },
           "baxis": {
            "gridcolor": "#DFE8F3",
            "linecolor": "#A2B1C6",
            "ticks": ""
           },
           "bgcolor": "white",
           "caxis": {
            "gridcolor": "#DFE8F3",
            "linecolor": "#A2B1C6",
            "ticks": ""
           }
          },
          "title": {
           "x": 0.05
          },
          "xaxis": {
           "automargin": true,
           "gridcolor": "#EBF0F8",
           "linecolor": "#EBF0F8",
           "ticks": "",
           "title": {
            "standoff": 15
           },
           "zerolinecolor": "#EBF0F8",
           "zerolinewidth": 2
          },
          "yaxis": {
           "automargin": true,
           "gridcolor": "#EBF0F8",
           "linecolor": "#EBF0F8",
           "ticks": "",
           "title": {
            "standoff": 15
           },
           "zerolinecolor": "#EBF0F8",
           "zerolinewidth": 2
          }
         }
        },
        "title": {
         "text": "Rendimentos Tributaveis por Centil"
        },
        "xaxis": {
         "anchor": "y",
         "domain": [
          0,
          1
         ],
         "title": {
          "text": "Centil"
         }
        },
        "yaxis": {
         "anchor": "x",
         "domain": [
          0,
          1
         ],
         "title": {
          "text": "Rendimentos Tributaveis"
         }
        }
       }
      }
     },
     "metadata": {},
     "output_type": "display_data"
    }
   ],
   "source": [
    "plot_limite_superior_rendimentos(df_last_centil)"
   ]
  },
  {
   "cell_type": "markdown",
   "metadata": {},
   "source": [
    "Novamente, excluí o 1% mais rico pra facilitar a visualização.\n",
    "\n",
    "O 0,1% mais pobre dos 1% mais ricos possui o limite superior de renda de 405 mil anuais.\n",
    "\n",
    "O último decil analisado (do 0,2% mais ricos até os 0,1%) possui renda de 904 mil anuais.\n",
    "\n",
    "A Receita ainda divide os 0,1% mais ricos em novas 10 partes. Vejamos:"
   ]
  },
  {
   "cell_type": "code",
   "execution_count": 20,
   "metadata": {},
   "outputs": [
    {
     "data": {
      "application/vnd.plotly.v1+json": {
       "config": {
        "plotlyServerURL": "https://plot.ly"
       },
       "data": [
        {
         "hovertemplate": "Centil=%{x}<br>Rendimentos Tributaveis - Limite Superior da RTB do Centil [R$ milhões]=%{y}<extra></extra>",
         "legendgroup": "",
         "marker": {
          "color": "#636efa",
          "pattern": {
           "shape": ""
          }
         },
         "name": "",
         "orientation": "v",
         "showlegend": false,
         "textposition": "auto",
         "type": "bar",
         "x": {
          "bdata": "AQIDBAUGBwgJ",
          "dtype": "i1"
         },
         "xaxis": "x",
         "y": {
          "bdata": "7FG4nvAVLUHhehQurssuQRSuR6GafjBBPQrXo47rMUGF61H4xskzQXE9ChcvgjZBCtejcBLGOkGamZm58kZBQSlcj+In3EpB",
          "dtype": "f8"
         },
         "yaxis": "y"
        }
       ],
       "layout": {
        "barmode": "relative",
        "legend": {
         "tracegroupgap": 0
        },
        "template": {
         "data": {
          "bar": [
           {
            "error_x": {
             "color": "#2a3f5f"
            },
            "error_y": {
             "color": "#2a3f5f"
            },
            "marker": {
             "line": {
              "color": "white",
              "width": 0.5
             },
             "pattern": {
              "fillmode": "overlay",
              "size": 10,
              "solidity": 0.2
             }
            },
            "type": "bar"
           }
          ],
          "barpolar": [
           {
            "marker": {
             "line": {
              "color": "white",
              "width": 0.5
             },
             "pattern": {
              "fillmode": "overlay",
              "size": 10,
              "solidity": 0.2
             }
            },
            "type": "barpolar"
           }
          ],
          "carpet": [
           {
            "aaxis": {
             "endlinecolor": "#2a3f5f",
             "gridcolor": "#C8D4E3",
             "linecolor": "#C8D4E3",
             "minorgridcolor": "#C8D4E3",
             "startlinecolor": "#2a3f5f"
            },
            "baxis": {
             "endlinecolor": "#2a3f5f",
             "gridcolor": "#C8D4E3",
             "linecolor": "#C8D4E3",
             "minorgridcolor": "#C8D4E3",
             "startlinecolor": "#2a3f5f"
            },
            "type": "carpet"
           }
          ],
          "choropleth": [
           {
            "colorbar": {
             "outlinewidth": 0,
             "ticks": ""
            },
            "type": "choropleth"
           }
          ],
          "contour": [
           {
            "colorbar": {
             "outlinewidth": 0,
             "ticks": ""
            },
            "colorscale": [
             [
              0,
              "#0d0887"
             ],
             [
              0.1111111111111111,
              "#46039f"
             ],
             [
              0.2222222222222222,
              "#7201a8"
             ],
             [
              0.3333333333333333,
              "#9c179e"
             ],
             [
              0.4444444444444444,
              "#bd3786"
             ],
             [
              0.5555555555555556,
              "#d8576b"
             ],
             [
              0.6666666666666666,
              "#ed7953"
             ],
             [
              0.7777777777777778,
              "#fb9f3a"
             ],
             [
              0.8888888888888888,
              "#fdca26"
             ],
             [
              1,
              "#f0f921"
             ]
            ],
            "type": "contour"
           }
          ],
          "contourcarpet": [
           {
            "colorbar": {
             "outlinewidth": 0,
             "ticks": ""
            },
            "type": "contourcarpet"
           }
          ],
          "heatmap": [
           {
            "colorbar": {
             "outlinewidth": 0,
             "ticks": ""
            },
            "colorscale": [
             [
              0,
              "#0d0887"
             ],
             [
              0.1111111111111111,
              "#46039f"
             ],
             [
              0.2222222222222222,
              "#7201a8"
             ],
             [
              0.3333333333333333,
              "#9c179e"
             ],
             [
              0.4444444444444444,
              "#bd3786"
             ],
             [
              0.5555555555555556,
              "#d8576b"
             ],
             [
              0.6666666666666666,
              "#ed7953"
             ],
             [
              0.7777777777777778,
              "#fb9f3a"
             ],
             [
              0.8888888888888888,
              "#fdca26"
             ],
             [
              1,
              "#f0f921"
             ]
            ],
            "type": "heatmap"
           }
          ],
          "histogram": [
           {
            "marker": {
             "pattern": {
              "fillmode": "overlay",
              "size": 10,
              "solidity": 0.2
             }
            },
            "type": "histogram"
           }
          ],
          "histogram2d": [
           {
            "colorbar": {
             "outlinewidth": 0,
             "ticks": ""
            },
            "colorscale": [
             [
              0,
              "#0d0887"
             ],
             [
              0.1111111111111111,
              "#46039f"
             ],
             [
              0.2222222222222222,
              "#7201a8"
             ],
             [
              0.3333333333333333,
              "#9c179e"
             ],
             [
              0.4444444444444444,
              "#bd3786"
             ],
             [
              0.5555555555555556,
              "#d8576b"
             ],
             [
              0.6666666666666666,
              "#ed7953"
             ],
             [
              0.7777777777777778,
              "#fb9f3a"
             ],
             [
              0.8888888888888888,
              "#fdca26"
             ],
             [
              1,
              "#f0f921"
             ]
            ],
            "type": "histogram2d"
           }
          ],
          "histogram2dcontour": [
           {
            "colorbar": {
             "outlinewidth": 0,
             "ticks": ""
            },
            "colorscale": [
             [
              0,
              "#0d0887"
             ],
             [
              0.1111111111111111,
              "#46039f"
             ],
             [
              0.2222222222222222,
              "#7201a8"
             ],
             [
              0.3333333333333333,
              "#9c179e"
             ],
             [
              0.4444444444444444,
              "#bd3786"
             ],
             [
              0.5555555555555556,
              "#d8576b"
             ],
             [
              0.6666666666666666,
              "#ed7953"
             ],
             [
              0.7777777777777778,
              "#fb9f3a"
             ],
             [
              0.8888888888888888,
              "#fdca26"
             ],
             [
              1,
              "#f0f921"
             ]
            ],
            "type": "histogram2dcontour"
           }
          ],
          "mesh3d": [
           {
            "colorbar": {
             "outlinewidth": 0,
             "ticks": ""
            },
            "type": "mesh3d"
           }
          ],
          "parcoords": [
           {
            "line": {
             "colorbar": {
              "outlinewidth": 0,
              "ticks": ""
             }
            },
            "type": "parcoords"
           }
          ],
          "pie": [
           {
            "automargin": true,
            "type": "pie"
           }
          ],
          "scatter": [
           {
            "fillpattern": {
             "fillmode": "overlay",
             "size": 10,
             "solidity": 0.2
            },
            "type": "scatter"
           }
          ],
          "scatter3d": [
           {
            "line": {
             "colorbar": {
              "outlinewidth": 0,
              "ticks": ""
             }
            },
            "marker": {
             "colorbar": {
              "outlinewidth": 0,
              "ticks": ""
             }
            },
            "type": "scatter3d"
           }
          ],
          "scattercarpet": [
           {
            "marker": {
             "colorbar": {
              "outlinewidth": 0,
              "ticks": ""
             }
            },
            "type": "scattercarpet"
           }
          ],
          "scattergeo": [
           {
            "marker": {
             "colorbar": {
              "outlinewidth": 0,
              "ticks": ""
             }
            },
            "type": "scattergeo"
           }
          ],
          "scattergl": [
           {
            "marker": {
             "colorbar": {
              "outlinewidth": 0,
              "ticks": ""
             }
            },
            "type": "scattergl"
           }
          ],
          "scattermap": [
           {
            "marker": {
             "colorbar": {
              "outlinewidth": 0,
              "ticks": ""
             }
            },
            "type": "scattermap"
           }
          ],
          "scattermapbox": [
           {
            "marker": {
             "colorbar": {
              "outlinewidth": 0,
              "ticks": ""
             }
            },
            "type": "scattermapbox"
           }
          ],
          "scatterpolar": [
           {
            "marker": {
             "colorbar": {
              "outlinewidth": 0,
              "ticks": ""
             }
            },
            "type": "scatterpolar"
           }
          ],
          "scatterpolargl": [
           {
            "marker": {
             "colorbar": {
              "outlinewidth": 0,
              "ticks": ""
             }
            },
            "type": "scatterpolargl"
           }
          ],
          "scatterternary": [
           {
            "marker": {
             "colorbar": {
              "outlinewidth": 0,
              "ticks": ""
             }
            },
            "type": "scatterternary"
           }
          ],
          "surface": [
           {
            "colorbar": {
             "outlinewidth": 0,
             "ticks": ""
            },
            "colorscale": [
             [
              0,
              "#0d0887"
             ],
             [
              0.1111111111111111,
              "#46039f"
             ],
             [
              0.2222222222222222,
              "#7201a8"
             ],
             [
              0.3333333333333333,
              "#9c179e"
             ],
             [
              0.4444444444444444,
              "#bd3786"
             ],
             [
              0.5555555555555556,
              "#d8576b"
             ],
             [
              0.6666666666666666,
              "#ed7953"
             ],
             [
              0.7777777777777778,
              "#fb9f3a"
             ],
             [
              0.8888888888888888,
              "#fdca26"
             ],
             [
              1,
              "#f0f921"
             ]
            ],
            "type": "surface"
           }
          ],
          "table": [
           {
            "cells": {
             "fill": {
              "color": "#EBF0F8"
             },
             "line": {
              "color": "white"
             }
            },
            "header": {
             "fill": {
              "color": "#C8D4E3"
             },
             "line": {
              "color": "white"
             }
            },
            "type": "table"
           }
          ]
         },
         "layout": {
          "annotationdefaults": {
           "arrowcolor": "#2a3f5f",
           "arrowhead": 0,
           "arrowwidth": 1
          },
          "autotypenumbers": "strict",
          "coloraxis": {
           "colorbar": {
            "outlinewidth": 0,
            "ticks": ""
           }
          },
          "colorscale": {
           "diverging": [
            [
             0,
             "#8e0152"
            ],
            [
             0.1,
             "#c51b7d"
            ],
            [
             0.2,
             "#de77ae"
            ],
            [
             0.3,
             "#f1b6da"
            ],
            [
             0.4,
             "#fde0ef"
            ],
            [
             0.5,
             "#f7f7f7"
            ],
            [
             0.6,
             "#e6f5d0"
            ],
            [
             0.7,
             "#b8e186"
            ],
            [
             0.8,
             "#7fbc41"
            ],
            [
             0.9,
             "#4d9221"
            ],
            [
             1,
             "#276419"
            ]
           ],
           "sequential": [
            [
             0,
             "#0d0887"
            ],
            [
             0.1111111111111111,
             "#46039f"
            ],
            [
             0.2222222222222222,
             "#7201a8"
            ],
            [
             0.3333333333333333,
             "#9c179e"
            ],
            [
             0.4444444444444444,
             "#bd3786"
            ],
            [
             0.5555555555555556,
             "#d8576b"
            ],
            [
             0.6666666666666666,
             "#ed7953"
            ],
            [
             0.7777777777777778,
             "#fb9f3a"
            ],
            [
             0.8888888888888888,
             "#fdca26"
            ],
            [
             1,
             "#f0f921"
            ]
           ],
           "sequentialminus": [
            [
             0,
             "#0d0887"
            ],
            [
             0.1111111111111111,
             "#46039f"
            ],
            [
             0.2222222222222222,
             "#7201a8"
            ],
            [
             0.3333333333333333,
             "#9c179e"
            ],
            [
             0.4444444444444444,
             "#bd3786"
            ],
            [
             0.5555555555555556,
             "#d8576b"
            ],
            [
             0.6666666666666666,
             "#ed7953"
            ],
            [
             0.7777777777777778,
             "#fb9f3a"
            ],
            [
             0.8888888888888888,
             "#fdca26"
            ],
            [
             1,
             "#f0f921"
            ]
           ]
          },
          "colorway": [
           "#636efa",
           "#EF553B",
           "#00cc96",
           "#ab63fa",
           "#FFA15A",
           "#19d3f3",
           "#FF6692",
           "#B6E880",
           "#FF97FF",
           "#FECB52"
          ],
          "font": {
           "color": "#2a3f5f"
          },
          "geo": {
           "bgcolor": "white",
           "lakecolor": "white",
           "landcolor": "white",
           "showlakes": true,
           "showland": true,
           "subunitcolor": "#C8D4E3"
          },
          "hoverlabel": {
           "align": "left"
          },
          "hovermode": "closest",
          "mapbox": {
           "style": "light"
          },
          "paper_bgcolor": "white",
          "plot_bgcolor": "white",
          "polar": {
           "angularaxis": {
            "gridcolor": "#EBF0F8",
            "linecolor": "#EBF0F8",
            "ticks": ""
           },
           "bgcolor": "white",
           "radialaxis": {
            "gridcolor": "#EBF0F8",
            "linecolor": "#EBF0F8",
            "ticks": ""
           }
          },
          "scene": {
           "xaxis": {
            "backgroundcolor": "white",
            "gridcolor": "#DFE8F3",
            "gridwidth": 2,
            "linecolor": "#EBF0F8",
            "showbackground": true,
            "ticks": "",
            "zerolinecolor": "#EBF0F8"
           },
           "yaxis": {
            "backgroundcolor": "white",
            "gridcolor": "#DFE8F3",
            "gridwidth": 2,
            "linecolor": "#EBF0F8",
            "showbackground": true,
            "ticks": "",
            "zerolinecolor": "#EBF0F8"
           },
           "zaxis": {
            "backgroundcolor": "white",
            "gridcolor": "#DFE8F3",
            "gridwidth": 2,
            "linecolor": "#EBF0F8",
            "showbackground": true,
            "ticks": "",
            "zerolinecolor": "#EBF0F8"
           }
          },
          "shapedefaults": {
           "line": {
            "color": "#2a3f5f"
           }
          },
          "ternary": {
           "aaxis": {
            "gridcolor": "#DFE8F3",
            "linecolor": "#A2B1C6",
            "ticks": ""
           },
           "baxis": {
            "gridcolor": "#DFE8F3",
            "linecolor": "#A2B1C6",
            "ticks": ""
           },
           "bgcolor": "white",
           "caxis": {
            "gridcolor": "#DFE8F3",
            "linecolor": "#A2B1C6",
            "ticks": ""
           }
          },
          "title": {
           "x": 0.05
          },
          "xaxis": {
           "automargin": true,
           "gridcolor": "#EBF0F8",
           "linecolor": "#EBF0F8",
           "ticks": "",
           "title": {
            "standoff": 15
           },
           "zerolinecolor": "#EBF0F8",
           "zerolinewidth": 2
          },
          "yaxis": {
           "automargin": true,
           "gridcolor": "#EBF0F8",
           "linecolor": "#EBF0F8",
           "ticks": "",
           "title": {
            "standoff": 15
           },
           "zerolinecolor": "#EBF0F8",
           "zerolinewidth": 2
          }
         }
        },
        "title": {
         "text": "Rendimentos Tributaveis por Centil"
        },
        "xaxis": {
         "anchor": "y",
         "domain": [
          0,
          1
         ],
         "title": {
          "text": "Centil"
         }
        },
        "yaxis": {
         "anchor": "x",
         "domain": [
          0,
          1
         ],
         "title": {
          "text": "Rendimentos Tributaveis"
         }
        }
       }
      }
     },
     "metadata": {},
     "output_type": "display_data"
    }
   ],
   "source": [
    "plot_limite_superior_rendimentos(df_last_milezil_without_last)"
   ]
  },
  {
   "cell_type": "markdown",
   "metadata": {},
   "source": [
    "Novamente, excluí os 0,01% mais ricos.\n",
    "\n",
    "A primeira parte dos 0,1% mais ricos ganha até 953 mil por ano - nada mal.\n",
    "\n",
    "A penúltima parte, os 0,02% mais ricos, ganha até 3 milhões e 521 mil por ano.\n",
    "\n",
    "E os 0,01%? Vamo lá:"
   ]
  },
  {
   "cell_type": "code",
   "execution_count": 21,
   "metadata": {},
   "outputs": [
    {
     "data": {
      "application/vnd.plotly.v1+json": {
       "config": {
        "plotlyServerURL": "https://plot.ly"
       },
       "data": [
        {
         "hovertemplate": "Centil=%{x}<br>Rendimentos Tributaveis - Limite Superior da RTB do Centil [R$ milhões]=%{y}<extra></extra>",
         "legendgroup": "",
         "marker": {
          "color": "#636efa",
          "pattern": {
           "shape": ""
          }
         },
         "name": "",
         "orientation": "v",
         "showlegend": false,
         "textposition": "auto",
         "type": "bar",
         "x": {
          "bdata": "AQIDBAUGBwgJCg==",
          "dtype": "i1"
         },
         "xaxis": "x",
         "y": {
          "bdata": "7FG4nvAVLUHhehQurssuQRSuR6GafjBBPQrXo47rMUGF61H4xskzQXE9ChcvgjZBCtejcBLGOkGamZm58kZBQSlcj+In3EpBH4Xr3z23s0E=",
          "dtype": "f8"
         },
         "yaxis": "y"
        }
       ],
       "layout": {
        "barmode": "relative",
        "legend": {
         "tracegroupgap": 0
        },
        "template": {
         "data": {
          "bar": [
           {
            "error_x": {
             "color": "#2a3f5f"
            },
            "error_y": {
             "color": "#2a3f5f"
            },
            "marker": {
             "line": {
              "color": "white",
              "width": 0.5
             },
             "pattern": {
              "fillmode": "overlay",
              "size": 10,
              "solidity": 0.2
             }
            },
            "type": "bar"
           }
          ],
          "barpolar": [
           {
            "marker": {
             "line": {
              "color": "white",
              "width": 0.5
             },
             "pattern": {
              "fillmode": "overlay",
              "size": 10,
              "solidity": 0.2
             }
            },
            "type": "barpolar"
           }
          ],
          "carpet": [
           {
            "aaxis": {
             "endlinecolor": "#2a3f5f",
             "gridcolor": "#C8D4E3",
             "linecolor": "#C8D4E3",
             "minorgridcolor": "#C8D4E3",
             "startlinecolor": "#2a3f5f"
            },
            "baxis": {
             "endlinecolor": "#2a3f5f",
             "gridcolor": "#C8D4E3",
             "linecolor": "#C8D4E3",
             "minorgridcolor": "#C8D4E3",
             "startlinecolor": "#2a3f5f"
            },
            "type": "carpet"
           }
          ],
          "choropleth": [
           {
            "colorbar": {
             "outlinewidth": 0,
             "ticks": ""
            },
            "type": "choropleth"
           }
          ],
          "contour": [
           {
            "colorbar": {
             "outlinewidth": 0,
             "ticks": ""
            },
            "colorscale": [
             [
              0,
              "#0d0887"
             ],
             [
              0.1111111111111111,
              "#46039f"
             ],
             [
              0.2222222222222222,
              "#7201a8"
             ],
             [
              0.3333333333333333,
              "#9c179e"
             ],
             [
              0.4444444444444444,
              "#bd3786"
             ],
             [
              0.5555555555555556,
              "#d8576b"
             ],
             [
              0.6666666666666666,
              "#ed7953"
             ],
             [
              0.7777777777777778,
              "#fb9f3a"
             ],
             [
              0.8888888888888888,
              "#fdca26"
             ],
             [
              1,
              "#f0f921"
             ]
            ],
            "type": "contour"
           }
          ],
          "contourcarpet": [
           {
            "colorbar": {
             "outlinewidth": 0,
             "ticks": ""
            },
            "type": "contourcarpet"
           }
          ],
          "heatmap": [
           {
            "colorbar": {
             "outlinewidth": 0,
             "ticks": ""
            },
            "colorscale": [
             [
              0,
              "#0d0887"
             ],
             [
              0.1111111111111111,
              "#46039f"
             ],
             [
              0.2222222222222222,
              "#7201a8"
             ],
             [
              0.3333333333333333,
              "#9c179e"
             ],
             [
              0.4444444444444444,
              "#bd3786"
             ],
             [
              0.5555555555555556,
              "#d8576b"
             ],
             [
              0.6666666666666666,
              "#ed7953"
             ],
             [
              0.7777777777777778,
              "#fb9f3a"
             ],
             [
              0.8888888888888888,
              "#fdca26"
             ],
             [
              1,
              "#f0f921"
             ]
            ],
            "type": "heatmap"
           }
          ],
          "histogram": [
           {
            "marker": {
             "pattern": {
              "fillmode": "overlay",
              "size": 10,
              "solidity": 0.2
             }
            },
            "type": "histogram"
           }
          ],
          "histogram2d": [
           {
            "colorbar": {
             "outlinewidth": 0,
             "ticks": ""
            },
            "colorscale": [
             [
              0,
              "#0d0887"
             ],
             [
              0.1111111111111111,
              "#46039f"
             ],
             [
              0.2222222222222222,
              "#7201a8"
             ],
             [
              0.3333333333333333,
              "#9c179e"
             ],
             [
              0.4444444444444444,
              "#bd3786"
             ],
             [
              0.5555555555555556,
              "#d8576b"
             ],
             [
              0.6666666666666666,
              "#ed7953"
             ],
             [
              0.7777777777777778,
              "#fb9f3a"
             ],
             [
              0.8888888888888888,
              "#fdca26"
             ],
             [
              1,
              "#f0f921"
             ]
            ],
            "type": "histogram2d"
           }
          ],
          "histogram2dcontour": [
           {
            "colorbar": {
             "outlinewidth": 0,
             "ticks": ""
            },
            "colorscale": [
             [
              0,
              "#0d0887"
             ],
             [
              0.1111111111111111,
              "#46039f"
             ],
             [
              0.2222222222222222,
              "#7201a8"
             ],
             [
              0.3333333333333333,
              "#9c179e"
             ],
             [
              0.4444444444444444,
              "#bd3786"
             ],
             [
              0.5555555555555556,
              "#d8576b"
             ],
             [
              0.6666666666666666,
              "#ed7953"
             ],
             [
              0.7777777777777778,
              "#fb9f3a"
             ],
             [
              0.8888888888888888,
              "#fdca26"
             ],
             [
              1,
              "#f0f921"
             ]
            ],
            "type": "histogram2dcontour"
           }
          ],
          "mesh3d": [
           {
            "colorbar": {
             "outlinewidth": 0,
             "ticks": ""
            },
            "type": "mesh3d"
           }
          ],
          "parcoords": [
           {
            "line": {
             "colorbar": {
              "outlinewidth": 0,
              "ticks": ""
             }
            },
            "type": "parcoords"
           }
          ],
          "pie": [
           {
            "automargin": true,
            "type": "pie"
           }
          ],
          "scatter": [
           {
            "fillpattern": {
             "fillmode": "overlay",
             "size": 10,
             "solidity": 0.2
            },
            "type": "scatter"
           }
          ],
          "scatter3d": [
           {
            "line": {
             "colorbar": {
              "outlinewidth": 0,
              "ticks": ""
             }
            },
            "marker": {
             "colorbar": {
              "outlinewidth": 0,
              "ticks": ""
             }
            },
            "type": "scatter3d"
           }
          ],
          "scattercarpet": [
           {
            "marker": {
             "colorbar": {
              "outlinewidth": 0,
              "ticks": ""
             }
            },
            "type": "scattercarpet"
           }
          ],
          "scattergeo": [
           {
            "marker": {
             "colorbar": {
              "outlinewidth": 0,
              "ticks": ""
             }
            },
            "type": "scattergeo"
           }
          ],
          "scattergl": [
           {
            "marker": {
             "colorbar": {
              "outlinewidth": 0,
              "ticks": ""
             }
            },
            "type": "scattergl"
           }
          ],
          "scattermap": [
           {
            "marker": {
             "colorbar": {
              "outlinewidth": 0,
              "ticks": ""
             }
            },
            "type": "scattermap"
           }
          ],
          "scattermapbox": [
           {
            "marker": {
             "colorbar": {
              "outlinewidth": 0,
              "ticks": ""
             }
            },
            "type": "scattermapbox"
           }
          ],
          "scatterpolar": [
           {
            "marker": {
             "colorbar": {
              "outlinewidth": 0,
              "ticks": ""
             }
            },
            "type": "scatterpolar"
           }
          ],
          "scatterpolargl": [
           {
            "marker": {
             "colorbar": {
              "outlinewidth": 0,
              "ticks": ""
             }
            },
            "type": "scatterpolargl"
           }
          ],
          "scatterternary": [
           {
            "marker": {
             "colorbar": {
              "outlinewidth": 0,
              "ticks": ""
             }
            },
            "type": "scatterternary"
           }
          ],
          "surface": [
           {
            "colorbar": {
             "outlinewidth": 0,
             "ticks": ""
            },
            "colorscale": [
             [
              0,
              "#0d0887"
             ],
             [
              0.1111111111111111,
              "#46039f"
             ],
             [
              0.2222222222222222,
              "#7201a8"
             ],
             [
              0.3333333333333333,
              "#9c179e"
             ],
             [
              0.4444444444444444,
              "#bd3786"
             ],
             [
              0.5555555555555556,
              "#d8576b"
             ],
             [
              0.6666666666666666,
              "#ed7953"
             ],
             [
              0.7777777777777778,
              "#fb9f3a"
             ],
             [
              0.8888888888888888,
              "#fdca26"
             ],
             [
              1,
              "#f0f921"
             ]
            ],
            "type": "surface"
           }
          ],
          "table": [
           {
            "cells": {
             "fill": {
              "color": "#EBF0F8"
             },
             "line": {
              "color": "white"
             }
            },
            "header": {
             "fill": {
              "color": "#C8D4E3"
             },
             "line": {
              "color": "white"
             }
            },
            "type": "table"
           }
          ]
         },
         "layout": {
          "annotationdefaults": {
           "arrowcolor": "#2a3f5f",
           "arrowhead": 0,
           "arrowwidth": 1
          },
          "autotypenumbers": "strict",
          "coloraxis": {
           "colorbar": {
            "outlinewidth": 0,
            "ticks": ""
           }
          },
          "colorscale": {
           "diverging": [
            [
             0,
             "#8e0152"
            ],
            [
             0.1,
             "#c51b7d"
            ],
            [
             0.2,
             "#de77ae"
            ],
            [
             0.3,
             "#f1b6da"
            ],
            [
             0.4,
             "#fde0ef"
            ],
            [
             0.5,
             "#f7f7f7"
            ],
            [
             0.6,
             "#e6f5d0"
            ],
            [
             0.7,
             "#b8e186"
            ],
            [
             0.8,
             "#7fbc41"
            ],
            [
             0.9,
             "#4d9221"
            ],
            [
             1,
             "#276419"
            ]
           ],
           "sequential": [
            [
             0,
             "#0d0887"
            ],
            [
             0.1111111111111111,
             "#46039f"
            ],
            [
             0.2222222222222222,
             "#7201a8"
            ],
            [
             0.3333333333333333,
             "#9c179e"
            ],
            [
             0.4444444444444444,
             "#bd3786"
            ],
            [
             0.5555555555555556,
             "#d8576b"
            ],
            [
             0.6666666666666666,
             "#ed7953"
            ],
            [
             0.7777777777777778,
             "#fb9f3a"
            ],
            [
             0.8888888888888888,
             "#fdca26"
            ],
            [
             1,
             "#f0f921"
            ]
           ],
           "sequentialminus": [
            [
             0,
             "#0d0887"
            ],
            [
             0.1111111111111111,
             "#46039f"
            ],
            [
             0.2222222222222222,
             "#7201a8"
            ],
            [
             0.3333333333333333,
             "#9c179e"
            ],
            [
             0.4444444444444444,
             "#bd3786"
            ],
            [
             0.5555555555555556,
             "#d8576b"
            ],
            [
             0.6666666666666666,
             "#ed7953"
            ],
            [
             0.7777777777777778,
             "#fb9f3a"
            ],
            [
             0.8888888888888888,
             "#fdca26"
            ],
            [
             1,
             "#f0f921"
            ]
           ]
          },
          "colorway": [
           "#636efa",
           "#EF553B",
           "#00cc96",
           "#ab63fa",
           "#FFA15A",
           "#19d3f3",
           "#FF6692",
           "#B6E880",
           "#FF97FF",
           "#FECB52"
          ],
          "font": {
           "color": "#2a3f5f"
          },
          "geo": {
           "bgcolor": "white",
           "lakecolor": "white",
           "landcolor": "white",
           "showlakes": true,
           "showland": true,
           "subunitcolor": "#C8D4E3"
          },
          "hoverlabel": {
           "align": "left"
          },
          "hovermode": "closest",
          "mapbox": {
           "style": "light"
          },
          "paper_bgcolor": "white",
          "plot_bgcolor": "white",
          "polar": {
           "angularaxis": {
            "gridcolor": "#EBF0F8",
            "linecolor": "#EBF0F8",
            "ticks": ""
           },
           "bgcolor": "white",
           "radialaxis": {
            "gridcolor": "#EBF0F8",
            "linecolor": "#EBF0F8",
            "ticks": ""
           }
          },
          "scene": {
           "xaxis": {
            "backgroundcolor": "white",
            "gridcolor": "#DFE8F3",
            "gridwidth": 2,
            "linecolor": "#EBF0F8",
            "showbackground": true,
            "ticks": "",
            "zerolinecolor": "#EBF0F8"
           },
           "yaxis": {
            "backgroundcolor": "white",
            "gridcolor": "#DFE8F3",
            "gridwidth": 2,
            "linecolor": "#EBF0F8",
            "showbackground": true,
            "ticks": "",
            "zerolinecolor": "#EBF0F8"
           },
           "zaxis": {
            "backgroundcolor": "white",
            "gridcolor": "#DFE8F3",
            "gridwidth": 2,
            "linecolor": "#EBF0F8",
            "showbackground": true,
            "ticks": "",
            "zerolinecolor": "#EBF0F8"
           }
          },
          "shapedefaults": {
           "line": {
            "color": "#2a3f5f"
           }
          },
          "ternary": {
           "aaxis": {
            "gridcolor": "#DFE8F3",
            "linecolor": "#A2B1C6",
            "ticks": ""
           },
           "baxis": {
            "gridcolor": "#DFE8F3",
            "linecolor": "#A2B1C6",
            "ticks": ""
           },
           "bgcolor": "white",
           "caxis": {
            "gridcolor": "#DFE8F3",
            "linecolor": "#A2B1C6",
            "ticks": ""
           }
          },
          "title": {
           "x": 0.05
          },
          "xaxis": {
           "automargin": true,
           "gridcolor": "#EBF0F8",
           "linecolor": "#EBF0F8",
           "ticks": "",
           "title": {
            "standoff": 15
           },
           "zerolinecolor": "#EBF0F8",
           "zerolinewidth": 2
          },
          "yaxis": {
           "automargin": true,
           "gridcolor": "#EBF0F8",
           "linecolor": "#EBF0F8",
           "ticks": "",
           "title": {
            "standoff": 15
           },
           "zerolinecolor": "#EBF0F8",
           "zerolinewidth": 2
          }
         }
        },
        "title": {
         "text": "Rendimentos Tributaveis por Centil"
        },
        "xaxis": {
         "anchor": "y",
         "domain": [
          0,
          1
         ],
         "title": {
          "text": "Centil"
         }
        },
        "yaxis": {
         "anchor": "x",
         "domain": [
          0,
          1
         ],
         "title": {
          "text": "Rendimentos Tributaveis"
         }
        }
       }
      }
     },
     "metadata": {},
     "output_type": "display_data"
    }
   ],
   "source": [
    "plot_limite_superior_rendimentos(df_last_milezil)"
   ]
  },
  {
   "cell_type": "markdown",
   "metadata": {},
   "source": [
    "Essa é a distribuição dos 0,1% mais ricos, incluindo os 0,01% mais ricos.\n",
    "\n",
    "Os últimos nessa faixa não são pobres - ganham até 953 mil por ano.\n",
    "\n",
    "O topo da pirâmide ganha 331 milhões por ano.\n",
    "\n",
    "Quase uma ordem de magnitude maior.\n",
    "\n",
    "A diferença é tão brutal, mesmo em relação aos outros no 0,1% mais rico, que o gráfico parece uma linha no 0.\n",
    "\n",
    "Quase toda a renda está nos 0,01% mais ricos.\n",
    "\n",
    "E como se parece o gráfico de todos os contribuintes, incluindo os 1% restantes?"
   ]
  },
  {
   "cell_type": "code",
   "execution_count": 22,
   "metadata": {},
   "outputs": [
    {
     "data": {
      "application/vnd.plotly.v1+json": {
       "config": {
        "plotlyServerURL": "https://plot.ly"
       },
       "data": [
        {
         "hovertemplate": "Centil=%{x}<br>Rendimentos Tributaveis - Limite Superior da RTB do Centil [R$ milhões]=%{y}<extra></extra>",
         "legendgroup": "",
         "marker": {
          "color": "#636efa",
          "pattern": {
           "shape": ""
          }
         },
         "name": "",
         "orientation": "v",
         "showlegend": false,
         "textposition": "auto",
         "type": "bar",
         "x": {
          "bdata": "AQIDBAUGBwgJCgsMDQ4PEBESExQVFhcYGRobHB0eHyAhIiMkJSYnKCkqKywtLi8wMTIzNDU2Nzg5Ojs8PT4/QEFCQ0RFRkdISUpLTE1OT1BRUlNUVVZXWFlaW1xdXl9gYWJjZA==",
          "dtype": "i1"
         },
         "xaxis": "x",
         "y": {
          "bdata": "AAAAAAAA+H8AAAAAAAD4fwAAAAAAAPh/AAAAAAAA+H8AAAAAAAD4fwAAAAAAAPh/AAAAAAAAWUAAAAAAACCsQAAAAAAAcLdAuB6F6zHSwEDsUbge5XrFQAAAAACAY8hAAAAAAAB7yEAAAAAAAH7IQArXo3D9acpAAAAAAABMzUBmZmZmlgTQQArXo3A9WNFAKVyPwmVO0kAK16NwfYLTQAAAAAAAgtRA9ihcjxJQ1UC4HoXrMQnWQAAAAAAA2tZAzczMzJye10AAAAAAQG/YQAAAAAAAHtlAAAAAAADm2UAAAAAAAKnaQB+F61GYS9tAKVyPwmW420C4HoXrIenbQFK4HoWbdNxAZmZmZjYG3UB7FK5HgX7dQIXrUbguCd5AexSuR7GU3kC4HoXrgSXfQIXrUbjOtd9AmpmZmaEl4ECkcD0K93DgQMP1KFzHvuBAw/UoXC8N4UApXI/C1VzhQAAAAAAAoeFAZmZmZh704UCamZmZkUjiQFyPwvUQmeJAH4XrUejx4kCamZmZUU7jQHE9CtdbrONA16NwPaIM5EAAAAAAIHTkQKRwPQpX1ORASOF6FK4/5UBmZmZm/qvlQHE9CtdDHuZAPQrXo+iU5kDXo3A9ShLnQClcj8JliOdA16NwPVoM6EAfhetRwJLoQIXrUbgmI+lAFK5H4eK56UBSuB6Fy1jqQIXrUbjO9epAhetRuKaf60AAAAAAAFLsQClcj8IVDO1AuB6F6wnA7UC4HoXrqYvuQArXo3B1Xu9AAAAAAAAd8ECamZmZAY/wQHE9Ctf/DPFA7FG4HkmO8UCamZmZlfzxQKRwPQr/jvJAexSuR6kz80BI4XoU7ujzQIXrUbhypvRAw/UoXJty9UBmZmZmrkr2QOxRuB6NRPdAPQrXo/RO+EDhehSue3r5QNejcD0GvvpA9ihcjyIs/EDsUbgeGbj9QK5H4Xq0dP9AFK5H4YC9AEGkcD0KtfcBQbgeheshXANBH4XrUaQWBUHD9ShcmVwHQVyPwvV2VApBAAAAADgfDkEpXI/Cfx0SQXsUrkfv7BdBH4Xr3z23s0E=",
          "dtype": "f8"
         },
         "yaxis": "y"
        }
       ],
       "layout": {
        "barmode": "relative",
        "legend": {
         "tracegroupgap": 0
        },
        "template": {
         "data": {
          "bar": [
           {
            "error_x": {
             "color": "#2a3f5f"
            },
            "error_y": {
             "color": "#2a3f5f"
            },
            "marker": {
             "line": {
              "color": "white",
              "width": 0.5
             },
             "pattern": {
              "fillmode": "overlay",
              "size": 10,
              "solidity": 0.2
             }
            },
            "type": "bar"
           }
          ],
          "barpolar": [
           {
            "marker": {
             "line": {
              "color": "white",
              "width": 0.5
             },
             "pattern": {
              "fillmode": "overlay",
              "size": 10,
              "solidity": 0.2
             }
            },
            "type": "barpolar"
           }
          ],
          "carpet": [
           {
            "aaxis": {
             "endlinecolor": "#2a3f5f",
             "gridcolor": "#C8D4E3",
             "linecolor": "#C8D4E3",
             "minorgridcolor": "#C8D4E3",
             "startlinecolor": "#2a3f5f"
            },
            "baxis": {
             "endlinecolor": "#2a3f5f",
             "gridcolor": "#C8D4E3",
             "linecolor": "#C8D4E3",
             "minorgridcolor": "#C8D4E3",
             "startlinecolor": "#2a3f5f"
            },
            "type": "carpet"
           }
          ],
          "choropleth": [
           {
            "colorbar": {
             "outlinewidth": 0,
             "ticks": ""
            },
            "type": "choropleth"
           }
          ],
          "contour": [
           {
            "colorbar": {
             "outlinewidth": 0,
             "ticks": ""
            },
            "colorscale": [
             [
              0,
              "#0d0887"
             ],
             [
              0.1111111111111111,
              "#46039f"
             ],
             [
              0.2222222222222222,
              "#7201a8"
             ],
             [
              0.3333333333333333,
              "#9c179e"
             ],
             [
              0.4444444444444444,
              "#bd3786"
             ],
             [
              0.5555555555555556,
              "#d8576b"
             ],
             [
              0.6666666666666666,
              "#ed7953"
             ],
             [
              0.7777777777777778,
              "#fb9f3a"
             ],
             [
              0.8888888888888888,
              "#fdca26"
             ],
             [
              1,
              "#f0f921"
             ]
            ],
            "type": "contour"
           }
          ],
          "contourcarpet": [
           {
            "colorbar": {
             "outlinewidth": 0,
             "ticks": ""
            },
            "type": "contourcarpet"
           }
          ],
          "heatmap": [
           {
            "colorbar": {
             "outlinewidth": 0,
             "ticks": ""
            },
            "colorscale": [
             [
              0,
              "#0d0887"
             ],
             [
              0.1111111111111111,
              "#46039f"
             ],
             [
              0.2222222222222222,
              "#7201a8"
             ],
             [
              0.3333333333333333,
              "#9c179e"
             ],
             [
              0.4444444444444444,
              "#bd3786"
             ],
             [
              0.5555555555555556,
              "#d8576b"
             ],
             [
              0.6666666666666666,
              "#ed7953"
             ],
             [
              0.7777777777777778,
              "#fb9f3a"
             ],
             [
              0.8888888888888888,
              "#fdca26"
             ],
             [
              1,
              "#f0f921"
             ]
            ],
            "type": "heatmap"
           }
          ],
          "histogram": [
           {
            "marker": {
             "pattern": {
              "fillmode": "overlay",
              "size": 10,
              "solidity": 0.2
             }
            },
            "type": "histogram"
           }
          ],
          "histogram2d": [
           {
            "colorbar": {
             "outlinewidth": 0,
             "ticks": ""
            },
            "colorscale": [
             [
              0,
              "#0d0887"
             ],
             [
              0.1111111111111111,
              "#46039f"
             ],
             [
              0.2222222222222222,
              "#7201a8"
             ],
             [
              0.3333333333333333,
              "#9c179e"
             ],
             [
              0.4444444444444444,
              "#bd3786"
             ],
             [
              0.5555555555555556,
              "#d8576b"
             ],
             [
              0.6666666666666666,
              "#ed7953"
             ],
             [
              0.7777777777777778,
              "#fb9f3a"
             ],
             [
              0.8888888888888888,
              "#fdca26"
             ],
             [
              1,
              "#f0f921"
             ]
            ],
            "type": "histogram2d"
           }
          ],
          "histogram2dcontour": [
           {
            "colorbar": {
             "outlinewidth": 0,
             "ticks": ""
            },
            "colorscale": [
             [
              0,
              "#0d0887"
             ],
             [
              0.1111111111111111,
              "#46039f"
             ],
             [
              0.2222222222222222,
              "#7201a8"
             ],
             [
              0.3333333333333333,
              "#9c179e"
             ],
             [
              0.4444444444444444,
              "#bd3786"
             ],
             [
              0.5555555555555556,
              "#d8576b"
             ],
             [
              0.6666666666666666,
              "#ed7953"
             ],
             [
              0.7777777777777778,
              "#fb9f3a"
             ],
             [
              0.8888888888888888,
              "#fdca26"
             ],
             [
              1,
              "#f0f921"
             ]
            ],
            "type": "histogram2dcontour"
           }
          ],
          "mesh3d": [
           {
            "colorbar": {
             "outlinewidth": 0,
             "ticks": ""
            },
            "type": "mesh3d"
           }
          ],
          "parcoords": [
           {
            "line": {
             "colorbar": {
              "outlinewidth": 0,
              "ticks": ""
             }
            },
            "type": "parcoords"
           }
          ],
          "pie": [
           {
            "automargin": true,
            "type": "pie"
           }
          ],
          "scatter": [
           {
            "fillpattern": {
             "fillmode": "overlay",
             "size": 10,
             "solidity": 0.2
            },
            "type": "scatter"
           }
          ],
          "scatter3d": [
           {
            "line": {
             "colorbar": {
              "outlinewidth": 0,
              "ticks": ""
             }
            },
            "marker": {
             "colorbar": {
              "outlinewidth": 0,
              "ticks": ""
             }
            },
            "type": "scatter3d"
           }
          ],
          "scattercarpet": [
           {
            "marker": {
             "colorbar": {
              "outlinewidth": 0,
              "ticks": ""
             }
            },
            "type": "scattercarpet"
           }
          ],
          "scattergeo": [
           {
            "marker": {
             "colorbar": {
              "outlinewidth": 0,
              "ticks": ""
             }
            },
            "type": "scattergeo"
           }
          ],
          "scattergl": [
           {
            "marker": {
             "colorbar": {
              "outlinewidth": 0,
              "ticks": ""
             }
            },
            "type": "scattergl"
           }
          ],
          "scattermap": [
           {
            "marker": {
             "colorbar": {
              "outlinewidth": 0,
              "ticks": ""
             }
            },
            "type": "scattermap"
           }
          ],
          "scattermapbox": [
           {
            "marker": {
             "colorbar": {
              "outlinewidth": 0,
              "ticks": ""
             }
            },
            "type": "scattermapbox"
           }
          ],
          "scatterpolar": [
           {
            "marker": {
             "colorbar": {
              "outlinewidth": 0,
              "ticks": ""
             }
            },
            "type": "scatterpolar"
           }
          ],
          "scatterpolargl": [
           {
            "marker": {
             "colorbar": {
              "outlinewidth": 0,
              "ticks": ""
             }
            },
            "type": "scatterpolargl"
           }
          ],
          "scatterternary": [
           {
            "marker": {
             "colorbar": {
              "outlinewidth": 0,
              "ticks": ""
             }
            },
            "type": "scatterternary"
           }
          ],
          "surface": [
           {
            "colorbar": {
             "outlinewidth": 0,
             "ticks": ""
            },
            "colorscale": [
             [
              0,
              "#0d0887"
             ],
             [
              0.1111111111111111,
              "#46039f"
             ],
             [
              0.2222222222222222,
              "#7201a8"
             ],
             [
              0.3333333333333333,
              "#9c179e"
             ],
             [
              0.4444444444444444,
              "#bd3786"
             ],
             [
              0.5555555555555556,
              "#d8576b"
             ],
             [
              0.6666666666666666,
              "#ed7953"
             ],
             [
              0.7777777777777778,
              "#fb9f3a"
             ],
             [
              0.8888888888888888,
              "#fdca26"
             ],
             [
              1,
              "#f0f921"
             ]
            ],
            "type": "surface"
           }
          ],
          "table": [
           {
            "cells": {
             "fill": {
              "color": "#EBF0F8"
             },
             "line": {
              "color": "white"
             }
            },
            "header": {
             "fill": {
              "color": "#C8D4E3"
             },
             "line": {
              "color": "white"
             }
            },
            "type": "table"
           }
          ]
         },
         "layout": {
          "annotationdefaults": {
           "arrowcolor": "#2a3f5f",
           "arrowhead": 0,
           "arrowwidth": 1
          },
          "autotypenumbers": "strict",
          "coloraxis": {
           "colorbar": {
            "outlinewidth": 0,
            "ticks": ""
           }
          },
          "colorscale": {
           "diverging": [
            [
             0,
             "#8e0152"
            ],
            [
             0.1,
             "#c51b7d"
            ],
            [
             0.2,
             "#de77ae"
            ],
            [
             0.3,
             "#f1b6da"
            ],
            [
             0.4,
             "#fde0ef"
            ],
            [
             0.5,
             "#f7f7f7"
            ],
            [
             0.6,
             "#e6f5d0"
            ],
            [
             0.7,
             "#b8e186"
            ],
            [
             0.8,
             "#7fbc41"
            ],
            [
             0.9,
             "#4d9221"
            ],
            [
             1,
             "#276419"
            ]
           ],
           "sequential": [
            [
             0,
             "#0d0887"
            ],
            [
             0.1111111111111111,
             "#46039f"
            ],
            [
             0.2222222222222222,
             "#7201a8"
            ],
            [
             0.3333333333333333,
             "#9c179e"
            ],
            [
             0.4444444444444444,
             "#bd3786"
            ],
            [
             0.5555555555555556,
             "#d8576b"
            ],
            [
             0.6666666666666666,
             "#ed7953"
            ],
            [
             0.7777777777777778,
             "#fb9f3a"
            ],
            [
             0.8888888888888888,
             "#fdca26"
            ],
            [
             1,
             "#f0f921"
            ]
           ],
           "sequentialminus": [
            [
             0,
             "#0d0887"
            ],
            [
             0.1111111111111111,
             "#46039f"
            ],
            [
             0.2222222222222222,
             "#7201a8"
            ],
            [
             0.3333333333333333,
             "#9c179e"
            ],
            [
             0.4444444444444444,
             "#bd3786"
            ],
            [
             0.5555555555555556,
             "#d8576b"
            ],
            [
             0.6666666666666666,
             "#ed7953"
            ],
            [
             0.7777777777777778,
             "#fb9f3a"
            ],
            [
             0.8888888888888888,
             "#fdca26"
            ],
            [
             1,
             "#f0f921"
            ]
           ]
          },
          "colorway": [
           "#636efa",
           "#EF553B",
           "#00cc96",
           "#ab63fa",
           "#FFA15A",
           "#19d3f3",
           "#FF6692",
           "#B6E880",
           "#FF97FF",
           "#FECB52"
          ],
          "font": {
           "color": "#2a3f5f"
          },
          "geo": {
           "bgcolor": "white",
           "lakecolor": "white",
           "landcolor": "white",
           "showlakes": true,
           "showland": true,
           "subunitcolor": "#C8D4E3"
          },
          "hoverlabel": {
           "align": "left"
          },
          "hovermode": "closest",
          "mapbox": {
           "style": "light"
          },
          "paper_bgcolor": "white",
          "plot_bgcolor": "white",
          "polar": {
           "angularaxis": {
            "gridcolor": "#EBF0F8",
            "linecolor": "#EBF0F8",
            "ticks": ""
           },
           "bgcolor": "white",
           "radialaxis": {
            "gridcolor": "#EBF0F8",
            "linecolor": "#EBF0F8",
            "ticks": ""
           }
          },
          "scene": {
           "xaxis": {
            "backgroundcolor": "white",
            "gridcolor": "#DFE8F3",
            "gridwidth": 2,
            "linecolor": "#EBF0F8",
            "showbackground": true,
            "ticks": "",
            "zerolinecolor": "#EBF0F8"
           },
           "yaxis": {
            "backgroundcolor": "white",
            "gridcolor": "#DFE8F3",
            "gridwidth": 2,
            "linecolor": "#EBF0F8",
            "showbackground": true,
            "ticks": "",
            "zerolinecolor": "#EBF0F8"
           },
           "zaxis": {
            "backgroundcolor": "white",
            "gridcolor": "#DFE8F3",
            "gridwidth": 2,
            "linecolor": "#EBF0F8",
            "showbackground": true,
            "ticks": "",
            "zerolinecolor": "#EBF0F8"
           }
          },
          "shapedefaults": {
           "line": {
            "color": "#2a3f5f"
           }
          },
          "ternary": {
           "aaxis": {
            "gridcolor": "#DFE8F3",
            "linecolor": "#A2B1C6",
            "ticks": ""
           },
           "baxis": {
            "gridcolor": "#DFE8F3",
            "linecolor": "#A2B1C6",
            "ticks": ""
           },
           "bgcolor": "white",
           "caxis": {
            "gridcolor": "#DFE8F3",
            "linecolor": "#A2B1C6",
            "ticks": ""
           }
          },
          "title": {
           "x": 0.05
          },
          "xaxis": {
           "automargin": true,
           "gridcolor": "#EBF0F8",
           "linecolor": "#EBF0F8",
           "ticks": "",
           "title": {
            "standoff": 15
           },
           "zerolinecolor": "#EBF0F8",
           "zerolinewidth": 2
          },
          "yaxis": {
           "automargin": true,
           "gridcolor": "#EBF0F8",
           "linecolor": "#EBF0F8",
           "ticks": "",
           "title": {
            "standoff": 15
           },
           "zerolinecolor": "#EBF0F8",
           "zerolinewidth": 2
          }
         }
        },
        "title": {
         "text": "Rendimentos Tributaveis por Centil"
        },
        "xaxis": {
         "anchor": "y",
         "domain": [
          0,
          1
         ],
         "title": {
          "text": "Centil"
         }
        },
        "yaxis": {
         "anchor": "x",
         "domain": [
          0,
          1
         ],
         "title": {
          "text": "Rendimentos Tributaveis"
         }
        }
       }
      }
     },
     "metadata": {},
     "output_type": "display_data"
    }
   ],
   "source": [
    "plot_limite_superior_rendimentos(df_100centil)"
   ]
  },
  {
   "cell_type": "markdown",
   "metadata": {},
   "source": [
    "Como se todo o resto não tivesse nenhuma renda tributável.\n",
    "\n",
    "Toda a renda do país de 212 milhões de pessoas está concentrada em 3.163 pessoas.\n",
    "\n",
    "Agora, me diga, a tributação dos 0,01% também se parece com isso?"
   ]
  },
  {
   "cell_type": "markdown",
   "metadata": {},
   "source": [
    "## Como se comparam as rendas com tributos e dívidas?"
   ]
  },
  {
   "cell_type": "markdown",
   "metadata": {},
   "source": [
    "## Como é a evolução da renda ao longo do tempo?"
   ]
  }
 ],
 "metadata": {
  "kernelspec": {
   "display_name": "venv",
   "language": "python",
   "name": "python3"
  },
  "language_info": {
   "codemirror_mode": {
    "name": "ipython",
    "version": 3
   },
   "file_extension": ".py",
   "mimetype": "text/x-python",
   "name": "python",
   "nbconvert_exporter": "python",
   "pygments_lexer": "ipython3",
   "version": "3.12.6"
  }
 },
 "nbformat": 4,
 "nbformat_minor": 2
}
