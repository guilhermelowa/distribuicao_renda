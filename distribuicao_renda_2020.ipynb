{
 "cells": [
  {
   "cell_type": "markdown",
   "id": "e94fb8ba",
   "metadata": {},
   "source": [
    "# Distribuição de Renda de 2020 no Brasil\n",
    "\n",
    "Este notebook analisa alguns aspectos da distribuição de renda no Brasil.\n",
    "\n",
    "Os dados da  Receita Federal estão disponíveis através do portal de [Dados Abertos do Governo Federal](https://dados.gov.br/dados/conjuntos-dados/distribuio-de-renda).\n",
    "\n",
    "### Perguntas respondidas\n",
    "\n",
    "- Como é a distribuição de renda no Brasil em 2020 (últimos dados)?\n",
    "- E a isenção fiscal de até 5k?\n",
    "\n",
    "### Perguntas em aberto\n",
    "\n",
    "- Qual a tributação que cada centil paga?\n",
    "- Como é a distribuição em outros países? É local ou sistemático essa diferença?\n",
    "\n",
    "## Código"
   ]
  },
  {
   "cell_type": "code",
   "execution_count": 1,
   "id": "2539d183",
   "metadata": {},
   "outputs": [],
   "source": [
    "import numpy as np\n",
    "import pandas as pd\n",
    "import plotly.express as px\n",
    "import plotly.graph_objects as go"
   ]
  },
  {
   "cell_type": "code",
   "execution_count": 2,
   "id": "ebb325a1",
   "metadata": {},
   "outputs": [
    {
     "data": {
      "text/html": [
       "<div>\n",
       "<style scoped>\n",
       "    .dataframe tbody tr th:only-of-type {\n",
       "        vertical-align: middle;\n",
       "    }\n",
       "\n",
       "    .dataframe tbody tr th {\n",
       "        vertical-align: top;\n",
       "    }\n",
       "\n",
       "    .dataframe thead th {\n",
       "        text-align: right;\n",
       "    }\n",
       "</style>\n",
       "<table border=\"1\" class=\"dataframe\">\n",
       "  <thead>\n",
       "    <tr style=\"text-align: right;\">\n",
       "      <th></th>\n",
       "      <th>Ano-calendário</th>\n",
       "      <th>Ente Federativo</th>\n",
       "      <th>Centil</th>\n",
       "      <th>Quantidade de Contribuintes</th>\n",
       "      <th>Rendimentos Tributaveis - Limite Superior da RTB do Centil [R$ milhões]</th>\n",
       "      <th>Rendimentos Tributaveis - Soma da RTB do Centil [R$ milhões]</th>\n",
       "      <th>Rendimentos Tributaveis - RTB Acumulada do Centil [R$ milhões]</th>\n",
       "      <th>Rendimentos Tributaveis - Média da RTB do Centil [R$]</th>\n",
       "      <th>Rendimentos Sujeitos à Tribut. Exclusiva [R$ milhões]</th>\n",
       "      <th>Rendimentos Isentos - Lucros e dividendos [R$ milhões]</th>\n",
       "      <th>...</th>\n",
       "      <th>Despesas Dedutíveis - Instrução [R$ milhões]</th>\n",
       "      <th>Despesas Dedutíveis - Médicas [R$ milhões]</th>\n",
       "      <th>Despesas Dedutíveis - Pensão Alimentícia [R$ milhões]</th>\n",
       "      <th>Despesas Dedutíveis - Livro-Caixa [R$ milhões]</th>\n",
       "      <th>Imposto Devido [R$ milhões]</th>\n",
       "      <th>Bens e Direitos - Imóveis [R$ milhões]</th>\n",
       "      <th>Bens e Direitos - Móveis [R$ milhões]</th>\n",
       "      <th>Bens e Direitos - Financeiros [R$ milhões]</th>\n",
       "      <th>Bens e Direitos - Outros Bens e Direitos [R$ milhões]</th>\n",
       "      <th>Dívidas e Ônus [R$ milhões]</th>\n",
       "    </tr>\n",
       "  </thead>\n",
       "  <tbody>\n",
       "    <tr>\n",
       "      <th>0</th>\n",
       "      <td>2006</td>\n",
       "      <td>BRASIL</td>\n",
       "      <td>1</td>\n",
       "      <td>241.563</td>\n",
       "      <td>NaN</td>\n",
       "      <td>NaN</td>\n",
       "      <td>NaN</td>\n",
       "      <td>NaN</td>\n",
       "      <td>235,61</td>\n",
       "      <td>481,27</td>\n",
       "      <td>...</td>\n",
       "      <td>NaN</td>\n",
       "      <td>NaN</td>\n",
       "      <td>NaN</td>\n",
       "      <td>NaN</td>\n",
       "      <td>0,16</td>\n",
       "      <td>5.281,59</td>\n",
       "      <td>686,21</td>\n",
       "      <td>6.549,15</td>\n",
       "      <td>1.006,40</td>\n",
       "      <td>1.610,39</td>\n",
       "    </tr>\n",
       "    <tr>\n",
       "      <th>1</th>\n",
       "      <td>2006</td>\n",
       "      <td>BRASIL</td>\n",
       "      <td>2</td>\n",
       "      <td>241.563</td>\n",
       "      <td>NaN</td>\n",
       "      <td>NaN</td>\n",
       "      <td>NaN</td>\n",
       "      <td>NaN</td>\n",
       "      <td>208,74</td>\n",
       "      <td>483,44</td>\n",
       "      <td>...</td>\n",
       "      <td>NaN</td>\n",
       "      <td>NaN</td>\n",
       "      <td>NaN</td>\n",
       "      <td>NaN</td>\n",
       "      <td>0,22</td>\n",
       "      <td>5.295,48</td>\n",
       "      <td>668,82</td>\n",
       "      <td>5.762,77</td>\n",
       "      <td>681,75</td>\n",
       "      <td>694,12</td>\n",
       "    </tr>\n",
       "    <tr>\n",
       "      <th>2</th>\n",
       "      <td>2006</td>\n",
       "      <td>BRASIL</td>\n",
       "      <td>3</td>\n",
       "      <td>241.562</td>\n",
       "      <td>NaN</td>\n",
       "      <td>NaN</td>\n",
       "      <td>NaN</td>\n",
       "      <td>NaN</td>\n",
       "      <td>219,96</td>\n",
       "      <td>459,87</td>\n",
       "      <td>...</td>\n",
       "      <td>NaN</td>\n",
       "      <td>NaN</td>\n",
       "      <td>NaN</td>\n",
       "      <td>NaN</td>\n",
       "      <td>0,31</td>\n",
       "      <td>5.566,27</td>\n",
       "      <td>670,64</td>\n",
       "      <td>5.451,95</td>\n",
       "      <td>377,17</td>\n",
       "      <td>650,98</td>\n",
       "    </tr>\n",
       "    <tr>\n",
       "      <th>3</th>\n",
       "      <td>2006</td>\n",
       "      <td>BRASIL</td>\n",
       "      <td>4</td>\n",
       "      <td>241.563</td>\n",
       "      <td>NaN</td>\n",
       "      <td>NaN</td>\n",
       "      <td>NaN</td>\n",
       "      <td>NaN</td>\n",
       "      <td>257,01</td>\n",
       "      <td>481,93</td>\n",
       "      <td>...</td>\n",
       "      <td>NaN</td>\n",
       "      <td>NaN</td>\n",
       "      <td>NaN</td>\n",
       "      <td>NaN</td>\n",
       "      <td>0,17</td>\n",
       "      <td>5.860,02</td>\n",
       "      <td>678,44</td>\n",
       "      <td>6.104,09</td>\n",
       "      <td>256,16</td>\n",
       "      <td>1.079,20</td>\n",
       "    </tr>\n",
       "    <tr>\n",
       "      <th>4</th>\n",
       "      <td>2006</td>\n",
       "      <td>BRASIL</td>\n",
       "      <td>5</td>\n",
       "      <td>241.562</td>\n",
       "      <td>NaN</td>\n",
       "      <td>NaN</td>\n",
       "      <td>NaN</td>\n",
       "      <td>NaN</td>\n",
       "      <td>249,88</td>\n",
       "      <td>464,23</td>\n",
       "      <td>...</td>\n",
       "      <td>NaN</td>\n",
       "      <td>NaN</td>\n",
       "      <td>NaN</td>\n",
       "      <td>NaN</td>\n",
       "      <td>0,17</td>\n",
       "      <td>5.193,31</td>\n",
       "      <td>682,38</td>\n",
       "      <td>5.592,52</td>\n",
       "      <td>269,28</td>\n",
       "      <td>671,97</td>\n",
       "    </tr>\n",
       "  </tbody>\n",
       "</table>\n",
       "<p>5 rows × 24 columns</p>\n",
       "</div>"
      ],
      "text/plain": [
       "   Ano-calendário Ente Federativo Centil  Quantidade de Contribuintes  \\\n",
       "0            2006          BRASIL      1                      241.563   \n",
       "1            2006          BRASIL      2                      241.563   \n",
       "2            2006          BRASIL      3                      241.562   \n",
       "3            2006          BRASIL      4                      241.563   \n",
       "4            2006          BRASIL      5                      241.562   \n",
       "\n",
       "  Rendimentos Tributaveis - Limite Superior da RTB do Centil [R$ milhões]  \\\n",
       "0                                                NaN                        \n",
       "1                                                NaN                        \n",
       "2                                                NaN                        \n",
       "3                                                NaN                        \n",
       "4                                                NaN                        \n",
       "\n",
       "  Rendimentos Tributaveis - Soma da RTB do Centil [R$ milhões]  \\\n",
       "0                                                NaN             \n",
       "1                                                NaN             \n",
       "2                                                NaN             \n",
       "3                                                NaN             \n",
       "4                                                NaN             \n",
       "\n",
       "  Rendimentos Tributaveis - RTB Acumulada do Centil [R$ milhões]  \\\n",
       "0                                                NaN               \n",
       "1                                                NaN               \n",
       "2                                                NaN               \n",
       "3                                                NaN               \n",
       "4                                                NaN               \n",
       "\n",
       "  Rendimentos Tributaveis - Média da RTB do Centil [R$]  \\\n",
       "0                                                NaN      \n",
       "1                                                NaN      \n",
       "2                                                NaN      \n",
       "3                                                NaN      \n",
       "4                                                NaN      \n",
       "\n",
       "  Rendimentos Sujeitos à Tribut. Exclusiva [R$ milhões]  \\\n",
       "0                                             235,61      \n",
       "1                                             208,74      \n",
       "2                                             219,96      \n",
       "3                                             257,01      \n",
       "4                                             249,88      \n",
       "\n",
       "  Rendimentos Isentos - Lucros e dividendos [R$ milhões]  ...  \\\n",
       "0                                             481,27      ...   \n",
       "1                                             483,44      ...   \n",
       "2                                             459,87      ...   \n",
       "3                                             481,93      ...   \n",
       "4                                             464,23      ...   \n",
       "\n",
       "  Despesas Dedutíveis - Instrução [R$ milhões]  \\\n",
       "0                                          NaN   \n",
       "1                                          NaN   \n",
       "2                                          NaN   \n",
       "3                                          NaN   \n",
       "4                                          NaN   \n",
       "\n",
       "  Despesas Dedutíveis - Médicas [R$ milhões]  \\\n",
       "0                                        NaN   \n",
       "1                                        NaN   \n",
       "2                                        NaN   \n",
       "3                                        NaN   \n",
       "4                                        NaN   \n",
       "\n",
       "  Despesas Dedutíveis - Pensão Alimentícia [R$ milhões]  \\\n",
       "0                                                NaN      \n",
       "1                                                NaN      \n",
       "2                                                NaN      \n",
       "3                                                NaN      \n",
       "4                                                NaN      \n",
       "\n",
       "  Despesas Dedutíveis - Livro-Caixa [R$ milhões] Imposto Devido [R$ milhões]  \\\n",
       "0                                            NaN                        0,16   \n",
       "1                                            NaN                        0,22   \n",
       "2                                            NaN                        0,31   \n",
       "3                                            NaN                        0,17   \n",
       "4                                            NaN                        0,17   \n",
       "\n",
       "  Bens e Direitos - Imóveis [R$ milhões]  \\\n",
       "0                               5.281,59   \n",
       "1                               5.295,48   \n",
       "2                               5.566,27   \n",
       "3                               5.860,02   \n",
       "4                               5.193,31   \n",
       "\n",
       "  Bens e Direitos - Móveis [R$ milhões]  \\\n",
       "0                                686,21   \n",
       "1                                668,82   \n",
       "2                                670,64   \n",
       "3                                678,44   \n",
       "4                                682,38   \n",
       "\n",
       "  Bens e Direitos - Financeiros [R$ milhões]  \\\n",
       "0                                   6.549,15   \n",
       "1                                   5.762,77   \n",
       "2                                   5.451,95   \n",
       "3                                   6.104,09   \n",
       "4                                   5.592,52   \n",
       "\n",
       "  Bens e Direitos - Outros Bens e Direitos [R$ milhões]  \\\n",
       "0                                           1.006,40      \n",
       "1                                             681,75      \n",
       "2                                             377,17      \n",
       "3                                             256,16      \n",
       "4                                             269,28      \n",
       "\n",
       "  Dívidas e Ônus [R$ milhões]  \n",
       "0                    1.610,39  \n",
       "1                      694,12  \n",
       "2                      650,98  \n",
       "3                    1.079,20  \n",
       "4                      671,97  \n",
       "\n",
       "[5 rows x 24 columns]"
      ]
     },
     "execution_count": 2,
     "metadata": {},
     "output_type": "execute_result"
    }
   ],
   "source": [
    "df_orig = pd.read_csv(\"data/distribuicao-renda.csv\", sep=\";\")\n",
    "df_orig.head()"
   ]
  },
  {
   "cell_type": "code",
   "execution_count": 3,
   "id": "373399c3",
   "metadata": {},
   "outputs": [
    {
     "data": {
      "text/html": [
       "<div>\n",
       "<style scoped>\n",
       "    .dataframe tbody tr th:only-of-type {\n",
       "        vertical-align: middle;\n",
       "    }\n",
       "\n",
       "    .dataframe tbody tr th {\n",
       "        vertical-align: top;\n",
       "    }\n",
       "\n",
       "    .dataframe thead th {\n",
       "        text-align: right;\n",
       "    }\n",
       "</style>\n",
       "<table border=\"1\" class=\"dataframe\">\n",
       "  <thead>\n",
       "    <tr style=\"text-align: right;\">\n",
       "      <th></th>\n",
       "      <th>Ente Federativo</th>\n",
       "      <th>Centil</th>\n",
       "      <th>Quantidade de Contribuintes</th>\n",
       "      <th>Rendimentos Tributaveis - Limite Superior da RTB do Centil [R$ milhões]</th>\n",
       "      <th>Rendimentos Tributaveis - Soma da RTB do Centil [R$ milhões]</th>\n",
       "      <th>Rendimentos Tributaveis - RTB Acumulada do Centil [R$ milhões]</th>\n",
       "      <th>Rendimentos Tributaveis - Média da RTB do Centil [R$]</th>\n",
       "      <th>Rendimentos Sujeitos à Tribut. Exclusiva [R$ milhões]</th>\n",
       "      <th>Rendimentos Isentos - Lucros e dividendos [R$ milhões]</th>\n",
       "      <th>Rendimentos Isentos - Rendim. Sócio/Titular ME/EPP Opt SIMPLES [R$ milhões]</th>\n",
       "      <th>...</th>\n",
       "      <th>Despesas Dedutíveis - Instrução [R$ milhões]</th>\n",
       "      <th>Despesas Dedutíveis - Médicas [R$ milhões]</th>\n",
       "      <th>Despesas Dedutíveis - Pensão Alimentícia [R$ milhões]</th>\n",
       "      <th>Despesas Dedutíveis - Livro-Caixa [R$ milhões]</th>\n",
       "      <th>Imposto Devido [R$ milhões]</th>\n",
       "      <th>Bens e Direitos - Imóveis [R$ milhões]</th>\n",
       "      <th>Bens e Direitos - Móveis [R$ milhões]</th>\n",
       "      <th>Bens e Direitos - Financeiros [R$ milhões]</th>\n",
       "      <th>Bens e Direitos - Outros Bens e Direitos [R$ milhões]</th>\n",
       "      <th>Dívidas e Ônus [R$ milhões]</th>\n",
       "    </tr>\n",
       "  </thead>\n",
       "  <tbody>\n",
       "    <tr>\n",
       "      <th>43260</th>\n",
       "      <td>BRASIL</td>\n",
       "      <td>1</td>\n",
       "      <td>316.349</td>\n",
       "      <td>NaN</td>\n",
       "      <td>NaN</td>\n",
       "      <td>NaN</td>\n",
       "      <td>NaN</td>\n",
       "      <td>2.292,22</td>\n",
       "      <td>4.971,46</td>\n",
       "      <td>2.199,82</td>\n",
       "      <td>...</td>\n",
       "      <td>NaN</td>\n",
       "      <td>NaN</td>\n",
       "      <td>NaN</td>\n",
       "      <td>NaN</td>\n",
       "      <td>0,09</td>\n",
       "      <td>38.909,27</td>\n",
       "      <td>5.588,86</td>\n",
       "      <td>75.762,99</td>\n",
       "      <td>6.586,13</td>\n",
       "      <td>11.817,63</td>\n",
       "    </tr>\n",
       "    <tr>\n",
       "      <th>43261</th>\n",
       "      <td>BRASIL</td>\n",
       "      <td>2</td>\n",
       "      <td>316.348</td>\n",
       "      <td>NaN</td>\n",
       "      <td>NaN</td>\n",
       "      <td>NaN</td>\n",
       "      <td>NaN</td>\n",
       "      <td>2.774,79</td>\n",
       "      <td>5.276,95</td>\n",
       "      <td>2.128,81</td>\n",
       "      <td>...</td>\n",
       "      <td>NaN</td>\n",
       "      <td>NaN</td>\n",
       "      <td>NaN</td>\n",
       "      <td>NaN</td>\n",
       "      <td>0,07</td>\n",
       "      <td>37.867,76</td>\n",
       "      <td>5.119,81</td>\n",
       "      <td>76.337,18</td>\n",
       "      <td>10.293,73</td>\n",
       "      <td>13.299,04</td>\n",
       "    </tr>\n",
       "    <tr>\n",
       "      <th>43262</th>\n",
       "      <td>BRASIL</td>\n",
       "      <td>3</td>\n",
       "      <td>316.349</td>\n",
       "      <td>NaN</td>\n",
       "      <td>NaN</td>\n",
       "      <td>NaN</td>\n",
       "      <td>NaN</td>\n",
       "      <td>2.735,77</td>\n",
       "      <td>4.733,55</td>\n",
       "      <td>2.193,95</td>\n",
       "      <td>...</td>\n",
       "      <td>NaN</td>\n",
       "      <td>NaN</td>\n",
       "      <td>NaN</td>\n",
       "      <td>NaN</td>\n",
       "      <td>0,01</td>\n",
       "      <td>36.898,91</td>\n",
       "      <td>5.173,59</td>\n",
       "      <td>85.520,32</td>\n",
       "      <td>8.806,86</td>\n",
       "      <td>9.576,16</td>\n",
       "    </tr>\n",
       "    <tr>\n",
       "      <th>43263</th>\n",
       "      <td>BRASIL</td>\n",
       "      <td>4</td>\n",
       "      <td>316.348</td>\n",
       "      <td>NaN</td>\n",
       "      <td>NaN</td>\n",
       "      <td>NaN</td>\n",
       "      <td>NaN</td>\n",
       "      <td>2.314,48</td>\n",
       "      <td>4.838,44</td>\n",
       "      <td>2.197,71</td>\n",
       "      <td>...</td>\n",
       "      <td>NaN</td>\n",
       "      <td>NaN</td>\n",
       "      <td>NaN</td>\n",
       "      <td>NaN</td>\n",
       "      <td>0,04</td>\n",
       "      <td>37.209,91</td>\n",
       "      <td>5.032,53</td>\n",
       "      <td>87.919,86</td>\n",
       "      <td>8.374,94</td>\n",
       "      <td>10.025,25</td>\n",
       "    </tr>\n",
       "    <tr>\n",
       "      <th>43264</th>\n",
       "      <td>BRASIL</td>\n",
       "      <td>5</td>\n",
       "      <td>316.349</td>\n",
       "      <td>NaN</td>\n",
       "      <td>NaN</td>\n",
       "      <td>NaN</td>\n",
       "      <td>NaN</td>\n",
       "      <td>2.378,27</td>\n",
       "      <td>5.007,19</td>\n",
       "      <td>2.228,80</td>\n",
       "      <td>...</td>\n",
       "      <td>NaN</td>\n",
       "      <td>NaN</td>\n",
       "      <td>NaN</td>\n",
       "      <td>NaN</td>\n",
       "      <td>0,07</td>\n",
       "      <td>37.977,60</td>\n",
       "      <td>5.154,58</td>\n",
       "      <td>73.996,53</td>\n",
       "      <td>4.116,93</td>\n",
       "      <td>11.099,73</td>\n",
       "    </tr>\n",
       "  </tbody>\n",
       "</table>\n",
       "<p>5 rows × 23 columns</p>\n",
       "</div>"
      ],
      "text/plain": [
       "      Ente Federativo Centil  Quantidade de Contribuintes  \\\n",
       "43260          BRASIL      1                      316.349   \n",
       "43261          BRASIL      2                      316.348   \n",
       "43262          BRASIL      3                      316.349   \n",
       "43263          BRASIL      4                      316.348   \n",
       "43264          BRASIL      5                      316.349   \n",
       "\n",
       "      Rendimentos Tributaveis - Limite Superior da RTB do Centil [R$ milhões]  \\\n",
       "43260                                                NaN                        \n",
       "43261                                                NaN                        \n",
       "43262                                                NaN                        \n",
       "43263                                                NaN                        \n",
       "43264                                                NaN                        \n",
       "\n",
       "      Rendimentos Tributaveis - Soma da RTB do Centil [R$ milhões]  \\\n",
       "43260                                                NaN             \n",
       "43261                                                NaN             \n",
       "43262                                                NaN             \n",
       "43263                                                NaN             \n",
       "43264                                                NaN             \n",
       "\n",
       "      Rendimentos Tributaveis - RTB Acumulada do Centil [R$ milhões]  \\\n",
       "43260                                                NaN               \n",
       "43261                                                NaN               \n",
       "43262                                                NaN               \n",
       "43263                                                NaN               \n",
       "43264                                                NaN               \n",
       "\n",
       "      Rendimentos Tributaveis - Média da RTB do Centil [R$]  \\\n",
       "43260                                                NaN      \n",
       "43261                                                NaN      \n",
       "43262                                                NaN      \n",
       "43263                                                NaN      \n",
       "43264                                                NaN      \n",
       "\n",
       "      Rendimentos Sujeitos à Tribut. Exclusiva [R$ milhões]  \\\n",
       "43260                                           2.292,22      \n",
       "43261                                           2.774,79      \n",
       "43262                                           2.735,77      \n",
       "43263                                           2.314,48      \n",
       "43264                                           2.378,27      \n",
       "\n",
       "      Rendimentos Isentos - Lucros e dividendos [R$ milhões]  \\\n",
       "43260                                           4.971,46       \n",
       "43261                                           5.276,95       \n",
       "43262                                           4.733,55       \n",
       "43263                                           4.838,44       \n",
       "43264                                           5.007,19       \n",
       "\n",
       "      Rendimentos Isentos - Rendim. Sócio/Titular ME/EPP Opt SIMPLES [R$ milhões]  \\\n",
       "43260                                           2.199,82                            \n",
       "43261                                           2.128,81                            \n",
       "43262                                           2.193,95                            \n",
       "43263                                           2.197,71                            \n",
       "43264                                           2.228,80                            \n",
       "\n",
       "       ... Despesas Dedutíveis - Instrução [R$ milhões]  \\\n",
       "43260  ...                                          NaN   \n",
       "43261  ...                                          NaN   \n",
       "43262  ...                                          NaN   \n",
       "43263  ...                                          NaN   \n",
       "43264  ...                                          NaN   \n",
       "\n",
       "      Despesas Dedutíveis - Médicas [R$ milhões]  \\\n",
       "43260                                        NaN   \n",
       "43261                                        NaN   \n",
       "43262                                        NaN   \n",
       "43263                                        NaN   \n",
       "43264                                        NaN   \n",
       "\n",
       "      Despesas Dedutíveis - Pensão Alimentícia [R$ milhões]  \\\n",
       "43260                                                NaN      \n",
       "43261                                                NaN      \n",
       "43262                                                NaN      \n",
       "43263                                                NaN      \n",
       "43264                                                NaN      \n",
       "\n",
       "      Despesas Dedutíveis - Livro-Caixa [R$ milhões]  \\\n",
       "43260                                            NaN   \n",
       "43261                                            NaN   \n",
       "43262                                            NaN   \n",
       "43263                                            NaN   \n",
       "43264                                            NaN   \n",
       "\n",
       "      Imposto Devido [R$ milhões] Bens e Direitos - Imóveis [R$ milhões]  \\\n",
       "43260                        0,09                              38.909,27   \n",
       "43261                        0,07                              37.867,76   \n",
       "43262                        0,01                              36.898,91   \n",
       "43263                        0,04                              37.209,91   \n",
       "43264                        0,07                              37.977,60   \n",
       "\n",
       "      Bens e Direitos - Móveis [R$ milhões]  \\\n",
       "43260                              5.588,86   \n",
       "43261                              5.119,81   \n",
       "43262                              5.173,59   \n",
       "43263                              5.032,53   \n",
       "43264                              5.154,58   \n",
       "\n",
       "      Bens e Direitos - Financeiros [R$ milhões]  \\\n",
       "43260                                  75.762,99   \n",
       "43261                                  76.337,18   \n",
       "43262                                  85.520,32   \n",
       "43263                                  87.919,86   \n",
       "43264                                  73.996,53   \n",
       "\n",
       "      Bens e Direitos - Outros Bens e Direitos [R$ milhões]  \\\n",
       "43260                                           6.586,13      \n",
       "43261                                          10.293,73      \n",
       "43262                                           8.806,86      \n",
       "43263                                           8.374,94      \n",
       "43264                                           4.116,93      \n",
       "\n",
       "      Dívidas e Ônus [R$ milhões]  \n",
       "43260                   11.817,63  \n",
       "43261                   13.299,04  \n",
       "43262                    9.576,16  \n",
       "43263                   10.025,25  \n",
       "43264                   11.099,73  \n",
       "\n",
       "[5 rows x 23 columns]"
      ]
     },
     "execution_count": 3,
     "metadata": {},
     "output_type": "execute_result"
    }
   ],
   "source": [
    "df20 = df_orig[df_orig[\"Ano-calendário\"] == 2020]\n",
    "df20 = df20.drop([\"Ano-calendário\"], axis=1)\n",
    "df20.head()"
   ]
  },
  {
   "cell_type": "code",
   "execution_count": 4,
   "id": "f0a2466b",
   "metadata": {},
   "outputs": [
    {
     "data": {
      "text/html": [
       "<div>\n",
       "<style scoped>\n",
       "    .dataframe tbody tr th:only-of-type {\n",
       "        vertical-align: middle;\n",
       "    }\n",
       "\n",
       "    .dataframe tbody tr th {\n",
       "        vertical-align: top;\n",
       "    }\n",
       "\n",
       "    .dataframe thead th {\n",
       "        text-align: right;\n",
       "    }\n",
       "</style>\n",
       "<table border=\"1\" class=\"dataframe\">\n",
       "  <thead>\n",
       "    <tr style=\"text-align: right;\">\n",
       "      <th></th>\n",
       "      <th>Centil</th>\n",
       "      <th>Quantidade de Contribuintes</th>\n",
       "      <th>Rendimentos Tributaveis - Limite Superior da RTB do Centil [R$ milhões]</th>\n",
       "      <th>Rendimentos Tributaveis - Soma da RTB do Centil [R$ milhões]</th>\n",
       "      <th>Rendimentos Tributaveis - RTB Acumulada do Centil [R$ milhões]</th>\n",
       "      <th>Rendimentos Tributaveis - Média da RTB do Centil [R$]</th>\n",
       "      <th>Rendimentos Sujeitos à Tribut. Exclusiva [R$ milhões]</th>\n",
       "      <th>Rendimentos Isentos - Lucros e dividendos [R$ milhões]</th>\n",
       "      <th>Rendimentos Isentos - Rendim. Sócio/Titular ME/EPP Opt SIMPLES [R$ milhões]</th>\n",
       "      <th>Rendimentos Isentos - Outros Rendimentos Isentos [R$ milhões]</th>\n",
       "      <th>...</th>\n",
       "      <th>Despesas Dedutíveis - Instrução [R$ milhões]</th>\n",
       "      <th>Despesas Dedutíveis - Médicas [R$ milhões]</th>\n",
       "      <th>Despesas Dedutíveis - Pensão Alimentícia [R$ milhões]</th>\n",
       "      <th>Despesas Dedutíveis - Livro-Caixa [R$ milhões]</th>\n",
       "      <th>Imposto Devido [R$ milhões]</th>\n",
       "      <th>Bens e Direitos - Imóveis [R$ milhões]</th>\n",
       "      <th>Bens e Direitos - Móveis [R$ milhões]</th>\n",
       "      <th>Bens e Direitos - Financeiros [R$ milhões]</th>\n",
       "      <th>Bens e Direitos - Outros Bens e Direitos [R$ milhões]</th>\n",
       "      <th>Dívidas e Ônus [R$ milhões]</th>\n",
       "    </tr>\n",
       "  </thead>\n",
       "  <tbody>\n",
       "    <tr>\n",
       "      <th>1</th>\n",
       "      <td>1</td>\n",
       "      <td>316.349</td>\n",
       "      <td>NaN</td>\n",
       "      <td>NaN</td>\n",
       "      <td>NaN</td>\n",
       "      <td>NaN</td>\n",
       "      <td>2.292,22</td>\n",
       "      <td>4.971,46</td>\n",
       "      <td>2.199,82</td>\n",
       "      <td>10.656,53</td>\n",
       "      <td>...</td>\n",
       "      <td>NaN</td>\n",
       "      <td>NaN</td>\n",
       "      <td>NaN</td>\n",
       "      <td>NaN</td>\n",
       "      <td>0,09</td>\n",
       "      <td>38.909,27</td>\n",
       "      <td>5.588,86</td>\n",
       "      <td>75.762,99</td>\n",
       "      <td>6.586,13</td>\n",
       "      <td>11.817,63</td>\n",
       "    </tr>\n",
       "    <tr>\n",
       "      <th>2</th>\n",
       "      <td>2</td>\n",
       "      <td>316.348</td>\n",
       "      <td>NaN</td>\n",
       "      <td>NaN</td>\n",
       "      <td>NaN</td>\n",
       "      <td>NaN</td>\n",
       "      <td>2.774,79</td>\n",
       "      <td>5.276,95</td>\n",
       "      <td>2.128,81</td>\n",
       "      <td>10.672,99</td>\n",
       "      <td>...</td>\n",
       "      <td>NaN</td>\n",
       "      <td>NaN</td>\n",
       "      <td>NaN</td>\n",
       "      <td>NaN</td>\n",
       "      <td>0,07</td>\n",
       "      <td>37.867,76</td>\n",
       "      <td>5.119,81</td>\n",
       "      <td>76.337,18</td>\n",
       "      <td>10.293,73</td>\n",
       "      <td>13.299,04</td>\n",
       "    </tr>\n",
       "    <tr>\n",
       "      <th>3</th>\n",
       "      <td>3</td>\n",
       "      <td>316.349</td>\n",
       "      <td>NaN</td>\n",
       "      <td>NaN</td>\n",
       "      <td>NaN</td>\n",
       "      <td>NaN</td>\n",
       "      <td>2.735,77</td>\n",
       "      <td>4.733,55</td>\n",
       "      <td>2.193,95</td>\n",
       "      <td>10.207,91</td>\n",
       "      <td>...</td>\n",
       "      <td>NaN</td>\n",
       "      <td>NaN</td>\n",
       "      <td>NaN</td>\n",
       "      <td>NaN</td>\n",
       "      <td>0,01</td>\n",
       "      <td>36.898,91</td>\n",
       "      <td>5.173,59</td>\n",
       "      <td>85.520,32</td>\n",
       "      <td>8.806,86</td>\n",
       "      <td>9.576,16</td>\n",
       "    </tr>\n",
       "    <tr>\n",
       "      <th>4</th>\n",
       "      <td>4</td>\n",
       "      <td>316.348</td>\n",
       "      <td>NaN</td>\n",
       "      <td>NaN</td>\n",
       "      <td>NaN</td>\n",
       "      <td>NaN</td>\n",
       "      <td>2.314,48</td>\n",
       "      <td>4.838,44</td>\n",
       "      <td>2.197,71</td>\n",
       "      <td>10.789,54</td>\n",
       "      <td>...</td>\n",
       "      <td>NaN</td>\n",
       "      <td>NaN</td>\n",
       "      <td>NaN</td>\n",
       "      <td>NaN</td>\n",
       "      <td>0,04</td>\n",
       "      <td>37.209,91</td>\n",
       "      <td>5.032,53</td>\n",
       "      <td>87.919,86</td>\n",
       "      <td>8.374,94</td>\n",
       "      <td>10.025,25</td>\n",
       "    </tr>\n",
       "    <tr>\n",
       "      <th>5</th>\n",
       "      <td>5</td>\n",
       "      <td>316.349</td>\n",
       "      <td>NaN</td>\n",
       "      <td>NaN</td>\n",
       "      <td>NaN</td>\n",
       "      <td>NaN</td>\n",
       "      <td>2.378,27</td>\n",
       "      <td>5.007,19</td>\n",
       "      <td>2.228,80</td>\n",
       "      <td>10.527,97</td>\n",
       "      <td>...</td>\n",
       "      <td>NaN</td>\n",
       "      <td>NaN</td>\n",
       "      <td>NaN</td>\n",
       "      <td>NaN</td>\n",
       "      <td>0,07</td>\n",
       "      <td>37.977,60</td>\n",
       "      <td>5.154,58</td>\n",
       "      <td>73.996,53</td>\n",
       "      <td>4.116,93</td>\n",
       "      <td>11.099,73</td>\n",
       "    </tr>\n",
       "  </tbody>\n",
       "</table>\n",
       "<p>5 rows × 22 columns</p>\n",
       "</div>"
      ],
      "text/plain": [
       "  Centil  Quantidade de Contribuintes  \\\n",
       "1      1                      316.349   \n",
       "2      2                      316.348   \n",
       "3      3                      316.349   \n",
       "4      4                      316.348   \n",
       "5      5                      316.349   \n",
       "\n",
       "  Rendimentos Tributaveis - Limite Superior da RTB do Centil [R$ milhões]  \\\n",
       "1                                                NaN                        \n",
       "2                                                NaN                        \n",
       "3                                                NaN                        \n",
       "4                                                NaN                        \n",
       "5                                                NaN                        \n",
       "\n",
       "  Rendimentos Tributaveis - Soma da RTB do Centil [R$ milhões]  \\\n",
       "1                                                NaN             \n",
       "2                                                NaN             \n",
       "3                                                NaN             \n",
       "4                                                NaN             \n",
       "5                                                NaN             \n",
       "\n",
       "  Rendimentos Tributaveis - RTB Acumulada do Centil [R$ milhões]  \\\n",
       "1                                                NaN               \n",
       "2                                                NaN               \n",
       "3                                                NaN               \n",
       "4                                                NaN               \n",
       "5                                                NaN               \n",
       "\n",
       "  Rendimentos Tributaveis - Média da RTB do Centil [R$]  \\\n",
       "1                                                NaN      \n",
       "2                                                NaN      \n",
       "3                                                NaN      \n",
       "4                                                NaN      \n",
       "5                                                NaN      \n",
       "\n",
       "  Rendimentos Sujeitos à Tribut. Exclusiva [R$ milhões]  \\\n",
       "1                                           2.292,22      \n",
       "2                                           2.774,79      \n",
       "3                                           2.735,77      \n",
       "4                                           2.314,48      \n",
       "5                                           2.378,27      \n",
       "\n",
       "  Rendimentos Isentos - Lucros e dividendos [R$ milhões]  \\\n",
       "1                                           4.971,46       \n",
       "2                                           5.276,95       \n",
       "3                                           4.733,55       \n",
       "4                                           4.838,44       \n",
       "5                                           5.007,19       \n",
       "\n",
       "  Rendimentos Isentos - Rendim. Sócio/Titular ME/EPP Opt SIMPLES [R$ milhões]  \\\n",
       "1                                           2.199,82                            \n",
       "2                                           2.128,81                            \n",
       "3                                           2.193,95                            \n",
       "4                                           2.197,71                            \n",
       "5                                           2.228,80                            \n",
       "\n",
       "  Rendimentos Isentos - Outros Rendimentos Isentos [R$ milhões]  ...  \\\n",
       "1                                          10.656,53             ...   \n",
       "2                                          10.672,99             ...   \n",
       "3                                          10.207,91             ...   \n",
       "4                                          10.789,54             ...   \n",
       "5                                          10.527,97             ...   \n",
       "\n",
       "  Despesas Dedutíveis - Instrução [R$ milhões]  \\\n",
       "1                                          NaN   \n",
       "2                                          NaN   \n",
       "3                                          NaN   \n",
       "4                                          NaN   \n",
       "5                                          NaN   \n",
       "\n",
       "  Despesas Dedutíveis - Médicas [R$ milhões]  \\\n",
       "1                                        NaN   \n",
       "2                                        NaN   \n",
       "3                                        NaN   \n",
       "4                                        NaN   \n",
       "5                                        NaN   \n",
       "\n",
       "  Despesas Dedutíveis - Pensão Alimentícia [R$ milhões]  \\\n",
       "1                                                NaN      \n",
       "2                                                NaN      \n",
       "3                                                NaN      \n",
       "4                                                NaN      \n",
       "5                                                NaN      \n",
       "\n",
       "  Despesas Dedutíveis - Livro-Caixa [R$ milhões] Imposto Devido [R$ milhões]  \\\n",
       "1                                            NaN                        0,09   \n",
       "2                                            NaN                        0,07   \n",
       "3                                            NaN                        0,01   \n",
       "4                                            NaN                        0,04   \n",
       "5                                            NaN                        0,07   \n",
       "\n",
       "  Bens e Direitos - Imóveis [R$ milhões]  \\\n",
       "1                              38.909,27   \n",
       "2                              37.867,76   \n",
       "3                              36.898,91   \n",
       "4                              37.209,91   \n",
       "5                              37.977,60   \n",
       "\n",
       "  Bens e Direitos - Móveis [R$ milhões]  \\\n",
       "1                              5.588,86   \n",
       "2                              5.119,81   \n",
       "3                              5.173,59   \n",
       "4                              5.032,53   \n",
       "5                              5.154,58   \n",
       "\n",
       "  Bens e Direitos - Financeiros [R$ milhões]  \\\n",
       "1                                  75.762,99   \n",
       "2                                  76.337,18   \n",
       "3                                  85.520,32   \n",
       "4                                  87.919,86   \n",
       "5                                  73.996,53   \n",
       "\n",
       "  Bens e Direitos - Outros Bens e Direitos [R$ milhões]  \\\n",
       "1                                           6.586,13      \n",
       "2                                          10.293,73      \n",
       "3                                           8.806,86      \n",
       "4                                           8.374,94      \n",
       "5                                           4.116,93      \n",
       "\n",
       "  Dívidas e Ônus [R$ milhões]  \n",
       "1                   11.817,63  \n",
       "2                   13.299,04  \n",
       "3                    9.576,16  \n",
       "4                   10.025,25  \n",
       "5                   11.099,73  \n",
       "\n",
       "[5 rows x 22 columns]"
      ]
     },
     "execution_count": 4,
     "metadata": {},
     "output_type": "execute_result"
    }
   ],
   "source": [
    "df20br = df20[df20[\"Ente Federativo\"] == \"BRASIL\"]\n",
    "df20br = df20br.reset_index()\n",
    "df20br = df20br.drop([\"Ente Federativo\" , \"index\"], axis=1)\n",
    "df20br.index = df20br.index + 1\n",
    "df20br.head()"
   ]
  },
  {
   "cell_type": "code",
   "execution_count": 5,
   "id": "74cfa4b1",
   "metadata": {},
   "outputs": [
    {
     "data": {
      "text/plain": [
       "Centil                                                                         float64\n",
       "Quantidade de Contribuintes                                                    float64\n",
       "Rendimentos Tributaveis - Limite Superior da RTB do Centil [R$ milhões]        float64\n",
       "Rendimentos Tributaveis - Soma da RTB do Centil [R$ milhões]                   float64\n",
       "Rendimentos Tributaveis - RTB Acumulada do Centil [R$ milhões]                 float64\n",
       "Rendimentos Tributaveis - Média da RTB do Centil [R$]                          float64\n",
       "Rendimentos Sujeitos à Tribut. Exclusiva [R$ milhões]                          float64\n",
       "Rendimentos Isentos - Lucros e dividendos [R$ milhões]                         float64\n",
       "Rendimentos Isentos - Rendim. Sócio/Titular ME/EPP Opt SIMPLES [R$ milhões]    float64\n",
       "Rendimentos Isentos - Outros Rendimentos Isentos [R$ milhões]                  float64\n",
       "Despesas Dedutíveis - Previdência [R$ milhões]                                 float64\n",
       "Despesas Dedutíveis - Dependentes [R$ milhões]                                 float64\n",
       "Despesas Dedutíveis - Instrução [R$ milhões]                                   float64\n",
       "Despesas Dedutíveis - Médicas [R$ milhões]                                     float64\n",
       "Despesas Dedutíveis - Pensão Alimentícia [R$ milhões]                          float64\n",
       "Despesas Dedutíveis - Livro-Caixa [R$ milhões]                                 float64\n",
       "Imposto Devido [R$ milhões]                                                    float64\n",
       "Bens e Direitos - Imóveis [R$ milhões]                                         float64\n",
       "Bens e Direitos - Móveis [R$ milhões]                                          float64\n",
       "Bens e Direitos - Financeiros [R$ milhões]                                     float64\n",
       "Bens e Direitos - Outros Bens e Direitos [R$ milhões]                          float64\n",
       "Dívidas e Ônus [R$ milhões]                                                    float64\n",
       "dtype: object"
      ]
     },
     "execution_count": 5,
     "metadata": {},
     "output_type": "execute_result"
    }
   ],
   "source": [
    "def convert_brazilian_number(value):\n",
    "    \"\"\"\n",
    "    Convert Brazilian-formatted number string to float\n",
    "    - Removes dots used as thousand separators\n",
    "    - Replaces comma with dot for decimal separation\n",
    "    \"\"\"\n",
    "    if pd.isna(value):\n",
    "        return np.nan\n",
    "\n",
    "    value = value.replace('.', '')\n",
    "    value = value.replace(',', '.')\n",
    "    return float(value)\n",
    "\n",
    "# Convert all columns in df20br\n",
    "for column in df20br.columns:\n",
    "    if df20br[column].dtype == \"object\":\n",
    "        try:\n",
    "            df20br[column] = df20br[column].apply(convert_brazilian_number)\n",
    "        except Exception as e:\n",
    "            print(f\"Error converting column {column}: {e}\")\n",
    "\n",
    "# Verify the data types\n",
    "df20br.dtypes"
   ]
  },
  {
   "cell_type": "code",
   "execution_count": 6,
   "id": "cc691a83",
   "metadata": {},
   "outputs": [],
   "source": [
    "# Helper functions\n",
    "\n",
    "def create_one_indexed_df(_df):\n",
    "    _df = _df.reset_index()\n",
    "    _df = _df.drop([\"index\"], axis=1)\n",
    "    _df.index = _df.index + 1\n",
    "    return _df\n",
    "\n",
    "def map_x_position(centil):\n",
    "    if centil <= 99:\n",
    "        return centil\n",
    "    elif 1001 <= centil <= 1009:\n",
    "        return 99 + (centil - 1000) * 0.1\n",
    "    elif 100101 <= centil <= 100110:\n",
    "        return 99.9 + (centil - 100100) * 0.01\n",
    "    elif centil == 1001010:\n",
    "        return 100\n",
    "    return centil\n",
    "\n",
    "def map_width(centil):\n",
    "    std_width = 2.0\n",
    "    if centil <= 99:\n",
    "        return std_width\n",
    "    elif 1001 <= centil <= 1009:\n",
    "        return std_width / 2\n",
    "    elif 100101 <= centil:\n",
    "        return std_width / 2\n",
    "    return std_width\n",
    "\n",
    "def prepare_data_for_plotting(df, limit):\n",
    "    df_graphed = df[(df['Centil'] <= limit)].copy()\n",
    "    \n",
    "    # Add position and width columns\n",
    "    df_graphed['x_position'] = df_graphed['Centil'].apply(map_x_position)\n",
    "    df_graphed['width'] = df_graphed['Centil'].apply(map_width)\n",
    "    \n",
    "    # Sort by x position\n",
    "    return df_graphed.sort_values('x_position')\n",
    "\n",
    "\n",
    "def plot_renda_custom_plotly(df):\n",
    "    # Prepare data for each range\n",
    "    df_graphed_99 = prepare_data_for_plotting(df, 99)\n",
    "    df_graphed_100101 = prepare_data_for_plotting(df, 100101)\n",
    "    df_graphed_100107 = prepare_data_for_plotting(df, 100107)\n",
    "    df_graphed_100109 = prepare_data_for_plotting(df, 100109)\n",
    "    df_graphed_all = prepare_data_for_plotting(df, 1001111)\n",
    "    \n",
    "    # Get maximum values for each range to use in annotations\n",
    "    max_99 = df_graphed_99['Rendimentos Tributaveis - Limite Superior da RTB do Centil [R$ milhões]'].max()\n",
    "    max_100101 = df_graphed_100101['Rendimentos Tributaveis - Limite Superior da RTB do Centil [R$ milhões]'].max()\n",
    "    max_100107 = df_graphed_100107['Rendimentos Tributaveis - Limite Superior da RTB do Centil [R$ milhões]'].max()\n",
    "    max_100109 = df_graphed_100109['Rendimentos Tributaveis - Limite Superior da RTB do Centil [R$ milhões]'].max()\n",
    "    \n",
    "    # Get x positions for the maximum values\n",
    "    x_99 = df_graphed_99[df_graphed_99['Rendimentos Tributaveis - Limite Superior da RTB do Centil [R$ milhões]'] == max_99]['x_position'].iloc[0]\n",
    "    x_100101 = df_graphed_100101[df_graphed_100101['Rendimentos Tributaveis - Limite Superior da RTB do Centil [R$ milhões]'] == max_100101]['x_position'].iloc[0]\n",
    "    x_100107 = df_graphed_100107[df_graphed_100107['Rendimentos Tributaveis - Limite Superior da RTB do Centil [R$ milhões]'] == max_100107]['x_position'].iloc[0]\n",
    "    x_100109 = df_graphed_100109[df_graphed_100109['Rendimentos Tributaveis - Limite Superior da RTB do Centil [R$ milhões]'] == max_100109]['x_position'].iloc[0]\n",
    "    \n",
    "    # Create the plot\n",
    "    fig = go.Figure()\n",
    "    \n",
    "    # Add line traces\n",
    "    fig.add_trace(go.Scatter(\n",
    "        x=df_graphed_99['x_position'],\n",
    "        y=df_graphed_99['Rendimentos Tributaveis - Limite Superior da RTB do Centil [R$ milhões]'],\n",
    "        name='Até Centil 99',\n",
    "        visible=True,\n",
    "        mode='lines+markers',\n",
    "        line=dict(color='rgb(33, 102, 172)', width=2),\n",
    "        marker=dict(size=6),\n",
    "        hovertemplate='Centil: %{x}<br>Rendimentos: %{y:.2f} R$ milhões<extra></extra>'\n",
    "    ))\n",
    "    \n",
    "    fig.add_trace(go.Scatter(\n",
    "        x=df_graphed_100101['x_position'],\n",
    "        y=df_graphed_100101['Rendimentos Tributaveis - Limite Superior da RTB do Centil [R$ milhões]'],\n",
    "        name='Até 99.90% (Linha)',\n",
    "        visible=False,\n",
    "        mode='lines+markers',\n",
    "        line=dict(color='rgb(33, 102, 172)', width=2),\n",
    "        marker=dict(size=6),\n",
    "        hovertemplate='Centil: %{x}<br>Rendimentos: %{y:.2f} R$ milhões<extra></extra>'\n",
    "    ))\n",
    "    \n",
    "    fig.add_trace(go.Scatter(\n",
    "        x=df_graphed_100107['x_position'],\n",
    "        y=df_graphed_100107['Rendimentos Tributaveis - Limite Superior da RTB do Centil [R$ milhões]'],\n",
    "        name='Até 99.97% (Linha)',\n",
    "        visible=False,\n",
    "        mode='lines+markers',\n",
    "        line=dict(color='rgb(33, 102, 172)', width=2),\n",
    "        marker=dict(size=6),\n",
    "        hovertemplate='Centil: %{x}<br>Rendimentos: %{y:.2f} R$ milhões<extra></extra>'\n",
    "    ))\n",
    "    \n",
    "    fig.add_trace(go.Scatter(\n",
    "        x=df_graphed_100109['x_position'],\n",
    "        y=df_graphed_100109['Rendimentos Tributaveis - Limite Superior da RTB do Centil [R$ milhões]'],\n",
    "        name='Até 99.99% (Linha)',\n",
    "        visible=False,\n",
    "        mode='lines+markers',\n",
    "        line=dict(color='rgb(33, 102, 172)', width=2),\n",
    "        marker=dict(size=6),\n",
    "        hovertemplate='Centil: %{x}<br>Rendimentos: %{y:.2f} R$ milhões<extra></extra>'\n",
    "    ))\n",
    "    \n",
    "    fig.add_trace(go.Scatter(\n",
    "        x=df_graphed_all['x_position'],\n",
    "        y=df_graphed_all['Rendimentos Tributaveis - Limite Superior da RTB do Centil [R$ milhões]'],\n",
    "        name='Todos os Centis (Linha)',\n",
    "        visible=False,\n",
    "        mode='lines+markers',\n",
    "        line=dict(color='rgb(33, 102, 172)', width=2),\n",
    "        marker=dict(\n",
    "            size=6\n",
    "        ),\n",
    "        hovertemplate='Centil: %{x}<br>Rendimentos: %{y:.2f} R$ milhões<extra></extra>'\n",
    "    ))\n",
    "    \n",
    "    # Update layout\n",
    "    fig.update_layout(\n",
    "        title={\n",
    "            'text': 'Rendimentos Tributáveis por Centil 2020',\n",
    "            'y': 0.95,\n",
    "            'x': 0.5,\n",
    "            'xanchor': 'center',\n",
    "            'yanchor': 'top',\n",
    "            'font': {'size': 14}\n",
    "        },\n",
    "        xaxis_title='Centil',\n",
    "        yaxis_title='Rendimentos Tributáveis - Limite Superior',\n",
    "        template='plotly_white',\n",
    "        width=1200,\n",
    "        height=600,\n",
    "        showlegend=False,\n",
    "        barmode='overlay'\n",
    "    )\n",
    "    \n",
    "    # Create annotations for each range\n",
    "    annotations_99 = []  # Empty for first range\n",
    "    \n",
    "    annotations_100101 = [\n",
    "        dict(\n",
    "            x=x_99,\n",
    "            y=max_99,\n",
    "            text=f\"Centil 99:<br>{max_99:.2f}\",\n",
    "            showarrow=True,\n",
    "            arrowhead=2,\n",
    "            arrowsize=1.5,\n",
    "            arrowwidth=2,\n",
    "            arrowcolor=\"red\",\n",
    "            ax=-60,\n",
    "            ay=-60,\n",
    "            standoff=10  # Add some spacing between arrow and point\n",
    "        )\n",
    "    ]\n",
    "    \n",
    "    annotations_100107 = [\n",
    "        dict(\n",
    "            x=x_100101,\n",
    "            y=max_100101,\n",
    "            text=f\"Centil 99.90:<br>{max_100101:.2f}\",\n",
    "            showarrow=True,\n",
    "            arrowhead=2,\n",
    "            arrowsize=1.5,\n",
    "            arrowwidth=2,\n",
    "            arrowcolor=\"red\",\n",
    "            ax=-60,\n",
    "            ay=-60,\n",
    "            standoff=10\n",
    "        )\n",
    "    ]\n",
    "    \n",
    "    annotations_100109 = [\n",
    "        dict(\n",
    "            x=x_100107,\n",
    "            y=max_100107,\n",
    "            text=f\"Centil 99.97:<br>{max_100107:.2f}\",\n",
    "            showarrow=True,\n",
    "            arrowhead=2,\n",
    "            arrowsize=1.5,\n",
    "            arrowwidth=2,\n",
    "            arrowcolor=\"red\",\n",
    "            ax=-60,\n",
    "            ay=-60,\n",
    "            standoff=10\n",
    "        )\n",
    "    ]\n",
    "    \n",
    "    annotations_all = [\n",
    "        dict(\n",
    "            x=x_100109,\n",
    "            y=max_100109,\n",
    "            text=f\"Centil 99.99:<br>{max_100109:.2f}\",\n",
    "            showarrow=True,\n",
    "            arrowhead=2,\n",
    "            arrowsize=1.5,\n",
    "            arrowwidth=2,\n",
    "            arrowcolor=\"red\",\n",
    "            ax=-60,\n",
    "            ay=-60,\n",
    "            standoff=10\n",
    "        )\n",
    "    ]\n",
    "    \n",
    "    # Add buttons for different centil ranges with annotations\n",
    "    fig.update_layout(\n",
    "        updatemenus=[\n",
    "            dict(\n",
    "                type=\"buttons\",\n",
    "                direction=\"right\",\n",
    "                buttons=list([\n",
    "                    dict(\n",
    "                        args=[{\"visible\": [True, False, False, False, False]},\n",
    "                              {\"annotations\": annotations_99}],\n",
    "                        label=\"Até Centil 99\",\n",
    "                        method=\"update\"\n",
    "                    ),\n",
    "                    dict(\n",
    "                        args=[{\"visible\": [False, True, False, False, False]},\n",
    "                              {\"annotations\": annotations_100101}],\n",
    "                        label=\"Até 99.90%\",\n",
    "                        method=\"update\"\n",
    "                    ),\n",
    "                    dict(\n",
    "                        args=[{\"visible\": [False, False, True, False, False]},\n",
    "                              {\"annotations\": annotations_100107}],\n",
    "                        label=\"Até 99.97%\",\n",
    "                        method=\"update\"\n",
    "                    ),\n",
    "                    dict(\n",
    "                        args=[{\"visible\": [False, False, False, True, False]},\n",
    "                              {\"annotations\": annotations_100109}],\n",
    "                        label=\"Até 99.99%\",\n",
    "                        method=\"update\"\n",
    "                    ),\n",
    "                    dict(\n",
    "                        args=[{\"visible\": [False, False, False, False, True]},\n",
    "                              {\"annotations\": annotations_all}],\n",
    "                        label=\"Todos os Centis\",\n",
    "                        method=\"update\"\n",
    "                    )\n",
    "                ]),\n",
    "                pad={\"r\": 10, \"t\": 10},\n",
    "                showactive=True,\n",
    "                x=0.1,\n",
    "                xanchor=\"left\",\n",
    "                y=1.1,\n",
    "                yanchor=\"top\"\n",
    "            )\n",
    "        ]\n",
    "    )\n",
    "    \n",
    "    fig.show()"
   ]
  },
  {
   "cell_type": "code",
   "execution_count": 7,
   "id": "620b37c0",
   "metadata": {},
   "outputs": [
    {
     "data": {
      "text/html": [
       "<div>\n",
       "<style scoped>\n",
       "    .dataframe tbody tr th:only-of-type {\n",
       "        vertical-align: middle;\n",
       "    }\n",
       "\n",
       "    .dataframe tbody tr th {\n",
       "        vertical-align: top;\n",
       "    }\n",
       "\n",
       "    .dataframe thead th {\n",
       "        text-align: right;\n",
       "    }\n",
       "</style>\n",
       "<table border=\"1\" class=\"dataframe\">\n",
       "  <thead>\n",
       "    <tr style=\"text-align: right;\">\n",
       "      <th></th>\n",
       "      <th>Centil</th>\n",
       "      <th>Quantidade de Contribuintes</th>\n",
       "      <th>Rendimentos Tributaveis - Limite Superior da RTB do Centil [R$ milhões]</th>\n",
       "      <th>Rendimentos Tributaveis - Soma da RTB do Centil [R$ milhões]</th>\n",
       "      <th>Rendimentos Tributaveis - RTB Acumulada do Centil [R$ milhões]</th>\n",
       "      <th>Rendimentos Tributaveis - Média da RTB do Centil [R$]</th>\n",
       "      <th>Rendimentos Sujeitos à Tribut. Exclusiva [R$ milhões]</th>\n",
       "      <th>Rendimentos Isentos - Lucros e dividendos [R$ milhões]</th>\n",
       "      <th>Rendimentos Isentos - Rendim. Sócio/Titular ME/EPP Opt SIMPLES [R$ milhões]</th>\n",
       "      <th>Rendimentos Isentos - Outros Rendimentos Isentos [R$ milhões]</th>\n",
       "      <th>...</th>\n",
       "      <th>Despesas Dedutíveis - Instrução [R$ milhões]</th>\n",
       "      <th>Despesas Dedutíveis - Médicas [R$ milhões]</th>\n",
       "      <th>Despesas Dedutíveis - Pensão Alimentícia [R$ milhões]</th>\n",
       "      <th>Despesas Dedutíveis - Livro-Caixa [R$ milhões]</th>\n",
       "      <th>Imposto Devido [R$ milhões]</th>\n",
       "      <th>Bens e Direitos - Imóveis [R$ milhões]</th>\n",
       "      <th>Bens e Direitos - Móveis [R$ milhões]</th>\n",
       "      <th>Bens e Direitos - Financeiros [R$ milhões]</th>\n",
       "      <th>Bens e Direitos - Outros Bens e Direitos [R$ milhões]</th>\n",
       "      <th>Dívidas e Ônus [R$ milhões]</th>\n",
       "    </tr>\n",
       "  </thead>\n",
       "  <tbody>\n",
       "    <tr>\n",
       "      <th>1</th>\n",
       "      <td>1.0</td>\n",
       "      <td>316.349</td>\n",
       "      <td>NaN</td>\n",
       "      <td>NaN</td>\n",
       "      <td>NaN</td>\n",
       "      <td>NaN</td>\n",
       "      <td>2292.22</td>\n",
       "      <td>4971.46</td>\n",
       "      <td>2199.82</td>\n",
       "      <td>10656.53</td>\n",
       "      <td>...</td>\n",
       "      <td>NaN</td>\n",
       "      <td>NaN</td>\n",
       "      <td>NaN</td>\n",
       "      <td>NaN</td>\n",
       "      <td>0.09</td>\n",
       "      <td>38909.27</td>\n",
       "      <td>5588.86</td>\n",
       "      <td>75762.99</td>\n",
       "      <td>6586.13</td>\n",
       "      <td>11817.63</td>\n",
       "    </tr>\n",
       "    <tr>\n",
       "      <th>2</th>\n",
       "      <td>2.0</td>\n",
       "      <td>316.348</td>\n",
       "      <td>NaN</td>\n",
       "      <td>NaN</td>\n",
       "      <td>NaN</td>\n",
       "      <td>NaN</td>\n",
       "      <td>2774.79</td>\n",
       "      <td>5276.95</td>\n",
       "      <td>2128.81</td>\n",
       "      <td>10672.99</td>\n",
       "      <td>...</td>\n",
       "      <td>NaN</td>\n",
       "      <td>NaN</td>\n",
       "      <td>NaN</td>\n",
       "      <td>NaN</td>\n",
       "      <td>0.07</td>\n",
       "      <td>37867.76</td>\n",
       "      <td>5119.81</td>\n",
       "      <td>76337.18</td>\n",
       "      <td>10293.73</td>\n",
       "      <td>13299.04</td>\n",
       "    </tr>\n",
       "    <tr>\n",
       "      <th>3</th>\n",
       "      <td>3.0</td>\n",
       "      <td>316.349</td>\n",
       "      <td>NaN</td>\n",
       "      <td>NaN</td>\n",
       "      <td>NaN</td>\n",
       "      <td>NaN</td>\n",
       "      <td>2735.77</td>\n",
       "      <td>4733.55</td>\n",
       "      <td>2193.95</td>\n",
       "      <td>10207.91</td>\n",
       "      <td>...</td>\n",
       "      <td>NaN</td>\n",
       "      <td>NaN</td>\n",
       "      <td>NaN</td>\n",
       "      <td>NaN</td>\n",
       "      <td>0.01</td>\n",
       "      <td>36898.91</td>\n",
       "      <td>5173.59</td>\n",
       "      <td>85520.32</td>\n",
       "      <td>8806.86</td>\n",
       "      <td>9576.16</td>\n",
       "    </tr>\n",
       "    <tr>\n",
       "      <th>4</th>\n",
       "      <td>4.0</td>\n",
       "      <td>316.348</td>\n",
       "      <td>NaN</td>\n",
       "      <td>NaN</td>\n",
       "      <td>NaN</td>\n",
       "      <td>NaN</td>\n",
       "      <td>2314.48</td>\n",
       "      <td>4838.44</td>\n",
       "      <td>2197.71</td>\n",
       "      <td>10789.54</td>\n",
       "      <td>...</td>\n",
       "      <td>NaN</td>\n",
       "      <td>NaN</td>\n",
       "      <td>NaN</td>\n",
       "      <td>NaN</td>\n",
       "      <td>0.04</td>\n",
       "      <td>37209.91</td>\n",
       "      <td>5032.53</td>\n",
       "      <td>87919.86</td>\n",
       "      <td>8374.94</td>\n",
       "      <td>10025.25</td>\n",
       "    </tr>\n",
       "    <tr>\n",
       "      <th>5</th>\n",
       "      <td>5.0</td>\n",
       "      <td>316.349</td>\n",
       "      <td>NaN</td>\n",
       "      <td>NaN</td>\n",
       "      <td>NaN</td>\n",
       "      <td>NaN</td>\n",
       "      <td>2378.27</td>\n",
       "      <td>5007.19</td>\n",
       "      <td>2228.80</td>\n",
       "      <td>10527.97</td>\n",
       "      <td>...</td>\n",
       "      <td>NaN</td>\n",
       "      <td>NaN</td>\n",
       "      <td>NaN</td>\n",
       "      <td>NaN</td>\n",
       "      <td>0.07</td>\n",
       "      <td>37977.60</td>\n",
       "      <td>5154.58</td>\n",
       "      <td>73996.53</td>\n",
       "      <td>4116.93</td>\n",
       "      <td>11099.73</td>\n",
       "    </tr>\n",
       "    <tr>\n",
       "      <th>...</th>\n",
       "      <td>...</td>\n",
       "      <td>...</td>\n",
       "      <td>...</td>\n",
       "      <td>...</td>\n",
       "      <td>...</td>\n",
       "      <td>...</td>\n",
       "      <td>...</td>\n",
       "      <td>...</td>\n",
       "      <td>...</td>\n",
       "      <td>...</td>\n",
       "      <td>...</td>\n",
       "      <td>...</td>\n",
       "      <td>...</td>\n",
       "      <td>...</td>\n",
       "      <td>...</td>\n",
       "      <td>...</td>\n",
       "      <td>...</td>\n",
       "      <td>...</td>\n",
       "      <td>...</td>\n",
       "      <td>...</td>\n",
       "      <td>...</td>\n",
       "    </tr>\n",
       "    <tr>\n",
       "      <th>114</th>\n",
       "      <td>100106.0</td>\n",
       "      <td>3.164</td>\n",
       "      <td>1.475119e+06</td>\n",
       "      <td>4371.27</td>\n",
       "      <td>21172.52</td>\n",
       "      <td>1381564.53</td>\n",
       "      <td>1318.42</td>\n",
       "      <td>988.39</td>\n",
       "      <td>22.97</td>\n",
       "      <td>2079.69</td>\n",
       "      <td>...</td>\n",
       "      <td>6.48</td>\n",
       "      <td>56.64</td>\n",
       "      <td>17.89</td>\n",
       "      <td>244.23</td>\n",
       "      <td>1041.91</td>\n",
       "      <td>9053.59</td>\n",
       "      <td>847.59</td>\n",
       "      <td>32483.19</td>\n",
       "      <td>1496.76</td>\n",
       "      <td>3406.31</td>\n",
       "    </tr>\n",
       "    <tr>\n",
       "      <th>115</th>\n",
       "      <td>100107.0</td>\n",
       "      <td>3.163</td>\n",
       "      <td>1.754642e+06</td>\n",
       "      <td>5075.86</td>\n",
       "      <td>26248.38</td>\n",
       "      <td>1604759.97</td>\n",
       "      <td>1525.39</td>\n",
       "      <td>1467.36</td>\n",
       "      <td>28.21</td>\n",
       "      <td>2441.64</td>\n",
       "      <td>...</td>\n",
       "      <td>6.68</td>\n",
       "      <td>60.18</td>\n",
       "      <td>21.97</td>\n",
       "      <td>304.81</td>\n",
       "      <td>1216.05</td>\n",
       "      <td>10083.19</td>\n",
       "      <td>799.82</td>\n",
       "      <td>36030.85</td>\n",
       "      <td>2023.68</td>\n",
       "      <td>4840.62</td>\n",
       "    </tr>\n",
       "    <tr>\n",
       "      <th>116</th>\n",
       "      <td>100108.0</td>\n",
       "      <td>3.164</td>\n",
       "      <td>2.264549e+06</td>\n",
       "      <td>6267.54</td>\n",
       "      <td>32515.92</td>\n",
       "      <td>1980892.39</td>\n",
       "      <td>2993.20</td>\n",
       "      <td>3781.31</td>\n",
       "      <td>35.67</td>\n",
       "      <td>3961.33</td>\n",
       "      <td>...</td>\n",
       "      <td>6.71</td>\n",
       "      <td>67.68</td>\n",
       "      <td>25.08</td>\n",
       "      <td>492.61</td>\n",
       "      <td>1483.90</td>\n",
       "      <td>12523.03</td>\n",
       "      <td>1255.11</td>\n",
       "      <td>66587.48</td>\n",
       "      <td>2380.89</td>\n",
       "      <td>3600.41</td>\n",
       "    </tr>\n",
       "    <tr>\n",
       "      <th>117</th>\n",
       "      <td>100109.0</td>\n",
       "      <td>3.163</td>\n",
       "      <td>3.520592e+06</td>\n",
       "      <td>8755.18</td>\n",
       "      <td>41271.10</td>\n",
       "      <td>2767997.25</td>\n",
       "      <td>3068.40</td>\n",
       "      <td>2172.04</td>\n",
       "      <td>30.56</td>\n",
       "      <td>3978.80</td>\n",
       "      <td>...</td>\n",
       "      <td>6.69</td>\n",
       "      <td>69.60</td>\n",
       "      <td>29.74</td>\n",
       "      <td>968.15</td>\n",
       "      <td>2024.95</td>\n",
       "      <td>14776.01</td>\n",
       "      <td>1661.08</td>\n",
       "      <td>80481.55</td>\n",
       "      <td>2807.22</td>\n",
       "      <td>7689.81</td>\n",
       "    </tr>\n",
       "    <tr>\n",
       "      <th>118</th>\n",
       "      <td>1001010.0</td>\n",
       "      <td>3.163</td>\n",
       "      <td>3.307760e+08</td>\n",
       "      <td>26439.14</td>\n",
       "      <td>67710.24</td>\n",
       "      <td>8358880.64</td>\n",
       "      <td>9109.06</td>\n",
       "      <td>6270.51</td>\n",
       "      <td>35.43</td>\n",
       "      <td>18565.69</td>\n",
       "      <td>...</td>\n",
       "      <td>7.13</td>\n",
       "      <td>101.80</td>\n",
       "      <td>64.36</td>\n",
       "      <td>5020.95</td>\n",
       "      <td>5649.46</td>\n",
       "      <td>25404.35</td>\n",
       "      <td>3294.62</td>\n",
       "      <td>178405.43</td>\n",
       "      <td>5493.73</td>\n",
       "      <td>11626.14</td>\n",
       "    </tr>\n",
       "  </tbody>\n",
       "</table>\n",
       "<p>118 rows × 22 columns</p>\n",
       "</div>"
      ],
      "text/plain": [
       "        Centil  Quantidade de Contribuintes  \\\n",
       "1          1.0                      316.349   \n",
       "2          2.0                      316.348   \n",
       "3          3.0                      316.349   \n",
       "4          4.0                      316.348   \n",
       "5          5.0                      316.349   \n",
       "..         ...                          ...   \n",
       "114   100106.0                        3.164   \n",
       "115   100107.0                        3.163   \n",
       "116   100108.0                        3.164   \n",
       "117   100109.0                        3.163   \n",
       "118  1001010.0                        3.163   \n",
       "\n",
       "     Rendimentos Tributaveis - Limite Superior da RTB do Centil [R$ milhões]  \\\n",
       "1                                                  NaN                         \n",
       "2                                                  NaN                         \n",
       "3                                                  NaN                         \n",
       "4                                                  NaN                         \n",
       "5                                                  NaN                         \n",
       "..                                                 ...                         \n",
       "114                                       1.475119e+06                         \n",
       "115                                       1.754642e+06                         \n",
       "116                                       2.264549e+06                         \n",
       "117                                       3.520592e+06                         \n",
       "118                                       3.307760e+08                         \n",
       "\n",
       "     Rendimentos Tributaveis - Soma da RTB do Centil [R$ milhões]  \\\n",
       "1                                                  NaN              \n",
       "2                                                  NaN              \n",
       "3                                                  NaN              \n",
       "4                                                  NaN              \n",
       "5                                                  NaN              \n",
       "..                                                 ...              \n",
       "114                                            4371.27              \n",
       "115                                            5075.86              \n",
       "116                                            6267.54              \n",
       "117                                            8755.18              \n",
       "118                                           26439.14              \n",
       "\n",
       "     Rendimentos Tributaveis - RTB Acumulada do Centil [R$ milhões]  \\\n",
       "1                                                  NaN                \n",
       "2                                                  NaN                \n",
       "3                                                  NaN                \n",
       "4                                                  NaN                \n",
       "5                                                  NaN                \n",
       "..                                                 ...                \n",
       "114                                           21172.52                \n",
       "115                                           26248.38                \n",
       "116                                           32515.92                \n",
       "117                                           41271.10                \n",
       "118                                           67710.24                \n",
       "\n",
       "     Rendimentos Tributaveis - Média da RTB do Centil [R$]  \\\n",
       "1                                                  NaN       \n",
       "2                                                  NaN       \n",
       "3                                                  NaN       \n",
       "4                                                  NaN       \n",
       "5                                                  NaN       \n",
       "..                                                 ...       \n",
       "114                                         1381564.53       \n",
       "115                                         1604759.97       \n",
       "116                                         1980892.39       \n",
       "117                                         2767997.25       \n",
       "118                                         8358880.64       \n",
       "\n",
       "     Rendimentos Sujeitos à Tribut. Exclusiva [R$ milhões]  \\\n",
       "1                                              2292.22       \n",
       "2                                              2774.79       \n",
       "3                                              2735.77       \n",
       "4                                              2314.48       \n",
       "5                                              2378.27       \n",
       "..                                                 ...       \n",
       "114                                            1318.42       \n",
       "115                                            1525.39       \n",
       "116                                            2993.20       \n",
       "117                                            3068.40       \n",
       "118                                            9109.06       \n",
       "\n",
       "     Rendimentos Isentos - Lucros e dividendos [R$ milhões]  \\\n",
       "1                                              4971.46        \n",
       "2                                              5276.95        \n",
       "3                                              4733.55        \n",
       "4                                              4838.44        \n",
       "5                                              5007.19        \n",
       "..                                                 ...        \n",
       "114                                             988.39        \n",
       "115                                            1467.36        \n",
       "116                                            3781.31        \n",
       "117                                            2172.04        \n",
       "118                                            6270.51        \n",
       "\n",
       "     Rendimentos Isentos - Rendim. Sócio/Titular ME/EPP Opt SIMPLES [R$ milhões]  \\\n",
       "1                                              2199.82                             \n",
       "2                                              2128.81                             \n",
       "3                                              2193.95                             \n",
       "4                                              2197.71                             \n",
       "5                                              2228.80                             \n",
       "..                                                 ...                             \n",
       "114                                              22.97                             \n",
       "115                                              28.21                             \n",
       "116                                              35.67                             \n",
       "117                                              30.56                             \n",
       "118                                              35.43                             \n",
       "\n",
       "     Rendimentos Isentos - Outros Rendimentos Isentos [R$ milhões]  ...  \\\n",
       "1                                             10656.53              ...   \n",
       "2                                             10672.99              ...   \n",
       "3                                             10207.91              ...   \n",
       "4                                             10789.54              ...   \n",
       "5                                             10527.97              ...   \n",
       "..                                                 ...              ...   \n",
       "114                                            2079.69              ...   \n",
       "115                                            2441.64              ...   \n",
       "116                                            3961.33              ...   \n",
       "117                                            3978.80              ...   \n",
       "118                                           18565.69              ...   \n",
       "\n",
       "     Despesas Dedutíveis - Instrução [R$ milhões]  \\\n",
       "1                                             NaN   \n",
       "2                                             NaN   \n",
       "3                                             NaN   \n",
       "4                                             NaN   \n",
       "5                                             NaN   \n",
       "..                                            ...   \n",
       "114                                          6.48   \n",
       "115                                          6.68   \n",
       "116                                          6.71   \n",
       "117                                          6.69   \n",
       "118                                          7.13   \n",
       "\n",
       "     Despesas Dedutíveis - Médicas [R$ milhões]  \\\n",
       "1                                           NaN   \n",
       "2                                           NaN   \n",
       "3                                           NaN   \n",
       "4                                           NaN   \n",
       "5                                           NaN   \n",
       "..                                          ...   \n",
       "114                                       56.64   \n",
       "115                                       60.18   \n",
       "116                                       67.68   \n",
       "117                                       69.60   \n",
       "118                                      101.80   \n",
       "\n",
       "     Despesas Dedutíveis - Pensão Alimentícia [R$ milhões]  \\\n",
       "1                                                  NaN       \n",
       "2                                                  NaN       \n",
       "3                                                  NaN       \n",
       "4                                                  NaN       \n",
       "5                                                  NaN       \n",
       "..                                                 ...       \n",
       "114                                              17.89       \n",
       "115                                              21.97       \n",
       "116                                              25.08       \n",
       "117                                              29.74       \n",
       "118                                              64.36       \n",
       "\n",
       "     Despesas Dedutíveis - Livro-Caixa [R$ milhões]  \\\n",
       "1                                               NaN   \n",
       "2                                               NaN   \n",
       "3                                               NaN   \n",
       "4                                               NaN   \n",
       "5                                               NaN   \n",
       "..                                              ...   \n",
       "114                                          244.23   \n",
       "115                                          304.81   \n",
       "116                                          492.61   \n",
       "117                                          968.15   \n",
       "118                                         5020.95   \n",
       "\n",
       "     Imposto Devido [R$ milhões]  Bens e Direitos - Imóveis [R$ milhões]  \\\n",
       "1                           0.09                                38909.27   \n",
       "2                           0.07                                37867.76   \n",
       "3                           0.01                                36898.91   \n",
       "4                           0.04                                37209.91   \n",
       "5                           0.07                                37977.60   \n",
       "..                           ...                                     ...   \n",
       "114                      1041.91                                 9053.59   \n",
       "115                      1216.05                                10083.19   \n",
       "116                      1483.90                                12523.03   \n",
       "117                      2024.95                                14776.01   \n",
       "118                      5649.46                                25404.35   \n",
       "\n",
       "     Bens e Direitos - Móveis [R$ milhões]  \\\n",
       "1                                  5588.86   \n",
       "2                                  5119.81   \n",
       "3                                  5173.59   \n",
       "4                                  5032.53   \n",
       "5                                  5154.58   \n",
       "..                                     ...   \n",
       "114                                 847.59   \n",
       "115                                 799.82   \n",
       "116                                1255.11   \n",
       "117                                1661.08   \n",
       "118                                3294.62   \n",
       "\n",
       "     Bens e Direitos - Financeiros [R$ milhões]  \\\n",
       "1                                      75762.99   \n",
       "2                                      76337.18   \n",
       "3                                      85520.32   \n",
       "4                                      87919.86   \n",
       "5                                      73996.53   \n",
       "..                                          ...   \n",
       "114                                    32483.19   \n",
       "115                                    36030.85   \n",
       "116                                    66587.48   \n",
       "117                                    80481.55   \n",
       "118                                   178405.43   \n",
       "\n",
       "     Bens e Direitos - Outros Bens e Direitos [R$ milhões]  \\\n",
       "1                                              6586.13       \n",
       "2                                             10293.73       \n",
       "3                                              8806.86       \n",
       "4                                              8374.94       \n",
       "5                                              4116.93       \n",
       "..                                                 ...       \n",
       "114                                            1496.76       \n",
       "115                                            2023.68       \n",
       "116                                            2380.89       \n",
       "117                                            2807.22       \n",
       "118                                            5493.73       \n",
       "\n",
       "     Dívidas e Ônus [R$ milhões]  \n",
       "1                       11817.63  \n",
       "2                       13299.04  \n",
       "3                        9576.16  \n",
       "4                       10025.25  \n",
       "5                       11099.73  \n",
       "..                           ...  \n",
       "114                      3406.31  \n",
       "115                      4840.62  \n",
       "116                      3600.41  \n",
       "117                      7689.81  \n",
       "118                     11626.14  \n",
       "\n",
       "[118 rows x 22 columns]"
      ]
     },
     "execution_count": 7,
     "metadata": {},
     "output_type": "execute_result"
    }
   ],
   "source": [
    "# Filter the DataFrame to remove rows with centil values 100 and 1001 to 10010\n",
    "df_all_info = df20br[(df20br['Centil'] != 100) & (df20br['Centil'] != 10010)]\n",
    "df_all_info = create_one_indexed_df(df_all_info)\n",
    "df_all_info"
   ]
  },
  {
   "cell_type": "markdown",
   "id": "b447e2f3",
   "metadata": {},
   "source": [
    "## Análises\n",
    "\n",
    "### Qual a parcela da população presente nos dados da Receita?"
   ]
  },
  {
   "cell_type": "markdown",
   "id": "856aea57",
   "metadata": {},
   "source": [
    "Resultado aqui\n"
   ]
  },
  {
   "cell_type": "markdown",
   "id": "8de2f4ab",
   "metadata": {},
   "source": [
    "## Distribuição de Renda do Brasil em 2020"
   ]
  },
  {
   "cell_type": "markdown",
   "id": "5414cfdc",
   "metadata": {},
   "source": [
    "Estes são os dados da distribuição de renda do Brasil em 2020, do 1º ao 99º centil.\n",
    "\n",
    "Pegue a população brasileira (que pagou imposto de renda) e divida em 100 partes iguais.\n",
    "\n",
    "Isto é um centil.\n",
    "\n",
    "O primeiro centil são as 316.349 pessoas de menor renda.\n",
    "\n",
    "O último centil são as 316.349 pessoas de maior renda.\n",
    "\n",
    "A Renda Tributável Bruta começa a aparecer no 7º centil - abaixo disso as pessoas estão isentas da tributação.\n",
    "\n",
    "A pessoa com maior renda do 7º centil possui uma renda tributável bruta de 100 reais - ou seja, pagam imposto em cima de 100 reais.\n",
    "\n",
    "Abaixo estão as curvas de distribuição de renda.\n",
    "\n",
    "Para ajudar na visualização, dividi em 5 gráficos diferentes.\n",
    "\n",
    "Cada gráfico possui a curva até uma determinada parcela da população: 99%, 99.90%, 99.97%, 99.99% e 100%.\n",
    "\n",
    "Repare as mudanças do eixo Y.\n",
    "\n",
    "Eis os gráficos."
   ]
  },
  {
   "cell_type": "code",
   "execution_count": 8,
   "id": "e35b82d7",
   "metadata": {},
   "outputs": [
    {
     "data": {
      "application/vnd.plotly.v1+json": {
       "config": {
        "plotlyServerURL": "https://plot.ly"
       },
       "data": [
        {
         "hovertemplate": "Centil: %{x}<br>Rendimentos: %{y:.2f} R$ milhões<extra></extra>",
         "line": {
          "color": "rgb(33, 102, 172)",
          "width": 2
         },
         "marker": {
          "size": 6
         },
         "mode": "lines+markers",
         "name": "Até Centil 99",
         "type": "scatter",
         "visible": true,
         "x": {
          "bdata": "AAAAAAAA8D8AAAAAAAAAQAAAAAAAAAhAAAAAAAAAEEAAAAAAAAAUQAAAAAAAABhAAAAAAAAAHEAAAAAAAAAgQAAAAAAAACJAAAAAAAAAJEAAAAAAAAAmQAAAAAAAAChAAAAAAAAAKkAAAAAAAAAsQAAAAAAAAC5AAAAAAAAAMEAAAAAAAAAxQAAAAAAAADJAAAAAAAAAM0AAAAAAAAA0QAAAAAAAADVAAAAAAAAANkAAAAAAAAA3QAAAAAAAADhAAAAAAAAAOUAAAAAAAAA6QAAAAAAAADtAAAAAAAAAPEAAAAAAAAA9QAAAAAAAAD5AAAAAAAAAP0AAAAAAAABAQAAAAAAAgEBAAAAAAAAAQUAAAAAAAIBBQAAAAAAAAEJAAAAAAACAQkAAAAAAAABDQAAAAAAAgENAAAAAAAAAREAAAAAAAIBEQAAAAAAAAEVAAAAAAACARUAAAAAAAABGQAAAAAAAgEZAAAAAAAAAR0AAAAAAAIBHQAAAAAAAAEhAAAAAAACASEAAAAAAAABJQAAAAAAAgElAAAAAAAAASkAAAAAAAIBKQAAAAAAAAEtAAAAAAACAS0AAAAAAAABMQAAAAAAAgExAAAAAAAAATUAAAAAAAIBNQAAAAAAAAE5AAAAAAACATkAAAAAAAABPQAAAAAAAgE9AAAAAAAAAUEAAAAAAAEBQQAAAAAAAgFBAAAAAAADAUEAAAAAAAABRQAAAAAAAQFFAAAAAAACAUUAAAAAAAMBRQAAAAAAAAFJAAAAAAABAUkAAAAAAAIBSQAAAAAAAwFJAAAAAAAAAU0AAAAAAAEBTQAAAAAAAgFNAAAAAAADAU0AAAAAAAABUQAAAAAAAQFRAAAAAAACAVEAAAAAAAMBUQAAAAAAAAFVAAAAAAABAVUAAAAAAAIBVQAAAAAAAwFVAAAAAAAAAVkAAAAAAAEBWQAAAAAAAgFZAAAAAAADAVkAAAAAAAABXQAAAAAAAQFdAAAAAAACAV0AAAAAAAMBXQAAAAAAAAFhAAAAAAABAWEAAAAAAAIBYQAAAAAAAwFhA",
          "dtype": "f8"
         },
         "y": {
          "bdata": "AAAAAAAA+H8AAAAAAAD4fwAAAAAAAPh/AAAAAAAA+H8AAAAAAAD4fwAAAAAAAPh/AAAAAAAAWUAAAAAAACCsQAAAAAAAcLdAuB6F6zHSwEDsUbge5XrFQAAAAACAY8hAAAAAAAB7yEAAAAAAAH7IQArXo3D9acpAAAAAAABMzUBmZmZmlgTQQArXo3A9WNFAKVyPwmVO0kAK16NwfYLTQAAAAAAAgtRA9ihcjxJQ1UC4HoXrMQnWQAAAAAAA2tZAzczMzJye10AAAAAAQG/YQAAAAAAAHtlAAAAAAADm2UAAAAAAAKnaQB+F61GYS9tAKVyPwmW420C4HoXrIenbQFK4HoWbdNxAZmZmZjYG3UB7FK5HgX7dQIXrUbguCd5AexSuR7GU3kC4HoXrgSXfQIXrUbjOtd9AmpmZmaEl4ECkcD0K93DgQMP1KFzHvuBAw/UoXC8N4UApXI/C1VzhQAAAAAAAoeFAZmZmZh704UCamZmZkUjiQFyPwvUQmeJAH4XrUejx4kCamZmZUU7jQHE9CtdbrONA16NwPaIM5EAAAAAAIHTkQKRwPQpX1ORASOF6FK4/5UBmZmZm/qvlQHE9CtdDHuZAPQrXo+iU5kDXo3A9ShLnQClcj8JliOdA16NwPVoM6EAfhetRwJLoQIXrUbgmI+lAFK5H4eK56UBSuB6Fy1jqQIXrUbjO9epAhetRuKaf60AAAAAAAFLsQClcj8IVDO1AuB6F6wnA7UC4HoXrqYvuQArXo3B1Xu9AAAAAAAAd8ECamZmZAY/wQHE9Ctf/DPFA7FG4HkmO8UCamZmZlfzxQKRwPQr/jvJAexSuR6kz80BI4XoU7ujzQIXrUbhypvRAw/UoXJty9UBmZmZmrkr2QOxRuB6NRPdAPQrXo/RO+EDhehSue3r5QNejcD0GvvpA9ihcjyIs/EDsUbgeGbj9QK5H4Xq0dP9AFK5H4YC9AEGkcD0KtfcBQbgeheshXANBH4XrUaQWBUHD9ShcmVwHQVyPwvV2VApBAAAAADgfDkEpXI/Cfx0SQXsUrkfv7BdB",
          "dtype": "f8"
         }
        },
        {
         "hovertemplate": "Centil: %{x}<br>Rendimentos: %{y:.2f} R$ milhões<extra></extra>",
         "line": {
          "color": "rgb(33, 102, 172)",
          "width": 2
         },
         "marker": {
          "size": 6
         },
         "mode": "lines+markers",
         "name": "Até 99.90% (Linha)",
         "type": "scatter",
         "visible": false,
         "x": {
          "bdata": "AAAAAAAA8D8AAAAAAAAAQAAAAAAAAAhAAAAAAAAAEEAAAAAAAAAUQAAAAAAAABhAAAAAAAAAHEAAAAAAAAAgQAAAAAAAACJAAAAAAAAAJEAAAAAAAAAmQAAAAAAAAChAAAAAAAAAKkAAAAAAAAAsQAAAAAAAAC5AAAAAAAAAMEAAAAAAAAAxQAAAAAAAADJAAAAAAAAAM0AAAAAAAAA0QAAAAAAAADVAAAAAAAAANkAAAAAAAAA3QAAAAAAAADhAAAAAAAAAOUAAAAAAAAA6QAAAAAAAADtAAAAAAAAAPEAAAAAAAAA9QAAAAAAAAD5AAAAAAAAAP0AAAAAAAABAQAAAAAAAgEBAAAAAAAAAQUAAAAAAAIBBQAAAAAAAAEJAAAAAAACAQkAAAAAAAABDQAAAAAAAgENAAAAAAAAAREAAAAAAAIBEQAAAAAAAAEVAAAAAAACARUAAAAAAAABGQAAAAAAAgEZAAAAAAAAAR0AAAAAAAIBHQAAAAAAAAEhAAAAAAACASEAAAAAAAABJQAAAAAAAgElAAAAAAAAASkAAAAAAAIBKQAAAAAAAAEtAAAAAAACAS0AAAAAAAABMQAAAAAAAgExAAAAAAAAATUAAAAAAAIBNQAAAAAAAAE5AAAAAAACATkAAAAAAAABPQAAAAAAAgE9AAAAAAAAAUEAAAAAAAEBQQAAAAAAAgFBAAAAAAADAUEAAAAAAAABRQAAAAAAAQFFAAAAAAACAUUAAAAAAAMBRQAAAAAAAAFJAAAAAAABAUkAAAAAAAIBSQAAAAAAAwFJAAAAAAAAAU0AAAAAAAEBTQAAAAAAAgFNAAAAAAADAU0AAAAAAAABUQAAAAAAAQFRAAAAAAACAVEAAAAAAAMBUQAAAAAAAAFVAAAAAAABAVUAAAAAAAIBVQAAAAAAAwFVAAAAAAAAAVkAAAAAAAEBWQAAAAAAAgFZAAAAAAADAVkAAAAAAAABXQAAAAAAAQFdAAAAAAACAV0AAAAAAAMBXQAAAAAAAAFhAAAAAAABAWEAAAAAAAIBYQAAAAAAAwFhAZmZmZmbGWEDNzMzMzMxYQDMzMzMz01hAmpmZmZnZWEAAAAAAAOBYQGZmZmZm5lhAzczMzMzsWEAzMzMzM/NYQJqZmZmZ+VhAC9ejcD36WEA=",
          "dtype": "f8"
         },
         "y": {
          "bdata": "AAAAAAAA+H8AAAAAAAD4fwAAAAAAAPh/AAAAAAAA+H8AAAAAAAD4fwAAAAAAAPh/AAAAAAAAWUAAAAAAACCsQAAAAAAAcLdAuB6F6zHSwEDsUbge5XrFQAAAAACAY8hAAAAAAAB7yEAAAAAAAH7IQArXo3D9acpAAAAAAABMzUBmZmZmlgTQQArXo3A9WNFAKVyPwmVO0kAK16NwfYLTQAAAAAAAgtRA9ihcjxJQ1UC4HoXrMQnWQAAAAAAA2tZAzczMzJye10AAAAAAQG/YQAAAAAAAHtlAAAAAAADm2UAAAAAAAKnaQB+F61GYS9tAKVyPwmW420C4HoXrIenbQFK4HoWbdNxAZmZmZjYG3UB7FK5HgX7dQIXrUbguCd5AexSuR7GU3kC4HoXrgSXfQIXrUbjOtd9AmpmZmaEl4ECkcD0K93DgQMP1KFzHvuBAw/UoXC8N4UApXI/C1VzhQAAAAAAAoeFAZmZmZh704UCamZmZkUjiQFyPwvUQmeJAH4XrUejx4kCamZmZUU7jQHE9CtdbrONA16NwPaIM5EAAAAAAIHTkQKRwPQpX1ORASOF6FK4/5UBmZmZm/qvlQHE9CtdDHuZAPQrXo+iU5kDXo3A9ShLnQClcj8JliOdA16NwPVoM6EAfhetRwJLoQIXrUbgmI+lAFK5H4eK56UBSuB6Fy1jqQIXrUbjO9epAhetRuKaf60AAAAAAAFLsQClcj8IVDO1AuB6F6wnA7UC4HoXrqYvuQArXo3B1Xu9AAAAAAAAd8ECamZmZAY/wQHE9Ctf/DPFA7FG4HkmO8UCamZmZlfzxQKRwPQr/jvJAexSuR6kz80BI4XoU7ujzQIXrUbhypvRAw/UoXJty9UBmZmZmrkr2QOxRuB6NRPdAPQrXo/RO+EDhehSue3r5QNejcD0GvvpA9ihcjyIs/EDsUbgeGbj9QK5H4Xq0dP9AFK5H4YC9AEGkcD0KtfcBQbgeheshXANBH4XrUaQWBUHD9ShcmVwHQVyPwvV2VApBAAAAADgfDkEpXI/Cfx0SQXsUrkfv7BdBpHA9CkG+GEFcj8L1NsYZQSlcj8LYsRpBZmZmZiXiG0GF61G4v14dQTMzMzM5Vh9BZmZmZilLIUGuR+H6L0QkQT0K16O3mCtB7FG4nvAVLUE=",
          "dtype": "f8"
         }
        },
        {
         "hovertemplate": "Centil: %{x}<br>Rendimentos: %{y:.2f} R$ milhões<extra></extra>",
         "line": {
          "color": "rgb(33, 102, 172)",
          "width": 2
         },
         "marker": {
          "size": 6
         },
         "mode": "lines+markers",
         "name": "Até 99.97% (Linha)",
         "type": "scatter",
         "visible": false,
         "x": {
          "bdata": "AAAAAAAA8D8AAAAAAAAAQAAAAAAAAAhAAAAAAAAAEEAAAAAAAAAUQAAAAAAAABhAAAAAAAAAHEAAAAAAAAAgQAAAAAAAACJAAAAAAAAAJEAAAAAAAAAmQAAAAAAAAChAAAAAAAAAKkAAAAAAAAAsQAAAAAAAAC5AAAAAAAAAMEAAAAAAAAAxQAAAAAAAADJAAAAAAAAAM0AAAAAAAAA0QAAAAAAAADVAAAAAAAAANkAAAAAAAAA3QAAAAAAAADhAAAAAAAAAOUAAAAAAAAA6QAAAAAAAADtAAAAAAAAAPEAAAAAAAAA9QAAAAAAAAD5AAAAAAAAAP0AAAAAAAABAQAAAAAAAgEBAAAAAAAAAQUAAAAAAAIBBQAAAAAAAAEJAAAAAAACAQkAAAAAAAABDQAAAAAAAgENAAAAAAAAAREAAAAAAAIBEQAAAAAAAAEVAAAAAAACARUAAAAAAAABGQAAAAAAAgEZAAAAAAAAAR0AAAAAAAIBHQAAAAAAAAEhAAAAAAACASEAAAAAAAABJQAAAAAAAgElAAAAAAAAASkAAAAAAAIBKQAAAAAAAAEtAAAAAAACAS0AAAAAAAABMQAAAAAAAgExAAAAAAAAATUAAAAAAAIBNQAAAAAAAAE5AAAAAAACATkAAAAAAAABPQAAAAAAAgE9AAAAAAAAAUEAAAAAAAEBQQAAAAAAAgFBAAAAAAADAUEAAAAAAAABRQAAAAAAAQFFAAAAAAACAUUAAAAAAAMBRQAAAAAAAAFJAAAAAAABAUkAAAAAAAIBSQAAAAAAAwFJAAAAAAAAAU0AAAAAAAEBTQAAAAAAAgFNAAAAAAADAU0AAAAAAAABUQAAAAAAAQFRAAAAAAACAVEAAAAAAAMBUQAAAAAAAAFVAAAAAAABAVUAAAAAAAIBVQAAAAAAAwFVAAAAAAAAAVkAAAAAAAEBWQAAAAAAAgFZAAAAAAADAVkAAAAAAAABXQAAAAAAAQFdAAAAAAACAV0AAAAAAAMBXQAAAAAAAAFhAAAAAAABAWEAAAAAAAIBYQAAAAAAAwFhAZmZmZmbGWEDNzMzMzMxYQDMzMzMz01hAmpmZmZnZWEAAAAAAAOBYQGZmZmZm5lhAzczMzMzsWEAzMzMzM/NYQJqZmZmZ+VhAC9ejcD36WEB7FK5H4fpYQOxRuB6F+1hAXY/C9Sj8WEDNzMzMzPxYQD4K16Nw/VhArkfhehT+WEA=",
          "dtype": "f8"
         },
         "y": {
          "bdata": "AAAAAAAA+H8AAAAAAAD4fwAAAAAAAPh/AAAAAAAA+H8AAAAAAAD4fwAAAAAAAPh/AAAAAAAAWUAAAAAAACCsQAAAAAAAcLdAuB6F6zHSwEDsUbge5XrFQAAAAACAY8hAAAAAAAB7yEAAAAAAAH7IQArXo3D9acpAAAAAAABMzUBmZmZmlgTQQArXo3A9WNFAKVyPwmVO0kAK16NwfYLTQAAAAAAAgtRA9ihcjxJQ1UC4HoXrMQnWQAAAAAAA2tZAzczMzJye10AAAAAAQG/YQAAAAAAAHtlAAAAAAADm2UAAAAAAAKnaQB+F61GYS9tAKVyPwmW420C4HoXrIenbQFK4HoWbdNxAZmZmZjYG3UB7FK5HgX7dQIXrUbguCd5AexSuR7GU3kC4HoXrgSXfQIXrUbjOtd9AmpmZmaEl4ECkcD0K93DgQMP1KFzHvuBAw/UoXC8N4UApXI/C1VzhQAAAAAAAoeFAZmZmZh704UCamZmZkUjiQFyPwvUQmeJAH4XrUejx4kCamZmZUU7jQHE9CtdbrONA16NwPaIM5EAAAAAAIHTkQKRwPQpX1ORASOF6FK4/5UBmZmZm/qvlQHE9CtdDHuZAPQrXo+iU5kDXo3A9ShLnQClcj8JliOdA16NwPVoM6EAfhetRwJLoQIXrUbgmI+lAFK5H4eK56UBSuB6Fy1jqQIXrUbjO9epAhetRuKaf60AAAAAAAFLsQClcj8IVDO1AuB6F6wnA7UC4HoXrqYvuQArXo3B1Xu9AAAAAAAAd8ECamZmZAY/wQHE9Ctf/DPFA7FG4HkmO8UCamZmZlfzxQKRwPQr/jvJAexSuR6kz80BI4XoU7ujzQIXrUbhypvRAw/UoXJty9UBmZmZmrkr2QOxRuB6NRPdAPQrXo/RO+EDhehSue3r5QNejcD0GvvpA9ihcjyIs/EDsUbgeGbj9QK5H4Xq0dP9AFK5H4YC9AEGkcD0KtfcBQbgeheshXANBH4XrUaQWBUHD9ShcmVwHQVyPwvV2VApBAAAAADgfDkEpXI/Cfx0SQXsUrkfv7BdBpHA9CkG+GEFcj8L1NsYZQSlcj8LYsRpBZmZmZiXiG0GF61G4v14dQTMzMzM5Vh9BZmZmZilLIUGuR+H6L0QkQT0K16O3mCtB7FG4nvAVLUHhehQurssuQRSuR6GafjBBPQrXo47rMUGF61H4xskzQXE9ChcvgjZBCtejcBLGOkE=",
          "dtype": "f8"
         }
        },
        {
         "hovertemplate": "Centil: %{x}<br>Rendimentos: %{y:.2f} R$ milhões<extra></extra>",
         "line": {
          "color": "rgb(33, 102, 172)",
          "width": 2
         },
         "marker": {
          "size": 6
         },
         "mode": "lines+markers",
         "name": "Até 99.99% (Linha)",
         "type": "scatter",
         "visible": false,
         "x": {
          "bdata": "AAAAAAAA8D8AAAAAAAAAQAAAAAAAAAhAAAAAAAAAEEAAAAAAAAAUQAAAAAAAABhAAAAAAAAAHEAAAAAAAAAgQAAAAAAAACJAAAAAAAAAJEAAAAAAAAAmQAAAAAAAAChAAAAAAAAAKkAAAAAAAAAsQAAAAAAAAC5AAAAAAAAAMEAAAAAAAAAxQAAAAAAAADJAAAAAAAAAM0AAAAAAAAA0QAAAAAAAADVAAAAAAAAANkAAAAAAAAA3QAAAAAAAADhAAAAAAAAAOUAAAAAAAAA6QAAAAAAAADtAAAAAAAAAPEAAAAAAAAA9QAAAAAAAAD5AAAAAAAAAP0AAAAAAAABAQAAAAAAAgEBAAAAAAAAAQUAAAAAAAIBBQAAAAAAAAEJAAAAAAACAQkAAAAAAAABDQAAAAAAAgENAAAAAAAAAREAAAAAAAIBEQAAAAAAAAEVAAAAAAACARUAAAAAAAABGQAAAAAAAgEZAAAAAAAAAR0AAAAAAAIBHQAAAAAAAAEhAAAAAAACASEAAAAAAAABJQAAAAAAAgElAAAAAAAAASkAAAAAAAIBKQAAAAAAAAEtAAAAAAACAS0AAAAAAAABMQAAAAAAAgExAAAAAAAAATUAAAAAAAIBNQAAAAAAAAE5AAAAAAACATkAAAAAAAABPQAAAAAAAgE9AAAAAAAAAUEAAAAAAAEBQQAAAAAAAgFBAAAAAAADAUEAAAAAAAABRQAAAAAAAQFFAAAAAAACAUUAAAAAAAMBRQAAAAAAAAFJAAAAAAABAUkAAAAAAAIBSQAAAAAAAwFJAAAAAAAAAU0AAAAAAAEBTQAAAAAAAgFNAAAAAAADAU0AAAAAAAABUQAAAAAAAQFRAAAAAAACAVEAAAAAAAMBUQAAAAAAAAFVAAAAAAABAVUAAAAAAAIBVQAAAAAAAwFVAAAAAAAAAVkAAAAAAAEBWQAAAAAAAgFZAAAAAAADAVkAAAAAAAABXQAAAAAAAQFdAAAAAAACAV0AAAAAAAMBXQAAAAAAAAFhAAAAAAABAWEAAAAAAAIBYQAAAAAAAwFhAZmZmZmbGWEDNzMzMzMxYQDMzMzMz01hAmpmZmZnZWEAAAAAAAOBYQGZmZmZm5lhAzczMzMzsWEAzMzMzM/NYQJqZmZmZ+VhAC9ejcD36WEB7FK5H4fpYQOxRuB6F+1hAXY/C9Sj8WEDNzMzMzPxYQD4K16Nw/VhArkfhehT+WEAfhetRuP5YQJDC9Shc/1hA",
          "dtype": "f8"
         },
         "y": {
          "bdata": "AAAAAAAA+H8AAAAAAAD4fwAAAAAAAPh/AAAAAAAA+H8AAAAAAAD4fwAAAAAAAPh/AAAAAAAAWUAAAAAAACCsQAAAAAAAcLdAuB6F6zHSwEDsUbge5XrFQAAAAACAY8hAAAAAAAB7yEAAAAAAAH7IQArXo3D9acpAAAAAAABMzUBmZmZmlgTQQArXo3A9WNFAKVyPwmVO0kAK16NwfYLTQAAAAAAAgtRA9ihcjxJQ1UC4HoXrMQnWQAAAAAAA2tZAzczMzJye10AAAAAAQG/YQAAAAAAAHtlAAAAAAADm2UAAAAAAAKnaQB+F61GYS9tAKVyPwmW420C4HoXrIenbQFK4HoWbdNxAZmZmZjYG3UB7FK5HgX7dQIXrUbguCd5AexSuR7GU3kC4HoXrgSXfQIXrUbjOtd9AmpmZmaEl4ECkcD0K93DgQMP1KFzHvuBAw/UoXC8N4UApXI/C1VzhQAAAAAAAoeFAZmZmZh704UCamZmZkUjiQFyPwvUQmeJAH4XrUejx4kCamZmZUU7jQHE9CtdbrONA16NwPaIM5EAAAAAAIHTkQKRwPQpX1ORASOF6FK4/5UBmZmZm/qvlQHE9CtdDHuZAPQrXo+iU5kDXo3A9ShLnQClcj8JliOdA16NwPVoM6EAfhetRwJLoQIXrUbgmI+lAFK5H4eK56UBSuB6Fy1jqQIXrUbjO9epAhetRuKaf60AAAAAAAFLsQClcj8IVDO1AuB6F6wnA7UC4HoXrqYvuQArXo3B1Xu9AAAAAAAAd8ECamZmZAY/wQHE9Ctf/DPFA7FG4HkmO8UCamZmZlfzxQKRwPQr/jvJAexSuR6kz80BI4XoU7ujzQIXrUbhypvRAw/UoXJty9UBmZmZmrkr2QOxRuB6NRPdAPQrXo/RO+EDhehSue3r5QNejcD0GvvpA9ihcjyIs/EDsUbgeGbj9QK5H4Xq0dP9AFK5H4YC9AEGkcD0KtfcBQbgeheshXANBH4XrUaQWBUHD9ShcmVwHQVyPwvV2VApBAAAAADgfDkEpXI/Cfx0SQXsUrkfv7BdBpHA9CkG+GEFcj8L1NsYZQSlcj8LYsRpBZmZmZiXiG0GF61G4v14dQTMzMzM5Vh9BZmZmZilLIUGuR+H6L0QkQT0K16O3mCtB7FG4nvAVLUHhehQurssuQRSuR6GafjBBPQrXo47rMUGF61H4xskzQXE9ChcvgjZBCtejcBLGOkGamZm58kZBQSlcj+In3EpB",
          "dtype": "f8"
         }
        },
        {
         "hovertemplate": "Centil: %{x}<br>Rendimentos: %{y:.2f} R$ milhões<extra></extra>",
         "line": {
          "color": "rgb(33, 102, 172)",
          "width": 2
         },
         "marker": {
          "size": 6
         },
         "mode": "lines+markers",
         "name": "Todos os Centis (Linha)",
         "type": "scatter",
         "visible": false,
         "x": {
          "bdata": "AAAAAAAA8D8AAAAAAAAAQAAAAAAAAAhAAAAAAAAAEEAAAAAAAAAUQAAAAAAAABhAAAAAAAAAHEAAAAAAAAAgQAAAAAAAACJAAAAAAAAAJEAAAAAAAAAmQAAAAAAAAChAAAAAAAAAKkAAAAAAAAAsQAAAAAAAAC5AAAAAAAAAMEAAAAAAAAAxQAAAAAAAADJAAAAAAAAAM0AAAAAAAAA0QAAAAAAAADVAAAAAAAAANkAAAAAAAAA3QAAAAAAAADhAAAAAAAAAOUAAAAAAAAA6QAAAAAAAADtAAAAAAAAAPEAAAAAAAAA9QAAAAAAAAD5AAAAAAAAAP0AAAAAAAABAQAAAAAAAgEBAAAAAAAAAQUAAAAAAAIBBQAAAAAAAAEJAAAAAAACAQkAAAAAAAABDQAAAAAAAgENAAAAAAAAAREAAAAAAAIBEQAAAAAAAAEVAAAAAAACARUAAAAAAAABGQAAAAAAAgEZAAAAAAAAAR0AAAAAAAIBHQAAAAAAAAEhAAAAAAACASEAAAAAAAABJQAAAAAAAgElAAAAAAAAASkAAAAAAAIBKQAAAAAAAAEtAAAAAAACAS0AAAAAAAABMQAAAAAAAgExAAAAAAAAATUAAAAAAAIBNQAAAAAAAAE5AAAAAAACATkAAAAAAAABPQAAAAAAAgE9AAAAAAAAAUEAAAAAAAEBQQAAAAAAAgFBAAAAAAADAUEAAAAAAAABRQAAAAAAAQFFAAAAAAACAUUAAAAAAAMBRQAAAAAAAAFJAAAAAAABAUkAAAAAAAIBSQAAAAAAAwFJAAAAAAAAAU0AAAAAAAEBTQAAAAAAAgFNAAAAAAADAU0AAAAAAAABUQAAAAAAAQFRAAAAAAACAVEAAAAAAAMBUQAAAAAAAAFVAAAAAAABAVUAAAAAAAIBVQAAAAAAAwFVAAAAAAAAAVkAAAAAAAEBWQAAAAAAAgFZAAAAAAADAVkAAAAAAAABXQAAAAAAAQFdAAAAAAACAV0AAAAAAAMBXQAAAAAAAAFhAAAAAAABAWEAAAAAAAIBYQAAAAAAAwFhAZmZmZmbGWEDNzMzMzMxYQDMzMzMz01hAmpmZmZnZWEAAAAAAAOBYQGZmZmZm5lhAzczMzMzsWEAzMzMzM/NYQJqZmZmZ+VhAC9ejcD36WEB7FK5H4fpYQOxRuB6F+1hAXY/C9Sj8WEDNzMzMzPxYQD4K16Nw/VhArkfhehT+WEAfhetRuP5YQJDC9Shc/1hAAAAAAAAAWUA=",
          "dtype": "f8"
         },
         "y": {
          "bdata": "AAAAAAAA+H8AAAAAAAD4fwAAAAAAAPh/AAAAAAAA+H8AAAAAAAD4fwAAAAAAAPh/AAAAAAAAWUAAAAAAACCsQAAAAAAAcLdAuB6F6zHSwEDsUbge5XrFQAAAAACAY8hAAAAAAAB7yEAAAAAAAH7IQArXo3D9acpAAAAAAABMzUBmZmZmlgTQQArXo3A9WNFAKVyPwmVO0kAK16NwfYLTQAAAAAAAgtRA9ihcjxJQ1UC4HoXrMQnWQAAAAAAA2tZAzczMzJye10AAAAAAQG/YQAAAAAAAHtlAAAAAAADm2UAAAAAAAKnaQB+F61GYS9tAKVyPwmW420C4HoXrIenbQFK4HoWbdNxAZmZmZjYG3UB7FK5HgX7dQIXrUbguCd5AexSuR7GU3kC4HoXrgSXfQIXrUbjOtd9AmpmZmaEl4ECkcD0K93DgQMP1KFzHvuBAw/UoXC8N4UApXI/C1VzhQAAAAAAAoeFAZmZmZh704UCamZmZkUjiQFyPwvUQmeJAH4XrUejx4kCamZmZUU7jQHE9CtdbrONA16NwPaIM5EAAAAAAIHTkQKRwPQpX1ORASOF6FK4/5UBmZmZm/qvlQHE9CtdDHuZAPQrXo+iU5kDXo3A9ShLnQClcj8JliOdA16NwPVoM6EAfhetRwJLoQIXrUbgmI+lAFK5H4eK56UBSuB6Fy1jqQIXrUbjO9epAhetRuKaf60AAAAAAAFLsQClcj8IVDO1AuB6F6wnA7UC4HoXrqYvuQArXo3B1Xu9AAAAAAAAd8ECamZmZAY/wQHE9Ctf/DPFA7FG4HkmO8UCamZmZlfzxQKRwPQr/jvJAexSuR6kz80BI4XoU7ujzQIXrUbhypvRAw/UoXJty9UBmZmZmrkr2QOxRuB6NRPdAPQrXo/RO+EDhehSue3r5QNejcD0GvvpA9ihcjyIs/EDsUbgeGbj9QK5H4Xq0dP9AFK5H4YC9AEGkcD0KtfcBQbgeheshXANBH4XrUaQWBUHD9ShcmVwHQVyPwvV2VApBAAAAADgfDkEpXI/Cfx0SQXsUrkfv7BdBpHA9CkG+GEFcj8L1NsYZQSlcj8LYsRpBZmZmZiXiG0GF61G4v14dQTMzMzM5Vh9BZmZmZilLIUGuR+H6L0QkQT0K16O3mCtB7FG4nvAVLUHhehQurssuQRSuR6GafjBBPQrXo47rMUGF61H4xskzQXE9ChcvgjZBCtejcBLGOkGamZm58kZBQSlcj+In3EpBH4Xr3z23s0E=",
          "dtype": "f8"
         }
        }
       ],
       "layout": {
        "barmode": "overlay",
        "height": 600,
        "showlegend": false,
        "template": {
         "data": {
          "bar": [
           {
            "error_x": {
             "color": "#2a3f5f"
            },
            "error_y": {
             "color": "#2a3f5f"
            },
            "marker": {
             "line": {
              "color": "white",
              "width": 0.5
             },
             "pattern": {
              "fillmode": "overlay",
              "size": 10,
              "solidity": 0.2
             }
            },
            "type": "bar"
           }
          ],
          "barpolar": [
           {
            "marker": {
             "line": {
              "color": "white",
              "width": 0.5
             },
             "pattern": {
              "fillmode": "overlay",
              "size": 10,
              "solidity": 0.2
             }
            },
            "type": "barpolar"
           }
          ],
          "carpet": [
           {
            "aaxis": {
             "endlinecolor": "#2a3f5f",
             "gridcolor": "#C8D4E3",
             "linecolor": "#C8D4E3",
             "minorgridcolor": "#C8D4E3",
             "startlinecolor": "#2a3f5f"
            },
            "baxis": {
             "endlinecolor": "#2a3f5f",
             "gridcolor": "#C8D4E3",
             "linecolor": "#C8D4E3",
             "minorgridcolor": "#C8D4E3",
             "startlinecolor": "#2a3f5f"
            },
            "type": "carpet"
           }
          ],
          "choropleth": [
           {
            "colorbar": {
             "outlinewidth": 0,
             "ticks": ""
            },
            "type": "choropleth"
           }
          ],
          "contour": [
           {
            "colorbar": {
             "outlinewidth": 0,
             "ticks": ""
            },
            "colorscale": [
             [
              0,
              "#0d0887"
             ],
             [
              0.1111111111111111,
              "#46039f"
             ],
             [
              0.2222222222222222,
              "#7201a8"
             ],
             [
              0.3333333333333333,
              "#9c179e"
             ],
             [
              0.4444444444444444,
              "#bd3786"
             ],
             [
              0.5555555555555556,
              "#d8576b"
             ],
             [
              0.6666666666666666,
              "#ed7953"
             ],
             [
              0.7777777777777778,
              "#fb9f3a"
             ],
             [
              0.8888888888888888,
              "#fdca26"
             ],
             [
              1,
              "#f0f921"
             ]
            ],
            "type": "contour"
           }
          ],
          "contourcarpet": [
           {
            "colorbar": {
             "outlinewidth": 0,
             "ticks": ""
            },
            "type": "contourcarpet"
           }
          ],
          "heatmap": [
           {
            "colorbar": {
             "outlinewidth": 0,
             "ticks": ""
            },
            "colorscale": [
             [
              0,
              "#0d0887"
             ],
             [
              0.1111111111111111,
              "#46039f"
             ],
             [
              0.2222222222222222,
              "#7201a8"
             ],
             [
              0.3333333333333333,
              "#9c179e"
             ],
             [
              0.4444444444444444,
              "#bd3786"
             ],
             [
              0.5555555555555556,
              "#d8576b"
             ],
             [
              0.6666666666666666,
              "#ed7953"
             ],
             [
              0.7777777777777778,
              "#fb9f3a"
             ],
             [
              0.8888888888888888,
              "#fdca26"
             ],
             [
              1,
              "#f0f921"
             ]
            ],
            "type": "heatmap"
           }
          ],
          "histogram": [
           {
            "marker": {
             "pattern": {
              "fillmode": "overlay",
              "size": 10,
              "solidity": 0.2
             }
            },
            "type": "histogram"
           }
          ],
          "histogram2d": [
           {
            "colorbar": {
             "outlinewidth": 0,
             "ticks": ""
            },
            "colorscale": [
             [
              0,
              "#0d0887"
             ],
             [
              0.1111111111111111,
              "#46039f"
             ],
             [
              0.2222222222222222,
              "#7201a8"
             ],
             [
              0.3333333333333333,
              "#9c179e"
             ],
             [
              0.4444444444444444,
              "#bd3786"
             ],
             [
              0.5555555555555556,
              "#d8576b"
             ],
             [
              0.6666666666666666,
              "#ed7953"
             ],
             [
              0.7777777777777778,
              "#fb9f3a"
             ],
             [
              0.8888888888888888,
              "#fdca26"
             ],
             [
              1,
              "#f0f921"
             ]
            ],
            "type": "histogram2d"
           }
          ],
          "histogram2dcontour": [
           {
            "colorbar": {
             "outlinewidth": 0,
             "ticks": ""
            },
            "colorscale": [
             [
              0,
              "#0d0887"
             ],
             [
              0.1111111111111111,
              "#46039f"
             ],
             [
              0.2222222222222222,
              "#7201a8"
             ],
             [
              0.3333333333333333,
              "#9c179e"
             ],
             [
              0.4444444444444444,
              "#bd3786"
             ],
             [
              0.5555555555555556,
              "#d8576b"
             ],
             [
              0.6666666666666666,
              "#ed7953"
             ],
             [
              0.7777777777777778,
              "#fb9f3a"
             ],
             [
              0.8888888888888888,
              "#fdca26"
             ],
             [
              1,
              "#f0f921"
             ]
            ],
            "type": "histogram2dcontour"
           }
          ],
          "mesh3d": [
           {
            "colorbar": {
             "outlinewidth": 0,
             "ticks": ""
            },
            "type": "mesh3d"
           }
          ],
          "parcoords": [
           {
            "line": {
             "colorbar": {
              "outlinewidth": 0,
              "ticks": ""
             }
            },
            "type": "parcoords"
           }
          ],
          "pie": [
           {
            "automargin": true,
            "type": "pie"
           }
          ],
          "scatter": [
           {
            "fillpattern": {
             "fillmode": "overlay",
             "size": 10,
             "solidity": 0.2
            },
            "type": "scatter"
           }
          ],
          "scatter3d": [
           {
            "line": {
             "colorbar": {
              "outlinewidth": 0,
              "ticks": ""
             }
            },
            "marker": {
             "colorbar": {
              "outlinewidth": 0,
              "ticks": ""
             }
            },
            "type": "scatter3d"
           }
          ],
          "scattercarpet": [
           {
            "marker": {
             "colorbar": {
              "outlinewidth": 0,
              "ticks": ""
             }
            },
            "type": "scattercarpet"
           }
          ],
          "scattergeo": [
           {
            "marker": {
             "colorbar": {
              "outlinewidth": 0,
              "ticks": ""
             }
            },
            "type": "scattergeo"
           }
          ],
          "scattergl": [
           {
            "marker": {
             "colorbar": {
              "outlinewidth": 0,
              "ticks": ""
             }
            },
            "type": "scattergl"
           }
          ],
          "scattermap": [
           {
            "marker": {
             "colorbar": {
              "outlinewidth": 0,
              "ticks": ""
             }
            },
            "type": "scattermap"
           }
          ],
          "scattermapbox": [
           {
            "marker": {
             "colorbar": {
              "outlinewidth": 0,
              "ticks": ""
             }
            },
            "type": "scattermapbox"
           }
          ],
          "scatterpolar": [
           {
            "marker": {
             "colorbar": {
              "outlinewidth": 0,
              "ticks": ""
             }
            },
            "type": "scatterpolar"
           }
          ],
          "scatterpolargl": [
           {
            "marker": {
             "colorbar": {
              "outlinewidth": 0,
              "ticks": ""
             }
            },
            "type": "scatterpolargl"
           }
          ],
          "scatterternary": [
           {
            "marker": {
             "colorbar": {
              "outlinewidth": 0,
              "ticks": ""
             }
            },
            "type": "scatterternary"
           }
          ],
          "surface": [
           {
            "colorbar": {
             "outlinewidth": 0,
             "ticks": ""
            },
            "colorscale": [
             [
              0,
              "#0d0887"
             ],
             [
              0.1111111111111111,
              "#46039f"
             ],
             [
              0.2222222222222222,
              "#7201a8"
             ],
             [
              0.3333333333333333,
              "#9c179e"
             ],
             [
              0.4444444444444444,
              "#bd3786"
             ],
             [
              0.5555555555555556,
              "#d8576b"
             ],
             [
              0.6666666666666666,
              "#ed7953"
             ],
             [
              0.7777777777777778,
              "#fb9f3a"
             ],
             [
              0.8888888888888888,
              "#fdca26"
             ],
             [
              1,
              "#f0f921"
             ]
            ],
            "type": "surface"
           }
          ],
          "table": [
           {
            "cells": {
             "fill": {
              "color": "#EBF0F8"
             },
             "line": {
              "color": "white"
             }
            },
            "header": {
             "fill": {
              "color": "#C8D4E3"
             },
             "line": {
              "color": "white"
             }
            },
            "type": "table"
           }
          ]
         },
         "layout": {
          "annotationdefaults": {
           "arrowcolor": "#2a3f5f",
           "arrowhead": 0,
           "arrowwidth": 1
          },
          "autotypenumbers": "strict",
          "coloraxis": {
           "colorbar": {
            "outlinewidth": 0,
            "ticks": ""
           }
          },
          "colorscale": {
           "diverging": [
            [
             0,
             "#8e0152"
            ],
            [
             0.1,
             "#c51b7d"
            ],
            [
             0.2,
             "#de77ae"
            ],
            [
             0.3,
             "#f1b6da"
            ],
            [
             0.4,
             "#fde0ef"
            ],
            [
             0.5,
             "#f7f7f7"
            ],
            [
             0.6,
             "#e6f5d0"
            ],
            [
             0.7,
             "#b8e186"
            ],
            [
             0.8,
             "#7fbc41"
            ],
            [
             0.9,
             "#4d9221"
            ],
            [
             1,
             "#276419"
            ]
           ],
           "sequential": [
            [
             0,
             "#0d0887"
            ],
            [
             0.1111111111111111,
             "#46039f"
            ],
            [
             0.2222222222222222,
             "#7201a8"
            ],
            [
             0.3333333333333333,
             "#9c179e"
            ],
            [
             0.4444444444444444,
             "#bd3786"
            ],
            [
             0.5555555555555556,
             "#d8576b"
            ],
            [
             0.6666666666666666,
             "#ed7953"
            ],
            [
             0.7777777777777778,
             "#fb9f3a"
            ],
            [
             0.8888888888888888,
             "#fdca26"
            ],
            [
             1,
             "#f0f921"
            ]
           ],
           "sequentialminus": [
            [
             0,
             "#0d0887"
            ],
            [
             0.1111111111111111,
             "#46039f"
            ],
            [
             0.2222222222222222,
             "#7201a8"
            ],
            [
             0.3333333333333333,
             "#9c179e"
            ],
            [
             0.4444444444444444,
             "#bd3786"
            ],
            [
             0.5555555555555556,
             "#d8576b"
            ],
            [
             0.6666666666666666,
             "#ed7953"
            ],
            [
             0.7777777777777778,
             "#fb9f3a"
            ],
            [
             0.8888888888888888,
             "#fdca26"
            ],
            [
             1,
             "#f0f921"
            ]
           ]
          },
          "colorway": [
           "#636efa",
           "#EF553B",
           "#00cc96",
           "#ab63fa",
           "#FFA15A",
           "#19d3f3",
           "#FF6692",
           "#B6E880",
           "#FF97FF",
           "#FECB52"
          ],
          "font": {
           "color": "#2a3f5f"
          },
          "geo": {
           "bgcolor": "white",
           "lakecolor": "white",
           "landcolor": "white",
           "showlakes": true,
           "showland": true,
           "subunitcolor": "#C8D4E3"
          },
          "hoverlabel": {
           "align": "left"
          },
          "hovermode": "closest",
          "mapbox": {
           "style": "light"
          },
          "paper_bgcolor": "white",
          "plot_bgcolor": "white",
          "polar": {
           "angularaxis": {
            "gridcolor": "#EBF0F8",
            "linecolor": "#EBF0F8",
            "ticks": ""
           },
           "bgcolor": "white",
           "radialaxis": {
            "gridcolor": "#EBF0F8",
            "linecolor": "#EBF0F8",
            "ticks": ""
           }
          },
          "scene": {
           "xaxis": {
            "backgroundcolor": "white",
            "gridcolor": "#DFE8F3",
            "gridwidth": 2,
            "linecolor": "#EBF0F8",
            "showbackground": true,
            "ticks": "",
            "zerolinecolor": "#EBF0F8"
           },
           "yaxis": {
            "backgroundcolor": "white",
            "gridcolor": "#DFE8F3",
            "gridwidth": 2,
            "linecolor": "#EBF0F8",
            "showbackground": true,
            "ticks": "",
            "zerolinecolor": "#EBF0F8"
           },
           "zaxis": {
            "backgroundcolor": "white",
            "gridcolor": "#DFE8F3",
            "gridwidth": 2,
            "linecolor": "#EBF0F8",
            "showbackground": true,
            "ticks": "",
            "zerolinecolor": "#EBF0F8"
           }
          },
          "shapedefaults": {
           "line": {
            "color": "#2a3f5f"
           }
          },
          "ternary": {
           "aaxis": {
            "gridcolor": "#DFE8F3",
            "linecolor": "#A2B1C6",
            "ticks": ""
           },
           "baxis": {
            "gridcolor": "#DFE8F3",
            "linecolor": "#A2B1C6",
            "ticks": ""
           },
           "bgcolor": "white",
           "caxis": {
            "gridcolor": "#DFE8F3",
            "linecolor": "#A2B1C6",
            "ticks": ""
           }
          },
          "title": {
           "x": 0.05
          },
          "xaxis": {
           "automargin": true,
           "gridcolor": "#EBF0F8",
           "linecolor": "#EBF0F8",
           "ticks": "",
           "title": {
            "standoff": 15
           },
           "zerolinecolor": "#EBF0F8",
           "zerolinewidth": 2
          },
          "yaxis": {
           "automargin": true,
           "gridcolor": "#EBF0F8",
           "linecolor": "#EBF0F8",
           "ticks": "",
           "title": {
            "standoff": 15
           },
           "zerolinecolor": "#EBF0F8",
           "zerolinewidth": 2
          }
         }
        },
        "title": {
         "font": {
          "size": 14
         },
         "text": "Rendimentos Tributáveis por Centil 2020",
         "x": 0.5,
         "xanchor": "center",
         "y": 0.95,
         "yanchor": "top"
        },
        "updatemenus": [
         {
          "buttons": [
           {
            "args": [
             {
              "visible": [
               true,
               false,
               false,
               false,
               false
              ]
             },
             {
              "annotations": []
             }
            ],
            "label": "Até Centil 99",
            "method": "update"
           },
           {
            "args": [
             {
              "visible": [
               false,
               true,
               false,
               false,
               false
              ]
             },
             {
              "annotations": [
               {
                "arrowcolor": "red",
                "arrowhead": 2,
                "arrowsize": 1.5,
                "arrowwidth": 2,
                "ax": -60,
                "ay": -60,
                "showarrow": true,
                "standoff": 10,
                "text": "Centil 99:<br>391995.82",
                "x": 99,
                "y": 391995.82
               }
              ]
             }
            ],
            "label": "Até 99.90%",
            "method": "update"
           },
           {
            "args": [
             {
              "visible": [
               false,
               false,
               true,
               false,
               false
              ]
             },
             {
              "annotations": [
               {
                "arrowcolor": "red",
                "arrowhead": 2,
                "arrowsize": 1.5,
                "arrowwidth": 2,
                "ax": -60,
                "ay": -60,
                "showarrow": true,
                "standoff": 10,
                "text": "Centil 99.90:<br>953080.31",
                "x": 99.91000000000001,
                "y": 953080.31
               }
              ]
             }
            ],
            "label": "Até 99.97%",
            "method": "update"
           },
           {
            "args": [
             {
              "visible": [
               false,
               false,
               false,
               true,
               false
              ]
             },
             {
              "annotations": [
               {
                "arrowcolor": "red",
                "arrowhead": 2,
                "arrowsize": 1.5,
                "arrowwidth": 2,
                "ax": -60,
                "ay": -60,
                "showarrow": true,
                "standoff": 10,
                "text": "Centil 99.97:<br>1754642.44",
                "x": 99.97,
                "y": 1754642.44
               }
              ]
             }
            ],
            "label": "Até 99.99%",
            "method": "update"
           },
           {
            "args": [
             {
              "visible": [
               false,
               false,
               false,
               false,
               true
              ]
             },
             {
              "annotations": [
               {
                "arrowcolor": "red",
                "arrowhead": 2,
                "arrowsize": 1.5,
                "arrowwidth": 2,
                "ax": -60,
                "ay": -60,
                "showarrow": true,
                "standoff": 10,
                "text": "Centil 99.99:<br>3520591.77",
                "x": 99.99000000000001,
                "y": 3520591.77
               }
              ]
             }
            ],
            "label": "Todos os Centis",
            "method": "update"
           }
          ],
          "direction": "right",
          "pad": {
           "r": 10,
           "t": 10
          },
          "showactive": true,
          "type": "buttons",
          "x": 0.1,
          "xanchor": "left",
          "y": 1.1,
          "yanchor": "top"
         }
        ],
        "width": 1200,
        "xaxis": {
         "title": {
          "text": "Centil"
         }
        },
        "yaxis": {
         "title": {
          "text": "Rendimentos Tributáveis - Limite Superior"
         }
        }
       }
      }
     },
     "metadata": {},
     "output_type": "display_data"
    }
   ],
   "source": [
    "plot_renda_custom_plotly(df_all_info)"
   ]
  }
 ],
 "metadata": {
  "jupytext": {
   "cell_metadata_filter": "-all",
   "encoding": "# coding: utf-8",
   "executable": "/usr/bin/env python",
   "main_language": "python",
   "notebook_metadata_filter": "-all"
  },
  "kernelspec": {
   "display_name": "venv",
   "language": "python",
   "name": "python3"
  },
  "language_info": {
   "codemirror_mode": {
    "name": "ipython",
    "version": 3
   },
   "file_extension": ".py",
   "mimetype": "text/x-python",
   "name": "python",
   "nbconvert_exporter": "python",
   "pygments_lexer": "ipython3",
   "version": "3.12.6"
  }
 },
 "nbformat": 4,
 "nbformat_minor": 5
}
